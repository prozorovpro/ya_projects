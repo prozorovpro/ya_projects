{
 "cells": [
  {
   "cell_type": "markdown",
   "metadata": {
    "tags": [],
    "toc": true
   },
   "source": [
    "<h1>Содержание<span class=\"tocSkip\"></span></h1>\n",
    "<div class=\"toc\"><ul class=\"toc-item\"><li><span><a href=\"#Подготовка\" data-toc-modified-id=\"Подготовка-1\"><span class=\"toc-item-num\">1&nbsp;&nbsp;</span>Подготовка</a></span><ul class=\"toc-item\"><li><span><a href=\"#Предобработка\" data-toc-modified-id=\"Предобработка-1.1\"><span class=\"toc-item-num\">1.1&nbsp;&nbsp;</span>Предобработка</a></span></li></ul></li><li><span><a href=\"#Обучение\" data-toc-modified-id=\"Обучение-2\"><span class=\"toc-item-num\">2&nbsp;&nbsp;</span>Обучение</a></span><ul class=\"toc-item\"><li><span><a href=\"#Logistic-Regression\" data-toc-modified-id=\"Logistic-Regression-2.1\"><span class=\"toc-item-num\">2.1&nbsp;&nbsp;</span>Logistic Regression</a></span></li><li><span><a href=\"#CatBoost\" data-toc-modified-id=\"CatBoost-2.2\"><span class=\"toc-item-num\">2.2&nbsp;&nbsp;</span>CatBoost</a></span></li><li><span><a href=\"#CatBoost-с-векторизироваными-признаками\" data-toc-modified-id=\"CatBoost-с-векторизироваными-признаками-2.3\"><span class=\"toc-item-num\">2.3&nbsp;&nbsp;</span>CatBoost с векторизироваными признаками</a></span></li><li><span><a href=\"#CatBoost-на-сгенерированых-фичах\" data-toc-modified-id=\"CatBoost-на-сгенерированых-фичах-2.4\"><span class=\"toc-item-num\">2.4&nbsp;&nbsp;</span>CatBoost на сгенерированых фичах</a></span></li><li><span><a href=\"#Тестирование-лучшей-модели\" data-toc-modified-id=\"Тестирование-лучшей-модели-2.5\"><span class=\"toc-item-num\">2.5&nbsp;&nbsp;</span>Тестирование лучшей модели</a></span></li><li><span><a href=\"#Дополнительно,-предобученая-модель-Detoxify\" data-toc-modified-id=\"Дополнительно,-предобученая-модель-Detoxify-2.6\"><span class=\"toc-item-num\">2.6&nbsp;&nbsp;</span>Дополнительно, предобученая модель Detoxify</a></span></li></ul></li><li><span><a href=\"#Выводы\" data-toc-modified-id=\"Выводы-3\"><span class=\"toc-item-num\">3&nbsp;&nbsp;</span>Выводы</a></span></li><li><span><a href=\"#Чек-лист-проверки\" data-toc-modified-id=\"Чек-лист-проверки-4\"><span class=\"toc-item-num\">4&nbsp;&nbsp;</span>Чек-лист проверки</a></span></li></ul></div>"
   ]
  },
  {
   "cell_type": "markdown",
   "metadata": {},
   "source": [
    "## Подготовка"
   ]
  },
  {
   "cell_type": "code",
   "execution_count": 1,
   "metadata": {
    "scrolled": true
   },
   "outputs": [
    {
     "name": "stdout",
     "output_type": "stream",
     "text": [
      "Requirement already satisfied: spacy in /opt/conda/lib/python3.9/site-packages (3.5.2)\n",
      "Requirement already satisfied: pydantic!=1.8,!=1.8.1,<1.11.0,>=1.7.4 in /opt/conda/lib/python3.9/site-packages (from spacy) (1.8.2)\n",
      "Requirement already satisfied: tqdm<5.0.0,>=4.38.0 in /opt/conda/lib/python3.9/site-packages (from spacy) (4.61.2)\n",
      "Requirement already satisfied: langcodes<4.0.0,>=3.2.0 in /opt/conda/lib/python3.9/site-packages (from spacy) (3.3.0)\n",
      "Requirement already satisfied: packaging>=20.0 in /opt/conda/lib/python3.9/site-packages (from spacy) (21.3)\n",
      "Requirement already satisfied: murmurhash<1.1.0,>=0.28.0 in /opt/conda/lib/python3.9/site-packages (from spacy) (1.0.8)\n",
      "Requirement already satisfied: cymem<2.1.0,>=2.0.2 in /opt/conda/lib/python3.9/site-packages (from spacy) (2.0.6)\n",
      "Requirement already satisfied: catalogue<2.1.0,>=2.0.6 in /opt/conda/lib/python3.9/site-packages (from spacy) (2.0.8)\n",
      "Requirement already satisfied: spacy-loggers<2.0.0,>=1.0.0 in /opt/conda/lib/python3.9/site-packages (from spacy) (1.0.3)\n",
      "Requirement already satisfied: thinc<8.2.0,>=8.1.8 in /opt/conda/lib/python3.9/site-packages (from spacy) (8.1.10)\n",
      "Requirement already satisfied: smart-open<7.0.0,>=5.2.1 in /opt/conda/lib/python3.9/site-packages (from spacy) (5.2.1)\n",
      "Requirement already satisfied: numpy>=1.15.0 in /opt/conda/lib/python3.9/site-packages (from spacy) (1.21.1)\n",
      "Requirement already satisfied: wasabi<1.2.0,>=0.9.1 in /opt/conda/lib/python3.9/site-packages (from spacy) (0.10.1)\n",
      "Requirement already satisfied: setuptools in /opt/conda/lib/python3.9/site-packages (from spacy) (49.6.0.post20210108)\n",
      "Requirement already satisfied: preshed<3.1.0,>=3.0.2 in /opt/conda/lib/python3.9/site-packages (from spacy) (3.0.7)\n",
      "Requirement already satisfied: pathy>=0.10.0 in /opt/conda/lib/python3.9/site-packages (from spacy) (0.10.1)\n",
      "Requirement already satisfied: srsly<3.0.0,>=2.4.3 in /opt/conda/lib/python3.9/site-packages (from spacy) (2.4.4)\n",
      "Requirement already satisfied: jinja2 in /opt/conda/lib/python3.9/site-packages (from spacy) (3.0.1)\n",
      "Requirement already satisfied: requests<3.0.0,>=2.13.0 in /opt/conda/lib/python3.9/site-packages (from spacy) (2.25.1)\n",
      "Requirement already satisfied: spacy-legacy<3.1.0,>=3.0.11 in /opt/conda/lib/python3.9/site-packages (from spacy) (3.0.12)\n",
      "Requirement already satisfied: typer<0.8.0,>=0.3.0 in /opt/conda/lib/python3.9/site-packages (from spacy) (0.4.2)\n",
      "Requirement already satisfied: pyparsing!=3.0.5,>=2.0.2 in /opt/conda/lib/python3.9/site-packages (from packaging>=20.0->spacy) (2.4.7)\n",
      "Requirement already satisfied: typing-extensions>=3.7.4.3 in /opt/conda/lib/python3.9/site-packages (from pydantic!=1.8,!=1.8.1,<1.11.0,>=1.7.4->spacy) (4.3.0)\n",
      "Requirement already satisfied: urllib3<1.27,>=1.21.1 in /opt/conda/lib/python3.9/site-packages (from requests<3.0.0,>=2.13.0->spacy) (1.26.6)\n",
      "Requirement already satisfied: chardet<5,>=3.0.2 in /opt/conda/lib/python3.9/site-packages (from requests<3.0.0,>=2.13.0->spacy) (4.0.0)\n",
      "Requirement already satisfied: idna<3,>=2.5 in /opt/conda/lib/python3.9/site-packages (from requests<3.0.0,>=2.13.0->spacy) (2.10)\n",
      "Requirement already satisfied: certifi>=2017.4.17 in /opt/conda/lib/python3.9/site-packages (from requests<3.0.0,>=2.13.0->spacy) (2022.6.15)\n",
      "Requirement already satisfied: confection<1.0.0,>=0.0.1 in /opt/conda/lib/python3.9/site-packages (from thinc<8.2.0,>=8.1.8->spacy) (0.0.4)\n",
      "Requirement already satisfied: blis<0.8.0,>=0.7.8 in /opt/conda/lib/python3.9/site-packages (from thinc<8.2.0,>=8.1.8->spacy) (0.7.8)\n",
      "Requirement already satisfied: click<9.0.0,>=7.1.1 in /opt/conda/lib/python3.9/site-packages (from typer<0.8.0,>=0.3.0->spacy) (8.1.3)\n",
      "Requirement already satisfied: MarkupSafe>=2.0 in /opt/conda/lib/python3.9/site-packages (from jinja2->spacy) (2.1.1)\n",
      "Collecting en-core-web-sm==3.5.0\n",
      "  Downloading https://github.com/explosion/spacy-models/releases/download/en_core_web_sm-3.5.0/en_core_web_sm-3.5.0-py3-none-any.whl (12.8 MB)\n",
      "\u001b[K     |████████████████████████████████| 12.8 MB 2.5 MB/s eta 0:00:01\n",
      "\u001b[?25hRequirement already satisfied: spacy<3.6.0,>=3.5.0 in /opt/conda/lib/python3.9/site-packages (from en-core-web-sm==3.5.0) (3.5.2)\n",
      "Requirement already satisfied: tqdm<5.0.0,>=4.38.0 in /opt/conda/lib/python3.9/site-packages (from spacy<3.6.0,>=3.5.0->en-core-web-sm==3.5.0) (4.61.2)\n",
      "Requirement already satisfied: jinja2 in /opt/conda/lib/python3.9/site-packages (from spacy<3.6.0,>=3.5.0->en-core-web-sm==3.5.0) (3.0.1)\n",
      "Requirement already satisfied: numpy>=1.15.0 in /opt/conda/lib/python3.9/site-packages (from spacy<3.6.0,>=3.5.0->en-core-web-sm==3.5.0) (1.21.1)\n",
      "Requirement already satisfied: wasabi<1.2.0,>=0.9.1 in /opt/conda/lib/python3.9/site-packages (from spacy<3.6.0,>=3.5.0->en-core-web-sm==3.5.0) (0.10.1)\n",
      "Requirement already satisfied: requests<3.0.0,>=2.13.0 in /opt/conda/lib/python3.9/site-packages (from spacy<3.6.0,>=3.5.0->en-core-web-sm==3.5.0) (2.25.1)\n",
      "Requirement already satisfied: spacy-loggers<2.0.0,>=1.0.0 in /opt/conda/lib/python3.9/site-packages (from spacy<3.6.0,>=3.5.0->en-core-web-sm==3.5.0) (1.0.3)\n",
      "Requirement already satisfied: murmurhash<1.1.0,>=0.28.0 in /opt/conda/lib/python3.9/site-packages (from spacy<3.6.0,>=3.5.0->en-core-web-sm==3.5.0) (1.0.8)\n",
      "Requirement already satisfied: preshed<3.1.0,>=3.0.2 in /opt/conda/lib/python3.9/site-packages (from spacy<3.6.0,>=3.5.0->en-core-web-sm==3.5.0) (3.0.7)\n",
      "Requirement already satisfied: setuptools in /opt/conda/lib/python3.9/site-packages (from spacy<3.6.0,>=3.5.0->en-core-web-sm==3.5.0) (49.6.0.post20210108)\n",
      "Requirement already satisfied: typer<0.8.0,>=0.3.0 in /opt/conda/lib/python3.9/site-packages (from spacy<3.6.0,>=3.5.0->en-core-web-sm==3.5.0) (0.4.2)\n",
      "Requirement already satisfied: pathy>=0.10.0 in /opt/conda/lib/python3.9/site-packages (from spacy<3.6.0,>=3.5.0->en-core-web-sm==3.5.0) (0.10.1)\n",
      "Requirement already satisfied: smart-open<7.0.0,>=5.2.1 in /opt/conda/lib/python3.9/site-packages (from spacy<3.6.0,>=3.5.0->en-core-web-sm==3.5.0) (5.2.1)\n",
      "Requirement already satisfied: spacy-legacy<3.1.0,>=3.0.11 in /opt/conda/lib/python3.9/site-packages (from spacy<3.6.0,>=3.5.0->en-core-web-sm==3.5.0) (3.0.12)\n",
      "Requirement already satisfied: catalogue<2.1.0,>=2.0.6 in /opt/conda/lib/python3.9/site-packages (from spacy<3.6.0,>=3.5.0->en-core-web-sm==3.5.0) (2.0.8)\n",
      "Requirement already satisfied: langcodes<4.0.0,>=3.2.0 in /opt/conda/lib/python3.9/site-packages (from spacy<3.6.0,>=3.5.0->en-core-web-sm==3.5.0) (3.3.0)\n",
      "Requirement already satisfied: thinc<8.2.0,>=8.1.8 in /opt/conda/lib/python3.9/site-packages (from spacy<3.6.0,>=3.5.0->en-core-web-sm==3.5.0) (8.1.10)\n",
      "Requirement already satisfied: pydantic!=1.8,!=1.8.1,<1.11.0,>=1.7.4 in /opt/conda/lib/python3.9/site-packages (from spacy<3.6.0,>=3.5.0->en-core-web-sm==3.5.0) (1.8.2)\n",
      "Requirement already satisfied: cymem<2.1.0,>=2.0.2 in /opt/conda/lib/python3.9/site-packages (from spacy<3.6.0,>=3.5.0->en-core-web-sm==3.5.0) (2.0.6)\n",
      "Requirement already satisfied: packaging>=20.0 in /opt/conda/lib/python3.9/site-packages (from spacy<3.6.0,>=3.5.0->en-core-web-sm==3.5.0) (21.3)\n",
      "Requirement already satisfied: srsly<3.0.0,>=2.4.3 in /opt/conda/lib/python3.9/site-packages (from spacy<3.6.0,>=3.5.0->en-core-web-sm==3.5.0) (2.4.4)\n",
      "Requirement already satisfied: pyparsing!=3.0.5,>=2.0.2 in /opt/conda/lib/python3.9/site-packages (from packaging>=20.0->spacy<3.6.0,>=3.5.0->en-core-web-sm==3.5.0) (2.4.7)\n",
      "Requirement already satisfied: typing-extensions>=3.7.4.3 in /opt/conda/lib/python3.9/site-packages (from pydantic!=1.8,!=1.8.1,<1.11.0,>=1.7.4->spacy<3.6.0,>=3.5.0->en-core-web-sm==3.5.0) (4.3.0)\n",
      "Requirement already satisfied: urllib3<1.27,>=1.21.1 in /opt/conda/lib/python3.9/site-packages (from requests<3.0.0,>=2.13.0->spacy<3.6.0,>=3.5.0->en-core-web-sm==3.5.0) (1.26.6)\n",
      "Requirement already satisfied: idna<3,>=2.5 in /opt/conda/lib/python3.9/site-packages (from requests<3.0.0,>=2.13.0->spacy<3.6.0,>=3.5.0->en-core-web-sm==3.5.0) (2.10)\n",
      "Requirement already satisfied: chardet<5,>=3.0.2 in /opt/conda/lib/python3.9/site-packages (from requests<3.0.0,>=2.13.0->spacy<3.6.0,>=3.5.0->en-core-web-sm==3.5.0) (4.0.0)\n",
      "Requirement already satisfied: certifi>=2017.4.17 in /opt/conda/lib/python3.9/site-packages (from requests<3.0.0,>=2.13.0->spacy<3.6.0,>=3.5.0->en-core-web-sm==3.5.0) (2022.6.15)\n",
      "Requirement already satisfied: blis<0.8.0,>=0.7.8 in /opt/conda/lib/python3.9/site-packages (from thinc<8.2.0,>=8.1.8->spacy<3.6.0,>=3.5.0->en-core-web-sm==3.5.0) (0.7.8)\n",
      "Requirement already satisfied: confection<1.0.0,>=0.0.1 in /opt/conda/lib/python3.9/site-packages (from thinc<8.2.0,>=8.1.8->spacy<3.6.0,>=3.5.0->en-core-web-sm==3.5.0) (0.0.4)\n",
      "Requirement already satisfied: click<9.0.0,>=7.1.1 in /opt/conda/lib/python3.9/site-packages (from typer<0.8.0,>=0.3.0->spacy<3.6.0,>=3.5.0->en-core-web-sm==3.5.0) (8.1.3)\n",
      "Requirement already satisfied: MarkupSafe>=2.0 in /opt/conda/lib/python3.9/site-packages (from jinja2->spacy<3.6.0,>=3.5.0->en-core-web-sm==3.5.0) (2.1.1)\n",
      "\u001b[38;5;2m✔ Download and installation successful\u001b[0m\n",
      "You can now load the package via spacy.load('en_core_web_sm')\n",
      "Requirement already satisfied: swifter in /opt/conda/lib/python3.9/site-packages (1.3.4)\n",
      "Requirement already satisfied: bleach>=3.1.1 in /opt/conda/lib/python3.9/site-packages (from swifter) (3.3.0)\n",
      "Requirement already satisfied: cloudpickle>=0.2.2 in /opt/conda/lib/python3.9/site-packages (from swifter) (2.2.1)\n",
      "Requirement already satisfied: parso>0.4.0 in /opt/conda/lib/python3.9/site-packages (from swifter) (0.8.2)\n",
      "Requirement already satisfied: psutil>=5.6.6 in /opt/conda/lib/python3.9/site-packages (from swifter) (5.9.5)\n",
      "Requirement already satisfied: pandas>=1.0.0 in /opt/conda/lib/python3.9/site-packages (from swifter) (2.0.1)\n",
      "Requirement already satisfied: ipywidgets>=7.0.0 in /opt/conda/lib/python3.9/site-packages (from swifter) (7.6.3)\n",
      "Requirement already satisfied: dask[dataframe]>=2.10.0 in /opt/conda/lib/python3.9/site-packages (from swifter) (2023.4.1)\n",
      "Requirement already satisfied: tqdm>=4.33.0 in /opt/conda/lib/python3.9/site-packages (from swifter) (4.61.2)\n",
      "Requirement already satisfied: six>=1.9.0 in /opt/conda/lib/python3.9/site-packages (from bleach>=3.1.1->swifter) (1.16.0)\n",
      "Requirement already satisfied: packaging in /opt/conda/lib/python3.9/site-packages (from bleach>=3.1.1->swifter) (21.3)\n",
      "Requirement already satisfied: webencodings in /opt/conda/lib/python3.9/site-packages (from bleach>=3.1.1->swifter) (0.5.1)\n",
      "Requirement already satisfied: partd>=1.2.0 in /opt/conda/lib/python3.9/site-packages (from dask[dataframe]>=2.10.0->swifter) (1.4.0)\n",
      "Requirement already satisfied: pyyaml>=5.3.1 in /opt/conda/lib/python3.9/site-packages (from dask[dataframe]>=2.10.0->swifter) (6.0)\n",
      "Requirement already satisfied: toolz>=0.10.0 in /opt/conda/lib/python3.9/site-packages (from dask[dataframe]>=2.10.0->swifter) (0.12.0)\n",
      "Requirement already satisfied: importlib-metadata>=4.13.0 in /opt/conda/lib/python3.9/site-packages (from dask[dataframe]>=2.10.0->swifter) (6.6.0)\n",
      "Requirement already satisfied: click>=8.0 in /opt/conda/lib/python3.9/site-packages (from dask[dataframe]>=2.10.0->swifter) (8.1.3)\n",
      "Requirement already satisfied: fsspec>=2021.09.0 in /opt/conda/lib/python3.9/site-packages (from dask[dataframe]>=2.10.0->swifter) (2023.5.0)\n",
      "Requirement already satisfied: numpy>=1.21 in /opt/conda/lib/python3.9/site-packages (from dask[dataframe]>=2.10.0->swifter) (1.21.1)\n",
      "Requirement already satisfied: zipp>=0.5 in /opt/conda/lib/python3.9/site-packages (from importlib-metadata>=4.13.0->dask[dataframe]>=2.10.0->swifter) (3.5.0)\n",
      "Requirement already satisfied: nbformat>=4.2.0 in /opt/conda/lib/python3.9/site-packages (from ipywidgets>=7.0.0->swifter) (5.1.3)\n",
      "Requirement already satisfied: ipython>=4.0.0 in /opt/conda/lib/python3.9/site-packages (from ipywidgets>=7.0.0->swifter) (7.25.0)\n",
      "Requirement already satisfied: traitlets>=4.3.1 in /opt/conda/lib/python3.9/site-packages (from ipywidgets>=7.0.0->swifter) (5.0.5)\n",
      "Requirement already satisfied: jupyterlab-widgets>=1.0.0 in /opt/conda/lib/python3.9/site-packages (from ipywidgets>=7.0.0->swifter) (3.0.2)\n",
      "Requirement already satisfied: ipykernel>=4.5.1 in /opt/conda/lib/python3.9/site-packages (from ipywidgets>=7.0.0->swifter) (6.0.1)\n",
      "Requirement already satisfied: widgetsnbextension~=3.5.0 in /opt/conda/lib/python3.9/site-packages (from ipywidgets>=7.0.0->swifter) (3.5.2)\n",
      "Requirement already satisfied: debugpy>=1.0.0 in /opt/conda/lib/python3.9/site-packages (from ipykernel>=4.5.1->ipywidgets>=7.0.0->swifter) (1.3.0)\n",
      "Requirement already satisfied: tornado>=4.2 in /opt/conda/lib/python3.9/site-packages (from ipykernel>=4.5.1->ipywidgets>=7.0.0->swifter) (6.1)\n",
      "Requirement already satisfied: jupyter-client in /opt/conda/lib/python3.9/site-packages (from ipykernel>=4.5.1->ipywidgets>=7.0.0->swifter) (6.1.12)\n",
      "Requirement already satisfied: pickleshare in /opt/conda/lib/python3.9/site-packages (from ipython>=4.0.0->ipywidgets>=7.0.0->swifter) (0.7.5)\n",
      "Requirement already satisfied: jedi>=0.16 in /opt/conda/lib/python3.9/site-packages (from ipython>=4.0.0->ipywidgets>=7.0.0->swifter) (0.18.0)\n",
      "Requirement already satisfied: backcall in /opt/conda/lib/python3.9/site-packages (from ipython>=4.0.0->ipywidgets>=7.0.0->swifter) (0.2.0)\n",
      "Requirement already satisfied: decorator in /opt/conda/lib/python3.9/site-packages (from ipython>=4.0.0->ipywidgets>=7.0.0->swifter) (5.0.9)\n",
      "Requirement already satisfied: prompt-toolkit!=3.0.0,!=3.0.1,<3.1.0,>=2.0.0 in /opt/conda/lib/python3.9/site-packages (from ipython>=4.0.0->ipywidgets>=7.0.0->swifter) (3.0.19)\n",
      "Requirement already satisfied: matplotlib-inline in /opt/conda/lib/python3.9/site-packages (from ipython>=4.0.0->ipywidgets>=7.0.0->swifter) (0.1.2)\n",
      "Requirement already satisfied: pexpect>4.3 in /opt/conda/lib/python3.9/site-packages (from ipython>=4.0.0->ipywidgets>=7.0.0->swifter) (4.8.0)\n",
      "Requirement already satisfied: setuptools>=18.5 in /opt/conda/lib/python3.9/site-packages (from ipython>=4.0.0->ipywidgets>=7.0.0->swifter) (49.6.0.post20210108)\n",
      "Requirement already satisfied: pygments in /opt/conda/lib/python3.9/site-packages (from ipython>=4.0.0->ipywidgets>=7.0.0->swifter) (2.9.0)\n",
      "Requirement already satisfied: jupyter-core in /opt/conda/lib/python3.9/site-packages (from nbformat>=4.2.0->ipywidgets>=7.0.0->swifter) (4.7.1)\n",
      "Requirement already satisfied: jsonschema!=2.5.0,>=2.4 in /opt/conda/lib/python3.9/site-packages (from nbformat>=4.2.0->ipywidgets>=7.0.0->swifter) (3.2.0)\n",
      "Requirement already satisfied: ipython-genutils in /opt/conda/lib/python3.9/site-packages (from nbformat>=4.2.0->ipywidgets>=7.0.0->swifter) (0.2.0)\n",
      "Requirement already satisfied: pyrsistent>=0.14.0 in /opt/conda/lib/python3.9/site-packages (from jsonschema!=2.5.0,>=2.4->nbformat>=4.2.0->ipywidgets>=7.0.0->swifter) (0.17.3)\n",
      "Requirement already satisfied: attrs>=17.4.0 in /opt/conda/lib/python3.9/site-packages (from jsonschema!=2.5.0,>=2.4->nbformat>=4.2.0->ipywidgets>=7.0.0->swifter) (21.2.0)\n",
      "Requirement already satisfied: pyparsing!=3.0.5,>=2.0.2 in /opt/conda/lib/python3.9/site-packages (from packaging->bleach>=3.1.1->swifter) (2.4.7)\n",
      "Requirement already satisfied: python-dateutil>=2.8.2 in /opt/conda/lib/python3.9/site-packages (from pandas>=1.0.0->swifter) (2.8.2)\n",
      "Requirement already satisfied: pytz>=2020.1 in /opt/conda/lib/python3.9/site-packages (from pandas>=1.0.0->swifter) (2021.1)\n",
      "Requirement already satisfied: tzdata>=2022.1 in /opt/conda/lib/python3.9/site-packages (from pandas>=1.0.0->swifter) (2023.3)\n",
      "Requirement already satisfied: locket in /opt/conda/lib/python3.9/site-packages (from partd>=1.2.0->dask[dataframe]>=2.10.0->swifter) (1.0.0)\n",
      "Requirement already satisfied: ptyprocess>=0.5 in /opt/conda/lib/python3.9/site-packages (from pexpect>4.3->ipython>=4.0.0->ipywidgets>=7.0.0->swifter) (0.7.0)\n",
      "Requirement already satisfied: wcwidth in /opt/conda/lib/python3.9/site-packages (from prompt-toolkit!=3.0.0,!=3.0.1,<3.1.0,>=2.0.0->ipython>=4.0.0->ipywidgets>=7.0.0->swifter) (0.2.5)\n",
      "Requirement already satisfied: notebook>=4.4.1 in /opt/conda/lib/python3.9/site-packages (from widgetsnbextension~=3.5.0->ipywidgets>=7.0.0->swifter) (6.4.0)\n",
      "Requirement already satisfied: Send2Trash>=1.5.0 in /opt/conda/lib/python3.9/site-packages (from notebook>=4.4.1->widgetsnbextension~=3.5.0->ipywidgets>=7.0.0->swifter) (1.7.1)\n",
      "Requirement already satisfied: jinja2 in /opt/conda/lib/python3.9/site-packages (from notebook>=4.4.1->widgetsnbextension~=3.5.0->ipywidgets>=7.0.0->swifter) (3.0.1)\n",
      "Requirement already satisfied: argon2-cffi in /opt/conda/lib/python3.9/site-packages (from notebook>=4.4.1->widgetsnbextension~=3.5.0->ipywidgets>=7.0.0->swifter) (20.1.0)\n",
      "Requirement already satisfied: prometheus-client in /opt/conda/lib/python3.9/site-packages (from notebook>=4.4.1->widgetsnbextension~=3.5.0->ipywidgets>=7.0.0->swifter) (0.11.0)\n",
      "Requirement already satisfied: nbconvert in /opt/conda/lib/python3.9/site-packages (from notebook>=4.4.1->widgetsnbextension~=3.5.0->ipywidgets>=7.0.0->swifter) (6.1.0)\n",
      "Requirement already satisfied: pyzmq>=17 in /opt/conda/lib/python3.9/site-packages (from notebook>=4.4.1->widgetsnbextension~=3.5.0->ipywidgets>=7.0.0->swifter) (22.1.0)\n",
      "Requirement already satisfied: terminado>=0.8.3 in /opt/conda/lib/python3.9/site-packages (from notebook>=4.4.1->widgetsnbextension~=3.5.0->ipywidgets>=7.0.0->swifter) (0.10.1)\n",
      "Requirement already satisfied: cffi>=1.0.0 in /opt/conda/lib/python3.9/site-packages (from argon2-cffi->notebook>=4.4.1->widgetsnbextension~=3.5.0->ipywidgets>=7.0.0->swifter) (1.14.5)\n",
      "Requirement already satisfied: pycparser in /opt/conda/lib/python3.9/site-packages (from cffi>=1.0.0->argon2-cffi->notebook>=4.4.1->widgetsnbextension~=3.5.0->ipywidgets>=7.0.0->swifter) (2.20)\n",
      "Requirement already satisfied: MarkupSafe>=2.0 in /opt/conda/lib/python3.9/site-packages (from jinja2->notebook>=4.4.1->widgetsnbextension~=3.5.0->ipywidgets>=7.0.0->swifter) (2.1.1)\n",
      "Requirement already satisfied: mistune<2,>=0.8.1 in /opt/conda/lib/python3.9/site-packages (from nbconvert->notebook>=4.4.1->widgetsnbextension~=3.5.0->ipywidgets>=7.0.0->swifter) (0.8.4)\n",
      "Requirement already satisfied: defusedxml in /opt/conda/lib/python3.9/site-packages (from nbconvert->notebook>=4.4.1->widgetsnbextension~=3.5.0->ipywidgets>=7.0.0->swifter) (0.7.1)\n",
      "Requirement already satisfied: entrypoints>=0.2.2 in /opt/conda/lib/python3.9/site-packages (from nbconvert->notebook>=4.4.1->widgetsnbextension~=3.5.0->ipywidgets>=7.0.0->swifter) (0.3)\n",
      "Requirement already satisfied: pandocfilters>=1.4.1 in /opt/conda/lib/python3.9/site-packages (from nbconvert->notebook>=4.4.1->widgetsnbextension~=3.5.0->ipywidgets>=7.0.0->swifter) (1.4.2)\n",
      "Requirement already satisfied: testpath in /opt/conda/lib/python3.9/site-packages (from nbconvert->notebook>=4.4.1->widgetsnbextension~=3.5.0->ipywidgets>=7.0.0->swifter) (0.5.0)\n",
      "Requirement already satisfied: nbclient<0.6.0,>=0.5.0 in /opt/conda/lib/python3.9/site-packages (from nbconvert->notebook>=4.4.1->widgetsnbextension~=3.5.0->ipywidgets>=7.0.0->swifter) (0.5.3)\n",
      "Requirement already satisfied: jupyterlab-pygments in /opt/conda/lib/python3.9/site-packages (from nbconvert->notebook>=4.4.1->widgetsnbextension~=3.5.0->ipywidgets>=7.0.0->swifter) (0.1.2)\n",
      "Requirement already satisfied: async-generator in /opt/conda/lib/python3.9/site-packages (from nbclient<0.6.0,>=0.5.0->nbconvert->notebook>=4.4.1->widgetsnbextension~=3.5.0->ipywidgets>=7.0.0->swifter) (1.10)\n",
      "Requirement already satisfied: nest-asyncio in /opt/conda/lib/python3.9/site-packages (from nbclient<0.6.0,>=0.5.0->nbconvert->notebook>=4.4.1->widgetsnbextension~=3.5.0->ipywidgets>=7.0.0->swifter) (1.5.1)\n",
      "Requirement already satisfied: pyarrow in /opt/conda/lib/python3.9/site-packages (12.0.0)\n",
      "Requirement already satisfied: numpy>=1.16.6 in /opt/conda/lib/python3.9/site-packages (from pyarrow) (1.21.1)\n"
     ]
    }
   ],
   "source": [
    "!pip install -U spacy\n",
    "!python -m spacy download en_core_web_sm\n",
    "!pip install swifter\n",
    "!pip install pyarrow --upgrade"
   ]
  },
  {
   "cell_type": "code",
   "execution_count": 2,
   "metadata": {},
   "outputs": [
    {
     "name": "stderr",
     "output_type": "stream",
     "text": [
      "[nltk_data] Downloading package stopwords to /home/jovyan/nltk_data...\n",
      "[nltk_data]   Package stopwords is already up-to-date!\n"
     ]
    },
    {
     "data": {
      "text/plain": [
       "True"
      ]
     },
     "execution_count": 2,
     "metadata": {},
     "output_type": "execute_result"
    }
   ],
   "source": [
    "import pandas as pd\n",
    "import numpy as np\n",
    "import matplotlib.pyplot as plt\n",
    "\n",
    "from sklearn.metrics import make_scorer, f1_score, plot_confusion_matrix, plot_roc_curve, accuracy_score\n",
    "from sklearn.model_selection import RandomizedSearchCV, train_test_split, cross_val_score\n",
    "from sklearn.linear_model import LogisticRegression\n",
    "from sklearn.pipeline import Pipeline\n",
    "from sklearn.dummy import DummyClassifier\n",
    "from sklearn.feature_extraction.text import TfidfVectorizer\n",
    "\n",
    "from catboost import CatBoostClassifier\n",
    "\n",
    "import nltk\n",
    "from nltk.stem import WordNetLemmatizer\n",
    "from nltk.corpus import stopwords\n",
    "from nltk.tokenize import word_tokenize\n",
    "import re\n",
    "import requests\n",
    "import json\n",
    "\n",
    "RS = 22345\n",
    "nltk.download('stopwords')"
   ]
  },
  {
   "cell_type": "code",
   "execution_count": 3,
   "metadata": {},
   "outputs": [
    {
     "name": "stderr",
     "output_type": "stream",
     "text": [
      "[nltk_data] Downloading package vader_lexicon to\n",
      "[nltk_data]     /home/jovyan/nltk_data...\n",
      "[nltk_data]   Package vader_lexicon is already up-to-date!\n"
     ]
    }
   ],
   "source": [
    "# добавил библиотек\n",
    "from sklearn.preprocessing import StandardScaler\n",
    "from sklearn.compose import ColumnTransformer\n",
    "from nltk.sentiment.vader import SentimentIntensityAnalyzer\n",
    "import spacy\n",
    "import en_core_web_sm\n",
    "from tqdm.notebook import tqdm\n",
    "import swifter\n",
    "tqdm.pandas()\n",
    "nltk.download('vader_lexicon')\n",
    "nlp = spacy.load('en_core_web_sm')"
   ]
  },
  {
   "cell_type": "code",
   "execution_count": 4,
   "metadata": {},
   "outputs": [],
   "source": [
    "df = pd.read_csv('/datasets/toxic_comments.csv', index_col=False)"
   ]
  },
  {
   "cell_type": "code",
   "execution_count": 5,
   "metadata": {},
   "outputs": [],
   "source": [
    "#df = df.sample(5000).reset_index(drop=True) "
   ]
  },
  {
   "cell_type": "markdown",
   "metadata": {},
   "source": [
    "Посмотрим на данные"
   ]
  },
  {
   "cell_type": "code",
   "execution_count": 6,
   "metadata": {},
   "outputs": [
    {
     "name": "stdout",
     "output_type": "stream",
     "text": [
      "<class 'pandas.core.frame.DataFrame'>\n",
      "RangeIndex: 159292 entries, 0 to 159291\n",
      "Data columns (total 3 columns):\n",
      " #   Column      Non-Null Count   Dtype \n",
      "---  ------      --------------   ----- \n",
      " 0   Unnamed: 0  159292 non-null  int64 \n",
      " 1   text        159292 non-null  object\n",
      " 2   toxic       159292 non-null  int64 \n",
      "dtypes: int64(2), object(1)\n",
      "memory usage: 3.6+ MB\n"
     ]
    }
   ],
   "source": [
    "df.info()"
   ]
  },
  {
   "cell_type": "code",
   "execution_count": 7,
   "metadata": {},
   "outputs": [
    {
     "data": {
      "text/plain": [
       "toxic\n",
       "0    0.898388\n",
       "1    0.101612\n",
       "Name: proportion, dtype: float64"
      ]
     },
     "execution_count": 7,
     "metadata": {},
     "output_type": "execute_result"
    }
   ],
   "source": [
    "# Баланс классов\n",
    "df['toxic'].value_counts(normalize=True)"
   ]
  },
  {
   "cell_type": "markdown",
   "metadata": {},
   "source": [
    "Данные не сбалансированы"
   ]
  },
  {
   "cell_type": "code",
   "execution_count": 8,
   "metadata": {},
   "outputs": [
    {
     "data": {
      "text/html": [
       "<div>\n",
       "<style scoped>\n",
       "    .dataframe tbody tr th:only-of-type {\n",
       "        vertical-align: middle;\n",
       "    }\n",
       "\n",
       "    .dataframe tbody tr th {\n",
       "        vertical-align: top;\n",
       "    }\n",
       "\n",
       "    .dataframe thead th {\n",
       "        text-align: right;\n",
       "    }\n",
       "</style>\n",
       "<table border=\"1\" class=\"dataframe\">\n",
       "  <thead>\n",
       "    <tr style=\"text-align: right;\">\n",
       "      <th></th>\n",
       "      <th>Unnamed: 0</th>\n",
       "      <th>text</th>\n",
       "      <th>toxic</th>\n",
       "    </tr>\n",
       "  </thead>\n",
       "  <tbody>\n",
       "    <tr>\n",
       "      <th>0</th>\n",
       "      <td>0</td>\n",
       "      <td>Explanation\\nWhy the edits made under my username Hardcore Metallica Fan were reverted? They weren't vandalisms, just closure on some GAs after I voted at New York Dolls FAC. And please don't remo...</td>\n",
       "      <td>0</td>\n",
       "    </tr>\n",
       "    <tr>\n",
       "      <th>1</th>\n",
       "      <td>1</td>\n",
       "      <td>D'aww! He matches this background colour I'm seemingly stuck with. Thanks.  (talk) 21:51, January 11, 2016 (UTC)</td>\n",
       "      <td>0</td>\n",
       "    </tr>\n",
       "    <tr>\n",
       "      <th>2</th>\n",
       "      <td>2</td>\n",
       "      <td>Hey man, I'm really not trying to edit war. It's just that this guy is constantly removing relevant information and talking to me through edits instead of my talk page. He seems to care more about...</td>\n",
       "      <td>0</td>\n",
       "    </tr>\n",
       "    <tr>\n",
       "      <th>3</th>\n",
       "      <td>3</td>\n",
       "      <td>\"\\nMore\\nI can't make any real suggestions on improvement - I wondered if the section statistics should be later on, or a subsection of \"\"types of accidents\"\"  -I think the references may need tid...</td>\n",
       "      <td>0</td>\n",
       "    </tr>\n",
       "    <tr>\n",
       "      <th>4</th>\n",
       "      <td>4</td>\n",
       "      <td>You, sir, are my hero. Any chance you remember what page that's on?</td>\n",
       "      <td>0</td>\n",
       "    </tr>\n",
       "  </tbody>\n",
       "</table>\n",
       "</div>"
      ],
      "text/plain": [
       "   Unnamed: 0   \n",
       "0           0  \\\n",
       "1           1   \n",
       "2           2   \n",
       "3           3   \n",
       "4           4   \n",
       "\n",
       "                                                                                                                                                                                                      text   \n",
       "0  Explanation\\nWhy the edits made under my username Hardcore Metallica Fan were reverted? They weren't vandalisms, just closure on some GAs after I voted at New York Dolls FAC. And please don't remo...  \\\n",
       "1                                                                                         D'aww! He matches this background colour I'm seemingly stuck with. Thanks.  (talk) 21:51, January 11, 2016 (UTC)   \n",
       "2  Hey man, I'm really not trying to edit war. It's just that this guy is constantly removing relevant information and talking to me through edits instead of my talk page. He seems to care more about...   \n",
       "3  \"\\nMore\\nI can't make any real suggestions on improvement - I wondered if the section statistics should be later on, or a subsection of \"\"types of accidents\"\"  -I think the references may need tid...   \n",
       "4                                                                                                                                      You, sir, are my hero. Any chance you remember what page that's on?   \n",
       "\n",
       "   toxic  \n",
       "0      0  \n",
       "1      0  \n",
       "2      0  \n",
       "3      0  \n",
       "4      0  "
      ]
     },
     "execution_count": 8,
     "metadata": {},
     "output_type": "execute_result"
    }
   ],
   "source": [
    "pd.set_option('max_colwidth', 200)\n",
    "df.head()"
   ]
  },
  {
   "cell_type": "code",
   "execution_count": 9,
   "metadata": {},
   "outputs": [
    {
     "data": {
      "text/html": [
       "<div>\n",
       "<style scoped>\n",
       "    .dataframe tbody tr th:only-of-type {\n",
       "        vertical-align: middle;\n",
       "    }\n",
       "\n",
       "    .dataframe tbody tr th {\n",
       "        vertical-align: top;\n",
       "    }\n",
       "\n",
       "    .dataframe thead th {\n",
       "        text-align: right;\n",
       "    }\n",
       "</style>\n",
       "<table border=\"1\" class=\"dataframe\">\n",
       "  <thead>\n",
       "    <tr style=\"text-align: right;\">\n",
       "      <th></th>\n",
       "      <th>Unnamed: 0</th>\n",
       "      <th>text</th>\n",
       "      <th>toxic</th>\n",
       "    </tr>\n",
       "  </thead>\n",
       "  <tbody>\n",
       "    <tr>\n",
       "      <th>6</th>\n",
       "      <td>6</td>\n",
       "      <td>COCKSUCKER BEFORE YOU PISS AROUND ON MY WORK</td>\n",
       "      <td>1</td>\n",
       "    </tr>\n",
       "    <tr>\n",
       "      <th>12</th>\n",
       "      <td>12</td>\n",
       "      <td>Hey... what is it..\\n@ | talk .\\nWhat is it... an exclusive group of some WP TALIBANS...who are good at destroying, self-appointed purist who GANG UP any one who asks them questions abt their ANTI...</td>\n",
       "      <td>1</td>\n",
       "    </tr>\n",
       "    <tr>\n",
       "      <th>16</th>\n",
       "      <td>16</td>\n",
       "      <td>Bye! \\n\\nDon't look, come or think of comming back! Tosser.</td>\n",
       "      <td>1</td>\n",
       "    </tr>\n",
       "    <tr>\n",
       "      <th>42</th>\n",
       "      <td>42</td>\n",
       "      <td>You are gay or antisemmitian? \\n\\nArchangel WHite Tiger\\n\\nMeow! Greetingshhh!\\n\\nUh, there are two ways, why you do erased my comment about WW2, that holocaust was brutally slaying of Jews and no...</td>\n",
       "      <td>1</td>\n",
       "    </tr>\n",
       "    <tr>\n",
       "      <th>43</th>\n",
       "      <td>43</td>\n",
       "      <td>FUCK YOUR FILTHY MOTHER IN THE ASS, DRY!</td>\n",
       "      <td>1</td>\n",
       "    </tr>\n",
       "  </tbody>\n",
       "</table>\n",
       "</div>"
      ],
      "text/plain": [
       "    Unnamed: 0   \n",
       "6            6  \\\n",
       "12          12   \n",
       "16          16   \n",
       "42          42   \n",
       "43          43   \n",
       "\n",
       "                                                                                                                                                                                                       text   \n",
       "6                                                                                                                                                              COCKSUCKER BEFORE YOU PISS AROUND ON MY WORK  \\\n",
       "12  Hey... what is it..\\n@ | talk .\\nWhat is it... an exclusive group of some WP TALIBANS...who are good at destroying, self-appointed purist who GANG UP any one who asks them questions abt their ANTI...   \n",
       "16                                                                                                                                              Bye! \\n\\nDon't look, come or think of comming back! Tosser.   \n",
       "42  You are gay or antisemmitian? \\n\\nArchangel WHite Tiger\\n\\nMeow! Greetingshhh!\\n\\nUh, there are two ways, why you do erased my comment about WW2, that holocaust was brutally slaying of Jews and no...   \n",
       "43                                                                                                                                                                 FUCK YOUR FILTHY MOTHER IN THE ASS, DRY!   \n",
       "\n",
       "    toxic  \n",
       "6       1  \n",
       "12      1  \n",
       "16      1  \n",
       "42      1  \n",
       "43      1  "
      ]
     },
     "execution_count": 9,
     "metadata": {},
     "output_type": "execute_result"
    }
   ],
   "source": [
    "df.query('toxic == 1').head()"
   ]
  },
  {
   "cell_type": "markdown",
   "metadata": {},
   "source": [
    "Добавим Колонку с длиной текста и посмотрим на распределение\n"
   ]
  },
  {
   "cell_type": "code",
   "execution_count": 10,
   "metadata": {},
   "outputs": [
    {
     "data": {
      "text/plain": [
       "5000"
      ]
     },
     "execution_count": 10,
     "metadata": {},
     "output_type": "execute_result"
    }
   ],
   "source": [
    "df['len'] = df['text'].apply(len)\n",
    "df['len'].max()"
   ]
  },
  {
   "cell_type": "code",
   "execution_count": 11,
   "metadata": {},
   "outputs": [
    {
     "data": {
      "image/png": "[encoded data removed]",
      "text/plain": [
       "<Figure size 432x288 with 1 Axes>"
      ]
     },
     "metadata": {
      "needs_background": "light"
     },
     "output_type": "display_data"
    }
   ],
   "source": [
    "df['len'].hist(bins=30);"
   ]
  },
  {
   "cell_type": "code",
   "execution_count": 12,
   "metadata": {
    "tags": []
   },
   "outputs": [
    {
     "data": {
      "text/html": [
       "<div>\n",
       "<style scoped>\n",
       "    .dataframe tbody tr th:only-of-type {\n",
       "        vertical-align: middle;\n",
       "    }\n",
       "\n",
       "    .dataframe tbody tr th {\n",
       "        vertical-align: top;\n",
       "    }\n",
       "\n",
       "    .dataframe thead th {\n",
       "        text-align: right;\n",
       "    }\n",
       "</style>\n",
       "<table border=\"1\" class=\"dataframe\">\n",
       "  <thead>\n",
       "    <tr style=\"text-align: right;\">\n",
       "      <th></th>\n",
       "      <th>Unnamed: 0</th>\n",
       "      <th>text</th>\n",
       "      <th>toxic</th>\n",
       "      <th>len</th>\n",
       "    </tr>\n",
       "  </thead>\n",
       "  <tbody>\n",
       "    <tr>\n",
       "      <th>1184</th>\n",
       "      <td>1184</td>\n",
       "      <td>And \\n\\nPaganism\\n\\nSouthgate, who has a degree in theology and religious studies from Canterbury University, rejected Catholicism and moved towards neo-pagan and heathen groups that are ‘very loy...</td>\n",
       "      <td>0</td>\n",
       "      <td>4908</td>\n",
       "    </tr>\n",
       "    <tr>\n",
       "      <th>2413</th>\n",
       "      <td>2413</td>\n",
       "      <td>FUCK YOU U USELESS BOT FUCK YOU U USELESS BOT FUCK YOU U USELESS BOT FUCK YOU U USELESS BOT FUCK YOU U USELESS BOT FUCK YOU U USELESS BOT FUCK YOU U USELESS BOT FUCK YOU U USELESS BOT FUCK YOU U U...</td>\n",
       "      <td>1</td>\n",
       "      <td>4999</td>\n",
       "    </tr>\n",
       "    <tr>\n",
       "      <th>3947</th>\n",
       "      <td>3947</td>\n",
       "      <td>\"\\n\\n(Ivo Banac)...A bit of nonteleological history\\nOne of the great problems is that our understanding of the common and individual histories of the South Slavs and the other peoples of southeas...</td>\n",
       "      <td>0</td>\n",
       "      <td>4946</td>\n",
       "    </tr>\n",
       "    <tr>\n",
       "      <th>4167</th>\n",
       "      <td>4167</td>\n",
       "      <td>ii CAN STILL POST WITH THIS COMPUTER...I SAID BLOCK ME, COME THE FUCK DOWN HERE AND ARREST ME...SAN DIEGO CALIFORNIA, CHULA VISTA, FUCKING GET YOUR INFORMATION RIGHT FAGGOT SHITHEAD!!i CAN STILL P...</td>\n",
       "      <td>1</td>\n",
       "      <td>5000</td>\n",
       "    </tr>\n",
       "    <tr>\n",
       "      <th>4704</th>\n",
       "      <td>4704</td>\n",
       "      <td>do go fuck off bastard\\nDo Yyou Have a life?\\ngo fuck off bastard and yank your cock through your ass. I hate you and hope you go away forever. lame is you fuck your mom. die die die and all that ...</td>\n",
       "      <td>1</td>\n",
       "      <td>4969</td>\n",
       "    </tr>\n",
       "    <tr>\n",
       "      <th>...</th>\n",
       "      <td>...</td>\n",
       "      <td>...</td>\n",
       "      <td>...</td>\n",
       "      <td>...</td>\n",
       "    </tr>\n",
       "    <tr>\n",
       "      <th>155754</th>\n",
       "      <td>155912</td>\n",
       "      <td>AIDS AIDS AIDS AIDS AIDS AIDS AIDSAIDS AIDS AIDS AIDS AIDS AIDS AIDSAIDS AIDS AIDS AIDS AIDS AIDS AIDSAIDS AIDS AIDS AIDS AIDS AIDS AIDSAIDS AIDS AIDS AIDS AIDS AIDS AIDSAIDS AIDS AIDS AIDS AIDS A...</td>\n",
       "      <td>1</td>\n",
       "      <td>5000</td>\n",
       "    </tr>\n",
       "    <tr>\n",
       "      <th>156158</th>\n",
       "      <td>156317</td>\n",
       "      <td>HUGE FAGGOT HUGE FAGGOT HUGE FAGGOT HUGE FAGGOT HUGE FAGGOT HUGE FAGGOT HUGE FAGGOT HUGE FAGGOT HUGE FAGGOT HUGE FAGGOT HUGE FAGGOT HUGE FAGGOT HUGE FAGGOT HUGE FAGGOT HUGE FAGGOT HUGE FAGGOT HUGE...</td>\n",
       "      <td>1</td>\n",
       "      <td>5000</td>\n",
       "    </tr>\n",
       "    <tr>\n",
       "      <th>157582</th>\n",
       "      <td>157741</td>\n",
       "      <td>\"\\n\\n Made in the USA? http://rexcurry.net/wikipedialies.html \\n\\nThere are some regular writers on Wikipedia who knowingly engage in personal attacks and deletions (even of links) of anyone who e...</td>\n",
       "      <td>0</td>\n",
       "      <td>4912</td>\n",
       "    </tr>\n",
       "    <tr>\n",
       "      <th>158293</th>\n",
       "      <td>158452</td>\n",
       "      <td>Originally born in OHIO,and raised on a yuppie farmh in a small town outside of dayton, ohio. Her mother is a professional and has worked for the government for almost 30 years and her father is r...</td>\n",
       "      <td>0</td>\n",
       "      <td>4976</td>\n",
       "    </tr>\n",
       "    <tr>\n",
       "      <th>158691</th>\n",
       "      <td>158850</td>\n",
       "      <td>Hi Wikipedia!!Hi Wikipedia!!Hi Wikipedia!!Hi Wikipedia!!Hi Wikipedia!!Hi Wikipedia!!Hi Wikipedia!!Hi Wikipedia!!Hi Wikipedia!!Hi Wikipedia!!Hi Wikipedia!!Hi Wikipedia!!Hi Wikipedia!!Hi Wikipedia!!...</td>\n",
       "      <td>0</td>\n",
       "      <td>5000</td>\n",
       "    </tr>\n",
       "  </tbody>\n",
       "</table>\n",
       "<p>197 rows × 4 columns</p>\n",
       "</div>"
      ],
      "text/plain": [
       "        Unnamed: 0   \n",
       "1184          1184  \\\n",
       "2413          2413   \n",
       "3947          3947   \n",
       "4167          4167   \n",
       "4704          4704   \n",
       "...            ...   \n",
       "155754      155912   \n",
       "156158      156317   \n",
       "157582      157741   \n",
       "158293      158452   \n",
       "158691      158850   \n",
       "\n",
       "                                                                                                                                                                                                           text   \n",
       "1184    And \\n\\nPaganism\\n\\nSouthgate, who has a degree in theology and religious studies from Canterbury University, rejected Catholicism and moved towards neo-pagan and heathen groups that are ‘very loy...  \\\n",
       "2413    FUCK YOU U USELESS BOT FUCK YOU U USELESS BOT FUCK YOU U USELESS BOT FUCK YOU U USELESS BOT FUCK YOU U USELESS BOT FUCK YOU U USELESS BOT FUCK YOU U USELESS BOT FUCK YOU U USELESS BOT FUCK YOU U U...   \n",
       "3947    \"\\n\\n(Ivo Banac)...A bit of nonteleological history\\nOne of the great problems is that our understanding of the common and individual histories of the South Slavs and the other peoples of southeas...   \n",
       "4167    ii CAN STILL POST WITH THIS COMPUTER...I SAID BLOCK ME, COME THE FUCK DOWN HERE AND ARREST ME...SAN DIEGO CALIFORNIA, CHULA VISTA, FUCKING GET YOUR INFORMATION RIGHT FAGGOT SHITHEAD!!i CAN STILL P...   \n",
       "4704    do go fuck off bastard\\nDo Yyou Have a life?\\ngo fuck off bastard and yank your cock through your ass. I hate you and hope you go away forever. lame is you fuck your mom. die die die and all that ...   \n",
       "...                                                                                                                                                                                                         ...   \n",
       "155754  AIDS AIDS AIDS AIDS AIDS AIDS AIDSAIDS AIDS AIDS AIDS AIDS AIDS AIDSAIDS AIDS AIDS AIDS AIDS AIDS AIDSAIDS AIDS AIDS AIDS AIDS AIDS AIDSAIDS AIDS AIDS AIDS AIDS AIDS AIDSAIDS AIDS AIDS AIDS AIDS A...   \n",
       "156158  HUGE FAGGOT HUGE FAGGOT HUGE FAGGOT HUGE FAGGOT HUGE FAGGOT HUGE FAGGOT HUGE FAGGOT HUGE FAGGOT HUGE FAGGOT HUGE FAGGOT HUGE FAGGOT HUGE FAGGOT HUGE FAGGOT HUGE FAGGOT HUGE FAGGOT HUGE FAGGOT HUGE...   \n",
       "157582  \"\\n\\n Made in the USA? http://rexcurry.net/wikipedialies.html \\n\\nThere are some regular writers on Wikipedia who knowingly engage in personal attacks and deletions (even of links) of anyone who e...   \n",
       "158293  Originally born in OHIO,and raised on a yuppie farmh in a small town outside of dayton, ohio. Her mother is a professional and has worked for the government for almost 30 years and her father is r...   \n",
       "158691  Hi Wikipedia!!Hi Wikipedia!!Hi Wikipedia!!Hi Wikipedia!!Hi Wikipedia!!Hi Wikipedia!!Hi Wikipedia!!Hi Wikipedia!!Hi Wikipedia!!Hi Wikipedia!!Hi Wikipedia!!Hi Wikipedia!!Hi Wikipedia!!Hi Wikipedia!!...   \n",
       "\n",
       "        toxic   len  \n",
       "1184        0  4908  \n",
       "2413        1  4999  \n",
       "3947        0  4946  \n",
       "4167        1  5000  \n",
       "4704        1  4969  \n",
       "...       ...   ...  \n",
       "155754      1  5000  \n",
       "156158      1  5000  \n",
       "157582      0  4912  \n",
       "158293      0  4976  \n",
       "158691      0  5000  \n",
       "\n",
       "[197 rows x 4 columns]"
      ]
     },
     "execution_count": 12,
     "metadata": {},
     "output_type": "execute_result"
    }
   ],
   "source": [
    "df.query('len > 4900')"
   ]
  },
  {
   "cell_type": "markdown",
   "metadata": {},
   "source": [
    "Вывод \\\n",
    "Днанные не сбалансированы\n",
    "большинство коментариев имеют длину до 500 символов"
   ]
  },
  {
   "cell_type": "markdown",
   "metadata": {},
   "source": [
    "### Предобработка"
   ]
  },
  {
   "cell_type": "markdown",
   "metadata": {},
   "source": [
    "Удалим из текста лишние символы, лематизируем "
   ]
  },
  {
   "cell_type": "code",
   "execution_count": 13,
   "metadata": {},
   "outputs": [],
   "source": [
    "stop_words = set(stopwords.words('english'))"
   ]
  },
  {
   "cell_type": "code",
   "execution_count": 16,
   "metadata": {},
   "outputs": [],
   "source": [
    "nlp = en_core_web_sm.load()"
   ]
  },
  {
   "cell_type": "code",
   "execution_count": 17,
   "metadata": {},
   "outputs": [],
   "source": [
    "def clear_text(text):\n",
    "    clear = re.sub(r'[^a-zA-z]', ' ', text)\n",
    "    doc = nlp(clear)\n",
    "    words = [w.text for w in doc if w.text.lower() not in stop_words]\n",
    "    text = ' '.join(words)\n",
    "    text = ' '.join(text.split())\n",
    "    return text\n"
   ]
  },
  {
   "cell_type": "code",
   "execution_count": 18,
   "metadata": {},
   "outputs": [
    {
     "data": {
      "application/vnd.jupyter.widget-view+json": {
       "model_id": "8dc1a0ab0beb4df1a507629007434760",
       "version_major": 2,
       "version_minor": 0
      },
      "text/plain": [
       "Pandas Apply:   0%|          | 0/159292 [00:00<?, ?it/s]"
      ]
     },
     "metadata": {},
     "output_type": "display_data"
    }
   ],
   "source": [
    "df['text'] = df['text'].swifter.progress_bar(True).apply(clear_text)"
   ]
  },
  {
   "cell_type": "markdown",
   "metadata": {},
   "source": [
    "Добавим эмоциональную окраску текста"
   ]
  },
  {
   "cell_type": "code",
   "execution_count": 19,
   "metadata": {},
   "outputs": [],
   "source": [
    "sid = SentimentIntensityAnalyzer()"
   ]
  },
  {
   "cell_type": "code",
   "execution_count": 20,
   "metadata": {},
   "outputs": [],
   "source": [
    "def sentiment_text(text):\n",
    "    '''\n",
    "    \n",
    "    Функция возвращает 4 значения:\n",
    "    compound оценка тональности текса\n",
    "    neg доля негативных слов\n",
    "    neu доля нейтральных слов\n",
    "    pos доля позитивных слов\n",
    "    \n",
    "    '''\n",
    "    compound = sid.polarity_scores(text)['compound']\n",
    "    neg = sid.polarity_scores(text)['neg']\n",
    "    neu = sid.polarity_scores(text)['neu']\n",
    "    pos = sid.polarity_scores(text)['pos']\n",
    "    return compound, neg, neu, pos"
   ]
  },
  {
   "cell_type": "code",
   "execution_count": 21,
   "metadata": {},
   "outputs": [
    {
     "data": {
      "application/vnd.jupyter.widget-view+json": {
       "model_id": "b454315faeaf4c19a58b50c6d3e114f5",
       "version_major": 2,
       "version_minor": 0
      },
      "text/plain": [
       "Pandas Apply:   0%|          | 0/159292 [00:00<?, ?it/s]"
      ]
     },
     "metadata": {},
     "output_type": "display_data"
    }
   ],
   "source": [
    "df[['compound','neg','neu','pos']] = df['text'].swifter.progress_bar(True).apply(sentiment_text).apply(pd.Series)"
   ]
  },
  {
   "cell_type": "markdown",
   "metadata": {},
   "source": [
    "Создадим столбец с количеством нецензурных слов в тексте"
   ]
  },
  {
   "cell_type": "code",
   "execution_count": 22,
   "metadata": {},
   "outputs": [],
   "source": [
    "# возьмем список нецензурных слов и добавим его в переменную  bad_words\n",
    "url = 'https://raw.githubusercontent.com/LDNOOBW/naughty-words-js/master/en.json'\n",
    "response = requests.get(url)\n",
    "bad_words = json.loads(response.text)"
   ]
  },
  {
   "cell_type": "code",
   "execution_count": 23,
   "metadata": {},
   "outputs": [],
   "source": [
    "def count_bad_words(text):\n",
    "    '''Функция принимает текст и возвращает сколько слов совпавших с bad_words'''\n",
    "    count = 0\n",
    "    words = text.split()\n",
    "    for word in words:\n",
    "        if word.lower() in bad_words:\n",
    "            count += 1\n",
    "    return count"
   ]
  },
  {
   "cell_type": "code",
   "execution_count": 24,
   "metadata": {},
   "outputs": [
    {
     "data": {
      "application/vnd.jupyter.widget-view+json": {
       "model_id": "0325227c15e44d449ca23164ff553c13",
       "version_major": 2,
       "version_minor": 0
      },
      "text/plain": [
       "Pandas Apply:   0%|          | 0/159292 [00:00<?, ?it/s]"
      ]
     },
     "metadata": {},
     "output_type": "display_data"
    }
   ],
   "source": [
    "df['bad_words_count'] = df['text'].swifter.progress_bar(True).apply(count_bad_words)"
   ]
  },
  {
   "cell_type": "code",
   "execution_count": 25,
   "metadata": {},
   "outputs": [
    {
     "data": {
      "text/html": [
       "<div>\n",
       "<style scoped>\n",
       "    .dataframe tbody tr th:only-of-type {\n",
       "        vertical-align: middle;\n",
       "    }\n",
       "\n",
       "    .dataframe tbody tr th {\n",
       "        vertical-align: top;\n",
       "    }\n",
       "\n",
       "    .dataframe thead th {\n",
       "        text-align: right;\n",
       "    }\n",
       "</style>\n",
       "<table border=\"1\" class=\"dataframe\">\n",
       "  <thead>\n",
       "    <tr style=\"text-align: right;\">\n",
       "      <th></th>\n",
       "      <th>Unnamed: 0</th>\n",
       "      <th>text</th>\n",
       "      <th>toxic</th>\n",
       "      <th>len</th>\n",
       "      <th>compound</th>\n",
       "      <th>neg</th>\n",
       "      <th>neu</th>\n",
       "      <th>pos</th>\n",
       "      <th>bad_words_count</th>\n",
       "    </tr>\n",
       "  </thead>\n",
       "  <tbody>\n",
       "    <tr>\n",
       "      <th>0</th>\n",
       "      <td>0</td>\n",
       "      <td>Explanation edits made username Hardcore Metallica Fan reverted vandalisms closure GAs voted New York Dolls FAC please remove template talk page since retired</td>\n",
       "      <td>0</td>\n",
       "      <td>264</td>\n",
       "      <td>0.5574</td>\n",
       "      <td>0.000</td>\n",
       "      <td>0.820</td>\n",
       "      <td>0.180</td>\n",
       "      <td>1</td>\n",
       "    </tr>\n",
       "    <tr>\n",
       "      <th>1</th>\n",
       "      <td>1</td>\n",
       "      <td>aww matches background colour seemingly stuck Thanks talk January UTC</td>\n",
       "      <td>0</td>\n",
       "      <td>112</td>\n",
       "      <td>0.2263</td>\n",
       "      <td>0.155</td>\n",
       "      <td>0.620</td>\n",
       "      <td>0.225</td>\n",
       "      <td>0</td>\n",
       "    </tr>\n",
       "    <tr>\n",
       "      <th>2</th>\n",
       "      <td>2</td>\n",
       "      <td>Hey man really trying edit war guy constantly removing relevant information talking edits instead talk page seems care formatting actual info</td>\n",
       "      <td>0</td>\n",
       "      <td>233</td>\n",
       "      <td>-0.2415</td>\n",
       "      <td>0.158</td>\n",
       "      <td>0.721</td>\n",
       "      <td>0.121</td>\n",
       "      <td>0</td>\n",
       "    </tr>\n",
       "    <tr>\n",
       "      <th>3</th>\n",
       "      <td>3</td>\n",
       "      <td>make real suggestions improvement wondered section statistics later subsection types accidents think references may need tidying exact format ie date format etc later one else first preferences fo...</td>\n",
       "      <td>0</td>\n",
       "      <td>622</td>\n",
       "      <td>0.2500</td>\n",
       "      <td>0.082</td>\n",
       "      <td>0.801</td>\n",
       "      <td>0.117</td>\n",
       "      <td>0</td>\n",
       "    </tr>\n",
       "    <tr>\n",
       "      <th>4</th>\n",
       "      <td>4</td>\n",
       "      <td>sir hero chance remember page</td>\n",
       "      <td>0</td>\n",
       "      <td>67</td>\n",
       "      <td>0.6808</td>\n",
       "      <td>0.000</td>\n",
       "      <td>0.349</td>\n",
       "      <td>0.651</td>\n",
       "      <td>0</td>\n",
       "    </tr>\n",
       "  </tbody>\n",
       "</table>\n",
       "</div>"
      ],
      "text/plain": [
       "   Unnamed: 0   \n",
       "0           0  \\\n",
       "1           1   \n",
       "2           2   \n",
       "3           3   \n",
       "4           4   \n",
       "\n",
       "                                                                                                                                                                                                      text   \n",
       "0                                           Explanation edits made username Hardcore Metallica Fan reverted vandalisms closure GAs voted New York Dolls FAC please remove template talk page since retired  \\\n",
       "1                                                                                                                                    aww matches background colour seemingly stuck Thanks talk January UTC   \n",
       "2                                                            Hey man really trying edit war guy constantly removing relevant information talking edits instead talk page seems care formatting actual info   \n",
       "3  make real suggestions improvement wondered section statistics later subsection types accidents think references may need tidying exact format ie date format etc later one else first preferences fo...   \n",
       "4                                                                                                                                                                            sir hero chance remember page   \n",
       "\n",
       "   toxic  len  compound    neg    neu    pos  bad_words_count  \n",
       "0      0  264    0.5574  0.000  0.820  0.180                1  \n",
       "1      0  112    0.2263  0.155  0.620  0.225                0  \n",
       "2      0  233   -0.2415  0.158  0.721  0.121                0  \n",
       "3      0  622    0.2500  0.082  0.801  0.117                0  \n",
       "4      0   67    0.6808  0.000  0.349  0.651                0  "
      ]
     },
     "execution_count": 25,
     "metadata": {},
     "output_type": "execute_result"
    }
   ],
   "source": [
    "df.head()"
   ]
  },
  {
   "cell_type": "markdown",
   "metadata": {},
   "source": [
    "CatBoost умеет работать с текстом, для него не будем преобразовывать текс в вектора"
   ]
  },
  {
   "cell_type": "code",
   "execution_count": 26,
   "metadata": {},
   "outputs": [],
   "source": [
    "# Для Catboost\n",
    "X = df[['text', 'len', 'bad_words_count', 'compound', 'neg', 'neu', 'pos']].values\n",
    "y = df['toxic']\n",
    "\n",
    "X_train_cat, X_test_cat, y_train_cat, y_test_cat = train_test_split(X, y, test_size=0.2, stratify = y, random_state=RS)"
   ]
  },
  {
   "cell_type": "markdown",
   "metadata": {},
   "source": [
    "разделим данные для других моделей"
   ]
  },
  {
   "cell_type": "code",
   "execution_count": 27,
   "metadata": {},
   "outputs": [],
   "source": [
    "# Для векторов\n",
    "X = df[['text', 'len', 'bad_words_count', 'compound', 'neg', 'neu', 'pos']]\n",
    "y = df['toxic']\n",
    "\n",
    "X_train, X_test, y_train, y_test = train_test_split(X,y, test_size=0.2, stratify = y, random_state=RS)"
   ]
  },
  {
   "cell_type": "code",
   "execution_count": 28,
   "metadata": {},
   "outputs": [],
   "source": [
    "# скорер\n",
    "scorer = make_scorer(f1_score)"
   ]
  },
  {
   "cell_type": "markdown",
   "metadata": {},
   "source": [
    "## Обучение"
   ]
  },
  {
   "cell_type": "markdown",
   "metadata": {},
   "source": [
    "### Logistic Regression"
   ]
  },
  {
   "cell_type": "code",
   "execution_count": 29,
   "metadata": {},
   "outputs": [
    {
     "name": "stdout",
     "output_type": "stream",
     "text": [
      "CPU times: user 31min 20s, sys: 36min 33s, total: 1h 7min 53s\n",
      "Wall time: 1h 8min\n"
     ]
    }
   ],
   "source": [
    "%%time\n",
    "\n",
    "lr_params = {\n",
    "    'logistic__max_iter': range(200, 5000, 100)\n",
    "}\n",
    "\n",
    "\n",
    "lr = LogisticRegression(class_weight='balanced', random_state=RS)    \n",
    "\n",
    "\n",
    "\n",
    "\n",
    "preparing = ColumnTransformer([('vectorizer', TfidfVectorizer(), 'text'),\n",
    "                               ('num', StandardScaler(), ['len', 'bad_words_count', 'compound', 'neg', 'neu', 'pos'])])\n",
    "\n",
    "\n",
    "pipeline = Pipeline([\n",
    "    ('preparing', preparing),\n",
    "    ('logistic', lr)\n",
    "])\n",
    "\n",
    "\n",
    "lr_random_search = RandomizedSearchCV(\n",
    "    pipeline, param_distributions=lr_params,\n",
    "    n_iter=5,\n",
    "    cv=5,\n",
    "    random_state=RS,\n",
    "    scoring=scorer)\n",
    "\n",
    "\n",
    "lr_random_search.fit(X_train, y_train)\n",
    "\n",
    "lr_best = lr_random_search.best_estimator_\n",
    "lr_score = -lr_random_search.best_score_\n",
    "lr_fit_time = lr_random_search.cv_results_['mean_fit_time'][lr_random_search.best_index_]\n",
    "lr_score_time = lr_random_search.cv_results_['mean_score_time'][lr_random_search.best_index_]"
   ]
  },
  {
   "cell_type": "code",
   "execution_count": 30,
   "metadata": {
    "scrolled": true
   },
   "outputs": [
    {
     "name": "stdout",
     "output_type": "stream",
     "text": [
      "Лучшая оценка:  0.7385562772441168\n",
      "Время обучения: 2 минут 26 секунд\n",
      "Время предсказания: 0 минут 0.91 секунд\n"
     ]
    }
   ],
   "source": [
    "print(\"Лучшая оценка: \", -lr_score)\n",
    "print(f'Время обучения: {round(lr_fit_time // 60)} минут {round(lr_fit_time % 60)} секунд')\n",
    "print(f'Время предсказания: {round(lr_score_time // 60)} минут {round(lr_score_time % 60, 2)} секунд')"
   ]
  },
  {
   "cell_type": "markdown",
   "metadata": {},
   "source": [
    "Метрика меньше необходимой нам "
   ]
  },
  {
   "cell_type": "markdown",
   "metadata": {},
   "source": [
    "### CatBoost"
   ]
  },
  {
   "cell_type": "code",
   "execution_count": 31,
   "metadata": {},
   "outputs": [],
   "source": [
    "# CatBoost текстом\n",
    "params_cat = {'learning_rate': np.arange(0.1, 0.5, 0.1), \n",
    "          'depth': range(3, 7, 1), \n",
    "          'iterations': range(100, 3000, 500)\n",
    "             }\n",
    "\n",
    "Cat = CatBoostClassifier(eval_metric='F1', random_state=RS, text_features = [0],\n",
    "                         auto_class_weights='SqrtBalanced',\n",
    "                         verbose = False)\n",
    "\n",
    "random_search_cat_t = RandomizedSearchCV(estimator=Cat, \n",
    "                                   param_distributions=params_cat, \n",
    "                                   n_iter=5, \n",
    "                                   cv=5, \n",
    "                                   random_state=RS, \n",
    "                                   scoring=scorer,\n",
    "                                   n_jobs=-1)\n",
    "\n",
    "random_search_cat_t.fit(X_train_cat, y_train_cat)\n",
    "\n",
    "Cat_best_t = random_search_cat_t.best_estimator_\n",
    "Cat_score_t = -random_search_cat_t.best_score_\n",
    "Cat_fit_time_t = random_search_cat_t.cv_results_['mean_fit_time'][random_search_cat_t.best_index_]\n",
    "Cat_score_time_t = random_search_cat_t.cv_results_['mean_score_time'][random_search_cat_t.best_index_]"
   ]
  },
  {
   "cell_type": "code",
   "execution_count": 32,
   "metadata": {},
   "outputs": [
    {
     "name": "stdout",
     "output_type": "stream",
     "text": [
      "Лучшая оценка:  0.7760629598667471\n",
      "Время обучения: 19 минут 49 секунд\n",
      "Время предсказания: 0 минут 1.81 секунд\n"
     ]
    }
   ],
   "source": [
    "print(\"Лучшая оценка: \", -Cat_score_t)\n",
    "print(f'Время обучения: {round(Cat_fit_time_t // 60)} минут {round(Cat_fit_time_t % 60)} секунд')\n",
    "print(f'Время предсказания: {round(Cat_score_time_t // 60)} минут {round(Cat_score_time_t % 60, 2)} секунд')"
   ]
  },
  {
   "cell_type": "markdown",
   "metadata": {},
   "source": [
    "Метрика лучше чем у логистической регресии и больше минимильно необходимой нам"
   ]
  },
  {
   "cell_type": "markdown",
   "metadata": {},
   "source": [
    "### CatBoost с векторизироваными признаками"
   ]
  },
  {
   "cell_type": "code",
   "execution_count": 44,
   "metadata": {},
   "outputs": [
    {
     "name": "stdout",
     "output_type": "stream",
     "text": [
      "CPU times: user 4h 53min 20s, sys: 3min 4s, total: 4h 56min 25s\n",
      "Wall time: 4h 57min 36s\n"
     ]
    }
   ],
   "source": [
    "%%time\n",
    "\n",
    "params_cat = {\n",
    "    'cat__learning_rate': np.arange(0.1, 0.5, 0.1), \n",
    "    'cat__depth': range(3, 7, 1),\n",
    "    'cat__iterations': range(100, 1500, 500)\n",
    "}\n",
    "\n",
    "\n",
    "cat = CatBoostClassifier(eval_metric='F1',\n",
    "                         random_state=RS,\n",
    "                         auto_class_weights='SqrtBalanced',\n",
    "                        verbose = False)\n",
    "\n",
    "\n",
    "\n",
    "\n",
    "preparing = ColumnTransformer([('vectorizer', TfidfVectorizer(), 'text'),\n",
    "                               ('num', StandardScaler(), ['len', 'bad_words_count', 'compound', 'neg', 'neu', 'pos'])])\n",
    "\n",
    "\n",
    "pipeline = Pipeline([\n",
    "    ('preparing', preparing),\n",
    "    ('cat', cat)\n",
    "])\n",
    "\n",
    "\n",
    "cat_random_search_v = RandomizedSearchCV(\n",
    "    pipeline, param_distributions=params_cat, n_iter=5, cv=5, random_state=RS, scoring=scorer)\n",
    "\n",
    "cat_random_search_v.fit(X_train, y_train)\n",
    "\n",
    "cat_best_v = cat_random_search_v.best_estimator_\n",
    "cat_score_v = -cat_random_search_v.best_score_\n",
    "cat_fit_time_v = cat_random_search_v.cv_results_['mean_fit_time'][cat_random_search_v.best_index_]\n",
    "cat_score_time_v = cat_random_search_v.cv_results_['mean_score_time'][cat_random_search_v.best_index_]"
   ]
  },
  {
   "cell_type": "code",
   "execution_count": 46,
   "metadata": {},
   "outputs": [
    {
     "name": "stdout",
     "output_type": "stream",
     "text": [
      "Лучшая оценка:  0.7792551250982882\n",
      "Время обучения: 20 минут 20 секунд\n",
      "Время предсказания: 0 минут 1.34 секунд\n"
     ]
    }
   ],
   "source": [
    "print(\"Лучшая оценка: \", -cat_score_v)\n",
    "print(f'Время обучения: {round(cat_fit_time_v // 60)} минут {round(cat_fit_time_v % 60)} секунд')\n",
    "print(f'Время предсказания: {round(cat_score_time_v // 60)} минут {round(cat_score_time_v % 60, 2)} секунд')"
   ]
  },
  {
   "cell_type": "markdown",
   "metadata": {},
   "source": [
    "Самый высокий результат среди рассмотреных моделей"
   ]
  },
  {
   "cell_type": "markdown",
   "metadata": {},
   "source": [
    "### CatBoost на сгенерированых фичах"
   ]
  },
  {
   "cell_type": "code",
   "execution_count": 48,
   "metadata": {},
   "outputs": [],
   "source": [
    "X_train_f = X_train[['len', 'bad_words_count', 'compound', 'neg', 'neu', 'pos']].values"
   ]
  },
  {
   "cell_type": "code",
   "execution_count": 50,
   "metadata": {},
   "outputs": [],
   "source": [
    "params_cat = {'learning_rate': np.arange(0.1, 0.5, 0.1), \n",
    "          'depth': range(3, 10, 1), \n",
    "          'iterations': range(100, 3000, 500)\n",
    "             }\n",
    "\n",
    "Cat = CatBoostClassifier(eval_metric='F1', random_state=RS,\n",
    "                         auto_class_weights='SqrtBalanced',\n",
    "                         early_stopping_rounds = 300,\n",
    "                         verbose = False,)\n",
    "\n",
    "random_search_cat_f = RandomizedSearchCV(estimator=Cat, \n",
    "                                   param_distributions=params_cat, \n",
    "                                   n_iter=5, \n",
    "                                   cv=5, \n",
    "                                   random_state=RS, \n",
    "                                   scoring=scorer,\n",
    "                                   n_jobs=-1)\n",
    "\n",
    "random_search_cat_f.fit(X_train_f, y_train)\n",
    "\n",
    "cat_best_f = random_search_cat_f.best_estimator_\n",
    "cat_score_f = -random_search_cat_f.best_score_\n",
    "cat_fit_time_f = random_search_cat_f.cv_results_['mean_fit_time'][random_search_cat_f.best_index_]\n",
    "cat_score_time_f = random_search_cat_f.cv_results_['mean_score_time'][random_search_cat_f.best_index_]"
   ]
  },
  {
   "cell_type": "code",
   "execution_count": 52,
   "metadata": {},
   "outputs": [
    {
     "name": "stdout",
     "output_type": "stream",
     "text": [
      "Лучшая оценка:  0.655465491107199\n",
      "Время обучения: 0 минут 16 секунд\n",
      "Время предсказания: 0 минут 0.07 секунд\n"
     ]
    }
   ],
   "source": [
    "print(\"Лучшая оценка: \", -cat_score_f)\n",
    "print(f'Время обучения: {round(cat_fit_time_f // 60)} минут {round(cat_fit_time_f % 60)} секунд')\n",
    "print(f'Время предсказания: {round(cat_score_time_f // 60)} минут {round(cat_score_time_f % 60, 2)} секунд')"
   ]
  },
  {
   "cell_type": "markdown",
   "metadata": {},
   "source": [
    "### Тестирование лучшей модели"
   ]
  },
  {
   "cell_type": "code",
   "execution_count": 58,
   "metadata": {},
   "outputs": [
    {
     "name": "stdout",
     "output_type": "stream",
     "text": [
      "F1 score: 0.7816055625790139\n",
      "accuracy: 0.9566213628801908\n"
     ]
    }
   ],
   "source": [
    "prediction = cat_best_v.predict(X_test)\n",
    "f = f1_score(y_test_cat, prediction)\n",
    "\n",
    "prediction = cat_best_v.predict(X_test)\n",
    "a = accuracy_score(y_test, prediction)\n",
    "print(\"F1 score:\", f)\n",
    "print(\"accuracy:\", a)"
   ]
  },
  {
   "cell_type": "code",
   "execution_count": 59,
   "metadata": {},
   "outputs": [
    {
     "data": {
      "image/png": "[encoded data removed]",
      "text/plain": [
       "<Figure size 432x288 with 2 Axes>"
      ]
     },
     "metadata": {
      "needs_background": "light"
     },
     "output_type": "display_data"
    }
   ],
   "source": [
    "plot_confusion_matrix(Cat_best_t, X_test_cat, y_test);"
   ]
  },
  {
   "cell_type": "code",
   "execution_count": 60,
   "metadata": {},
   "outputs": [
    {
     "data": {
      "text/plain": [
       "DummyClassifier(strategy='most_frequent')"
      ]
     },
     "execution_count": 60,
     "metadata": {},
     "output_type": "execute_result"
    }
   ],
   "source": [
    "dummy = DummyClassifier(strategy='most_frequent')\n",
    "dummy.fit(X_train, y_train)"
   ]
  },
  {
   "cell_type": "code",
   "execution_count": 61,
   "metadata": {},
   "outputs": [
    {
     "data": {
      "image/png": "[encoded data removed]",
      "text/plain": [
       "<Figure size 432x288 with 1 Axes>"
      ]
     },
     "metadata": {
      "needs_background": "light"
     },
     "output_type": "display_data"
    }
   ],
   "source": [
    "fig = plot_roc_curve(cat_best_v,  X_test, y_test)\n",
    "plot_roc_curve(dummy,  X_test, y_test, ax=fig.ax_);"
   ]
  },
  {
   "cell_type": "markdown",
   "metadata": {},
   "source": [
    "### Дополнительно, предобученая модель Detoxify"
   ]
  },
  {
   "cell_type": "markdown",
   "metadata": {},
   "source": [
    "Даную модель рассмотрел в Google Colab\n",
    "[notebook](https://colab.research.google.com/drive/10tynAw3NoKEEN5Q9VKTIImIq_BpQkpS6?usp=sharing)\\\n",
    "Модель в результате выдает 6 параметров оценки текста (от 0 до 1)\\\n",
    "- `toxicity`: Токсичность текста,\n",
    "- `severe_toxicity`: Тяжесть токсичности,\n",
    "- `obscene`: непристойность текста,\n",
    "- `threat`: Угрозы в тексте,\n",
    "- `insult`: Оскарбления,\n",
    "- `identity_attack`: Переход на личности\n",
    "\n",
    "Колонка `predict` сформирована из значний `toxicity` с порогом 0,5\\\n",
    "Результат предсказаний этой модели для всего df рассмотрм ниже"
   ]
  },
  {
   "cell_type": "code",
   "execution_count": 63,
   "metadata": {},
   "outputs": [],
   "source": [
    "Detoxify_df = pd.read_csv('data/new_toxic_comments.csv')"
   ]
  },
  {
   "cell_type": "code",
   "execution_count": 65,
   "metadata": {},
   "outputs": [
    {
     "data": {
      "text/html": [
       "<div>\n",
       "<style scoped>\n",
       "    .dataframe tbody tr th:only-of-type {\n",
       "        vertical-align: middle;\n",
       "    }\n",
       "\n",
       "    .dataframe tbody tr th {\n",
       "        vertical-align: top;\n",
       "    }\n",
       "\n",
       "    .dataframe thead th {\n",
       "        text-align: right;\n",
       "    }\n",
       "</style>\n",
       "<table border=\"1\" class=\"dataframe\">\n",
       "  <thead>\n",
       "    <tr style=\"text-align: right;\">\n",
       "      <th></th>\n",
       "      <th>Unnamed: 0</th>\n",
       "      <th>text</th>\n",
       "      <th>toxic</th>\n",
       "      <th>toxicity</th>\n",
       "      <th>severe_toxicity</th>\n",
       "      <th>obscene</th>\n",
       "      <th>threat</th>\n",
       "      <th>insult</th>\n",
       "      <th>identity_attack</th>\n",
       "      <th>predict</th>\n",
       "    </tr>\n",
       "  </thead>\n",
       "  <tbody>\n",
       "    <tr>\n",
       "      <th>0</th>\n",
       "      <td>0</td>\n",
       "      <td>Explanation\\nWhy the edits made under my username Hardcore Metallica Fan were reverted? They weren't vandalisms, just closure on some GAs after I voted at New York Dolls FAC. And please don't remo...</td>\n",
       "      <td>0</td>\n",
       "      <td>0.000817</td>\n",
       "      <td>0.000105</td>\n",
       "      <td>0.000183</td>\n",
       "      <td>0.000106</td>\n",
       "      <td>0.000177</td>\n",
       "      <td>0.000135</td>\n",
       "      <td>0.0</td>\n",
       "    </tr>\n",
       "    <tr>\n",
       "      <th>1</th>\n",
       "      <td>1</td>\n",
       "      <td>D'aww! He matches this background colour I'm seemingly stuck with. Thanks.  (talk) 21:51, January 11, 2016 (UTC)</td>\n",
       "      <td>0</td>\n",
       "      <td>0.000639</td>\n",
       "      <td>0.000117</td>\n",
       "      <td>0.000180</td>\n",
       "      <td>0.000122</td>\n",
       "      <td>0.000177</td>\n",
       "      <td>0.000136</td>\n",
       "      <td>0.0</td>\n",
       "    </tr>\n",
       "    <tr>\n",
       "      <th>2</th>\n",
       "      <td>2</td>\n",
       "      <td>Hey man, I'm really not trying to edit war. It's just that this guy is constantly removing relevant information and talking to me through edits instead of my talk page. He seems to care more about...</td>\n",
       "      <td>0</td>\n",
       "      <td>0.000923</td>\n",
       "      <td>0.000105</td>\n",
       "      <td>0.000178</td>\n",
       "      <td>0.000111</td>\n",
       "      <td>0.000181</td>\n",
       "      <td>0.000139</td>\n",
       "      <td>0.0</td>\n",
       "    </tr>\n",
       "    <tr>\n",
       "      <th>3</th>\n",
       "      <td>3</td>\n",
       "      <td>\"\\nMore\\nI can't make any real suggestions on improvement - I wondered if the section statistics should be later on, or a subsection of \"\"types of accidents\"\"  -I think the references may need tid...</td>\n",
       "      <td>0</td>\n",
       "      <td>0.000526</td>\n",
       "      <td>0.000134</td>\n",
       "      <td>0.000190</td>\n",
       "      <td>0.000136</td>\n",
       "      <td>0.000179</td>\n",
       "      <td>0.000146</td>\n",
       "      <td>0.0</td>\n",
       "    </tr>\n",
       "    <tr>\n",
       "      <th>4</th>\n",
       "      <td>4</td>\n",
       "      <td>You, sir, are my hero. Any chance you remember what page that's on?</td>\n",
       "      <td>0</td>\n",
       "      <td>0.000923</td>\n",
       "      <td>0.000109</td>\n",
       "      <td>0.000166</td>\n",
       "      <td>0.000135</td>\n",
       "      <td>0.000185</td>\n",
       "      <td>0.000146</td>\n",
       "      <td>0.0</td>\n",
       "    </tr>\n",
       "  </tbody>\n",
       "</table>\n",
       "</div>"
      ],
      "text/plain": [
       "   Unnamed: 0   \n",
       "0           0  \\\n",
       "1           1   \n",
       "2           2   \n",
       "3           3   \n",
       "4           4   \n",
       "\n",
       "                                                                                                                                                                                                      text   \n",
       "0  Explanation\\nWhy the edits made under my username Hardcore Metallica Fan were reverted? They weren't vandalisms, just closure on some GAs after I voted at New York Dolls FAC. And please don't remo...  \\\n",
       "1                                                                                         D'aww! He matches this background colour I'm seemingly stuck with. Thanks.  (talk) 21:51, January 11, 2016 (UTC)   \n",
       "2  Hey man, I'm really not trying to edit war. It's just that this guy is constantly removing relevant information and talking to me through edits instead of my talk page. He seems to care more about...   \n",
       "3  \"\\nMore\\nI can't make any real suggestions on improvement - I wondered if the section statistics should be later on, or a subsection of \"\"types of accidents\"\"  -I think the references may need tid...   \n",
       "4                                                                                                                                      You, sir, are my hero. Any chance you remember what page that's on?   \n",
       "\n",
       "   toxic  toxicity  severe_toxicity   obscene    threat    insult   \n",
       "0      0  0.000817         0.000105  0.000183  0.000106  0.000177  \\\n",
       "1      0  0.000639         0.000117  0.000180  0.000122  0.000177   \n",
       "2      0  0.000923         0.000105  0.000178  0.000111  0.000181   \n",
       "3      0  0.000526         0.000134  0.000190  0.000136  0.000179   \n",
       "4      0  0.000923         0.000109  0.000166  0.000135  0.000185   \n",
       "\n",
       "   identity_attack  predict  \n",
       "0         0.000135      0.0  \n",
       "1         0.000136      0.0  \n",
       "2         0.000139      0.0  \n",
       "3         0.000146      0.0  \n",
       "4         0.000146      0.0  "
      ]
     },
     "execution_count": 65,
     "metadata": {},
     "output_type": "execute_result"
    }
   ],
   "source": [
    "Detoxify_df.head()"
   ]
  },
  {
   "cell_type": "code",
   "execution_count": 66,
   "metadata": {},
   "outputs": [
    {
     "name": "stdout",
     "output_type": "stream",
     "text": [
      "F1 score: 0.9404556166535744\n",
      "accuracy: 0.9881036084674686\n"
     ]
    }
   ],
   "source": [
    "f = f1_score(Detoxify_df['toxic'], Detoxify_df['predict'])\n",
    "a = accuracy_score(Detoxify_df['toxic'], Detoxify_df['predict'])\n",
    "print(\"F1 score:\", f)\n",
    "print(\"accuracy:\", a)"
   ]
  },
  {
   "cell_type": "markdown",
   "metadata": {},
   "source": [
    "Результат уже предобученой модели сильно лучше чем у всех рассмотреных ранее"
   ]
  },
  {
   "cell_type": "markdown",
   "metadata": {},
   "source": [
    "## Выводы"
   ]
  },
  {
   "cell_type": "markdown",
   "metadata": {},
   "source": [
    "В ходе работы проведена подготовка данных для рассмотрения в разных моделях\\\n",
    "Были созданы фичи с эмоциональной окраской текста, длиной текста, количеством нецензурных слов\\\n",
    "Были рассмотрены модели:\n",
    "- Модель логистической регресии \n",
    "- CatBoost c использованием встроеной функции для построения модели на текстовых данных, и без неё\n",
    "- CatBoost только на фичах полученых в результате предобработки данных\n",
    "Так же отдельно для предсказания была использована уже предобученая модель  Detoxify\n",
    "\n",
    "Самый лучшей результат среди моделей обученых на предоставленых данных оказалась модель градиентного бустинга обученая на сгенерированых фичах и без использования встроеной функции обработки текста\\\n",
    "результат работы модели на тестовых данных: F1 0,78\n",
    "\n",
    "Результат работы модели Detoxify, предобученой для определения тональности текста, на всех данных F1: 0.94 "
   ]
  }
 ],
 "metadata": {
  "ExecuteTimeLog": [
   {
    "duration": 437,
    "start_time": "2023-05-03T07:17:20.641Z"
   },
   {
    "duration": 124,
    "start_time": "2023-05-03T07:17:21.080Z"
   },
   {
    "duration": 0,
    "start_time": "2023-05-03T07:17:21.206Z"
   },
   {
    "duration": 3250,
    "start_time": "2023-05-03T07:17:46.043Z"
   },
   {
    "duration": 14,
    "start_time": "2023-05-03T07:17:49.628Z"
   },
   {
    "duration": 101,
    "start_time": "2023-05-04T10:15:44.331Z"
   },
   {
    "duration": 2849,
    "start_time": "2023-05-04T10:15:47.665Z"
   },
   {
    "duration": 4169,
    "start_time": "2023-05-04T10:15:50.517Z"
   },
   {
    "duration": 40,
    "start_time": "2023-05-04T10:15:54.688Z"
   },
   {
    "duration": 21,
    "start_time": "2023-05-04T10:20:00.424Z"
   },
   {
    "duration": 11,
    "start_time": "2023-05-04T10:20:21.592Z"
   },
   {
    "duration": 25,
    "start_time": "2023-05-04T10:20:38.456Z"
   },
   {
    "duration": 24,
    "start_time": "2023-05-04T10:20:51.883Z"
   },
   {
    "duration": 14,
    "start_time": "2023-05-04T10:21:04.892Z"
   },
   {
    "duration": 97,
    "start_time": "2023-05-04T10:24:30.696Z"
   },
   {
    "duration": 1103,
    "start_time": "2023-05-04T10:25:24.288Z"
   },
   {
    "duration": 12135,
    "start_time": "2023-05-04T10:26:30.517Z"
   },
   {
    "duration": 9,
    "start_time": "2023-05-04T10:27:50.692Z"
   },
   {
    "duration": 6,
    "start_time": "2023-05-04T10:27:57.309Z"
   },
   {
    "duration": 77,
    "start_time": "2023-05-04T10:54:44.880Z"
   },
   {
    "duration": 1307,
    "start_time": "2023-05-04T10:54:55.970Z"
   },
   {
    "duration": 217,
    "start_time": "2023-05-04T10:55:04.849Z"
   },
   {
    "duration": 263,
    "start_time": "2023-05-04T10:57:10.805Z"
   },
   {
    "duration": 207,
    "start_time": "2023-05-04T10:59:04.112Z"
   },
   {
    "duration": 181,
    "start_time": "2023-05-04T11:01:16.440Z"
   },
   {
    "duration": 198,
    "start_time": "2023-05-04T11:01:19.324Z"
   },
   {
    "duration": 198,
    "start_time": "2023-05-04T11:01:31.692Z"
   },
   {
    "duration": 961,
    "start_time": "2023-05-04T11:20:47.837Z"
   },
   {
    "duration": 234,
    "start_time": "2023-05-04T11:20:50.492Z"
   },
   {
    "duration": 537,
    "start_time": "2023-05-04T12:00:45.643Z"
   },
   {
    "duration": 9995,
    "start_time": "2023-05-04T12:00:48.663Z"
   },
   {
    "duration": 4,
    "start_time": "2023-05-04T12:01:01.119Z"
   },
   {
    "duration": 4,
    "start_time": "2023-05-04T12:45:58.258Z"
   },
   {
    "duration": 50,
    "start_time": "2023-05-04T12:45:58.440Z"
   },
   {
    "duration": 12,
    "start_time": "2023-05-04T12:45:58.603Z"
   },
   {
    "duration": 1464,
    "start_time": "2023-05-04T12:46:04.481Z"
   },
   {
    "duration": 12,
    "start_time": "2023-05-04T12:46:44.250Z"
   },
   {
    "duration": 9,
    "start_time": "2023-05-04T12:46:44.494Z"
   },
   {
    "duration": 56,
    "start_time": "2023-05-04T12:46:55.254Z"
   },
   {
    "duration": 9,
    "start_time": "2023-05-04T12:47:02.430Z"
   },
   {
    "duration": 9,
    "start_time": "2023-05-04T12:47:07.951Z"
   },
   {
    "duration": 13,
    "start_time": "2023-05-04T12:47:08.129Z"
   },
   {
    "duration": 10,
    "start_time": "2023-05-04T12:47:08.279Z"
   },
   {
    "duration": 7,
    "start_time": "2023-05-04T12:47:08.410Z"
   },
   {
    "duration": 7,
    "start_time": "2023-05-04T12:47:08.577Z"
   },
   {
    "duration": 445,
    "start_time": "2023-05-04T12:47:12.334Z"
   },
   {
    "duration": 2609,
    "start_time": "2023-05-04T12:47:13.284Z"
   },
   {
    "duration": 34,
    "start_time": "2023-05-04T12:47:15.895Z"
   },
   {
    "duration": 48,
    "start_time": "2023-05-04T12:47:15.930Z"
   },
   {
    "duration": 38,
    "start_time": "2023-05-04T12:47:15.980Z"
   },
   {
    "duration": 42,
    "start_time": "2023-05-04T12:47:16.020Z"
   },
   {
    "duration": 114,
    "start_time": "2023-05-04T12:47:16.064Z"
   },
   {
    "duration": 521,
    "start_time": "2023-05-04T12:47:16.179Z"
   },
   {
    "duration": 1219,
    "start_time": "2023-05-04T12:47:19.040Z"
   },
   {
    "duration": 207,
    "start_time": "2023-05-04T12:47:20.262Z"
   },
   {
    "duration": 3,
    "start_time": "2023-05-04T12:47:20.471Z"
   },
   {
    "duration": 426,
    "start_time": "2023-05-05T06:54:22.279Z"
   },
   {
    "duration": 3408,
    "start_time": "2023-05-05T06:54:22.707Z"
   },
   {
    "duration": 30,
    "start_time": "2023-05-05T06:54:26.117Z"
   },
   {
    "duration": 12,
    "start_time": "2023-05-05T06:54:26.149Z"
   },
   {
    "duration": 9,
    "start_time": "2023-05-05T06:54:26.163Z"
   },
   {
    "duration": 24,
    "start_time": "2023-05-05T06:54:26.173Z"
   },
   {
    "duration": 65,
    "start_time": "2023-05-05T06:54:26.198Z"
   },
   {
    "duration": 634,
    "start_time": "2023-05-05T06:54:26.265Z"
   },
   {
    "duration": 1019,
    "start_time": "2023-05-05T06:54:26.902Z"
   },
   {
    "duration": 227,
    "start_time": "2023-05-05T06:55:14.572Z"
   },
   {
    "duration": 3,
    "start_time": "2023-05-05T06:55:16.666Z"
   },
   {
    "duration": 134,
    "start_time": "2023-05-05T06:55:21.513Z"
   },
   {
    "duration": 1846,
    "start_time": "2023-05-05T06:55:27.931Z"
   },
   {
    "duration": 1242,
    "start_time": "2023-05-05T06:55:31.210Z"
   },
   {
    "duration": 13,
    "start_time": "2023-05-05T06:55:49.551Z"
   },
   {
    "duration": 9,
    "start_time": "2023-05-05T07:04:45.469Z"
   },
   {
    "duration": 3,
    "start_time": "2023-05-05T07:04:47.722Z"
   },
   {
    "duration": 37198,
    "start_time": "2023-05-05T07:04:48.173Z"
   },
   {
    "duration": 30,
    "start_time": "2023-05-05T07:05:25.373Z"
   },
   {
    "duration": 6,
    "start_time": "2023-05-05T07:17:55.784Z"
   },
   {
    "duration": 320,
    "start_time": "2023-05-05T07:19:43.417Z"
   },
   {
    "duration": 4,
    "start_time": "2023-05-05T07:19:49.680Z"
   },
   {
    "duration": 4,
    "start_time": "2023-05-05T07:19:49.853Z"
   },
   {
    "duration": 3861,
    "start_time": "2023-05-05T07:19:49.979Z"
   },
   {
    "duration": 27,
    "start_time": "2023-05-05T07:20:02.684Z"
   },
   {
    "duration": 11,
    "start_time": "2023-05-05T07:26:13.683Z"
   },
   {
    "duration": 11,
    "start_time": "2023-05-05T07:26:43.698Z"
   },
   {
    "duration": 5,
    "start_time": "2023-05-05T07:27:01.757Z"
   },
   {
    "duration": 7,
    "start_time": "2023-05-05T07:27:04.477Z"
   },
   {
    "duration": 8,
    "start_time": "2023-05-05T07:27:09.617Z"
   },
   {
    "duration": 31264,
    "start_time": "2023-05-05T07:39:19.668Z"
   },
   {
    "duration": 3813,
    "start_time": "2023-05-05T07:39:50.935Z"
   },
   {
    "duration": 19,
    "start_time": "2023-05-05T07:48:00.843Z"
   },
   {
    "duration": 6,
    "start_time": "2023-05-05T07:48:09.417Z"
   },
   {
    "duration": 790,
    "start_time": "2023-05-05T07:48:09.607Z"
   },
   {
    "duration": 41,
    "start_time": "2023-05-05T07:48:10.403Z"
   },
   {
    "duration": 7,
    "start_time": "2023-05-05T07:48:10.446Z"
   },
   {
    "duration": 9,
    "start_time": "2023-05-05T07:48:10.456Z"
   },
   {
    "duration": 39,
    "start_time": "2023-05-05T07:48:10.466Z"
   },
   {
    "duration": 63,
    "start_time": "2023-05-05T07:48:10.507Z"
   },
   {
    "duration": 208,
    "start_time": "2023-05-05T07:48:10.572Z"
   },
   {
    "duration": 2,
    "start_time": "2023-05-05T07:48:10.782Z"
   },
   {
    "duration": 5,
    "start_time": "2023-05-05T07:48:11.284Z"
   },
   {
    "duration": 4,
    "start_time": "2023-05-05T07:48:11.715Z"
   },
   {
    "duration": 5,
    "start_time": "2023-05-05T07:48:11.912Z"
   },
   {
    "duration": 4,
    "start_time": "2023-05-05T07:48:13.822Z"
   },
   {
    "duration": 37842,
    "start_time": "2023-05-05T07:48:13.996Z"
   },
   {
    "duration": 3,
    "start_time": "2023-05-05T07:48:51.840Z"
   },
   {
    "duration": 6,
    "start_time": "2023-05-05T07:48:51.845Z"
   },
   {
    "duration": 4568,
    "start_time": "2023-05-05T07:48:51.853Z"
   },
   {
    "duration": 23,
    "start_time": "2023-05-05T07:48:56.423Z"
   },
   {
    "duration": 3,
    "start_time": "2023-05-05T07:50:01.940Z"
   },
   {
    "duration": 2694,
    "start_time": "2023-05-05T07:50:25.425Z"
   },
   {
    "duration": 15,
    "start_time": "2023-05-05T07:50:34.355Z"
   },
   {
    "duration": 20,
    "start_time": "2023-05-05T07:55:07.429Z"
   },
   {
    "duration": 4405,
    "start_time": "2023-05-05T07:56:08.234Z"
   },
   {
    "duration": 16,
    "start_time": "2023-05-05T07:56:16.474Z"
   },
   {
    "duration": 4,
    "start_time": "2023-05-05T07:57:15.428Z"
   },
   {
    "duration": 944,
    "start_time": "2023-05-05T07:57:15.610Z"
   },
   {
    "duration": 34,
    "start_time": "2023-05-05T07:57:16.557Z"
   },
   {
    "duration": 22,
    "start_time": "2023-05-05T07:57:16.593Z"
   },
   {
    "duration": 12,
    "start_time": "2023-05-05T07:57:16.618Z"
   },
   {
    "duration": 19,
    "start_time": "2023-05-05T07:57:16.632Z"
   },
   {
    "duration": 112,
    "start_time": "2023-05-05T07:57:16.654Z"
   },
   {
    "duration": 266,
    "start_time": "2023-05-05T07:57:16.768Z"
   },
   {
    "duration": 3,
    "start_time": "2023-05-05T07:57:21.123Z"
   },
   {
    "duration": 383,
    "start_time": "2023-05-05T07:57:21.325Z"
   },
   {
    "duration": 4,
    "start_time": "2023-05-05T07:57:21.859Z"
   },
   {
    "duration": 4,
    "start_time": "2023-05-05T07:57:22.212Z"
   },
   {
    "duration": 5,
    "start_time": "2023-05-05T07:57:22.564Z"
   },
   {
    "duration": 57578,
    "start_time": "2023-05-05T07:57:25.454Z"
   },
   {
    "duration": 78,
    "start_time": "2023-05-05T07:58:23.037Z"
   },
   {
    "duration": 253,
    "start_time": "2023-05-05T07:58:23.117Z"
   },
   {
    "duration": 18,
    "start_time": "2023-05-05T07:58:52.427Z"
   },
   {
    "duration": 3,
    "start_time": "2023-05-05T08:04:31.226Z"
   },
   {
    "duration": 198,
    "start_time": "2023-05-05T08:04:44.803Z"
   },
   {
    "duration": 948,
    "start_time": "2023-05-05T08:04:49.057Z"
   },
   {
    "duration": 140,
    "start_time": "2023-05-05T08:04:50.007Z"
   },
   {
    "duration": 395,
    "start_time": "2023-05-05T08:05:10.756Z"
   },
   {
    "duration": 4521,
    "start_time": "2023-05-05T08:05:11.154Z"
   },
   {
    "duration": 56,
    "start_time": "2023-05-05T08:05:15.678Z"
   },
   {
    "duration": 26,
    "start_time": "2023-05-05T08:05:15.738Z"
   },
   {
    "duration": 15,
    "start_time": "2023-05-05T08:05:15.766Z"
   },
   {
    "duration": 36,
    "start_time": "2023-05-05T08:05:15.783Z"
   },
   {
    "duration": 79,
    "start_time": "2023-05-05T08:05:15.820Z"
   },
   {
    "duration": 676,
    "start_time": "2023-05-05T08:05:15.901Z"
   },
   {
    "duration": 1112,
    "start_time": "2023-05-05T08:05:16.578Z"
   },
   {
    "duration": 205,
    "start_time": "2023-05-05T08:05:17.695Z"
   },
   {
    "duration": 5,
    "start_time": "2023-05-05T08:05:17.902Z"
   },
   {
    "duration": 5,
    "start_time": "2023-05-05T08:05:17.912Z"
   },
   {
    "duration": 19,
    "start_time": "2023-05-05T08:05:17.921Z"
   },
   {
    "duration": 49803,
    "start_time": "2023-05-05T08:05:17.942Z"
   },
   {
    "duration": 104,
    "start_time": "2023-05-05T08:06:07.751Z"
   },
   {
    "duration": 231,
    "start_time": "2023-05-05T08:06:07.857Z"
   },
   {
    "duration": 32,
    "start_time": "2023-05-05T08:06:08.100Z"
   },
   {
    "duration": 2,
    "start_time": "2023-05-05T08:06:08.135Z"
   },
   {
    "duration": 5808,
    "start_time": "2023-05-05T08:06:08.139Z"
   },
   {
    "duration": 201,
    "start_time": "2023-05-05T08:06:20.857Z"
   },
   {
    "duration": 96,
    "start_time": "2023-05-05T08:06:51.245Z"
   },
   {
    "duration": 5769,
    "start_time": "2023-05-05T08:11:00.718Z"
   },
   {
    "duration": 90,
    "start_time": "2023-05-05T08:11:17.778Z"
   },
   {
    "duration": 39,
    "start_time": "2023-05-05T08:11:54.030Z"
   },
   {
    "duration": 5673,
    "start_time": "2023-05-05T08:12:50.110Z"
   },
   {
    "duration": 5,
    "start_time": "2023-05-05T08:12:56.986Z"
   },
   {
    "duration": 47,
    "start_time": "2023-05-05T08:17:17.626Z"
   },
   {
    "duration": 5575,
    "start_time": "2023-05-05T08:17:35.222Z"
   },
   {
    "duration": 15,
    "start_time": "2023-05-05T08:17:40.804Z"
   },
   {
    "duration": 5763,
    "start_time": "2023-05-05T08:20:48.017Z"
   },
   {
    "duration": 4,
    "start_time": "2023-05-05T08:21:11.322Z"
   },
   {
    "duration": 3,
    "start_time": "2023-05-05T08:21:12.030Z"
   },
   {
    "duration": 239,
    "start_time": "2023-05-05T08:21:12.967Z"
   },
   {
    "duration": 6,
    "start_time": "2023-05-05T08:21:14.822Z"
   },
   {
    "duration": 7,
    "start_time": "2023-05-05T08:21:15.611Z"
   },
   {
    "duration": 4,
    "start_time": "2023-05-05T08:21:16.227Z"
   },
   {
    "duration": 178,
    "start_time": "2023-05-05T08:21:36.581Z"
   },
   {
    "duration": 4,
    "start_time": "2023-05-05T08:21:36.786Z"
   },
   {
    "duration": 2,
    "start_time": "2023-05-05T08:21:36.976Z"
   },
   {
    "duration": 3,
    "start_time": "2023-05-05T08:21:37.139Z"
   },
   {
    "duration": 293,
    "start_time": "2023-05-05T08:21:37.344Z"
   },
   {
    "duration": 41,
    "start_time": "2023-05-05T08:21:45.130Z"
   },
   {
    "duration": 5,
    "start_time": "2023-05-05T08:21:47.211Z"
   },
   {
    "duration": 27,
    "start_time": "2023-05-05T08:21:47.976Z"
   },
   {
    "duration": 6079,
    "start_time": "2023-05-05T08:21:56.849Z"
   },
   {
    "duration": 4,
    "start_time": "2023-05-05T08:22:02.931Z"
   },
   {
    "duration": 8,
    "start_time": "2023-05-05T08:22:02.937Z"
   },
   {
    "duration": 2,
    "start_time": "2023-05-05T08:22:11.734Z"
   },
   {
    "duration": 519,
    "start_time": "2023-05-05T08:22:12.012Z"
   },
   {
    "duration": 4,
    "start_time": "2023-05-05T08:22:12.765Z"
   },
   {
    "duration": 12,
    "start_time": "2023-05-05T08:22:13.091Z"
   },
   {
    "duration": 4,
    "start_time": "2023-05-05T08:22:13.556Z"
   },
   {
    "duration": 49,
    "start_time": "2023-05-05T08:22:37.610Z"
   },
   {
    "duration": 4,
    "start_time": "2023-05-05T08:22:53.036Z"
   },
   {
    "duration": 6181,
    "start_time": "2023-05-05T08:22:53.571Z"
   },
   {
    "duration": 6113,
    "start_time": "2023-05-05T08:23:06.883Z"
   },
   {
    "duration": 3,
    "start_time": "2023-05-05T08:23:13.001Z"
   },
   {
    "duration": 40,
    "start_time": "2023-05-05T08:23:13.006Z"
   },
   {
    "duration": 811,
    "start_time": "2023-05-05T08:23:13.048Z"
   },
   {
    "duration": 4,
    "start_time": "2023-05-05T08:23:13.861Z"
   },
   {
    "duration": 23,
    "start_time": "2023-05-05T08:23:13.866Z"
   },
   {
    "duration": 24,
    "start_time": "2023-05-05T08:23:13.890Z"
   },
   {
    "duration": 36,
    "start_time": "2023-05-05T08:23:22.922Z"
   },
   {
    "duration": 5,
    "start_time": "2023-05-05T08:23:23.124Z"
   },
   {
    "duration": 6310,
    "start_time": "2023-05-05T08:23:23.348Z"
   },
   {
    "duration": 3,
    "start_time": "2023-05-05T08:23:29.660Z"
   },
   {
    "duration": 7,
    "start_time": "2023-05-05T08:23:29.665Z"
   },
   {
    "duration": 258,
    "start_time": "2023-05-05T08:23:29.675Z"
   },
   {
    "duration": 7,
    "start_time": "2023-05-05T08:23:29.939Z"
   },
   {
    "duration": 10,
    "start_time": "2023-05-05T08:23:29.948Z"
   },
   {
    "duration": 9,
    "start_time": "2023-05-05T08:23:29.960Z"
   },
   {
    "duration": 81,
    "start_time": "2023-05-05T08:38:24.037Z"
   },
   {
    "duration": 3,
    "start_time": "2023-05-05T08:44:14.449Z"
   },
   {
    "duration": 3,
    "start_time": "2023-05-05T08:45:59.074Z"
   },
   {
    "duration": 14,
    "start_time": "2023-05-05T08:45:59.349Z"
   },
   {
    "duration": 3,
    "start_time": "2023-05-05T08:45:59.676Z"
   },
   {
    "duration": 6,
    "start_time": "2023-05-05T08:46:17.419Z"
   },
   {
    "duration": 3,
    "start_time": "2023-05-05T08:46:17.945Z"
   },
   {
    "duration": 3,
    "start_time": "2023-05-05T08:46:18.238Z"
   },
   {
    "duration": 4,
    "start_time": "2023-05-05T08:46:22.457Z"
   },
   {
    "duration": 12227,
    "start_time": "2023-05-05T08:46:24.137Z"
   },
   {
    "duration": 1793,
    "start_time": "2023-05-05T08:47:11.072Z"
   },
   {
    "duration": 2288,
    "start_time": "2023-05-05T08:47:27.228Z"
   },
   {
    "duration": 1548,
    "start_time": "2023-05-05T09:06:45.034Z"
   },
   {
    "duration": 1567,
    "start_time": "2023-05-05T09:06:58.252Z"
   },
   {
    "duration": 1398,
    "start_time": "2023-05-05T09:07:03.676Z"
   },
   {
    "duration": 1450,
    "start_time": "2023-05-05T09:09:18.660Z"
   },
   {
    "duration": 17,
    "start_time": "2023-05-05T09:10:06.618Z"
   },
   {
    "duration": 11,
    "start_time": "2023-05-05T09:10:09.643Z"
   },
   {
    "duration": 7,
    "start_time": "2023-05-05T09:10:18.440Z"
   },
   {
    "duration": 60,
    "start_time": "2023-05-05T09:11:30.684Z"
   },
   {
    "duration": 22,
    "start_time": "2023-05-05T09:11:41.100Z"
   },
   {
    "duration": 530166,
    "start_time": "2023-05-05T09:11:52.223Z"
   },
   {
    "duration": 3,
    "start_time": "2023-05-05T09:20:42.390Z"
   },
   {
    "duration": 3202,
    "start_time": "2023-05-05T09:20:42.395Z"
   },
   {
    "duration": 4,
    "start_time": "2023-05-05T09:20:45.599Z"
   },
   {
    "duration": 8,
    "start_time": "2023-05-05T09:57:47.126Z"
   },
   {
    "duration": 943,
    "start_time": "2023-05-05T09:57:47.388Z"
   },
   {
    "duration": 34,
    "start_time": "2023-05-05T09:58:09.909Z"
   },
   {
    "duration": 101,
    "start_time": "2023-05-05T09:58:18.574Z"
   },
   {
    "duration": 43,
    "start_time": "2023-05-05T09:58:40.918Z"
   },
   {
    "duration": 575509,
    "start_time": "2023-05-05T09:58:44.581Z"
   },
   {
    "duration": 6936,
    "start_time": "2023-05-05T10:08:20.095Z"
   },
   {
    "duration": 4,
    "start_time": "2023-05-05T10:08:27.032Z"
   },
   {
    "duration": 3,
    "start_time": "2023-05-05T10:09:06.339Z"
   },
   {
    "duration": 841,
    "start_time": "2023-05-05T10:09:06.522Z"
   },
   {
    "duration": 52,
    "start_time": "2023-05-05T10:09:07.366Z"
   },
   {
    "duration": 31,
    "start_time": "2023-05-05T10:09:07.420Z"
   },
   {
    "duration": 29,
    "start_time": "2023-05-05T10:09:07.454Z"
   },
   {
    "duration": 48,
    "start_time": "2023-05-05T10:09:07.485Z"
   },
   {
    "duration": 86,
    "start_time": "2023-05-05T10:09:07.592Z"
   },
   {
    "duration": 183,
    "start_time": "2023-05-05T10:09:08.778Z"
   },
   {
    "duration": 6,
    "start_time": "2023-05-05T10:09:09.196Z"
   },
   {
    "duration": 163,
    "start_time": "2023-05-05T10:09:09.408Z"
   },
   {
    "duration": 3,
    "start_time": "2023-05-05T10:09:09.574Z"
   },
   {
    "duration": 3,
    "start_time": "2023-05-05T10:09:10.337Z"
   },
   {
    "duration": 4,
    "start_time": "2023-05-05T10:09:10.540Z"
   },
   {
    "duration": 42164,
    "start_time": "2023-05-05T10:09:10.739Z"
   },
   {
    "duration": 59,
    "start_time": "2023-05-05T10:09:52.907Z"
   },
   {
    "duration": 181,
    "start_time": "2023-05-05T10:09:52.968Z"
   },
   {
    "duration": 17,
    "start_time": "2023-05-05T10:09:53.152Z"
   },
   {
    "duration": 67,
    "start_time": "2023-05-05T10:09:53.172Z"
   },
   {
    "duration": 2,
    "start_time": "2023-05-05T10:09:53.242Z"
   },
   {
    "duration": 15,
    "start_time": "2023-05-05T10:09:53.246Z"
   },
   {
    "duration": 7,
    "start_time": "2023-05-05T10:09:53.263Z"
   },
   {
    "duration": 6,
    "start_time": "2023-05-05T10:09:53.271Z"
   },
   {
    "duration": 29,
    "start_time": "2023-05-05T10:09:53.295Z"
   },
   {
    "duration": 21,
    "start_time": "2023-05-05T10:10:22.292Z"
   },
   {
    "duration": 3,
    "start_time": "2023-05-05T10:10:25.318Z"
   },
   {
    "duration": 13,
    "start_time": "2023-05-05T10:10:25.528Z"
   },
   {
    "duration": 7,
    "start_time": "2023-05-05T10:11:53.016Z"
   },
   {
    "duration": 9,
    "start_time": "2023-05-05T10:11:53.489Z"
   },
   {
    "duration": 3,
    "start_time": "2023-05-05T10:12:07.581Z"
   },
   {
    "duration": 13,
    "start_time": "2023-05-05T10:12:09.267Z"
   },
   {
    "duration": 964,
    "start_time": "2023-05-05T10:13:17.012Z"
   },
   {
    "duration": 786,
    "start_time": "2023-05-05T10:17:41.569Z"
   },
   {
    "duration": 1097,
    "start_time": "2023-05-05T10:17:59.450Z"
   },
   {
    "duration": 10,
    "start_time": "2023-05-05T10:18:41.352Z"
   },
   {
    "duration": 903,
    "start_time": "2023-05-05T10:20:08.825Z"
   },
   {
    "duration": 12181,
    "start_time": "2023-05-05T10:21:13.049Z"
   },
   {
    "duration": 747,
    "start_time": "2023-05-05T10:21:28.990Z"
   },
   {
    "duration": 523267,
    "start_time": "2023-05-05T10:21:52.961Z"
   },
   {
    "duration": 3,
    "start_time": "2023-05-05T10:30:36.230Z"
   },
   {
    "duration": 3482,
    "start_time": "2023-05-05T10:30:36.235Z"
   },
   {
    "duration": 500662,
    "start_time": "2023-05-05T10:31:27.544Z"
   },
   {
    "duration": 2,
    "start_time": "2023-05-05T10:39:48.209Z"
   },
   {
    "duration": 2124,
    "start_time": "2023-05-05T10:39:48.212Z"
   },
   {
    "duration": 537172,
    "start_time": "2023-05-05T10:40:43.344Z"
   },
   {
    "duration": 4,
    "start_time": "2023-05-05T10:49:40.520Z"
   },
   {
    "duration": 3986,
    "start_time": "2023-05-05T10:49:40.525Z"
   },
   {
    "duration": 547026,
    "start_time": "2023-05-05T10:52:26.731Z"
   },
   {
    "duration": 3,
    "start_time": "2023-05-05T11:01:33.760Z"
   },
   {
    "duration": 5037,
    "start_time": "2023-05-05T11:01:33.765Z"
   },
   {
    "duration": 15,
    "start_time": "2023-05-05T11:07:52.145Z"
   },
   {
    "duration": 3,
    "start_time": "2023-05-05T11:15:18.271Z"
   },
   {
    "duration": 757,
    "start_time": "2023-05-05T11:15:18.532Z"
   },
   {
    "duration": 34,
    "start_time": "2023-05-05T11:15:19.292Z"
   },
   {
    "duration": 7,
    "start_time": "2023-05-05T11:15:20.750Z"
   },
   {
    "duration": 8,
    "start_time": "2023-05-05T11:15:22.249Z"
   },
   {
    "duration": 16,
    "start_time": "2023-05-05T11:15:22.464Z"
   },
   {
    "duration": 62,
    "start_time": "2023-05-05T11:15:23.497Z"
   },
   {
    "duration": 177,
    "start_time": "2023-05-05T11:15:23.711Z"
   },
   {
    "duration": 19,
    "start_time": "2023-05-05T11:15:24.906Z"
   },
   {
    "duration": 41,
    "start_time": "2023-05-05T11:29:36.816Z"
   },
   {
    "duration": 4,
    "start_time": "2023-05-05T11:29:37.460Z"
   },
   {
    "duration": 7,
    "start_time": "2023-05-05T11:29:39.780Z"
   },
   {
    "duration": 3,
    "start_time": "2023-05-05T11:29:40.927Z"
   },
   {
    "duration": 3,
    "start_time": "2023-05-05T11:29:41.505Z"
   },
   {
    "duration": 16,
    "start_time": "2023-05-05T11:29:43.133Z"
   },
   {
    "duration": 14,
    "start_time": "2023-05-05T11:30:17.020Z"
   },
   {
    "duration": 8,
    "start_time": "2023-05-05T11:31:19.347Z"
   },
   {
    "duration": 3,
    "start_time": "2023-05-05T11:31:20.125Z"
   },
   {
    "duration": 6,
    "start_time": "2023-05-05T11:31:20.912Z"
   },
   {
    "duration": 20,
    "start_time": "2023-05-05T11:31:21.414Z"
   },
   {
    "duration": 5,
    "start_time": "2023-05-05T11:31:30.319Z"
   },
   {
    "duration": 119,
    "start_time": "2023-05-05T12:04:12.945Z"
   },
   {
    "duration": 57,
    "start_time": "2023-05-05T12:04:18.515Z"
   },
   {
    "duration": 3,
    "start_time": "2023-05-05T12:04:19.882Z"
   },
   {
    "duration": 10150,
    "start_time": "2023-05-05T12:04:20.136Z"
   },
   {
    "duration": 2,
    "start_time": "2023-05-05T12:06:17.077Z"
   },
   {
    "duration": 2,
    "start_time": "2023-05-05T12:06:17.280Z"
   },
   {
    "duration": 298,
    "start_time": "2023-05-05T12:06:18.155Z"
   },
   {
    "duration": 28,
    "start_time": "2023-05-05T12:06:21.907Z"
   },
   {
    "duration": 300,
    "start_time": "2023-05-05T12:06:31.967Z"
   },
   {
    "duration": 16,
    "start_time": "2023-05-05T12:06:32.269Z"
   },
   {
    "duration": 9199,
    "start_time": "2023-05-05T12:07:04.178Z"
   },
   {
    "duration": 3,
    "start_time": "2023-05-05T12:07:15.261Z"
   },
   {
    "duration": 3,
    "start_time": "2023-05-05T12:07:15.828Z"
   },
   {
    "duration": 304,
    "start_time": "2023-05-05T12:07:16.181Z"
   },
   {
    "duration": 17,
    "start_time": "2023-05-05T12:07:20.066Z"
   },
   {
    "duration": 1718,
    "start_time": "2023-05-05T12:09:18.426Z"
   },
   {
    "duration": 10262,
    "start_time": "2023-05-05T12:11:01.484Z"
   },
   {
    "duration": 11,
    "start_time": "2023-05-05T12:11:16.034Z"
   },
   {
    "duration": 3,
    "start_time": "2023-05-05T12:11:16.283Z"
   },
   {
    "duration": 952,
    "start_time": "2023-05-05T12:11:17.476Z"
   },
   {
    "duration": 17,
    "start_time": "2023-05-05T12:11:20.669Z"
   },
   {
    "duration": 11729,
    "start_time": "2023-05-05T12:11:31.114Z"
   },
   {
    "duration": 4,
    "start_time": "2023-05-05T12:11:42.845Z"
   },
   {
    "duration": 22,
    "start_time": "2023-05-05T12:11:42.853Z"
   },
   {
    "duration": 2339,
    "start_time": "2023-05-05T12:11:42.878Z"
   },
   {
    "duration": 30,
    "start_time": "2023-05-05T12:11:45.230Z"
   },
   {
    "duration": 2,
    "start_time": "2023-05-05T12:50:04.293Z"
   },
   {
    "duration": 8466,
    "start_time": "2023-05-05T13:03:10.574Z"
   },
   {
    "duration": 41,
    "start_time": "2023-05-05T13:03:25.219Z"
   },
   {
    "duration": 27,
    "start_time": "2023-05-05T13:04:05.932Z"
   },
   {
    "duration": 3338,
    "start_time": "2023-05-05T13:04:44.427Z"
   },
   {
    "duration": 37,
    "start_time": "2023-05-05T13:04:51.412Z"
   },
   {
    "duration": 410,
    "start_time": "2023-05-05T13:05:04.950Z"
   },
   {
    "duration": 928,
    "start_time": "2023-05-05T13:05:05.362Z"
   },
   {
    "duration": 61,
    "start_time": "2023-05-05T13:05:06.291Z"
   },
   {
    "duration": 13,
    "start_time": "2023-05-05T13:05:06.357Z"
   },
   {
    "duration": 10,
    "start_time": "2023-05-05T13:05:06.372Z"
   },
   {
    "duration": 23,
    "start_time": "2023-05-05T13:05:06.384Z"
   },
   {
    "duration": 109,
    "start_time": "2023-05-05T13:05:06.411Z"
   },
   {
    "duration": 547,
    "start_time": "2023-05-05T13:05:06.521Z"
   },
   {
    "duration": 52,
    "start_time": "2023-05-05T13:05:07.070Z"
   },
   {
    "duration": 833,
    "start_time": "2023-05-05T13:05:07.123Z"
   },
   {
    "duration": 195,
    "start_time": "2023-05-05T13:05:07.958Z"
   },
   {
    "duration": 5,
    "start_time": "2023-05-05T13:05:08.157Z"
   },
   {
    "duration": 4,
    "start_time": "2023-05-05T13:05:08.165Z"
   },
   {
    "duration": 6,
    "start_time": "2023-05-05T13:05:08.174Z"
   },
   {
    "duration": 55292,
    "start_time": "2023-05-05T13:05:08.182Z"
   },
   {
    "duration": 92,
    "start_time": "2023-05-05T13:06:03.477Z"
   },
   {
    "duration": 197,
    "start_time": "2023-05-05T13:06:03.570Z"
   },
   {
    "duration": 3,
    "start_time": "2023-05-05T13:06:03.770Z"
   },
   {
    "duration": 52,
    "start_time": "2023-05-05T13:06:03.774Z"
   },
   {
    "duration": 12,
    "start_time": "2023-05-05T13:06:03.839Z"
   },
   {
    "duration": 2562,
    "start_time": "2023-05-05T13:06:03.856Z"
   },
   {
    "duration": 3571,
    "start_time": "2023-05-05T13:06:06.420Z"
   },
   {
    "duration": 131,
    "start_time": "2023-05-05T13:06:09.998Z"
   },
   {
    "duration": 178,
    "start_time": "2023-05-05T13:06:10.135Z"
   },
   {
    "duration": 0,
    "start_time": "2023-05-05T13:06:10.315Z"
   },
   {
    "duration": 0,
    "start_time": "2023-05-05T13:06:10.316Z"
   },
   {
    "duration": 0,
    "start_time": "2023-05-05T13:06:10.316Z"
   },
   {
    "duration": 0,
    "start_time": "2023-05-05T13:06:10.317Z"
   },
   {
    "duration": 0,
    "start_time": "2023-05-05T13:06:10.324Z"
   },
   {
    "duration": 0,
    "start_time": "2023-05-05T13:06:10.325Z"
   },
   {
    "duration": 0,
    "start_time": "2023-05-05T13:06:10.326Z"
   },
   {
    "duration": 0,
    "start_time": "2023-05-05T13:06:10.327Z"
   },
   {
    "duration": 0,
    "start_time": "2023-05-05T13:06:10.328Z"
   },
   {
    "duration": 0,
    "start_time": "2023-05-05T13:06:10.328Z"
   },
   {
    "duration": 0,
    "start_time": "2023-05-05T13:06:10.329Z"
   },
   {
    "duration": 0,
    "start_time": "2023-05-05T13:06:10.330Z"
   },
   {
    "duration": 0,
    "start_time": "2023-05-05T13:06:10.331Z"
   },
   {
    "duration": 0,
    "start_time": "2023-05-05T13:06:10.332Z"
   },
   {
    "duration": 0,
    "start_time": "2023-05-05T13:06:10.333Z"
   },
   {
    "duration": 0,
    "start_time": "2023-05-05T13:06:10.334Z"
   },
   {
    "duration": 0,
    "start_time": "2023-05-05T13:06:10.339Z"
   },
   {
    "duration": 0,
    "start_time": "2023-05-05T13:06:10.340Z"
   },
   {
    "duration": 0,
    "start_time": "2023-05-05T13:06:10.341Z"
   },
   {
    "duration": 101,
    "start_time": "2023-05-05T13:07:13.983Z"
   },
   {
    "duration": 15,
    "start_time": "2023-05-05T13:07:15.174Z"
   },
   {
    "duration": 13,
    "start_time": "2023-05-05T13:09:15.846Z"
   },
   {
    "duration": 27,
    "start_time": "2023-05-05T13:09:20.442Z"
   },
   {
    "duration": 19,
    "start_time": "2023-05-05T13:10:46.819Z"
   },
   {
    "duration": 9,
    "start_time": "2023-05-05T13:10:57.565Z"
   },
   {
    "duration": 27,
    "start_time": "2023-05-05T13:11:13.855Z"
   },
   {
    "duration": 3,
    "start_time": "2023-05-05T13:17:09.482Z"
   },
   {
    "duration": 5813,
    "start_time": "2023-05-05T13:17:09.777Z"
   },
   {
    "duration": 4,
    "start_time": "2023-05-05T13:17:15.592Z"
   },
   {
    "duration": 56,
    "start_time": "2023-05-05T13:17:15.604Z"
   },
   {
    "duration": 7,
    "start_time": "2023-05-05T13:17:16.537Z"
   },
   {
    "duration": 27,
    "start_time": "2023-05-05T13:17:16.870Z"
   },
   {
    "duration": 30756,
    "start_time": "2023-05-05T13:21:41.528Z"
   },
   {
    "duration": 18,
    "start_time": "2023-05-05T13:22:12.287Z"
   },
   {
    "duration": 8,
    "start_time": "2023-05-05T13:23:19.434Z"
   },
   {
    "duration": 18,
    "start_time": "2023-05-05T13:24:07.574Z"
   },
   {
    "duration": 15,
    "start_time": "2023-05-05T13:24:07.610Z"
   },
   {
    "duration": 11,
    "start_time": "2023-05-05T13:24:07.975Z"
   },
   {
    "duration": 3,
    "start_time": "2023-05-05T13:24:11.065Z"
   },
   {
    "duration": 3,
    "start_time": "2023-05-05T13:24:11.272Z"
   },
   {
    "duration": 2341,
    "start_time": "2023-05-05T13:24:12.141Z"
   },
   {
    "duration": 34,
    "start_time": "2023-05-05T13:24:14.484Z"
   },
   {
    "duration": 5,
    "start_time": "2023-05-05T13:25:00.732Z"
   },
   {
    "duration": 32,
    "start_time": "2023-05-05T13:25:03.689Z"
   },
   {
    "duration": 6143,
    "start_time": "2023-05-05T13:28:20.084Z"
   },
   {
    "duration": 5620,
    "start_time": "2023-05-05T13:28:57.836Z"
   },
   {
    "duration": 3,
    "start_time": "2023-05-05T13:29:03.458Z"
   },
   {
    "duration": 63,
    "start_time": "2023-05-05T13:29:03.463Z"
   },
   {
    "duration": 7,
    "start_time": "2023-05-05T13:29:03.528Z"
   },
   {
    "duration": 39057,
    "start_time": "2023-05-05T13:29:03.537Z"
   },
   {
    "duration": 25,
    "start_time": "2023-05-05T13:29:42.600Z"
   },
   {
    "duration": 16,
    "start_time": "2023-05-05T13:29:42.627Z"
   },
   {
    "duration": 2640,
    "start_time": "2023-05-05T13:29:42.646Z"
   },
   {
    "duration": 27,
    "start_time": "2023-05-05T13:29:45.291Z"
   },
   {
    "duration": 11,
    "start_time": "2023-05-05T13:29:45.320Z"
   },
   {
    "duration": 5408,
    "start_time": "2023-05-05T13:30:22.124Z"
   },
   {
    "duration": 4,
    "start_time": "2023-05-05T13:30:27.535Z"
   },
   {
    "duration": 71,
    "start_time": "2023-05-05T13:30:27.541Z"
   },
   {
    "duration": 9,
    "start_time": "2023-05-05T13:30:27.615Z"
   },
   {
    "duration": 52706,
    "start_time": "2023-05-05T13:30:27.626Z"
   },
   {
    "duration": 9,
    "start_time": "2023-05-05T13:31:20.336Z"
   },
   {
    "duration": 3,
    "start_time": "2023-05-05T13:31:20.347Z"
   },
   {
    "duration": 2924,
    "start_time": "2023-05-05T13:31:20.353Z"
   },
   {
    "duration": 50,
    "start_time": "2023-05-05T13:31:23.280Z"
   },
   {
    "duration": 5848,
    "start_time": "2023-05-05T13:36:17.804Z"
   },
   {
    "duration": 4,
    "start_time": "2023-05-05T13:36:23.654Z"
   },
   {
    "duration": 75,
    "start_time": "2023-05-05T13:36:23.659Z"
   },
   {
    "duration": 8,
    "start_time": "2023-05-05T13:36:23.740Z"
   },
   {
    "duration": 75640,
    "start_time": "2023-05-05T13:36:23.750Z"
   },
   {
    "duration": 23,
    "start_time": "2023-05-05T13:37:39.404Z"
   },
   {
    "duration": 3,
    "start_time": "2023-05-05T13:37:39.429Z"
   },
   {
    "duration": 54203,
    "start_time": "2023-05-05T13:37:39.434Z"
   },
   {
    "duration": 93,
    "start_time": "2023-05-05T13:38:33.645Z"
   },
   {
    "duration": 111,
    "start_time": "2023-05-05T14:01:42.543Z"
   },
   {
    "duration": 13,
    "start_time": "2023-05-05T14:01:47.072Z"
   },
   {
    "duration": 489,
    "start_time": "2023-05-05T14:01:56.619Z"
   },
   {
    "duration": 4,
    "start_time": "2023-05-05T14:01:57.114Z"
   },
   {
    "duration": 4,
    "start_time": "2023-05-05T14:01:58.660Z"
   },
   {
    "duration": 3175,
    "start_time": "2023-05-05T14:01:59.055Z"
   },
   {
    "duration": 1522,
    "start_time": "2023-05-05T14:02:02.232Z"
   },
   {
    "duration": 1513,
    "start_time": "2023-05-05T14:02:23.420Z"
   },
   {
    "duration": 53,
    "start_time": "2023-05-05T14:02:33.944Z"
   },
   {
    "duration": 4647780,
    "start_time": "2023-05-05T14:02:39.955Z"
   },
   {
    "duration": 4,
    "start_time": "2023-05-05T15:20:07.737Z"
   },
   {
    "duration": 5132,
    "start_time": "2023-05-05T15:20:07.743Z"
   },
   {
    "duration": 50,
    "start_time": "2023-05-06T06:20:15.690Z"
   },
   {
    "duration": 6,
    "start_time": "2023-05-06T06:32:19.694Z"
   },
   {
    "duration": 451,
    "start_time": "2023-05-06T06:32:24.693Z"
   },
   {
    "duration": 2260,
    "start_time": "2023-05-06T06:32:25.146Z"
   },
   {
    "duration": 30,
    "start_time": "2023-05-06T06:32:27.408Z"
   },
   {
    "duration": 40,
    "start_time": "2023-05-06T06:32:27.440Z"
   },
   {
    "duration": 10,
    "start_time": "2023-05-06T06:32:27.667Z"
   },
   {
    "duration": 12,
    "start_time": "2023-05-06T06:32:28.945Z"
   },
   {
    "duration": 60,
    "start_time": "2023-05-06T06:32:29.184Z"
   },
   {
    "duration": 579,
    "start_time": "2023-05-06T06:32:29.395Z"
   },
   {
    "duration": 20,
    "start_time": "2023-05-06T06:32:30.293Z"
   },
   {
    "duration": 85,
    "start_time": "2023-05-06T06:32:30.539Z"
   },
   {
    "duration": 1916,
    "start_time": "2023-05-06T06:32:32.126Z"
   },
   {
    "duration": 39,
    "start_time": "2023-05-06T07:08:55.959Z"
   },
   {
    "duration": 903,
    "start_time": "2023-05-06T07:08:59.699Z"
   },
   {
    "duration": 21,
    "start_time": "2023-05-06T07:09:01.469Z"
   },
   {
    "duration": 4,
    "start_time": "2023-05-06T07:09:35.209Z"
   },
   {
    "duration": 6,
    "start_time": "2023-05-06T07:10:24.058Z"
   },
   {
    "duration": 11,
    "start_time": "2023-05-06T07:10:38.569Z"
   },
   {
    "duration": 54,
    "start_time": "2023-05-06T07:11:01.410Z"
   },
   {
    "duration": 50,
    "start_time": "2023-05-06T07:11:05.648Z"
   },
   {
    "duration": 17,
    "start_time": "2023-05-06T07:12:23.487Z"
   },
   {
    "duration": 5,
    "start_time": "2023-05-06T07:12:29.667Z"
   },
   {
    "duration": 365,
    "start_time": "2023-05-06T07:13:23.212Z"
   },
   {
    "duration": 2256,
    "start_time": "2023-05-06T07:13:23.733Z"
   },
   {
    "duration": 25,
    "start_time": "2023-05-06T07:13:25.991Z"
   },
   {
    "duration": 12,
    "start_time": "2023-05-06T07:13:26.018Z"
   },
   {
    "duration": 9,
    "start_time": "2023-05-06T07:13:26.930Z"
   },
   {
    "duration": 11,
    "start_time": "2023-05-06T07:13:27.163Z"
   },
   {
    "duration": 61,
    "start_time": "2023-05-06T07:13:27.399Z"
   },
   {
    "duration": 560,
    "start_time": "2023-05-06T07:13:27.633Z"
   },
   {
    "duration": 20,
    "start_time": "2023-05-06T07:13:29.172Z"
   },
   {
    "duration": 1047,
    "start_time": "2023-05-06T07:13:29.488Z"
   },
   {
    "duration": 235,
    "start_time": "2023-05-06T07:13:32.152Z"
   },
   {
    "duration": 4,
    "start_time": "2023-05-06T07:13:33.971Z"
   },
   {
    "duration": 3,
    "start_time": "2023-05-06T07:13:35.033Z"
   },
   {
    "duration": 4,
    "start_time": "2023-05-06T07:13:35.339Z"
   },
   {
    "duration": 35828,
    "start_time": "2023-05-06T07:13:36.428Z"
   },
   {
    "duration": 126,
    "start_time": "2023-05-06T07:14:12.259Z"
   },
   {
    "duration": 0,
    "start_time": "2023-05-06T07:14:12.387Z"
   },
   {
    "duration": 2,
    "start_time": "2023-05-06T07:14:36.669Z"
   },
   {
    "duration": 18,
    "start_time": "2023-05-06T07:14:39.873Z"
   },
   {
    "duration": 54,
    "start_time": "2023-05-06T07:14:44.084Z"
   },
   {
    "duration": 504944,
    "start_time": "2023-05-06T07:14:46.870Z"
   },
   {
    "duration": 3,
    "start_time": "2023-05-06T07:23:11.816Z"
   },
   {
    "duration": 3816,
    "start_time": "2023-05-06T07:23:11.821Z"
   },
   {
    "duration": 5167,
    "start_time": "2023-05-06T07:24:21.072Z"
   },
   {
    "duration": 3539,
    "start_time": "2023-05-06T07:24:54.598Z"
   },
   {
    "duration": 10,
    "start_time": "2023-05-06T07:27:10.194Z"
   },
   {
    "duration": 455,
    "start_time": "2023-05-06T07:27:21.189Z"
   },
   {
    "duration": 11573,
    "start_time": "2023-05-06T07:27:24.348Z"
   },
   {
    "duration": 31,
    "start_time": "2023-05-06T07:33:14.152Z"
   },
   {
    "duration": 5,
    "start_time": "2023-05-06T07:33:28.075Z"
   },
   {
    "duration": 2111,
    "start_time": "2023-05-06T07:33:42.298Z"
   },
   {
    "duration": 2,
    "start_time": "2023-05-06T07:36:28.820Z"
   },
   {
    "duration": 8,
    "start_time": "2023-05-06T07:36:29.182Z"
   },
   {
    "duration": 28,
    "start_time": "2023-05-06T07:36:59.000Z"
   },
   {
    "duration": 2,
    "start_time": "2023-05-06T07:37:01.245Z"
   },
   {
    "duration": 4618,
    "start_time": "2023-05-06T07:37:02.419Z"
   },
   {
    "duration": 9,
    "start_time": "2023-05-06T07:37:15.649Z"
   },
   {
    "duration": 13,
    "start_time": "2023-05-06T07:37:20.479Z"
   },
   {
    "duration": 11,
    "start_time": "2023-05-06T07:37:29.570Z"
   },
   {
    "duration": 2,
    "start_time": "2023-05-06T07:37:37.592Z"
   },
   {
    "duration": 3,
    "start_time": "2023-05-06T07:37:41.186Z"
   },
   {
    "duration": 8,
    "start_time": "2023-05-06T07:37:47.076Z"
   },
   {
    "duration": 17,
    "start_time": "2023-05-06T07:38:03.139Z"
   },
   {
    "duration": 36,
    "start_time": "2023-05-06T07:40:00.576Z"
   },
   {
    "duration": 3,
    "start_time": "2023-05-06T07:40:03.346Z"
   },
   {
    "duration": 31,
    "start_time": "2023-05-06T07:40:03.557Z"
   },
   {
    "duration": 4570,
    "start_time": "2023-05-06T07:40:03.829Z"
   },
   {
    "duration": 27,
    "start_time": "2023-05-06T07:40:11.108Z"
   },
   {
    "duration": 3,
    "start_time": "2023-05-06T07:40:24.550Z"
   },
   {
    "duration": 16,
    "start_time": "2023-05-06T07:40:27.248Z"
   },
   {
    "duration": 29,
    "start_time": "2023-05-06T07:40:59.662Z"
   },
   {
    "duration": 4538,
    "start_time": "2023-05-06T07:40:59.869Z"
   },
   {
    "duration": 52344,
    "start_time": "2023-05-06T07:41:13.143Z"
   },
   {
    "duration": 23,
    "start_time": "2023-05-06T07:42:05.489Z"
   },
   {
    "duration": 19,
    "start_time": "2023-05-06T07:42:21.013Z"
   },
   {
    "duration": 3,
    "start_time": "2023-05-06T07:44:36.658Z"
   },
   {
    "duration": 65282,
    "start_time": "2023-05-06T07:44:38.207Z"
   },
   {
    "duration": 109,
    "start_time": "2023-05-06T07:45:43.491Z"
   },
   {
    "duration": 16,
    "start_time": "2023-05-06T07:46:49.439Z"
   },
   {
    "duration": 2491006,
    "start_time": "2023-05-06T07:47:14.728Z"
   },
   {
    "duration": 1065,
    "start_time": "2023-05-06T08:29:51.069Z"
   },
   {
    "duration": 15,
    "start_time": "2023-05-06T09:02:23.156Z"
   },
   {
    "duration": 196,
    "start_time": "2023-05-06T09:03:49.097Z"
   },
   {
    "duration": 1809,
    "start_time": "2023-05-06T09:10:31.870Z"
   },
   {
    "duration": 3,
    "start_time": "2023-05-06T09:10:53.613Z"
   },
   {
    "duration": 389,
    "start_time": "2023-05-06T09:11:06.139Z"
   },
   {
    "duration": 974,
    "start_time": "2023-05-06T09:11:06.530Z"
   },
   {
    "duration": 35,
    "start_time": "2023-05-06T09:11:07.506Z"
   },
   {
    "duration": 13,
    "start_time": "2023-05-06T09:11:08.011Z"
   },
   {
    "duration": 9,
    "start_time": "2023-05-06T09:11:08.240Z"
   },
   {
    "duration": 12,
    "start_time": "2023-05-06T09:11:08.453Z"
   },
   {
    "duration": 67,
    "start_time": "2023-05-06T09:11:08.706Z"
   },
   {
    "duration": 553,
    "start_time": "2023-05-06T09:11:09.613Z"
   },
   {
    "duration": 42,
    "start_time": "2023-05-06T09:11:10.168Z"
   },
   {
    "duration": 1040,
    "start_time": "2023-05-06T09:11:10.213Z"
   },
   {
    "duration": 257,
    "start_time": "2023-05-06T09:11:12.247Z"
   },
   {
    "duration": 5,
    "start_time": "2023-05-06T09:11:14.690Z"
   },
   {
    "duration": 3,
    "start_time": "2023-05-06T09:11:14.948Z"
   },
   {
    "duration": 4,
    "start_time": "2023-05-06T09:11:15.152Z"
   },
   {
    "duration": 1474,
    "start_time": "2023-05-06T09:11:15.361Z"
   },
   {
    "duration": 156,
    "start_time": "2023-05-06T09:11:18.945Z"
   },
   {
    "duration": 10,
    "start_time": "2023-05-06T09:11:38.212Z"
   },
   {
    "duration": 6,
    "start_time": "2023-05-06T09:22:42.552Z"
   },
   {
    "duration": 57,
    "start_time": "2023-05-06T09:28:09.001Z"
   },
   {
    "duration": 397,
    "start_time": "2023-05-06T09:43:20.415Z"
   },
   {
    "duration": 8,
    "start_time": "2023-05-06T09:43:24.649Z"
   },
   {
    "duration": 51076,
    "start_time": "2023-05-06T09:44:25.863Z"
   },
   {
    "duration": 14,
    "start_time": "2023-05-06T09:46:05.119Z"
   },
   {
    "duration": 59,
    "start_time": "2023-05-06T09:46:25.060Z"
   },
   {
    "duration": 21,
    "start_time": "2023-05-06T09:46:29.215Z"
   },
   {
    "duration": 14,
    "start_time": "2023-05-06T09:48:42.385Z"
   },
   {
    "duration": 2,
    "start_time": "2023-05-06T09:48:45.365Z"
   },
   {
    "duration": 47,
    "start_time": "2023-05-06T09:48:45.663Z"
   },
   {
    "duration": 3,
    "start_time": "2023-05-06T09:48:54.259Z"
   },
   {
    "duration": 884,
    "start_time": "2023-05-06T09:48:54.459Z"
   },
   {
    "duration": 45,
    "start_time": "2023-05-06T09:48:55.344Z"
   },
   {
    "duration": 8,
    "start_time": "2023-05-06T09:48:55.394Z"
   },
   {
    "duration": 10,
    "start_time": "2023-05-06T09:48:55.890Z"
   },
   {
    "duration": 14,
    "start_time": "2023-05-06T09:48:56.061Z"
   },
   {
    "duration": 76,
    "start_time": "2023-05-06T09:48:56.252Z"
   },
   {
    "duration": 186,
    "start_time": "2023-05-06T09:48:56.465Z"
   },
   {
    "duration": 16,
    "start_time": "2023-05-06T09:48:57.046Z"
   },
   {
    "duration": 3,
    "start_time": "2023-05-06T09:48:57.241Z"
   },
   {
    "duration": 5,
    "start_time": "2023-05-06T09:48:57.424Z"
   },
   {
    "duration": 6,
    "start_time": "2023-05-06T09:48:59.981Z"
   },
   {
    "duration": 5,
    "start_time": "2023-05-06T09:49:00.192Z"
   },
   {
    "duration": 5,
    "start_time": "2023-05-06T09:49:00.559Z"
   },
   {
    "duration": 284,
    "start_time": "2023-05-06T09:49:03.847Z"
   },
   {
    "duration": 51458,
    "start_time": "2023-05-06T09:49:04.133Z"
   },
   {
    "duration": 42869,
    "start_time": "2023-05-06T09:49:55.593Z"
   },
   {
    "duration": 81,
    "start_time": "2023-05-06T09:50:38.465Z"
   },
   {
    "duration": 219,
    "start_time": "2023-05-06T09:50:38.549Z"
   },
   {
    "duration": 34,
    "start_time": "2023-05-06T09:50:38.770Z"
   },
   {
    "duration": 27,
    "start_time": "2023-05-06T09:50:38.807Z"
   },
   {
    "duration": 73,
    "start_time": "2023-05-06T09:50:38.836Z"
   },
   {
    "duration": 15,
    "start_time": "2023-05-06T09:50:38.911Z"
   },
   {
    "duration": 0,
    "start_time": "2023-05-06T09:50:38.928Z"
   },
   {
    "duration": 60,
    "start_time": "2023-05-06T09:51:24.469Z"
   },
   {
    "duration": 1933,
    "start_time": "2023-05-06T09:51:27.710Z"
   },
   {
    "duration": 524913,
    "start_time": "2023-05-06T09:51:52.938Z"
   },
   {
    "duration": 3653,
    "start_time": "2023-05-06T10:00:37.853Z"
   },
   {
    "duration": 2,
    "start_time": "2023-05-06T10:14:40.308Z"
   },
   {
    "duration": 808,
    "start_time": "2023-05-06T10:14:40.617Z"
   },
   {
    "duration": 30,
    "start_time": "2023-05-06T10:14:41.427Z"
   },
   {
    "duration": 8,
    "start_time": "2023-05-06T10:14:42.578Z"
   },
   {
    "duration": 7,
    "start_time": "2023-05-06T10:14:42.853Z"
   },
   {
    "duration": 12,
    "start_time": "2023-05-06T10:14:43.125Z"
   },
   {
    "duration": 73,
    "start_time": "2023-05-06T10:14:44.669Z"
   },
   {
    "duration": 302,
    "start_time": "2023-05-06T10:15:39.719Z"
   },
   {
    "duration": 51796,
    "start_time": "2023-05-06T10:15:40.862Z"
   },
   {
    "duration": 51,
    "start_time": "2023-05-06T10:16:32.660Z"
   },
   {
    "duration": 540730,
    "start_time": "2023-05-06T10:16:41.425Z"
   },
   {
    "duration": 6751,
    "start_time": "2023-05-06T10:25:42.157Z"
   },
   {
    "duration": 56,
    "start_time": "2023-05-06T10:56:36.974Z"
   },
   {
    "duration": 54,
    "start_time": "2023-05-06T11:01:06.219Z"
   },
   {
    "duration": 6,
    "start_time": "2023-05-06T11:01:26.005Z"
   },
   {
    "duration": 1680,
    "start_time": "2023-05-06T11:05:19.579Z"
   },
   {
    "duration": 958,
    "start_time": "2023-05-06T11:05:21.678Z"
   },
   {
    "duration": 42,
    "start_time": "2023-05-06T11:05:24.757Z"
   },
   {
    "duration": 7,
    "start_time": "2023-05-06T11:05:28.163Z"
   },
   {
    "duration": 9,
    "start_time": "2023-05-06T11:05:28.508Z"
   },
   {
    "duration": 11,
    "start_time": "2023-05-06T11:05:29.411Z"
   },
   {
    "duration": 62,
    "start_time": "2023-05-06T11:05:31.626Z"
   },
   {
    "duration": 497,
    "start_time": "2023-05-06T11:05:32.515Z"
   },
   {
    "duration": 21,
    "start_time": "2023-05-06T11:05:33.014Z"
   },
   {
    "duration": 4,
    "start_time": "2023-05-06T11:05:34.555Z"
   },
   {
    "duration": 3,
    "start_time": "2023-05-06T11:05:36.105Z"
   },
   {
    "duration": 4,
    "start_time": "2023-05-06T11:05:37.118Z"
   },
   {
    "duration": 327,
    "start_time": "2023-05-06T11:05:43.115Z"
   },
   {
    "duration": 51798,
    "start_time": "2023-05-06T11:05:52.809Z"
   },
   {
    "duration": 380,
    "start_time": "2023-05-06T11:06:44.612Z"
   },
   {
    "duration": 0,
    "start_time": "2023-05-06T11:06:45.000Z"
   },
   {
    "duration": 8,
    "start_time": "2023-05-06T11:08:08.117Z"
   },
   {
    "duration": 103535,
    "start_time": "2023-05-06T11:08:13.416Z"
   },
   {
    "duration": 185,
    "start_time": "2023-05-06T11:13:11.238Z"
   },
   {
    "duration": 16,
    "start_time": "2023-05-06T11:13:30.118Z"
   },
   {
    "duration": 12,
    "start_time": "2023-05-06T11:15:34.112Z"
   },
   {
    "duration": 6,
    "start_time": "2023-05-06T11:15:40.251Z"
   },
   {
    "duration": 54,
    "start_time": "2023-05-06T11:15:48.796Z"
   },
   {
    "duration": 59,
    "start_time": "2023-05-06T11:17:22.365Z"
   },
   {
    "duration": 38,
    "start_time": "2023-05-06T11:17:34.558Z"
   },
   {
    "duration": 5246,
    "start_time": "2023-05-06T11:17:38.417Z"
   },
   {
    "duration": 6,
    "start_time": "2023-05-06T11:22:16.921Z"
   },
   {
    "duration": 28,
    "start_time": "2023-05-06T11:24:53.339Z"
   },
   {
    "duration": 3596,
    "start_time": "2023-05-06T11:24:55.920Z"
   },
   {
    "duration": 3,
    "start_time": "2023-05-06T11:25:04.514Z"
   },
   {
    "duration": 10,
    "start_time": "2023-05-06T11:25:07.708Z"
   },
   {
    "duration": 101396,
    "start_time": "2023-05-06T11:25:19.138Z"
   },
   {
    "duration": 13,
    "start_time": "2023-05-06T11:27:00.536Z"
   },
   {
    "duration": 10,
    "start_time": "2023-05-06T11:27:33.751Z"
   },
   {
    "duration": 24,
    "start_time": "2023-05-06T11:27:49.616Z"
   },
   {
    "duration": 2,
    "start_time": "2023-05-06T11:29:09.550Z"
   },
   {
    "duration": 99689,
    "start_time": "2023-05-06T11:29:09.743Z"
   },
   {
    "duration": 22,
    "start_time": "2023-05-06T11:30:49.435Z"
   },
   {
    "duration": 20,
    "start_time": "2023-05-06T11:31:46.314Z"
   },
   {
    "duration": 34,
    "start_time": "2023-05-06T11:32:09.109Z"
   },
   {
    "duration": 6,
    "start_time": "2023-05-06T11:32:09.695Z"
   },
   {
    "duration": 4679,
    "start_time": "2023-05-06T11:32:19.851Z"
   },
   {
    "duration": 3,
    "start_time": "2023-05-06T11:32:29.939Z"
   },
   {
    "duration": 81115,
    "start_time": "2023-05-06T11:32:31.872Z"
   },
   {
    "duration": 114,
    "start_time": "2023-05-06T11:33:52.993Z"
   },
   {
    "duration": 3,
    "start_time": "2023-05-06T11:48:42.172Z"
   },
   {
    "duration": 4,
    "start_time": "2023-05-06T11:50:53.447Z"
   },
   {
    "duration": 3,
    "start_time": "2023-05-06T11:50:53.696Z"
   },
   {
    "duration": 217661,
    "start_time": "2023-05-06T11:50:55.633Z"
   },
   {
    "duration": 5,
    "start_time": "2023-05-06T11:54:33.296Z"
   },
   {
    "duration": 10,
    "start_time": "2023-05-06T11:55:05.457Z"
   },
   {
    "duration": 195,
    "start_time": "2023-05-06T11:55:14.310Z"
   },
   {
    "duration": 510631,
    "start_time": "2023-05-06T11:55:19.900Z"
   },
   {
    "duration": 3134,
    "start_time": "2023-05-06T12:04:07.426Z"
   },
   {
    "duration": 17,
    "start_time": "2023-05-06T12:13:54.793Z"
   },
   {
    "duration": 76,
    "start_time": "2023-05-06T12:14:28.141Z"
   },
   {
    "duration": 48,
    "start_time": "2023-05-06T12:24:49.112Z"
   },
   {
    "duration": 2001,
    "start_time": "2023-05-06T12:25:03.215Z"
   },
   {
    "duration": 11,
    "start_time": "2023-05-06T12:25:49.993Z"
   },
   {
    "duration": 46,
    "start_time": "2023-05-06T12:26:07.562Z"
   },
   {
    "duration": 33688,
    "start_time": "2023-05-06T12:27:24.436Z"
   },
   {
    "duration": 86,
    "start_time": "2023-05-06T12:29:09.005Z"
   },
   {
    "duration": 706,
    "start_time": "2023-05-06T12:29:29.055Z"
   },
   {
    "duration": 35067,
    "start_time": "2023-05-06T12:29:41.576Z"
   },
   {
    "duration": 615,
    "start_time": "2023-05-06T12:32:24.726Z"
   },
   {
    "duration": 876,
    "start_time": "2023-05-06T12:39:35.624Z"
   },
   {
    "duration": 18,
    "start_time": "2023-05-06T12:42:31.532Z"
   },
   {
    "duration": 777663,
    "start_time": "2023-05-06T12:42:32.568Z"
   },
   {
    "duration": 5,
    "start_time": "2023-05-06T12:59:12.008Z"
   },
   {
    "duration": 16,
    "start_time": "2023-05-06T13:01:35.230Z"
   },
   {
    "duration": 2328906,
    "start_time": "2023-05-06T13:01:44.371Z"
   },
   {
    "duration": 1053,
    "start_time": "2023-05-06T13:41:31.112Z"
   },
   {
    "duration": 18,
    "start_time": "2023-05-06T13:45:25.458Z"
   },
   {
    "duration": 90382,
    "start_time": "2023-05-06T13:49:01.010Z"
   },
   {
    "duration": 22,
    "start_time": "2023-05-06T13:50:31.483Z"
   },
   {
    "duration": 4,
    "start_time": "2023-05-06T13:53:19.203Z"
   },
   {
    "duration": 313,
    "start_time": "2023-05-06T13:53:29.874Z"
   },
   {
    "duration": 342,
    "start_time": "2023-05-06T13:55:07.279Z"
   },
   {
    "duration": 391,
    "start_time": "2023-05-06T13:55:21.277Z"
   },
   {
    "duration": 11,
    "start_time": "2023-05-06T14:09:53.734Z"
   },
   {
    "duration": 10,
    "start_time": "2023-05-06T14:10:06.683Z"
   },
   {
    "duration": 3,
    "start_time": "2023-05-06T14:10:10.336Z"
   },
   {
    "duration": 3,
    "start_time": "2023-05-06T14:14:21.881Z"
   },
   {
    "duration": 54504,
    "start_time": "2023-05-06T14:14:25.988Z"
   },
   {
    "duration": 28,
    "start_time": "2023-05-06T14:15:33.432Z"
   },
   {
    "duration": 4904,
    "start_time": "2023-05-06T14:15:33.779Z"
   },
   {
    "duration": 80823,
    "start_time": "2023-05-06T14:15:59.564Z"
   },
   {
    "duration": 22,
    "start_time": "2023-05-06T14:17:20.390Z"
   },
   {
    "duration": 3,
    "start_time": "2023-05-06T14:19:36.185Z"
   },
   {
    "duration": 36180,
    "start_time": "2023-05-06T14:19:47.612Z"
   },
   {
    "duration": 29,
    "start_time": "2023-05-06T14:20:23.795Z"
   },
   {
    "duration": 4819,
    "start_time": "2023-05-06T14:20:23.826Z"
   },
   {
    "duration": 78241,
    "start_time": "2023-05-06T14:20:28.647Z"
   },
   {
    "duration": 110,
    "start_time": "2023-05-06T14:21:46.890Z"
   },
   {
    "duration": 2709,
    "start_time": "2023-05-06T14:24:50.815Z"
   },
   {
    "duration": 4,
    "start_time": "2023-05-06T14:24:59.689Z"
   },
   {
    "duration": 1494033,
    "start_time": "2023-05-06T14:25:23.651Z"
   },
   {
    "duration": 29,
    "start_time": "2023-05-06T14:50:17.687Z"
   },
   {
    "duration": 4270,
    "start_time": "2023-05-06T14:50:17.717Z"
   },
   {
    "duration": 64697,
    "start_time": "2023-05-06T14:50:21.989Z"
   },
   {
    "duration": 106,
    "start_time": "2023-05-06T14:51:26.688Z"
   },
   {
    "duration": 4,
    "start_time": "2023-05-06T15:00:02.892Z"
   },
   {
    "duration": 32205,
    "start_time": "2023-05-06T15:00:04.486Z"
   },
   {
    "duration": 24,
    "start_time": "2023-05-06T15:00:36.693Z"
   },
   {
    "duration": 3997,
    "start_time": "2023-05-06T15:00:36.718Z"
   },
   {
    "duration": 65468,
    "start_time": "2023-05-06T15:00:40.717Z"
   },
   {
    "duration": 20,
    "start_time": "2023-05-06T15:01:46.186Z"
   },
   {
    "duration": 809,
    "start_time": "2023-05-06T15:53:13.851Z"
   },
   {
    "duration": 2049369,
    "start_time": "2023-05-06T15:53:35.783Z"
   },
   {
    "duration": 870,
    "start_time": "2023-05-06T16:27:45.154Z"
   },
   {
    "duration": 2168,
    "start_time": "2023-05-07T04:39:04.948Z"
   },
   {
    "duration": 2856,
    "start_time": "2023-05-07T04:39:07.119Z"
   },
   {
    "duration": 29,
    "start_time": "2023-05-07T04:39:09.977Z"
   },
   {
    "duration": 17,
    "start_time": "2023-05-07T04:39:33.008Z"
   },
   {
    "duration": 9,
    "start_time": "2023-05-07T04:39:34.620Z"
   },
   {
    "duration": 15,
    "start_time": "2023-05-07T04:39:37.345Z"
   },
   {
    "duration": 22,
    "start_time": "2023-05-07T04:39:39.236Z"
   },
   {
    "duration": 8,
    "start_time": "2023-05-07T04:39:46.054Z"
   },
   {
    "duration": 753,
    "start_time": "2023-05-07T04:39:47.268Z"
   },
   {
    "duration": 16,
    "start_time": "2023-05-07T04:39:51.961Z"
   },
   {
    "duration": 6,
    "start_time": "2023-05-07T04:39:54.809Z"
   },
   {
    "duration": 4,
    "start_time": "2023-05-07T04:39:55.591Z"
   },
   {
    "duration": 6,
    "start_time": "2023-05-07T04:40:00.799Z"
   },
   {
    "duration": 4610,
    "start_time": "2023-05-07T04:40:27.967Z"
   },
   {
    "duration": 304,
    "start_time": "2023-05-07T04:40:33.900Z"
   },
   {
    "duration": 996,
    "start_time": "2023-05-07T04:40:34.207Z"
   },
   {
    "duration": 13,
    "start_time": "2023-05-07T04:40:38.581Z"
   },
   {
    "duration": 8,
    "start_time": "2023-05-07T04:40:56.428Z"
   },
   {
    "duration": 11,
    "start_time": "2023-05-07T04:41:40.843Z"
   },
   {
    "duration": 6,
    "start_time": "2023-05-07T05:39:07.532Z"
   },
   {
    "duration": 229,
    "start_time": "2023-05-07T05:39:10.098Z"
   },
   {
    "duration": 4,
    "start_time": "2023-05-07T05:39:14.901Z"
   },
   {
    "duration": 4,
    "start_time": "2023-05-07T05:42:50.494Z"
   },
   {
    "duration": 6,
    "start_time": "2023-05-07T05:42:52.455Z"
   },
   {
    "duration": 6,
    "start_time": "2023-05-07T05:42:53.662Z"
   },
   {
    "duration": 115790,
    "start_time": "2023-05-07T05:42:54.965Z"
   },
   {
    "duration": 154,
    "start_time": "2023-05-07T05:47:46.858Z"
   },
   {
    "duration": 6,
    "start_time": "2023-05-07T05:48:00.637Z"
   },
   {
    "duration": 8,
    "start_time": "2023-05-07T05:48:21.574Z"
   },
   {
    "duration": 3,
    "start_time": "2023-05-07T05:59:43.218Z"
   },
   {
    "duration": 8,
    "start_time": "2023-05-07T06:00:26.462Z"
   },
   {
    "duration": 2,
    "start_time": "2023-05-07T06:00:27.623Z"
   },
   {
    "duration": 4,
    "start_time": "2023-05-07T06:00:28.086Z"
   },
   {
    "duration": 181761,
    "start_time": "2023-05-07T06:00:30.295Z"
   },
   {
    "duration": 246,
    "start_time": "2023-05-07T06:04:07.463Z"
   },
   {
    "duration": 87,
    "start_time": "2023-05-07T06:04:39.666Z"
   },
   {
    "duration": 35,
    "start_time": "2023-05-07T06:06:48.438Z"
   },
   {
    "duration": 7,
    "start_time": "2023-05-07T06:07:02.275Z"
   },
   {
    "duration": 144,
    "start_time": "2023-05-07T06:07:12.878Z"
   },
   {
    "duration": 79,
    "start_time": "2023-05-07T06:07:18.273Z"
   },
   {
    "duration": 77,
    "start_time": "2023-05-07T06:08:41.384Z"
   },
   {
    "duration": 80,
    "start_time": "2023-05-07T06:10:17.485Z"
   },
   {
    "duration": 15,
    "start_time": "2023-05-07T06:11:18.153Z"
   },
   {
    "duration": 907,
    "start_time": "2023-05-07T06:11:18.383Z"
   },
   {
    "duration": 25,
    "start_time": "2023-05-07T06:11:33.506Z"
   },
   {
    "duration": 26,
    "start_time": "2023-05-07T06:11:35.432Z"
   },
   {
    "duration": 30,
    "start_time": "2023-05-07T06:11:43.165Z"
   },
   {
    "duration": 3,
    "start_time": "2023-05-07T06:11:45.709Z"
   },
   {
    "duration": 3,
    "start_time": "2023-05-07T06:11:48.504Z"
   },
   {
    "duration": 4,
    "start_time": "2023-05-07T06:11:48.805Z"
   },
   {
    "duration": 22825,
    "start_time": "2023-05-07T06:11:59.797Z"
   },
   {
    "duration": 21,
    "start_time": "2023-05-07T06:12:22.625Z"
   },
   {
    "duration": 545415,
    "start_time": "2023-05-07T06:12:22.647Z"
   },
   {
    "duration": 32,
    "start_time": "2023-05-07T06:24:49.969Z"
   },
   {
    "duration": 7,
    "start_time": "2023-05-07T06:25:00.233Z"
   },
   {
    "duration": 5,
    "start_time": "2023-05-07T06:30:38.185Z"
   },
   {
    "duration": 14,
    "start_time": "2023-05-07T06:49:28.576Z"
   },
   {
    "duration": 1670,
    "start_time": "2023-05-07T06:56:15.974Z"
   },
   {
    "duration": 944,
    "start_time": "2023-05-07T06:56:17.646Z"
   },
   {
    "duration": 2,
    "start_time": "2023-05-07T06:56:18.592Z"
   },
   {
    "duration": 32,
    "start_time": "2023-05-07T06:56:18.595Z"
   },
   {
    "duration": 11,
    "start_time": "2023-05-07T06:56:18.637Z"
   },
   {
    "duration": 47,
    "start_time": "2023-05-07T06:56:18.651Z"
   },
   {
    "duration": 26,
    "start_time": "2023-05-07T06:56:18.700Z"
   },
   {
    "duration": 90,
    "start_time": "2023-05-07T06:56:18.727Z"
   },
   {
    "duration": 448,
    "start_time": "2023-05-07T06:56:18.818Z"
   },
   {
    "duration": 23,
    "start_time": "2023-05-07T06:56:19.267Z"
   },
   {
    "duration": 21,
    "start_time": "2023-05-07T06:56:19.292Z"
   },
   {
    "duration": 7,
    "start_time": "2023-05-07T06:56:19.316Z"
   },
   {
    "duration": 14,
    "start_time": "2023-05-07T06:56:19.324Z"
   },
   {
    "duration": 51,
    "start_time": "2023-05-07T06:56:19.347Z"
   },
   {
    "duration": 107381,
    "start_time": "2023-05-07T06:56:19.400Z"
   },
   {
    "duration": 352,
    "start_time": "2023-05-07T06:58:06.788Z"
   },
   {
    "duration": 30790,
    "start_time": "2023-05-07T06:58:07.143Z"
   },
   {
    "duration": 14,
    "start_time": "2023-05-07T06:58:37.934Z"
   },
   {
    "duration": 72,
    "start_time": "2023-05-07T06:58:37.950Z"
   },
   {
    "duration": 33,
    "start_time": "2023-05-07T06:58:38.024Z"
   },
   {
    "duration": 27,
    "start_time": "2023-05-07T06:58:38.059Z"
   },
   {
    "duration": 13,
    "start_time": "2023-05-07T06:58:38.087Z"
   },
   {
    "duration": 11,
    "start_time": "2023-05-07T06:58:38.102Z"
   },
   {
    "duration": 16,
    "start_time": "2023-05-07T06:58:38.115Z"
   },
   {
    "duration": 45,
    "start_time": "2023-05-07T06:58:38.132Z"
   },
   {
    "duration": 10,
    "start_time": "2023-05-07T06:58:38.187Z"
   },
   {
    "duration": 7,
    "start_time": "2023-05-07T06:58:38.199Z"
   },
   {
    "duration": 1549482,
    "start_time": "2023-05-07T06:58:38.208Z"
   },
   {
    "duration": 8,
    "start_time": "2023-05-07T07:24:27.745Z"
   },
   {
    "duration": 42,
    "start_time": "2023-05-07T07:24:27.760Z"
   },
   {
    "duration": 16,
    "start_time": "2023-05-07T07:24:27.803Z"
   },
   {
    "duration": 58,
    "start_time": "2023-05-07T07:24:27.820Z"
   },
   {
    "duration": 11,
    "start_time": "2023-05-07T07:24:27.879Z"
   },
   {
    "duration": 13,
    "start_time": "2023-05-07T07:24:27.891Z"
   },
   {
    "duration": 152,
    "start_time": "2023-05-07T07:24:27.905Z"
   },
   {
    "duration": 0,
    "start_time": "2023-05-07T07:24:28.059Z"
   },
   {
    "duration": 0,
    "start_time": "2023-05-07T07:24:28.060Z"
   },
   {
    "duration": 0,
    "start_time": "2023-05-07T07:24:28.061Z"
   },
   {
    "duration": 0,
    "start_time": "2023-05-07T07:24:28.061Z"
   },
   {
    "duration": 0,
    "start_time": "2023-05-07T07:24:28.062Z"
   },
   {
    "duration": 0,
    "start_time": "2023-05-07T07:24:28.063Z"
   },
   {
    "duration": 0,
    "start_time": "2023-05-07T07:24:28.064Z"
   },
   {
    "duration": 0,
    "start_time": "2023-05-07T07:24:28.065Z"
   },
   {
    "duration": 0,
    "start_time": "2023-05-07T07:24:28.065Z"
   },
   {
    "duration": 115,
    "start_time": "2023-05-07T07:50:46.953Z"
   },
   {
    "duration": 2680,
    "start_time": "2023-05-07T07:53:12.384Z"
   },
   {
    "duration": 416,
    "start_time": "2023-05-07T07:53:25.482Z"
   },
   {
    "duration": 1634,
    "start_time": "2023-05-07T07:53:41.579Z"
   },
   {
    "duration": 991,
    "start_time": "2023-05-07T07:53:43.215Z"
   },
   {
    "duration": 3,
    "start_time": "2023-05-07T07:53:44.208Z"
   },
   {
    "duration": 85,
    "start_time": "2023-05-07T07:53:44.213Z"
   },
   {
    "duration": 10,
    "start_time": "2023-05-07T07:53:44.300Z"
   },
   {
    "duration": 11,
    "start_time": "2023-05-07T07:53:44.312Z"
   },
   {
    "duration": 17,
    "start_time": "2023-05-07T07:53:44.325Z"
   },
   {
    "duration": 124,
    "start_time": "2023-05-07T07:53:44.344Z"
   },
   {
    "duration": 529,
    "start_time": "2023-05-07T07:53:44.470Z"
   },
   {
    "duration": 21,
    "start_time": "2023-05-07T07:53:45.002Z"
   },
   {
    "duration": 35,
    "start_time": "2023-05-07T07:53:45.025Z"
   },
   {
    "duration": 24,
    "start_time": "2023-05-07T07:53:45.061Z"
   },
   {
    "duration": 11,
    "start_time": "2023-05-07T07:53:45.087Z"
   },
   {
    "duration": 7,
    "start_time": "2023-05-07T07:53:45.100Z"
   },
   {
    "duration": 113829,
    "start_time": "2023-05-07T07:53:45.980Z"
   },
   {
    "duration": 368,
    "start_time": "2023-05-07T07:55:39.812Z"
   },
   {
    "duration": 33107,
    "start_time": "2023-05-07T07:55:40.182Z"
   },
   {
    "duration": 15,
    "start_time": "2023-05-07T07:56:13.295Z"
   },
   {
    "duration": 75,
    "start_time": "2023-05-07T07:56:13.312Z"
   },
   {
    "duration": 33,
    "start_time": "2023-05-07T07:56:13.389Z"
   },
   {
    "duration": 3,
    "start_time": "2023-05-07T07:56:13.424Z"
   },
   {
    "duration": 58,
    "start_time": "2023-05-07T07:56:13.429Z"
   },
   {
    "duration": 11,
    "start_time": "2023-05-07T07:56:13.489Z"
   },
   {
    "duration": 10,
    "start_time": "2023-05-07T07:56:13.502Z"
   },
   {
    "duration": 11,
    "start_time": "2023-05-07T07:56:13.513Z"
   },
   {
    "duration": 5,
    "start_time": "2023-05-07T07:56:13.526Z"
   },
   {
    "duration": 57,
    "start_time": "2023-05-07T07:56:13.532Z"
   },
   {
    "duration": 2506,
    "start_time": "2023-05-07T07:56:13.591Z"
   },
   {
    "duration": 375,
    "start_time": "2023-05-07T07:56:16.100Z"
   },
   {
    "duration": 396,
    "start_time": "2023-05-07T07:56:44.303Z"
   },
   {
    "duration": 70,
    "start_time": "2023-05-07T07:56:46.079Z"
   },
   {
    "duration": 3,
    "start_time": "2023-05-07T07:57:56.748Z"
   },
   {
    "duration": 141,
    "start_time": "2023-05-07T07:57:57.669Z"
   },
   {
    "duration": 449,
    "start_time": "2023-05-07T08:03:10.055Z"
   },
   {
    "duration": 5191086,
    "start_time": "2023-05-07T08:03:53.833Z"
   },
   {
    "duration": 24,
    "start_time": "2023-05-07T09:35:28.413Z"
   },
   {
    "duration": 51,
    "start_time": "2023-05-07T09:35:50.423Z"
   },
   {
    "duration": 25,
    "start_time": "2023-05-07T09:36:08.273Z"
   },
   {
    "duration": 25,
    "start_time": "2023-05-07T09:36:39.107Z"
   },
   {
    "duration": 33,
    "start_time": "2023-05-07T09:36:51.596Z"
   },
   {
    "duration": 78,
    "start_time": "2023-05-07T09:37:04.418Z"
   },
   {
    "duration": 51,
    "start_time": "2023-05-07T09:38:13.472Z"
   },
   {
    "duration": 75,
    "start_time": "2023-05-07T09:38:25.403Z"
   },
   {
    "duration": 1800689,
    "start_time": "2023-05-07T10:03:38.001Z"
   },
   {
    "duration": 3,
    "start_time": "2023-05-07T10:42:00.021Z"
   },
   {
    "duration": 3,
    "start_time": "2023-05-07T10:42:00.267Z"
   },
   {
    "duration": 3,
    "start_time": "2023-05-07T10:42:01.422Z"
   },
   {
    "duration": 1749788,
    "start_time": "2023-05-07T10:42:02.699Z"
   },
   {
    "duration": 4,
    "start_time": "2023-05-07T11:11:12.491Z"
   },
   {
    "duration": 5,
    "start_time": "2023-05-07T11:28:16.461Z"
   },
   {
    "duration": 5,
    "start_time": "2023-05-07T11:28:19.666Z"
   },
   {
    "duration": 11,
    "start_time": "2023-05-07T11:30:47.755Z"
   },
   {
    "duration": 4,
    "start_time": "2023-05-07T11:30:51.211Z"
   },
   {
    "duration": 15,
    "start_time": "2023-05-07T11:31:19.154Z"
   },
   {
    "duration": 2008,
    "start_time": "2023-05-07T11:31:41.794Z"
   },
   {
    "duration": 1830,
    "start_time": "2023-05-07T11:32:14.965Z"
   },
   {
    "duration": 65,
    "start_time": "2023-05-07T11:40:34.586Z"
   },
   {
    "duration": 32,
    "start_time": "2023-05-07T11:41:00.176Z"
   },
   {
    "duration": 1927667,
    "start_time": "2023-05-07T11:41:11.908Z"
   },
   {
    "duration": 12,
    "start_time": "2023-05-07T12:13:19.577Z"
   },
   {
    "duration": 12,
    "start_time": "2023-05-07T12:16:52.992Z"
   },
   {
    "duration": 4,
    "start_time": "2023-05-07T12:18:16.822Z"
   },
   {
    "duration": 3,
    "start_time": "2023-05-07T12:18:19.169Z"
   },
   {
    "duration": 7,
    "start_time": "2023-05-07T12:18:23.854Z"
   },
   {
    "duration": 8471385,
    "start_time": "2023-05-07T12:19:02.385Z"
   },
   {
    "duration": 8,
    "start_time": "2023-05-07T14:40:13.775Z"
   },
   {
    "duration": 287,
    "start_time": "2023-05-07T14:43:26.299Z"
   },
   {
    "duration": 1567,
    "start_time": "2023-05-07T14:43:42.573Z"
   },
   {
    "duration": 10,
    "start_time": "2023-05-07T14:44:30.110Z"
   },
   {
    "duration": 32,
    "start_time": "2023-05-07T14:44:35.257Z"
   },
   {
    "duration": 20,
    "start_time": "2023-05-07T14:44:38.132Z"
   },
   {
    "duration": 9,
    "start_time": "2023-05-07T14:44:41.472Z"
   },
   {
    "duration": 10,
    "start_time": "2023-05-07T14:45:05.983Z"
   },
   {
    "duration": 9,
    "start_time": "2023-05-07T14:45:08.479Z"
   },
   {
    "duration": 6,
    "start_time": "2023-05-07T14:45:12.065Z"
   },
   {
    "duration": 2908,
    "start_time": "2023-05-07T14:46:51.409Z"
   },
   {
    "duration": 2487,
    "start_time": "2023-05-07T14:48:18.408Z"
   },
   {
    "duration": 4,
    "start_time": "2023-05-07T14:50:03.522Z"
   },
   {
    "duration": 2,
    "start_time": "2023-05-07T15:27:13.695Z"
   },
   {
    "duration": 26,
    "start_time": "2023-05-07T15:27:14.462Z"
   },
   {
    "duration": 1826,
    "start_time": "2023-05-07T15:27:17.083Z"
   },
   {
    "duration": 1834,
    "start_time": "2023-05-07T15:28:48.121Z"
   },
   {
    "duration": 1813,
    "start_time": "2023-05-07T15:29:09.362Z"
   },
   {
    "duration": 2008,
    "start_time": "2023-05-07T15:29:22.086Z"
   },
   {
    "duration": 1949,
    "start_time": "2023-05-07T15:29:34.758Z"
   },
   {
    "duration": 1984,
    "start_time": "2023-05-07T15:30:10.110Z"
   },
   {
    "duration": 1826,
    "start_time": "2023-05-07T15:30:15.885Z"
   },
   {
    "duration": 1796,
    "start_time": "2023-05-07T15:31:19.313Z"
   },
   {
    "duration": 1903,
    "start_time": "2023-05-07T15:31:47.285Z"
   },
   {
    "duration": 22,
    "start_time": "2023-05-07T15:32:24.268Z"
   },
   {
    "duration": 14,
    "start_time": "2023-05-07T15:54:36.890Z"
   },
   {
    "duration": 17,
    "start_time": "2023-05-07T15:54:51.429Z"
   },
   {
    "duration": 35,
    "start_time": "2023-05-07T15:56:00.577Z"
   },
   {
    "duration": 1923,
    "start_time": "2023-05-07T15:56:03.183Z"
   },
   {
    "duration": 1908,
    "start_time": "2023-05-07T15:58:37.567Z"
   },
   {
    "duration": 1834,
    "start_time": "2023-05-07T15:58:42.081Z"
   },
   {
    "duration": 1768,
    "start_time": "2023-05-07T15:58:55.422Z"
   },
   {
    "duration": 1843,
    "start_time": "2023-05-07T15:59:55.889Z"
   },
   {
    "duration": 1769,
    "start_time": "2023-05-07T16:00:03.226Z"
   },
   {
    "duration": 1769,
    "start_time": "2023-05-07T16:00:30.249Z"
   },
   {
    "duration": 1635,
    "start_time": "2023-05-07T16:01:09.779Z"
   },
   {
    "duration": 1723,
    "start_time": "2023-05-07T16:01:20.066Z"
   },
   {
    "duration": 21,
    "start_time": "2023-05-07T16:04:53.854Z"
   },
   {
    "duration": 7,
    "start_time": "2023-05-07T16:04:59.761Z"
   },
   {
    "duration": 1757,
    "start_time": "2023-05-07T16:04:59.900Z"
   },
   {
    "duration": 1703,
    "start_time": "2023-05-07T16:05:08.179Z"
   },
   {
    "duration": 1730,
    "start_time": "2023-05-07T16:05:15.497Z"
   },
   {
    "duration": 3258,
    "start_time": "2023-05-07T16:07:57.158Z"
   },
   {
    "duration": 170,
    "start_time": "2023-05-07T16:22:11.724Z"
   },
   {
    "duration": 42,
    "start_time": "2023-05-09T07:00:49.543Z"
   },
   {
    "duration": 808,
    "start_time": "2023-05-09T07:11:21.965Z"
   },
   {
    "duration": 592,
    "start_time": "2023-05-09T07:11:29.198Z"
   },
   {
    "duration": 3312,
    "start_time": "2023-05-09T07:11:29.793Z"
   },
   {
    "duration": 30,
    "start_time": "2023-05-09T07:11:33.107Z"
   },
   {
    "duration": 9,
    "start_time": "2023-05-09T07:11:33.139Z"
   },
   {
    "duration": 8,
    "start_time": "2023-05-09T07:11:33.150Z"
   },
   {
    "duration": 10,
    "start_time": "2023-05-09T07:11:33.159Z"
   },
   {
    "duration": 73,
    "start_time": "2023-05-09T07:11:33.171Z"
   },
   {
    "duration": 169,
    "start_time": "2023-05-09T07:11:33.245Z"
   },
   {
    "duration": 19,
    "start_time": "2023-05-09T07:11:33.416Z"
   },
   {
    "duration": 75,
    "start_time": "2023-05-09T07:11:33.436Z"
   },
   {
    "duration": 0,
    "start_time": "2023-05-09T07:11:33.513Z"
   },
   {
    "duration": 0,
    "start_time": "2023-05-09T07:11:33.514Z"
   },
   {
    "duration": 0,
    "start_time": "2023-05-09T07:11:33.515Z"
   },
   {
    "duration": 0,
    "start_time": "2023-05-09T07:11:33.517Z"
   },
   {
    "duration": 0,
    "start_time": "2023-05-09T07:11:33.517Z"
   },
   {
    "duration": 0,
    "start_time": "2023-05-09T07:11:33.520Z"
   },
   {
    "duration": 0,
    "start_time": "2023-05-09T07:11:33.521Z"
   },
   {
    "duration": 0,
    "start_time": "2023-05-09T07:11:33.522Z"
   },
   {
    "duration": 0,
    "start_time": "2023-05-09T07:11:33.523Z"
   },
   {
    "duration": 0,
    "start_time": "2023-05-09T07:11:33.526Z"
   },
   {
    "duration": 0,
    "start_time": "2023-05-09T07:11:33.527Z"
   },
   {
    "duration": 0,
    "start_time": "2023-05-09T07:11:33.528Z"
   },
   {
    "duration": 0,
    "start_time": "2023-05-09T07:11:33.530Z"
   },
   {
    "duration": 0,
    "start_time": "2023-05-09T07:11:33.532Z"
   },
   {
    "duration": 0,
    "start_time": "2023-05-09T07:11:33.533Z"
   },
   {
    "duration": 0,
    "start_time": "2023-05-09T07:11:33.534Z"
   },
   {
    "duration": 0,
    "start_time": "2023-05-09T07:11:33.535Z"
   },
   {
    "duration": 0,
    "start_time": "2023-05-09T07:11:33.536Z"
   },
   {
    "duration": 0,
    "start_time": "2023-05-09T07:11:33.537Z"
   },
   {
    "duration": 0,
    "start_time": "2023-05-09T07:11:33.538Z"
   },
   {
    "duration": 0,
    "start_time": "2023-05-09T07:11:33.538Z"
   },
   {
    "duration": 0,
    "start_time": "2023-05-09T07:11:33.540Z"
   },
   {
    "duration": 617,
    "start_time": "2023-05-09T07:11:51.248Z"
   },
   {
    "duration": 0,
    "start_time": "2023-05-09T07:11:51.867Z"
   },
   {
    "duration": 0,
    "start_time": "2023-05-09T07:11:51.869Z"
   },
   {
    "duration": 0,
    "start_time": "2023-05-09T07:11:51.870Z"
   },
   {
    "duration": 0,
    "start_time": "2023-05-09T07:11:51.871Z"
   },
   {
    "duration": 0,
    "start_time": "2023-05-09T07:11:51.872Z"
   },
   {
    "duration": 0,
    "start_time": "2023-05-09T07:11:51.873Z"
   },
   {
    "duration": 0,
    "start_time": "2023-05-09T07:11:51.874Z"
   },
   {
    "duration": 0,
    "start_time": "2023-05-09T07:11:51.875Z"
   },
   {
    "duration": 0,
    "start_time": "2023-05-09T07:11:51.876Z"
   },
   {
    "duration": 0,
    "start_time": "2023-05-09T07:11:51.876Z"
   },
   {
    "duration": 0,
    "start_time": "2023-05-09T07:11:51.877Z"
   },
   {
    "duration": 0,
    "start_time": "2023-05-09T07:11:51.878Z"
   },
   {
    "duration": 0,
    "start_time": "2023-05-09T07:11:51.894Z"
   },
   {
    "duration": 0,
    "start_time": "2023-05-09T07:11:51.896Z"
   },
   {
    "duration": 0,
    "start_time": "2023-05-09T07:11:51.897Z"
   },
   {
    "duration": 0,
    "start_time": "2023-05-09T07:11:51.898Z"
   },
   {
    "duration": 0,
    "start_time": "2023-05-09T07:11:51.900Z"
   },
   {
    "duration": 0,
    "start_time": "2023-05-09T07:11:51.902Z"
   },
   {
    "duration": 0,
    "start_time": "2023-05-09T07:11:51.903Z"
   },
   {
    "duration": 0,
    "start_time": "2023-05-09T07:11:51.904Z"
   },
   {
    "duration": 0,
    "start_time": "2023-05-09T07:11:51.905Z"
   },
   {
    "duration": 0,
    "start_time": "2023-05-09T07:11:51.907Z"
   },
   {
    "duration": 0,
    "start_time": "2023-05-09T07:11:51.908Z"
   },
   {
    "duration": 0,
    "start_time": "2023-05-09T07:11:51.908Z"
   },
   {
    "duration": 0,
    "start_time": "2023-05-09T07:11:51.910Z"
   },
   {
    "duration": 0,
    "start_time": "2023-05-09T07:11:51.912Z"
   },
   {
    "duration": 0,
    "start_time": "2023-05-09T07:11:51.912Z"
   },
   {
    "duration": 0,
    "start_time": "2023-05-09T07:11:51.913Z"
   },
   {
    "duration": 0,
    "start_time": "2023-05-09T07:11:51.914Z"
   },
   {
    "duration": 0,
    "start_time": "2023-05-09T07:11:51.915Z"
   },
   {
    "duration": 0,
    "start_time": "2023-05-09T07:11:51.916Z"
   },
   {
    "duration": 1573,
    "start_time": "2023-05-09T07:12:12.400Z"
   },
   {
    "duration": 186,
    "start_time": "2023-05-09T07:12:21.020Z"
   },
   {
    "duration": 1595,
    "start_time": "2023-05-09T07:12:28.697Z"
   },
   {
    "duration": 726,
    "start_time": "2023-05-09T07:12:30.294Z"
   },
   {
    "duration": 29,
    "start_time": "2023-05-09T07:12:31.021Z"
   },
   {
    "duration": 16,
    "start_time": "2023-05-09T07:12:31.053Z"
   },
   {
    "duration": 24,
    "start_time": "2023-05-09T07:12:31.071Z"
   },
   {
    "duration": 26,
    "start_time": "2023-05-09T07:12:31.096Z"
   },
   {
    "duration": 66,
    "start_time": "2023-05-09T07:12:31.124Z"
   },
   {
    "duration": 231,
    "start_time": "2023-05-09T07:12:31.192Z"
   },
   {
    "duration": 21,
    "start_time": "2023-05-09T07:12:31.424Z"
   },
   {
    "duration": 26,
    "start_time": "2023-05-09T07:12:31.448Z"
   },
   {
    "duration": 125,
    "start_time": "2023-05-09T07:12:31.475Z"
   },
   {
    "duration": 1,
    "start_time": "2023-05-09T07:12:31.601Z"
   },
   {
    "duration": 0,
    "start_time": "2023-05-09T07:12:31.603Z"
   },
   {
    "duration": 0,
    "start_time": "2023-05-09T07:12:31.605Z"
   },
   {
    "duration": 0,
    "start_time": "2023-05-09T07:12:31.606Z"
   },
   {
    "duration": 0,
    "start_time": "2023-05-09T07:12:31.607Z"
   },
   {
    "duration": 0,
    "start_time": "2023-05-09T07:12:31.609Z"
   },
   {
    "duration": 0,
    "start_time": "2023-05-09T07:12:31.610Z"
   },
   {
    "duration": 0,
    "start_time": "2023-05-09T07:12:31.611Z"
   },
   {
    "duration": 0,
    "start_time": "2023-05-09T07:12:31.612Z"
   },
   {
    "duration": 0,
    "start_time": "2023-05-09T07:12:31.614Z"
   },
   {
    "duration": 0,
    "start_time": "2023-05-09T07:12:31.615Z"
   },
   {
    "duration": 0,
    "start_time": "2023-05-09T07:12:31.616Z"
   },
   {
    "duration": 0,
    "start_time": "2023-05-09T07:12:31.617Z"
   },
   {
    "duration": 0,
    "start_time": "2023-05-09T07:12:31.619Z"
   },
   {
    "duration": 0,
    "start_time": "2023-05-09T07:12:31.620Z"
   },
   {
    "duration": 0,
    "start_time": "2023-05-09T07:12:31.622Z"
   },
   {
    "duration": 0,
    "start_time": "2023-05-09T07:12:31.623Z"
   },
   {
    "duration": 0,
    "start_time": "2023-05-09T07:12:31.624Z"
   },
   {
    "duration": 0,
    "start_time": "2023-05-09T07:12:31.625Z"
   },
   {
    "duration": 0,
    "start_time": "2023-05-09T07:12:31.627Z"
   },
   {
    "duration": 0,
    "start_time": "2023-05-09T07:12:31.627Z"
   },
   {
    "duration": 6,
    "start_time": "2023-05-09T07:12:45.665Z"
   },
   {
    "duration": 1676,
    "start_time": "2023-05-09T07:12:52.405Z"
   },
   {
    "duration": 714,
    "start_time": "2023-05-09T07:12:54.084Z"
   },
   {
    "duration": 23,
    "start_time": "2023-05-09T07:12:54.801Z"
   },
   {
    "duration": 8,
    "start_time": "2023-05-09T07:12:54.825Z"
   },
   {
    "duration": 9,
    "start_time": "2023-05-09T07:12:54.834Z"
   },
   {
    "duration": 20,
    "start_time": "2023-05-09T07:12:54.844Z"
   },
   {
    "duration": 73,
    "start_time": "2023-05-09T07:12:54.866Z"
   },
   {
    "duration": 224,
    "start_time": "2023-05-09T07:12:54.941Z"
   },
   {
    "duration": 17,
    "start_time": "2023-05-09T07:12:55.167Z"
   },
   {
    "duration": 4,
    "start_time": "2023-05-09T07:12:55.193Z"
   },
   {
    "duration": 4,
    "start_time": "2023-05-09T07:12:55.199Z"
   },
   {
    "duration": 5,
    "start_time": "2023-05-09T07:12:55.204Z"
   },
   {
    "duration": 547,
    "start_time": "2023-05-09T07:12:55.210Z"
   },
   {
    "duration": 12,
    "start_time": "2023-05-09T07:12:55.760Z"
   },
   {
    "duration": 0,
    "start_time": "2023-05-09T07:12:55.774Z"
   },
   {
    "duration": 0,
    "start_time": "2023-05-09T07:12:55.776Z"
   },
   {
    "duration": 0,
    "start_time": "2023-05-09T07:12:55.777Z"
   },
   {
    "duration": 0,
    "start_time": "2023-05-09T07:12:55.778Z"
   },
   {
    "duration": 0,
    "start_time": "2023-05-09T07:12:55.780Z"
   },
   {
    "duration": 0,
    "start_time": "2023-05-09T07:12:55.781Z"
   },
   {
    "duration": 0,
    "start_time": "2023-05-09T07:12:55.782Z"
   },
   {
    "duration": 0,
    "start_time": "2023-05-09T07:12:55.783Z"
   },
   {
    "duration": 0,
    "start_time": "2023-05-09T07:12:55.785Z"
   },
   {
    "duration": 0,
    "start_time": "2023-05-09T07:12:55.786Z"
   },
   {
    "duration": 0,
    "start_time": "2023-05-09T07:12:55.787Z"
   },
   {
    "duration": 0,
    "start_time": "2023-05-09T07:12:55.788Z"
   },
   {
    "duration": 0,
    "start_time": "2023-05-09T07:12:55.789Z"
   },
   {
    "duration": 0,
    "start_time": "2023-05-09T07:12:55.790Z"
   },
   {
    "duration": 0,
    "start_time": "2023-05-09T07:12:55.791Z"
   },
   {
    "duration": 0,
    "start_time": "2023-05-09T07:12:55.793Z"
   },
   {
    "duration": 0,
    "start_time": "2023-05-09T07:12:55.794Z"
   },
   {
    "duration": 0,
    "start_time": "2023-05-09T07:12:55.796Z"
   },
   {
    "duration": 1584,
    "start_time": "2023-05-09T07:13:10.835Z"
   },
   {
    "duration": 766,
    "start_time": "2023-05-09T07:13:12.421Z"
   },
   {
    "duration": 28,
    "start_time": "2023-05-09T07:13:13.189Z"
   },
   {
    "duration": 9,
    "start_time": "2023-05-09T07:13:13.219Z"
   },
   {
    "duration": 19,
    "start_time": "2023-05-09T07:13:13.231Z"
   },
   {
    "duration": 27,
    "start_time": "2023-05-09T07:13:13.251Z"
   },
   {
    "duration": 73,
    "start_time": "2023-05-09T07:13:13.279Z"
   },
   {
    "duration": 250,
    "start_time": "2023-05-09T07:13:13.354Z"
   },
   {
    "duration": 18,
    "start_time": "2023-05-09T07:13:13.606Z"
   },
   {
    "duration": 5,
    "start_time": "2023-05-09T07:13:13.625Z"
   },
   {
    "duration": 6,
    "start_time": "2023-05-09T07:13:13.631Z"
   },
   {
    "duration": 6,
    "start_time": "2023-05-09T07:13:13.639Z"
   },
   {
    "duration": 76349,
    "start_time": "2023-05-09T07:13:13.646Z"
   },
   {
    "duration": 108,
    "start_time": "2023-05-09T07:14:29.998Z"
   },
   {
    "duration": 0,
    "start_time": "2023-05-09T07:14:30.108Z"
   },
   {
    "duration": 0,
    "start_time": "2023-05-09T07:14:30.109Z"
   },
   {
    "duration": 0,
    "start_time": "2023-05-09T07:14:30.110Z"
   },
   {
    "duration": 0,
    "start_time": "2023-05-09T07:14:30.111Z"
   },
   {
    "duration": 0,
    "start_time": "2023-05-09T07:14:30.112Z"
   },
   {
    "duration": 0,
    "start_time": "2023-05-09T07:14:30.113Z"
   },
   {
    "duration": 0,
    "start_time": "2023-05-09T07:14:30.113Z"
   },
   {
    "duration": 0,
    "start_time": "2023-05-09T07:14:30.114Z"
   },
   {
    "duration": 0,
    "start_time": "2023-05-09T07:14:30.115Z"
   },
   {
    "duration": 0,
    "start_time": "2023-05-09T07:14:30.116Z"
   },
   {
    "duration": 0,
    "start_time": "2023-05-09T07:14:30.117Z"
   },
   {
    "duration": 0,
    "start_time": "2023-05-09T07:14:30.118Z"
   },
   {
    "duration": 0,
    "start_time": "2023-05-09T07:14:30.119Z"
   },
   {
    "duration": 0,
    "start_time": "2023-05-09T07:14:30.120Z"
   },
   {
    "duration": 0,
    "start_time": "2023-05-09T07:14:30.121Z"
   },
   {
    "duration": 0,
    "start_time": "2023-05-09T07:14:30.122Z"
   },
   {
    "duration": 0,
    "start_time": "2023-05-09T07:14:30.123Z"
   },
   {
    "duration": 0,
    "start_time": "2023-05-09T07:14:30.124Z"
   },
   {
    "duration": 11,
    "start_time": "2023-05-09T07:15:47.147Z"
   },
   {
    "duration": 346,
    "start_time": "2023-05-09T07:15:47.463Z"
   },
   {
    "duration": 95,
    "start_time": "2023-05-09T07:15:52.240Z"
   },
   {
    "duration": 342,
    "start_time": "2023-05-09T07:15:55.909Z"
   },
   {
    "duration": 19374,
    "start_time": "2023-05-09T07:15:57.264Z"
   },
   {
    "duration": 91,
    "start_time": "2023-05-09T07:23:20.787Z"
   },
   {
    "duration": 20,
    "start_time": "2023-05-09T07:23:29.224Z"
   },
   {
    "duration": 1767,
    "start_time": "2023-05-09T07:24:34.126Z"
   },
   {
    "duration": 690,
    "start_time": "2023-05-09T07:24:35.896Z"
   },
   {
    "duration": 29,
    "start_time": "2023-05-09T07:24:36.588Z"
   },
   {
    "duration": 10,
    "start_time": "2023-05-09T07:24:36.618Z"
   },
   {
    "duration": 9,
    "start_time": "2023-05-09T07:24:36.630Z"
   },
   {
    "duration": 11,
    "start_time": "2023-05-09T07:24:36.640Z"
   },
   {
    "duration": 87,
    "start_time": "2023-05-09T07:24:36.652Z"
   },
   {
    "duration": 155,
    "start_time": "2023-05-09T07:24:36.741Z"
   },
   {
    "duration": 19,
    "start_time": "2023-05-09T07:24:36.898Z"
   },
   {
    "duration": 4,
    "start_time": "2023-05-09T07:24:36.919Z"
   },
   {
    "duration": 12,
    "start_time": "2023-05-09T07:24:36.924Z"
   },
   {
    "duration": 5,
    "start_time": "2023-05-09T07:24:36.937Z"
   },
   {
    "duration": 77100,
    "start_time": "2023-05-09T07:24:36.943Z"
   },
   {
    "duration": 331,
    "start_time": "2023-05-09T07:25:54.048Z"
   },
   {
    "duration": 18874,
    "start_time": "2023-05-09T07:25:54.381Z"
   },
   {
    "duration": 12,
    "start_time": "2023-05-09T07:26:13.257Z"
   },
   {
    "duration": 51,
    "start_time": "2023-05-09T07:26:13.271Z"
   },
   {
    "duration": 25,
    "start_time": "2023-05-09T07:26:13.323Z"
   },
   {
    "duration": 2,
    "start_time": "2023-05-09T07:26:13.350Z"
   },
   {
    "duration": 1192257,
    "start_time": "2023-05-09T07:26:13.354Z"
   },
   {
    "duration": 6,
    "start_time": "2023-05-09T07:46:05.695Z"
   },
   {
    "duration": 209,
    "start_time": "2023-05-09T07:46:05.703Z"
   },
   {
    "duration": 0,
    "start_time": "2023-05-09T07:46:05.914Z"
   },
   {
    "duration": 0,
    "start_time": "2023-05-09T07:46:05.915Z"
   },
   {
    "duration": 0,
    "start_time": "2023-05-09T07:46:05.916Z"
   },
   {
    "duration": 0,
    "start_time": "2023-05-09T07:46:05.917Z"
   },
   {
    "duration": 0,
    "start_time": "2023-05-09T07:46:05.920Z"
   },
   {
    "duration": 0,
    "start_time": "2023-05-09T07:46:05.921Z"
   },
   {
    "duration": 0,
    "start_time": "2023-05-09T07:46:05.922Z"
   },
   {
    "duration": 0,
    "start_time": "2023-05-09T07:46:05.923Z"
   },
   {
    "duration": 0,
    "start_time": "2023-05-09T07:46:05.925Z"
   },
   {
    "duration": 0,
    "start_time": "2023-05-09T07:46:05.926Z"
   },
   {
    "duration": 0,
    "start_time": "2023-05-09T07:46:05.928Z"
   },
   {
    "duration": 1786747,
    "start_time": "2023-05-09T07:53:44.224Z"
   },
   {
    "duration": 5,
    "start_time": "2023-05-09T08:23:30.973Z"
   },
   {
    "duration": 157,
    "start_time": "2023-05-09T08:23:30.979Z"
   },
   {
    "duration": 11,
    "start_time": "2023-05-09T08:23:31.138Z"
   },
   {
    "duration": 0,
    "start_time": "2023-05-09T08:23:31.151Z"
   },
   {
    "duration": 0,
    "start_time": "2023-05-09T08:23:31.152Z"
   },
   {
    "duration": 0,
    "start_time": "2023-05-09T08:23:31.154Z"
   },
   {
    "duration": 0,
    "start_time": "2023-05-09T08:23:31.155Z"
   },
   {
    "duration": 0,
    "start_time": "2023-05-09T08:23:31.156Z"
   },
   {
    "duration": 7686792,
    "start_time": "2023-05-09T08:35:31.151Z"
   },
   {
    "duration": 4,
    "start_time": "2023-05-09T10:43:37.946Z"
   },
   {
    "duration": 16,
    "start_time": "2023-05-09T10:43:37.951Z"
   },
   {
    "duration": 0,
    "start_time": "2023-05-09T10:43:37.968Z"
   },
   {
    "duration": 0,
    "start_time": "2023-05-09T10:43:37.970Z"
   },
   {
    "duration": 0,
    "start_time": "2023-05-09T10:43:37.971Z"
   },
   {
    "duration": 0,
    "start_time": "2023-05-09T10:43:37.972Z"
   },
   {
    "duration": 4253,
    "start_time": "2023-05-09T10:54:53.934Z"
   },
   {
    "duration": 26,
    "start_time": "2023-05-09T10:55:00.068Z"
   },
   {
    "duration": 21,
    "start_time": "2023-05-09T10:56:36.339Z"
   },
   {
    "duration": 17,
    "start_time": "2023-05-09T10:57:10.563Z"
   },
   {
    "duration": 29,
    "start_time": "2023-05-09T11:02:03.622Z"
   },
   {
    "duration": 1389,
    "start_time": "2023-05-09T11:02:10.347Z"
   },
   {
    "duration": 2561,
    "start_time": "2023-05-09T11:02:35.279Z"
   },
   {
    "duration": 1365,
    "start_time": "2023-05-09T11:02:47.865Z"
   },
   {
    "duration": 8,
    "start_time": "2023-05-09T11:03:29.474Z"
   },
   {
    "duration": 1363,
    "start_time": "2023-05-09T11:03:29.855Z"
   },
   {
    "duration": 2227,
    "start_time": "2023-05-10T05:06:43.930Z"
   },
   {
    "duration": 2410,
    "start_time": "2023-05-10T05:06:46.160Z"
   },
   {
    "duration": 34,
    "start_time": "2023-05-10T05:06:48.572Z"
   },
   {
    "duration": 8,
    "start_time": "2023-05-10T05:06:48.608Z"
   },
   {
    "duration": 17,
    "start_time": "2023-05-10T05:06:48.617Z"
   },
   {
    "duration": 14,
    "start_time": "2023-05-10T05:06:48.636Z"
   },
   {
    "duration": 81,
    "start_time": "2023-05-10T05:06:48.653Z"
   },
   {
    "duration": 205,
    "start_time": "2023-05-10T05:06:48.736Z"
   },
   {
    "duration": 21,
    "start_time": "2023-05-10T05:06:48.943Z"
   },
   {
    "duration": 4,
    "start_time": "2023-05-10T05:06:48.967Z"
   },
   {
    "duration": 5,
    "start_time": "2023-05-10T05:06:48.972Z"
   },
   {
    "duration": 7,
    "start_time": "2023-05-10T05:06:48.979Z"
   },
   {
    "duration": 96704,
    "start_time": "2023-05-10T05:06:48.988Z"
   },
   {
    "duration": 300,
    "start_time": "2023-05-10T05:08:25.696Z"
   },
   {
    "duration": 27256,
    "start_time": "2023-05-10T05:08:25.998Z"
   },
   {
    "duration": 12,
    "start_time": "2023-05-10T05:08:53.257Z"
   },
   {
    "duration": 60,
    "start_time": "2023-05-10T05:08:53.271Z"
   },
   {
    "duration": 27,
    "start_time": "2023-05-10T05:08:53.334Z"
   },
   {
    "duration": 3,
    "start_time": "2023-05-10T05:08:53.363Z"
   },
   {
    "duration": 1330474,
    "start_time": "2023-05-10T05:08:53.368Z"
   },
   {
    "duration": 5,
    "start_time": "2023-05-10T05:31:03.933Z"
   },
   {
    "duration": 1668742,
    "start_time": "2023-05-10T05:31:03.940Z"
   },
   {
    "duration": 4,
    "start_time": "2023-05-10T05:58:52.683Z"
   },
   {
    "duration": 8314825,
    "start_time": "2023-05-10T05:58:52.688Z"
   },
   {
    "duration": 4,
    "start_time": "2023-05-10T08:17:27.515Z"
   },
   {
    "duration": 2879,
    "start_time": "2023-05-10T08:17:27.520Z"
   },
   {
    "duration": 1607,
    "start_time": "2023-05-10T08:17:30.401Z"
   },
   {
    "duration": 7,
    "start_time": "2023-05-10T08:17:32.012Z"
   },
   {
    "duration": 1516,
    "start_time": "2023-05-10T08:17:32.021Z"
   },
   {
    "duration": 18,
    "start_time": "2023-05-11T12:23:01.981Z"
   },
   {
    "duration": 7,
    "start_time": "2023-05-11T12:23:05.707Z"
   },
   {
    "duration": 91,
    "start_time": "2023-05-11T12:23:27.280Z"
   },
   {
    "duration": 4017,
    "start_time": "2023-05-11T12:25:22.514Z"
   },
   {
    "duration": 25,
    "start_time": "2023-05-11T12:25:31.441Z"
   },
   {
    "duration": 17,
    "start_time": "2023-05-11T12:25:39.039Z"
   },
   {
    "duration": 26,
    "start_time": "2023-05-11T12:29:07.943Z"
   },
   {
    "duration": 12085,
    "start_time": "2023-05-11T12:29:58.908Z"
   },
   {
    "duration": 3180,
    "start_time": "2023-05-11T12:30:32.424Z"
   },
   {
    "duration": 1296,
    "start_time": "2023-05-11T12:31:04.830Z"
   },
   {
    "duration": 59,
    "start_time": "2023-05-11T12:31:07.161Z"
   },
   {
    "duration": 13,
    "start_time": "2023-05-11T12:31:07.337Z"
   },
   {
    "duration": 12,
    "start_time": "2023-05-11T12:31:09.072Z"
   },
   {
    "duration": 25,
    "start_time": "2023-05-11T12:31:09.302Z"
   },
   {
    "duration": 123,
    "start_time": "2023-05-11T12:31:09.718Z"
   },
   {
    "duration": 302,
    "start_time": "2023-05-11T12:31:09.909Z"
   },
   {
    "duration": 29,
    "start_time": "2023-05-11T12:31:10.219Z"
   },
   {
    "duration": 4,
    "start_time": "2023-05-11T12:31:13.584Z"
   },
   {
    "duration": 2,
    "start_time": "2023-05-11T12:31:13.796Z"
   },
   {
    "duration": 4,
    "start_time": "2023-05-11T12:31:14.002Z"
   },
   {
    "duration": 18359,
    "start_time": "2023-05-11T12:31:30.425Z"
   },
   {
    "duration": 6,
    "start_time": "2023-05-11T12:31:51.821Z"
   },
   {
    "duration": 16576,
    "start_time": "2023-05-11T12:32:30.796Z"
   },
   {
    "duration": 6,
    "start_time": "2023-05-11T12:32:50.351Z"
   },
   {
    "duration": 6742,
    "start_time": "2023-05-11T12:34:12.416Z"
   },
   {
    "duration": 1262,
    "start_time": "2023-05-11T12:34:22.534Z"
   },
   {
    "duration": 11,
    "start_time": "2023-05-11T12:34:23.815Z"
   },
   {
    "duration": 41501,
    "start_time": "2023-05-11T12:34:48.336Z"
   },
   {
    "duration": 19,
    "start_time": "2023-05-11T12:35:29.840Z"
   },
   {
    "duration": 3622,
    "start_time": "2023-05-11T12:41:28.084Z"
   },
   {
    "duration": 1478,
    "start_time": "2023-05-11T12:41:34.876Z"
   },
   {
    "duration": 44,
    "start_time": "2023-05-11T12:41:36.356Z"
   },
   {
    "duration": 186,
    "start_time": "2023-05-11T12:41:36.402Z"
   },
   {
    "duration": 79,
    "start_time": "2023-05-11T12:41:36.591Z"
   },
   {
    "duration": 207,
    "start_time": "2023-05-11T12:41:36.673Z"
   },
   {
    "duration": 146,
    "start_time": "2023-05-11T12:41:37.384Z"
   },
   {
    "duration": 340,
    "start_time": "2023-05-11T12:41:37.572Z"
   },
   {
    "duration": 27,
    "start_time": "2023-05-11T12:41:37.914Z"
   },
   {
    "duration": 4,
    "start_time": "2023-05-11T12:41:40.238Z"
   },
   {
    "duration": 3,
    "start_time": "2023-05-11T12:41:41.107Z"
   },
   {
    "duration": 3,
    "start_time": "2023-05-11T12:41:41.332Z"
   },
   {
    "duration": 21142,
    "start_time": "2023-05-11T12:41:42.071Z"
   },
   {
    "duration": 8448,
    "start_time": "2023-05-11T12:42:03.216Z"
   },
   {
    "duration": 997,
    "start_time": "2023-05-11T12:42:11.669Z"
   },
   {
    "duration": 8,
    "start_time": "2023-05-11T12:42:12.669Z"
   },
   {
    "duration": 15911,
    "start_time": "2023-05-11T12:42:12.691Z"
   },
   {
    "duration": 9,
    "start_time": "2023-05-11T12:42:28.604Z"
   },
   {
    "duration": 5912,
    "start_time": "2023-05-11T12:43:35.796Z"
   },
   {
    "duration": 21,
    "start_time": "2023-05-11T12:43:48.944Z"
   },
   {
    "duration": 3451,
    "start_time": "2023-05-11T12:46:38.339Z"
   },
   {
    "duration": 1414,
    "start_time": "2023-05-11T12:46:41.792Z"
   },
   {
    "duration": 61,
    "start_time": "2023-05-11T12:46:43.220Z"
   },
   {
    "duration": 151,
    "start_time": "2023-05-11T12:46:43.298Z"
   },
   {
    "duration": 220,
    "start_time": "2023-05-11T12:46:43.456Z"
   },
   {
    "duration": 159,
    "start_time": "2023-05-11T12:46:43.684Z"
   },
   {
    "duration": 236,
    "start_time": "2023-05-11T12:46:43.847Z"
   },
   {
    "duration": 282,
    "start_time": "2023-05-11T12:46:44.089Z"
   },
   {
    "duration": 33,
    "start_time": "2023-05-11T12:46:44.381Z"
   },
   {
    "duration": 16,
    "start_time": "2023-05-11T12:46:44.422Z"
   },
   {
    "duration": 110,
    "start_time": "2023-05-11T12:46:44.444Z"
   },
   {
    "duration": 70,
    "start_time": "2023-05-11T12:46:44.563Z"
   },
   {
    "duration": 21452,
    "start_time": "2023-05-11T12:46:44.639Z"
   },
   {
    "duration": 7258,
    "start_time": "2023-05-11T12:47:06.104Z"
   },
   {
    "duration": 972,
    "start_time": "2023-05-11T12:47:13.378Z"
   },
   {
    "duration": 7,
    "start_time": "2023-05-11T12:47:14.354Z"
   },
   {
    "duration": 5507,
    "start_time": "2023-05-11T12:47:29.127Z"
   },
   {
    "duration": 1726,
    "start_time": "2023-05-11T12:47:40.112Z"
   },
   {
    "duration": 3598,
    "start_time": "2023-05-11T12:48:30.824Z"
   },
   {
    "duration": 1511,
    "start_time": "2023-05-11T12:48:34.438Z"
   },
   {
    "duration": 44,
    "start_time": "2023-05-11T12:48:35.954Z"
   },
   {
    "duration": 139,
    "start_time": "2023-05-11T12:48:36.002Z"
   },
   {
    "duration": 217,
    "start_time": "2023-05-11T12:48:36.144Z"
   },
   {
    "duration": 114,
    "start_time": "2023-05-11T12:48:36.364Z"
   },
   {
    "duration": 214,
    "start_time": "2023-05-11T12:48:36.484Z"
   },
   {
    "duration": 363,
    "start_time": "2023-05-11T12:48:36.704Z"
   },
   {
    "duration": 23,
    "start_time": "2023-05-11T12:48:37.073Z"
   },
   {
    "duration": 116,
    "start_time": "2023-05-11T12:48:37.104Z"
   },
   {
    "duration": 91,
    "start_time": "2023-05-11T12:48:37.223Z"
   },
   {
    "duration": 23,
    "start_time": "2023-05-11T12:48:37.323Z"
   },
   {
    "duration": 21004,
    "start_time": "2023-05-11T12:48:37.350Z"
   },
   {
    "duration": 8886,
    "start_time": "2023-05-11T12:48:58.357Z"
   },
   {
    "duration": 1088,
    "start_time": "2023-05-11T12:49:07.255Z"
   },
   {
    "duration": 14,
    "start_time": "2023-05-11T12:49:08.345Z"
   },
   {
    "duration": 6168,
    "start_time": "2023-05-11T12:49:08.361Z"
   },
   {
    "duration": 1838,
    "start_time": "2023-05-11T12:49:17.104Z"
   },
   {
    "duration": 1433,
    "start_time": "2023-05-11T12:50:55.731Z"
   },
   {
    "duration": 51,
    "start_time": "2023-05-11T12:55:44.244Z"
   },
   {
    "duration": 1371,
    "start_time": "2023-05-11T12:55:50.439Z"
   },
   {
    "duration": 44,
    "start_time": "2023-05-11T12:55:51.820Z"
   },
   {
    "duration": 62,
    "start_time": "2023-05-11T12:55:51.866Z"
   },
   {
    "duration": 19,
    "start_time": "2023-05-11T12:55:52.415Z"
   },
   {
    "duration": 34,
    "start_time": "2023-05-11T12:55:52.633Z"
   },
   {
    "duration": 154,
    "start_time": "2023-05-11T12:55:52.904Z"
   },
   {
    "duration": 324,
    "start_time": "2023-05-11T12:55:53.577Z"
   },
   {
    "duration": 25,
    "start_time": "2023-05-11T12:55:53.907Z"
   },
   {
    "duration": 11,
    "start_time": "2023-05-11T12:55:56.308Z"
   },
   {
    "duration": 3,
    "start_time": "2023-05-11T12:55:58.833Z"
   },
   {
    "duration": 2,
    "start_time": "2023-05-11T12:55:59.336Z"
   },
   {
    "duration": 22554,
    "start_time": "2023-05-11T12:55:59.982Z"
   },
   {
    "duration": 23308,
    "start_time": "2023-05-11T13:00:01.818Z"
   },
   {
    "duration": 3499,
    "start_time": "2023-05-11T13:00:25.137Z"
   },
   {
    "duration": 20074,
    "start_time": "2023-05-11T13:00:36.120Z"
   },
   {
    "duration": 5380,
    "start_time": "2023-05-11T13:04:06.908Z"
   },
   {
    "duration": 7843,
    "start_time": "2023-05-11T13:04:54.811Z"
   },
   {
    "duration": 960,
    "start_time": "2023-05-11T13:05:02.663Z"
   },
   {
    "duration": 5,
    "start_time": "2023-05-11T13:05:03.628Z"
   },
   {
    "duration": 5695,
    "start_time": "2023-05-11T13:05:03.638Z"
   },
   {
    "duration": 1474,
    "start_time": "2023-05-11T13:05:09.336Z"
   },
   {
    "duration": 9,
    "start_time": "2023-05-11T13:24:45.426Z"
   },
   {
    "duration": 9,
    "start_time": "2023-05-11T13:25:05.633Z"
   },
   {
    "duration": 1395,
    "start_time": "2023-05-11T13:25:05.644Z"
   },
   {
    "duration": 60,
    "start_time": "2023-05-11T13:25:07.041Z"
   },
   {
    "duration": 41,
    "start_time": "2023-05-11T13:25:07.103Z"
   },
   {
    "duration": 89,
    "start_time": "2023-05-11T13:25:07.146Z"
   },
   {
    "duration": 102,
    "start_time": "2023-05-11T13:25:07.238Z"
   },
   {
    "duration": 109,
    "start_time": "2023-05-11T13:25:07.342Z"
   },
   {
    "duration": 271,
    "start_time": "2023-05-11T13:25:07.452Z"
   },
   {
    "duration": 14,
    "start_time": "2023-05-11T13:25:07.727Z"
   },
   {
    "duration": 53,
    "start_time": "2023-05-11T13:25:07.758Z"
   },
   {
    "duration": 23,
    "start_time": "2023-05-11T13:25:07.815Z"
   },
   {
    "duration": 82,
    "start_time": "2023-05-11T13:25:07.840Z"
   },
   {
    "duration": 7848,
    "start_time": "2023-05-11T13:25:07.924Z"
   },
   {
    "duration": 19913,
    "start_time": "2023-05-11T13:25:15.777Z"
   },
   {
    "duration": 1006,
    "start_time": "2023-05-11T13:25:35.693Z"
   },
   {
    "duration": 1072,
    "start_time": "2023-05-11T13:25:36.706Z"
   },
   {
    "duration": 7,
    "start_time": "2023-05-11T13:25:37.780Z"
   },
   {
    "duration": 4837,
    "start_time": "2023-05-11T13:25:37.788Z"
   },
   {
    "duration": 8,
    "start_time": "2023-05-11T13:25:42.629Z"
   },
   {
    "duration": 1846,
    "start_time": "2023-05-11T13:25:49.587Z"
   },
   {
    "duration": 147,
    "start_time": "2023-05-11T13:30:56.394Z"
   },
   {
    "duration": 1511,
    "start_time": "2023-05-11T13:31:20.621Z"
   },
   {
    "duration": 19,
    "start_time": "2023-05-11T13:31:47.863Z"
   },
   {
    "duration": 543,
    "start_time": "2023-05-11T13:32:03.484Z"
   },
   {
    "duration": 2112,
    "start_time": "2023-05-11T13:33:37.091Z"
   },
   {
    "duration": 1605,
    "start_time": "2023-05-11T13:36:17.318Z"
   },
   {
    "duration": 34,
    "start_time": "2023-05-11T13:36:41.790Z"
   },
   {
    "duration": 4469682,
    "start_time": "2023-05-11T13:36:51.900Z"
   },
   {
    "duration": 6639,
    "start_time": "2023-05-11T14:51:43.456Z"
   },
   {
    "duration": 74,
    "start_time": "2023-05-11T14:52:08.408Z"
   },
   {
    "duration": 318,
    "start_time": "2023-05-11T14:55:44.139Z"
   },
   {
    "duration": 162,
    "start_time": "2023-05-11T14:56:20.790Z"
   },
   {
    "duration": 49606,
    "start_time": "2023-05-11T14:56:38.912Z"
   },
   {
    "duration": 1361,
    "start_time": "2023-05-11T15:05:31.177Z"
   },
   {
    "duration": 38,
    "start_time": "2023-05-11T15:11:54.972Z"
   },
   {
    "duration": 26,
    "start_time": "2023-05-11T15:11:59.464Z"
   },
   {
    "duration": 35,
    "start_time": "2023-05-11T15:12:19.609Z"
   },
   {
    "duration": 89,
    "start_time": "2023-05-11T15:12:54.377Z"
   },
   {
    "duration": 22,
    "start_time": "2023-05-11T15:14:23.872Z"
   },
   {
    "duration": 95,
    "start_time": "2023-05-11T15:14:25.992Z"
   },
   {
    "duration": 38,
    "start_time": "2023-05-11T15:14:36.678Z"
   },
   {
    "duration": 21,
    "start_time": "2023-05-11T15:14:45.277Z"
   },
   {
    "duration": 34,
    "start_time": "2023-05-11T15:15:00.410Z"
   },
   {
    "duration": 58,
    "start_time": "2023-05-11T15:16:46.783Z"
   },
   {
    "duration": 4692,
    "start_time": "2023-05-11T15:17:02.716Z"
   },
   {
    "duration": 4869,
    "start_time": "2023-05-11T15:20:53.129Z"
   },
   {
    "duration": 4769,
    "start_time": "2023-05-11T15:21:42.237Z"
   },
   {
    "duration": 5,
    "start_time": "2023-05-11T15:30:21.521Z"
   },
   {
    "duration": 4544,
    "start_time": "2023-05-11T15:30:36.214Z"
   },
   {
    "duration": 0,
    "start_time": "2023-05-11T15:30:59.472Z"
   },
   {
    "duration": 4400,
    "start_time": "2023-05-11T15:31:02.382Z"
   },
   {
    "duration": 15254,
    "start_time": "2023-05-11T15:32:51.203Z"
   },
   {
    "duration": 4960,
    "start_time": "2023-05-11T15:33:35.114Z"
   },
   {
    "duration": 4817,
    "start_time": "2023-05-11T15:35:22.085Z"
   },
   {
    "duration": 49,
    "start_time": "2023-05-11T15:46:53.590Z"
   },
   {
    "duration": 509,
    "start_time": "2023-05-11T15:51:44.231Z"
   },
   {
    "duration": 715,
    "start_time": "2023-05-11T15:52:26.719Z"
   },
   {
    "duration": 22,
    "start_time": "2023-05-11T15:52:29.896Z"
   },
   {
    "duration": 3,
    "start_time": "2023-05-11T15:54:18.429Z"
   },
   {
    "duration": 29,
    "start_time": "2023-05-11T15:54:19.797Z"
   },
   {
    "duration": 7,
    "start_time": "2023-05-11T15:54:38.086Z"
   },
   {
    "duration": 5,
    "start_time": "2023-05-11T15:55:03.993Z"
   },
   {
    "duration": 5,
    "start_time": "2023-05-11T15:55:40.397Z"
   },
   {
    "duration": 6,
    "start_time": "2023-05-11T15:55:53.736Z"
   },
   {
    "duration": 13,
    "start_time": "2023-05-11T15:58:04.900Z"
   },
   {
    "duration": 10,
    "start_time": "2023-05-11T15:58:06.792Z"
   },
   {
    "duration": 148,
    "start_time": "2023-05-11T16:04:03.006Z"
   },
   {
    "duration": 9,
    "start_time": "2023-05-11T16:04:32.257Z"
   },
   {
    "duration": 73,
    "start_time": "2023-05-11T16:04:34.338Z"
   },
   {
    "duration": 5,
    "start_time": "2023-05-11T16:04:42.901Z"
   },
   {
    "duration": 503113,
    "start_time": "2023-05-11T16:04:44.115Z"
   },
   {
    "duration": 483683,
    "start_time": "2023-05-11T16:18:32.067Z"
   },
   {
    "duration": 31,
    "start_time": "2023-05-11T16:29:16.095Z"
   },
   {
    "duration": 35,
    "start_time": "2023-05-11T16:31:26.188Z"
   },
   {
    "duration": 51,
    "start_time": "2023-05-11T16:31:34.031Z"
   },
   {
    "duration": 62,
    "start_time": "2023-05-11T16:31:40.269Z"
   },
   {
    "duration": 50,
    "start_time": "2023-05-11T16:33:19.079Z"
   },
   {
    "duration": 8,
    "start_time": "2023-05-11T16:33:21.793Z"
   },
   {
    "duration": 6,
    "start_time": "2023-05-11T16:37:58.200Z"
   },
   {
    "duration": 464231,
    "start_time": "2023-05-11T16:38:01.227Z"
   },
   {
    "duration": 5,
    "start_time": "2023-05-11T16:46:47.540Z"
   },
   {
    "duration": 1411,
    "start_time": "2023-05-11T16:46:49.104Z"
   },
   {
    "duration": 8,
    "start_time": "2023-05-11T16:49:28.074Z"
   },
   {
    "duration": 392869,
    "start_time": "2023-05-11T16:49:29.199Z"
   },
   {
    "duration": 19,
    "start_time": "2023-05-11T17:00:16.426Z"
   },
   {
    "duration": 6,
    "start_time": "2023-05-11T17:01:12.896Z"
   },
   {
    "duration": 25,
    "start_time": "2023-05-11T17:14:31.861Z"
   },
   {
    "duration": 26,
    "start_time": "2023-05-11T17:27:41.304Z"
   },
   {
    "duration": 341,
    "start_time": "2023-05-11T17:27:54.112Z"
   },
   {
    "duration": 5,
    "start_time": "2023-05-11T17:27:54.455Z"
   },
   {
    "duration": 43602,
    "start_time": "2023-05-11T17:27:55.438Z"
   },
   {
    "duration": 168,
    "start_time": "2023-05-11T17:28:49.801Z"
   },
   {
    "duration": 4,
    "start_time": "2023-05-11T17:28:58.022Z"
   },
   {
    "duration": 9,
    "start_time": "2023-05-11T17:29:32.985Z"
   },
   {
    "duration": 19,
    "start_time": "2023-05-11T17:33:53.099Z"
   },
   {
    "duration": 129,
    "start_time": "2023-05-11T17:34:15.790Z"
   },
   {
    "duration": 15,
    "start_time": "2023-05-11T17:34:39.406Z"
   },
   {
    "duration": 123,
    "start_time": "2023-05-11T17:34:42.200Z"
   },
   {
    "duration": 3,
    "start_time": "2023-05-11T17:34:48.441Z"
   },
   {
    "duration": 1858,
    "start_time": "2023-05-11T17:34:51.271Z"
   },
   {
    "duration": 1576,
    "start_time": "2023-05-11T17:38:09.016Z"
   },
   {
    "duration": 35,
    "start_time": "2023-05-11T17:42:45.639Z"
   },
   {
    "duration": 101,
    "start_time": "2023-05-11T17:44:17.141Z"
   },
   {
    "duration": 47,
    "start_time": "2023-05-11T17:44:24.675Z"
   },
   {
    "duration": 12,
    "start_time": "2023-05-11T17:44:28.086Z"
   },
   {
    "duration": 39,
    "start_time": "2023-05-11T17:44:35.791Z"
   },
   {
    "duration": 14,
    "start_time": "2023-05-11T17:45:19.370Z"
   },
   {
    "duration": 218,
    "start_time": "2023-05-11T17:46:25.222Z"
   },
   {
    "duration": 1771,
    "start_time": "2023-05-11T17:48:29.472Z"
   },
   {
    "duration": 1721,
    "start_time": "2023-05-11T17:51:47.317Z"
   },
   {
    "duration": 81,
    "start_time": "2023-05-11T17:57:43.375Z"
   },
   {
    "duration": 5167,
    "start_time": "2023-05-11T17:57:44.940Z"
   },
   {
    "duration": 133,
    "start_time": "2023-05-11T17:58:07.277Z"
   },
   {
    "duration": 7147,
    "start_time": "2023-05-11T17:58:12.315Z"
   },
   {
    "duration": 2014,
    "start_time": "2023-05-12T03:50:18.422Z"
   },
   {
    "duration": 2499,
    "start_time": "2023-05-12T03:50:22.073Z"
   },
   {
    "duration": 24,
    "start_time": "2023-05-12T03:50:24.574Z"
   },
   {
    "duration": 11,
    "start_time": "2023-05-12T03:50:25.933Z"
   },
   {
    "duration": 9,
    "start_time": "2023-05-12T03:50:26.212Z"
   },
   {
    "duration": 9,
    "start_time": "2023-05-12T03:50:27.412Z"
   },
   {
    "duration": 12,
    "start_time": "2023-05-12T03:50:27.693Z"
   },
   {
    "duration": 8,
    "start_time": "2023-05-12T03:50:28.967Z"
   },
   {
    "duration": 136,
    "start_time": "2023-05-12T03:50:29.334Z"
   },
   {
    "duration": 9,
    "start_time": "2023-05-12T03:50:30.565Z"
   },
   {
    "duration": 4,
    "start_time": "2023-05-12T03:50:34.776Z"
   },
   {
    "duration": 11689,
    "start_time": "2023-05-12T03:50:38.135Z"
   },
   {
    "duration": 8545,
    "start_time": "2023-05-12T03:50:57.379Z"
   },
   {
    "duration": 3200,
    "start_time": "2023-05-12T03:51:13.451Z"
   },
   {
    "duration": 698,
    "start_time": "2023-05-12T03:51:16.653Z"
   },
   {
    "duration": 3,
    "start_time": "2023-05-12T03:51:17.524Z"
   },
   {
    "duration": 17327,
    "start_time": "2023-05-12T03:51:22.559Z"
   },
   {
    "duration": 4,
    "start_time": "2023-05-12T03:51:39.888Z"
   },
   {
    "duration": 720,
    "start_time": "2023-05-12T03:51:39.894Z"
   },
   {
    "duration": 21,
    "start_time": "2023-05-12T03:51:49.614Z"
   },
   {
    "duration": 4,
    "start_time": "2023-05-12T03:53:20.885Z"
   },
   {
    "duration": 2059,
    "start_time": "2023-05-12T03:53:35.351Z"
   },
   {
    "duration": 3,
    "start_time": "2023-05-12T03:55:47.427Z"
   },
   {
    "duration": 6572,
    "start_time": "2023-05-12T03:57:49.112Z"
   },
   {
    "duration": 30,
    "start_time": "2023-05-12T03:57:59.224Z"
   },
   {
    "duration": 2110,
    "start_time": "2023-05-12T03:58:16.114Z"
   },
   {
    "duration": 841,
    "start_time": "2023-05-12T03:58:21.412Z"
   },
   {
    "duration": 17,
    "start_time": "2023-05-12T03:58:22.255Z"
   },
   {
    "duration": 34,
    "start_time": "2023-05-12T03:58:22.273Z"
   },
   {
    "duration": 11,
    "start_time": "2023-05-12T03:58:22.310Z"
   },
   {
    "duration": 9,
    "start_time": "2023-05-12T03:58:22.640Z"
   },
   {
    "duration": 9,
    "start_time": "2023-05-12T03:58:22.811Z"
   },
   {
    "duration": 8,
    "start_time": "2023-05-12T03:58:24.108Z"
   },
   {
    "duration": 157,
    "start_time": "2023-05-12T03:58:24.328Z"
   },
   {
    "duration": 19,
    "start_time": "2023-05-12T03:58:24.588Z"
   },
   {
    "duration": 4,
    "start_time": "2023-05-12T03:58:27.337Z"
   },
   {
    "duration": 966,
    "start_time": "2023-05-12T03:58:27.663Z"
   },
   {
    "duration": 14,
    "start_time": "2023-05-12T03:58:28.631Z"
   },
   {
    "duration": 2884,
    "start_time": "2023-05-12T03:58:33.842Z"
   },
   {
    "duration": 8234,
    "start_time": "2023-05-12T03:58:37.855Z"
   },
   {
    "duration": 3190,
    "start_time": "2023-05-12T03:58:48.342Z"
   },
   {
    "duration": 525,
    "start_time": "2023-05-12T03:58:52.399Z"
   },
   {
    "duration": 3,
    "start_time": "2023-05-12T03:58:52.926Z"
   },
   {
    "duration": 2760,
    "start_time": "2023-05-12T03:59:01.788Z"
   },
   {
    "duration": 4,
    "start_time": "2023-05-12T03:59:06.302Z"
   },
   {
    "duration": 2572,
    "start_time": "2023-05-12T03:59:09.229Z"
   },
   {
    "duration": 424,
    "start_time": "2023-05-12T03:59:16.307Z"
   },
   {
    "duration": 88999,
    "start_time": "2023-05-12T03:59:20.413Z"
   },
   {
    "duration": 13,
    "start_time": "2023-05-12T04:01:21.890Z"
   },
   {
    "duration": 297,
    "start_time": "2023-05-12T04:01:22.281Z"
   },
   {
    "duration": 11,
    "start_time": "2023-05-12T04:01:24.872Z"
   },
   {
    "duration": 3,
    "start_time": "2023-05-12T04:01:25.084Z"
   },
   {
    "duration": 9664,
    "start_time": "2023-05-12T04:01:30.765Z"
   },
   {
    "duration": 348,
    "start_time": "2023-05-12T04:02:08.512Z"
   },
   {
    "duration": 3,
    "start_time": "2023-05-12T04:02:08.862Z"
   },
   {
    "duration": 966,
    "start_time": "2023-05-12T04:02:11.576Z"
   },
   {
    "duration": 11,
    "start_time": "2023-05-12T04:02:17.222Z"
   },
   {
    "duration": 9,
    "start_time": "2023-05-12T04:02:31.765Z"
   },
   {
    "duration": 5,
    "start_time": "2023-05-12T04:02:36.912Z"
   },
   {
    "duration": 442,
    "start_time": "2023-05-12T04:02:41.084Z"
   },
   {
    "duration": 2,
    "start_time": "2023-05-12T04:02:46.650Z"
   },
   {
    "duration": 308,
    "start_time": "2023-05-12T04:02:51.658Z"
   },
   {
    "duration": 50,
    "start_time": "2023-05-12T04:05:18.408Z"
   },
   {
    "duration": 7,
    "start_time": "2023-05-12T04:05:28.581Z"
   },
   {
    "duration": 3,
    "start_time": "2023-05-12T04:05:30.473Z"
   },
   {
    "duration": 65897,
    "start_time": "2023-05-12T04:06:53.601Z"
   },
   {
    "duration": 8,
    "start_time": "2023-05-12T04:20:35.413Z"
   },
   {
    "duration": 103,
    "start_time": "2023-05-12T04:20:37.030Z"
   },
   {
    "duration": 118,
    "start_time": "2023-05-12T04:24:11.520Z"
   },
   {
    "duration": 303,
    "start_time": "2023-05-12T04:27:23.846Z"
   },
   {
    "duration": 326,
    "start_time": "2023-05-12T04:33:46.862Z"
   },
   {
    "duration": 308,
    "start_time": "2023-05-12T04:34:45.278Z"
   },
   {
    "duration": 314,
    "start_time": "2023-05-12T04:36:03.335Z"
   },
   {
    "duration": 323,
    "start_time": "2023-05-12T04:46:34.504Z"
   },
   {
    "duration": 263,
    "start_time": "2023-05-12T04:48:17.275Z"
   },
   {
    "duration": 229,
    "start_time": "2023-05-12T04:49:44.887Z"
   },
   {
    "duration": 224,
    "start_time": "2023-05-12T04:50:34.480Z"
   },
   {
    "duration": 213895,
    "start_time": "2023-05-12T04:54:41.812Z"
   },
   {
    "duration": 16,
    "start_time": "2023-05-12T05:02:12.265Z"
   },
   {
    "duration": 18,
    "start_time": "2023-05-12T05:03:31.151Z"
   },
   {
    "duration": 37,
    "start_time": "2023-05-12T05:04:19.493Z"
   },
   {
    "duration": 157,
    "start_time": "2023-05-12T05:11:57.118Z"
   },
   {
    "duration": 161,
    "start_time": "2023-05-12T05:12:55.258Z"
   },
   {
    "duration": 7,
    "start_time": "2023-05-12T05:13:35.223Z"
   },
   {
    "duration": 54703,
    "start_time": "2023-05-12T05:13:37.202Z"
   },
   {
    "duration": 29,
    "start_time": "2023-05-12T05:17:46.718Z"
   },
   {
    "duration": 20,
    "start_time": "2023-05-12T05:17:59.464Z"
   },
   {
    "duration": 30,
    "start_time": "2023-05-12T05:19:18.684Z"
   },
   {
    "duration": 27,
    "start_time": "2023-05-12T05:25:23.277Z"
   },
   {
    "duration": 174,
    "start_time": "2023-05-12T05:29:30.171Z"
   },
   {
    "duration": 8,
    "start_time": "2023-05-12T05:57:03.849Z"
   },
   {
    "duration": 3618,
    "start_time": "2023-05-12T05:57:05.564Z"
   },
   {
    "duration": 10,
    "start_time": "2023-05-12T05:57:40.808Z"
   },
   {
    "duration": 12,
    "start_time": "2023-05-12T05:58:38.851Z"
   },
   {
    "duration": 3071,
    "start_time": "2023-05-12T05:58:48.235Z"
   },
   {
    "duration": 6,
    "start_time": "2023-05-12T06:00:13.720Z"
   },
   {
    "duration": 7,
    "start_time": "2023-05-12T06:05:49.674Z"
   },
   {
    "duration": 22733,
    "start_time": "2023-05-12T06:05:54.688Z"
   },
   {
    "duration": 5,
    "start_time": "2023-05-12T06:07:04.478Z"
   },
   {
    "duration": 5,
    "start_time": "2023-05-12T06:07:14.276Z"
   },
   {
    "duration": 13,
    "start_time": "2023-05-12T06:07:44.811Z"
   },
   {
    "duration": 143,
    "start_time": "2023-05-12T06:07:48.359Z"
   },
   {
    "duration": 7,
    "start_time": "2023-05-12T06:08:54.418Z"
   },
   {
    "duration": 9,
    "start_time": "2023-05-12T06:09:17.011Z"
   },
   {
    "duration": 160,
    "start_time": "2023-05-12T06:09:19.555Z"
   },
   {
    "duration": 5,
    "start_time": "2023-05-12T06:12:21.778Z"
   },
   {
    "duration": 4,
    "start_time": "2023-05-12T06:13:54.457Z"
   },
   {
    "duration": 8,
    "start_time": "2023-05-12T06:13:55.590Z"
   },
   {
    "duration": 14,
    "start_time": "2023-05-12T06:14:01.349Z"
   },
   {
    "duration": 5,
    "start_time": "2023-05-12T06:14:06.261Z"
   },
   {
    "duration": 167354,
    "start_time": "2023-05-12T06:14:11.053Z"
   },
   {
    "duration": 4,
    "start_time": "2023-05-12T06:17:59.149Z"
   },
   {
    "duration": 18,
    "start_time": "2023-05-12T06:26:36.597Z"
   },
   {
    "duration": 8,
    "start_time": "2023-05-12T06:28:13.370Z"
   },
   {
    "duration": 21,
    "start_time": "2023-05-12T06:28:16.767Z"
   },
   {
    "duration": 2932,
    "start_time": "2023-05-12T06:28:31.035Z"
   },
   {
    "duration": 2390,
    "start_time": "2023-05-12T06:28:46.650Z"
   },
   {
    "duration": 9,
    "start_time": "2023-05-12T06:29:06.004Z"
   },
   {
    "duration": 13,
    "start_time": "2023-05-12T06:29:12.958Z"
   },
   {
    "duration": 13,
    "start_time": "2023-05-12T06:29:37.398Z"
   },
   {
    "duration": 825,
    "start_time": "2023-05-12T06:29:50.907Z"
   },
   {
    "duration": 852,
    "start_time": "2023-05-12T06:29:54.961Z"
   },
   {
    "duration": 3571,
    "start_time": "2023-05-12T06:30:08.947Z"
   },
   {
    "duration": 8,
    "start_time": "2023-05-12T06:30:13.605Z"
   },
   {
    "duration": 3786,
    "start_time": "2023-05-12T06:30:13.865Z"
   },
   {
    "duration": 9,
    "start_time": "2023-05-12T06:31:01.538Z"
   },
   {
    "duration": 2694,
    "start_time": "2023-05-12T06:31:01.834Z"
   },
   {
    "duration": 23,
    "start_time": "2023-05-12T06:32:49.885Z"
   },
   {
    "duration": 10,
    "start_time": "2023-05-12T06:32:59.699Z"
   },
   {
    "duration": 2250,
    "start_time": "2023-05-12T06:33:02.343Z"
   },
   {
    "duration": 154284,
    "start_time": "2023-05-12T06:33:29.112Z"
   },
   {
    "duration": 4,
    "start_time": "2023-05-12T06:37:53.891Z"
   },
   {
    "duration": 5,
    "start_time": "2023-05-12T06:39:03.075Z"
   },
   {
    "duration": 93,
    "start_time": "2023-05-12T06:39:16.965Z"
   },
   {
    "duration": 9,
    "start_time": "2023-05-12T06:40:49.356Z"
   },
   {
    "duration": 2783,
    "start_time": "2023-05-12T06:40:50.911Z"
   },
   {
    "duration": 11,
    "start_time": "2023-05-12T06:41:03.069Z"
   },
   {
    "duration": 366243,
    "start_time": "2023-05-12T06:41:03.285Z"
   },
   {
    "duration": 5,
    "start_time": "2023-05-12T06:52:11.947Z"
   },
   {
    "duration": 136,
    "start_time": "2023-05-12T06:52:40.173Z"
   },
   {
    "duration": 9,
    "start_time": "2023-05-12T06:53:03.960Z"
   },
   {
    "duration": 372738,
    "start_time": "2023-05-12T06:53:06.870Z"
   },
   {
    "duration": 4,
    "start_time": "2023-05-12T06:59:19.611Z"
   },
   {
    "duration": 3095,
    "start_time": "2023-05-12T07:11:08.144Z"
   },
   {
    "duration": 35,
    "start_time": "2023-05-12T07:11:23.932Z"
   },
   {
    "duration": 133,
    "start_time": "2023-05-12T07:11:35.018Z"
   },
   {
    "duration": 41,
    "start_time": "2023-05-12T07:11:36.243Z"
   },
   {
    "duration": 28,
    "start_time": "2023-05-12T07:11:55.309Z"
   },
   {
    "duration": 31,
    "start_time": "2023-05-12T07:40:21.802Z"
   },
   {
    "duration": 21,
    "start_time": "2023-05-12T07:40:45.878Z"
   },
   {
    "duration": 92,
    "start_time": "2023-05-12T07:41:12.207Z"
   },
   {
    "duration": 61,
    "start_time": "2023-05-12T07:48:50.163Z"
   },
   {
    "duration": 44,
    "start_time": "2023-05-12T07:49:02.866Z"
   },
   {
    "duration": 145,
    "start_time": "2023-05-12T07:49:12.847Z"
   },
   {
    "duration": 72,
    "start_time": "2023-05-12T07:49:23.466Z"
   },
   {
    "duration": 40,
    "start_time": "2023-05-12T07:49:31.503Z"
   },
   {
    "duration": 3,
    "start_time": "2023-05-12T07:50:24.598Z"
   },
   {
    "duration": 3,
    "start_time": "2023-05-12T07:50:25.408Z"
   },
   {
    "duration": 29,
    "start_time": "2023-05-12T07:51:17.273Z"
   },
   {
    "duration": 30,
    "start_time": "2023-05-12T07:51:28.004Z"
   },
   {
    "duration": 30,
    "start_time": "2023-05-12T07:51:37.795Z"
   },
   {
    "duration": 48,
    "start_time": "2023-05-12T07:58:28.177Z"
   },
   {
    "duration": 31,
    "start_time": "2023-05-12T07:58:39.336Z"
   },
   {
    "duration": 67,
    "start_time": "2023-05-12T07:58:58.699Z"
   },
   {
    "duration": 51,
    "start_time": "2023-05-12T07:59:26.257Z"
   },
   {
    "duration": 44,
    "start_time": "2023-05-12T08:06:07.603Z"
   },
   {
    "duration": 24,
    "start_time": "2023-05-12T08:07:33.391Z"
   },
   {
    "duration": 53,
    "start_time": "2023-05-12T08:09:26.640Z"
   },
   {
    "duration": 28,
    "start_time": "2023-05-12T08:09:37.968Z"
   },
   {
    "duration": 60,
    "start_time": "2023-05-12T08:09:45.957Z"
   },
   {
    "duration": 209,
    "start_time": "2023-05-12T08:10:04.572Z"
   },
   {
    "duration": 37,
    "start_time": "2023-05-12T08:10:07.489Z"
   },
   {
    "duration": 66,
    "start_time": "2023-05-12T08:10:11.522Z"
   },
   {
    "duration": 34,
    "start_time": "2023-05-12T08:10:18.932Z"
   },
   {
    "duration": 87,
    "start_time": "2023-05-12T08:10:23.878Z"
   },
   {
    "duration": 25,
    "start_time": "2023-05-12T08:10:28.740Z"
   },
   {
    "duration": 52,
    "start_time": "2023-05-12T08:10:34.830Z"
   },
   {
    "duration": 48,
    "start_time": "2023-05-12T08:18:17.622Z"
   },
   {
    "duration": 30,
    "start_time": "2023-05-12T08:18:20.582Z"
   },
   {
    "duration": 26,
    "start_time": "2023-05-12T08:18:44.459Z"
   },
   {
    "duration": 30,
    "start_time": "2023-05-12T08:22:39.041Z"
   },
   {
    "duration": 2494,
    "start_time": "2023-05-12T08:32:53.378Z"
   },
   {
    "duration": 15501,
    "start_time": "2023-05-12T09:22:57.566Z"
   },
   {
    "duration": 4778,
    "start_time": "2023-05-12T09:23:13.069Z"
   },
   {
    "duration": 0,
    "start_time": "2023-05-12T09:23:17.849Z"
   },
   {
    "duration": 0,
    "start_time": "2023-05-12T09:23:17.850Z"
   },
   {
    "duration": 0,
    "start_time": "2023-05-12T09:23:17.852Z"
   },
   {
    "duration": 1,
    "start_time": "2023-05-12T09:23:17.853Z"
   },
   {
    "duration": 0,
    "start_time": "2023-05-12T09:23:17.855Z"
   },
   {
    "duration": 0,
    "start_time": "2023-05-12T09:23:17.856Z"
   },
   {
    "duration": 0,
    "start_time": "2023-05-12T09:23:17.857Z"
   },
   {
    "duration": 0,
    "start_time": "2023-05-12T09:23:17.858Z"
   },
   {
    "duration": 0,
    "start_time": "2023-05-12T09:23:17.860Z"
   },
   {
    "duration": 0,
    "start_time": "2023-05-12T09:23:17.861Z"
   },
   {
    "duration": 0,
    "start_time": "2023-05-12T09:23:17.862Z"
   },
   {
    "duration": 0,
    "start_time": "2023-05-12T09:23:17.863Z"
   },
   {
    "duration": 0,
    "start_time": "2023-05-12T09:23:17.864Z"
   },
   {
    "duration": 0,
    "start_time": "2023-05-12T09:23:17.865Z"
   },
   {
    "duration": 0,
    "start_time": "2023-05-12T09:23:17.866Z"
   },
   {
    "duration": 0,
    "start_time": "2023-05-12T09:23:17.867Z"
   },
   {
    "duration": 0,
    "start_time": "2023-05-12T09:23:17.895Z"
   },
   {
    "duration": 0,
    "start_time": "2023-05-12T09:23:17.896Z"
   },
   {
    "duration": 0,
    "start_time": "2023-05-12T09:23:17.897Z"
   },
   {
    "duration": 0,
    "start_time": "2023-05-12T09:23:17.898Z"
   },
   {
    "duration": 0,
    "start_time": "2023-05-12T09:23:17.899Z"
   },
   {
    "duration": 0,
    "start_time": "2023-05-12T09:23:17.900Z"
   },
   {
    "duration": 0,
    "start_time": "2023-05-12T09:23:17.901Z"
   },
   {
    "duration": 0,
    "start_time": "2023-05-12T09:23:17.902Z"
   },
   {
    "duration": 0,
    "start_time": "2023-05-12T09:23:17.903Z"
   },
   {
    "duration": 0,
    "start_time": "2023-05-12T09:23:17.904Z"
   },
   {
    "duration": 0,
    "start_time": "2023-05-12T09:23:17.905Z"
   },
   {
    "duration": 0,
    "start_time": "2023-05-12T09:23:17.906Z"
   },
   {
    "duration": 0,
    "start_time": "2023-05-12T09:23:17.907Z"
   },
   {
    "duration": 0,
    "start_time": "2023-05-12T09:23:17.908Z"
   },
   {
    "duration": 0,
    "start_time": "2023-05-12T09:23:17.909Z"
   },
   {
    "duration": 0,
    "start_time": "2023-05-12T09:23:17.910Z"
   },
   {
    "duration": 0,
    "start_time": "2023-05-12T09:23:17.911Z"
   },
   {
    "duration": 0,
    "start_time": "2023-05-12T09:23:17.912Z"
   },
   {
    "duration": 0,
    "start_time": "2023-05-12T09:23:17.913Z"
   },
   {
    "duration": 0,
    "start_time": "2023-05-12T09:23:17.914Z"
   },
   {
    "duration": 0,
    "start_time": "2023-05-12T09:23:17.915Z"
   },
   {
    "duration": 0,
    "start_time": "2023-05-12T09:23:17.916Z"
   },
   {
    "duration": 0,
    "start_time": "2023-05-12T09:23:17.917Z"
   },
   {
    "duration": 0,
    "start_time": "2023-05-12T09:23:17.918Z"
   },
   {
    "duration": 0,
    "start_time": "2023-05-12T09:23:17.919Z"
   },
   {
    "duration": 16164,
    "start_time": "2023-05-12T09:24:52.966Z"
   },
   {
    "duration": 1832,
    "start_time": "2023-05-12T09:25:09.132Z"
   },
   {
    "duration": 3570,
    "start_time": "2023-05-12T09:25:10.966Z"
   },
   {
    "duration": 790,
    "start_time": "2023-05-12T09:25:14.539Z"
   },
   {
    "duration": 17,
    "start_time": "2023-05-12T09:25:15.331Z"
   },
   {
    "duration": 12,
    "start_time": "2023-05-12T09:25:15.350Z"
   },
   {
    "duration": 6,
    "start_time": "2023-05-12T09:25:15.364Z"
   },
   {
    "duration": 32,
    "start_time": "2023-05-12T09:25:15.372Z"
   },
   {
    "duration": 10,
    "start_time": "2023-05-12T09:25:15.406Z"
   },
   {
    "duration": 11,
    "start_time": "2023-05-12T09:25:15.419Z"
   },
   {
    "duration": 151,
    "start_time": "2023-05-12T09:25:15.431Z"
   },
   {
    "duration": 13,
    "start_time": "2023-05-12T09:25:15.583Z"
   },
   {
    "duration": 6,
    "start_time": "2023-05-12T09:25:15.598Z"
   },
   {
    "duration": 8,
    "start_time": "2023-05-12T09:25:15.605Z"
   },
   {
    "duration": 5,
    "start_time": "2023-05-12T09:25:15.615Z"
   },
   {
    "duration": 460,
    "start_time": "2023-05-12T09:25:15.621Z"
   },
   {
    "duration": 2,
    "start_time": "2023-05-12T09:25:16.083Z"
   },
   {
    "duration": 89482,
    "start_time": "2023-05-12T09:25:16.087Z"
   },
   {
    "duration": 11,
    "start_time": "2023-05-12T09:26:45.570Z"
   },
   {
    "duration": 4,
    "start_time": "2023-05-12T09:26:45.594Z"
   },
   {
    "duration": 8907,
    "start_time": "2023-05-12T09:26:45.599Z"
   },
   {
    "duration": 294,
    "start_time": "2023-05-12T09:26:54.509Z"
   },
   {
    "duration": 4,
    "start_time": "2023-05-12T09:26:54.805Z"
   },
   {
    "duration": 938,
    "start_time": "2023-05-12T09:26:54.811Z"
   },
   {
    "duration": 13,
    "start_time": "2023-05-12T09:26:55.750Z"
   },
   {
    "duration": 30,
    "start_time": "2023-05-12T09:26:55.765Z"
   },
   {
    "duration": 10,
    "start_time": "2023-05-12T09:26:55.797Z"
   },
   {
    "duration": 9,
    "start_time": "2023-05-12T09:26:55.810Z"
   },
   {
    "duration": 165075,
    "start_time": "2023-05-12T09:26:55.821Z"
   },
   {
    "duration": 6,
    "start_time": "2023-05-12T09:29:40.898Z"
   },
   {
    "duration": 357222,
    "start_time": "2023-05-12T09:29:40.906Z"
   },
   {
    "duration": 5,
    "start_time": "2023-05-12T09:35:38.130Z"
   },
   {
    "duration": 397684,
    "start_time": "2023-05-12T09:35:38.138Z"
   },
   {
    "duration": 4,
    "start_time": "2023-05-12T09:42:15.824Z"
   },
   {
    "duration": 6804,
    "start_time": "2023-05-12T09:42:15.829Z"
   },
   {
    "duration": 0,
    "start_time": "2023-05-12T09:42:22.634Z"
   },
   {
    "duration": 0,
    "start_time": "2023-05-12T09:42:22.635Z"
   },
   {
    "duration": 0,
    "start_time": "2023-05-12T09:42:22.637Z"
   },
   {
    "duration": 0,
    "start_time": "2023-05-12T09:42:22.638Z"
   },
   {
    "duration": 0,
    "start_time": "2023-05-12T09:42:22.639Z"
   },
   {
    "duration": 0,
    "start_time": "2023-05-12T09:42:22.640Z"
   },
   {
    "duration": 0,
    "start_time": "2023-05-12T09:42:22.641Z"
   },
   {
    "duration": 0,
    "start_time": "2023-05-12T09:42:22.642Z"
   },
   {
    "duration": 5,
    "start_time": "2023-05-12T09:48:30.148Z"
   },
   {
    "duration": 13,
    "start_time": "2023-05-12T09:48:35.408Z"
   },
   {
    "duration": 4732,
    "start_time": "2023-05-12T09:48:52.928Z"
   },
   {
    "duration": 5,
    "start_time": "2023-05-12T09:49:07.785Z"
   },
   {
    "duration": 30095,
    "start_time": "2023-05-12T09:49:09.889Z"
   },
   {
    "duration": 26,
    "start_time": "2023-05-12T09:49:39.986Z"
   },
   {
    "duration": 36397,
    "start_time": "2023-05-12T09:50:04.214Z"
   },
   {
    "duration": 5,
    "start_time": "2023-05-12T09:50:40.613Z"
   },
   {
    "duration": 25637,
    "start_time": "2023-05-12T09:51:29.558Z"
   },
   {
    "duration": 4,
    "start_time": "2023-05-12T09:52:00.923Z"
   },
   {
    "duration": 19,
    "start_time": "2023-05-12T09:52:29.046Z"
   },
   {
    "duration": 23,
    "start_time": "2023-05-12T09:52:45.258Z"
   },
   {
    "duration": 21506,
    "start_time": "2023-05-12T09:54:07.267Z"
   },
   {
    "duration": 4,
    "start_time": "2023-05-12T09:55:11.089Z"
   },
   {
    "duration": 87,
    "start_time": "2023-05-12T09:58:23.019Z"
   },
   {
    "duration": 88,
    "start_time": "2023-05-12T09:58:38.043Z"
   },
   {
    "duration": 6,
    "start_time": "2023-05-12T09:58:40.115Z"
   },
   {
    "duration": 87,
    "start_time": "2023-05-12T09:58:41.926Z"
   },
   {
    "duration": 37,
    "start_time": "2023-05-12T10:01:15.272Z"
   },
   {
    "duration": 150,
    "start_time": "2023-05-12T10:01:26.132Z"
   },
   {
    "duration": 149,
    "start_time": "2023-05-12T10:01:49.032Z"
   },
   {
    "duration": 15529,
    "start_time": "2023-05-12T10:02:35.930Z"
   },
   {
    "duration": 2223,
    "start_time": "2023-05-12T10:02:51.464Z"
   },
   {
    "duration": 3511,
    "start_time": "2023-05-12T10:02:53.689Z"
   },
   {
    "duration": 760,
    "start_time": "2023-05-12T10:02:57.203Z"
   },
   {
    "duration": 2,
    "start_time": "2023-05-12T10:02:57.965Z"
   },
   {
    "duration": 33,
    "start_time": "2023-05-12T10:02:57.968Z"
   },
   {
    "duration": 17,
    "start_time": "2023-05-12T10:02:58.003Z"
   },
   {
    "duration": 10,
    "start_time": "2023-05-12T10:02:58.022Z"
   },
   {
    "duration": 10,
    "start_time": "2023-05-12T10:02:58.034Z"
   },
   {
    "duration": 59,
    "start_time": "2023-05-12T10:02:58.046Z"
   },
   {
    "duration": 159,
    "start_time": "2023-05-12T10:02:58.106Z"
   },
   {
    "duration": 11,
    "start_time": "2023-05-12T10:02:58.266Z"
   },
   {
    "duration": 4,
    "start_time": "2023-05-12T10:02:58.278Z"
   },
   {
    "duration": 2,
    "start_time": "2023-05-12T10:02:58.295Z"
   },
   {
    "duration": 5,
    "start_time": "2023-05-12T10:02:58.298Z"
   },
   {
    "duration": 474,
    "start_time": "2023-05-12T10:02:58.304Z"
   },
   {
    "duration": 3,
    "start_time": "2023-05-12T10:02:58.780Z"
   },
   {
    "duration": 2452875,
    "start_time": "2023-05-12T10:02:58.785Z"
   },
   {
    "duration": 10,
    "start_time": "2023-05-12T10:43:51.662Z"
   },
   {
    "duration": 3,
    "start_time": "2023-05-12T10:43:51.674Z"
   },
   {
    "duration": 255537,
    "start_time": "2023-05-12T10:43:51.694Z"
   },
   {
    "duration": 333,
    "start_time": "2023-05-12T10:48:07.233Z"
   },
   {
    "duration": 3,
    "start_time": "2023-05-12T10:48:07.568Z"
   },
   {
    "duration": 26859,
    "start_time": "2023-05-12T10:48:07.573Z"
   },
   {
    "duration": 62,
    "start_time": "2023-05-12T10:48:34.434Z"
   },
   {
    "duration": 304,
    "start_time": "2023-05-12T10:48:34.498Z"
   },
   {
    "duration": 132,
    "start_time": "2023-05-12T10:48:34.804Z"
   },
   {
    "duration": 4,
    "start_time": "2023-05-12T10:48:34.941Z"
   },
   {
    "duration": 3953565,
    "start_time": "2023-05-12T10:48:34.946Z"
   },
   {
    "duration": 87,
    "start_time": "2023-05-12T11:54:28.513Z"
   },
   {
    "duration": 1701824,
    "start_time": "2023-05-12T11:54:28.609Z"
   },
   {
    "duration": 4,
    "start_time": "2023-05-12T12:22:50.435Z"
   },
   {
    "duration": 8118092,
    "start_time": "2023-05-12T12:22:50.440Z"
   },
   {
    "duration": 4,
    "start_time": "2023-05-12T14:38:08.534Z"
   },
   {
    "duration": 10,
    "start_time": "2023-05-12T14:38:08.539Z"
   },
   {
    "duration": 62357,
    "start_time": "2023-05-12T14:38:08.551Z"
   },
   {
    "duration": 5,
    "start_time": "2023-05-12T14:39:10.911Z"
   },
   {
    "duration": 2425,
    "start_time": "2023-05-12T14:39:10.918Z"
   },
   {
    "duration": 1439,
    "start_time": "2023-05-12T14:39:13.344Z"
   },
   {
    "duration": 34,
    "start_time": "2023-05-12T14:39:14.784Z"
   },
   {
    "duration": 1330,
    "start_time": "2023-05-12T14:39:14.820Z"
   },
   {
    "duration": 3,
    "start_time": "2023-05-12T14:39:16.152Z"
   },
   {
    "duration": 7,
    "start_time": "2023-05-12T14:39:16.157Z"
   },
   {
    "duration": 15,
    "start_time": "2023-05-12T14:39:16.166Z"
   },
   {
    "duration": 10,
    "start_time": "2023-05-12T14:40:54.716Z"
   },
   {
    "duration": 8,
    "start_time": "2023-05-12T14:43:52.983Z"
   },
   {
    "duration": 348,
    "start_time": "2023-05-12T14:44:22.858Z"
   },
   {
    "duration": 25,
    "start_time": "2023-05-12T14:45:05.912Z"
   },
   {
    "duration": 3,
    "start_time": "2023-05-12T14:45:13.007Z"
   },
   {
    "duration": 9,
    "start_time": "2023-05-12T14:45:40.456Z"
   },
   {
    "duration": 3,
    "start_time": "2023-05-12T14:46:28.735Z"
   },
   {
    "duration": 17,
    "start_time": "2023-05-12T14:47:30.892Z"
   },
   {
    "duration": 5,
    "start_time": "2023-05-12T14:48:24.758Z"
   },
   {
    "duration": 10,
    "start_time": "2023-05-12T14:49:26.406Z"
   },
   {
    "duration": 5,
    "start_time": "2023-05-12T14:50:29.731Z"
   },
   {
    "duration": 12,
    "start_time": "2023-05-12T14:51:05.990Z"
   },
   {
    "duration": 18391,
    "start_time": "2023-05-12T14:53:31.046Z"
   },
   {
    "duration": 2435,
    "start_time": "2023-05-12T14:53:49.439Z"
   },
   {
    "duration": 3937,
    "start_time": "2023-05-12T14:53:51.875Z"
   },
   {
    "duration": 853,
    "start_time": "2023-05-12T14:53:55.814Z"
   },
   {
    "duration": 2,
    "start_time": "2023-05-12T14:53:56.670Z"
   },
   {
    "duration": 45,
    "start_time": "2023-05-12T14:53:56.674Z"
   },
   {
    "duration": 22,
    "start_time": "2023-05-12T14:53:56.721Z"
   },
   {
    "duration": 21,
    "start_time": "2023-05-12T14:53:56.744Z"
   },
   {
    "duration": 30,
    "start_time": "2023-05-12T14:53:56.766Z"
   },
   {
    "duration": 70,
    "start_time": "2023-05-12T14:53:56.798Z"
   },
   {
    "duration": 180,
    "start_time": "2023-05-12T14:53:56.869Z"
   },
   {
    "duration": 11,
    "start_time": "2023-05-12T14:53:57.051Z"
   },
   {
    "duration": 19,
    "start_time": "2023-05-12T14:53:57.063Z"
   },
   {
    "duration": 35,
    "start_time": "2023-05-12T14:53:57.086Z"
   },
   {
    "duration": 25,
    "start_time": "2023-05-12T14:53:57.123Z"
   },
   {
    "duration": 531,
    "start_time": "2023-05-12T14:53:57.149Z"
   },
   {
    "duration": 4,
    "start_time": "2023-05-12T14:53:57.682Z"
   },
   {
    "duration": 2659806,
    "start_time": "2023-05-12T14:53:57.694Z"
   },
   {
    "duration": 12,
    "start_time": "2023-05-12T15:38:17.502Z"
   },
   {
    "duration": 23,
    "start_time": "2023-05-12T15:38:17.516Z"
   },
   {
    "duration": 279508,
    "start_time": "2023-05-12T15:38:17.541Z"
   },
   {
    "duration": 335,
    "start_time": "2023-05-12T15:42:57.051Z"
   },
   {
    "duration": 3,
    "start_time": "2023-05-12T15:42:57.388Z"
   },
   {
    "duration": 30686,
    "start_time": "2023-05-12T15:42:57.393Z"
   },
   {
    "duration": 27,
    "start_time": "2023-05-12T15:43:28.081Z"
   },
   {
    "duration": 285,
    "start_time": "2023-05-12T15:43:28.110Z"
   },
   {
    "duration": 109,
    "start_time": "2023-05-12T15:43:28.396Z"
   },
   {
    "duration": 3,
    "start_time": "2023-05-12T15:43:28.508Z"
   },
   {
    "duration": 4080990,
    "start_time": "2023-05-12T15:43:28.512Z"
   },
   {
    "duration": 90,
    "start_time": "2023-05-12T16:51:29.505Z"
   },
   {
    "duration": 12191690,
    "start_time": "2023-05-12T16:51:29.597Z"
   },
   {
    "duration": 4,
    "start_time": "2023-05-12T20:14:41.289Z"
   },
   {
    "duration": 17856211,
    "start_time": "2023-05-13T12:32:10.534Z"
   },
   {
    "duration": 9,
    "start_time": "2023-05-13T17:29:46.752Z"
   },
   {
    "duration": 36,
    "start_time": "2023-05-13T17:29:46.799Z"
   },
   {
    "duration": 971986,
    "start_time": "2023-05-13T17:29:46.858Z"
   },
   {
    "duration": 7,
    "start_time": "2023-05-13T17:45:58.851Z"
   },
   {
    "duration": 5427,
    "start_time": "2023-05-13T17:45:58.871Z"
   },
   {
    "duration": 2882,
    "start_time": "2023-05-13T17:46:04.300Z"
   },
   {
    "duration": 13,
    "start_time": "2023-05-13T17:46:07.183Z"
   },
   {
    "duration": 3129,
    "start_time": "2023-05-13T17:46:07.204Z"
   },
   {
    "duration": 3219,
    "start_time": "2023-05-13T18:01:38.662Z"
   },
   {
    "duration": 2542,
    "start_time": "2023-05-13T18:01:50.108Z"
   },
   {
    "duration": 8,
    "start_time": "2023-05-13T18:01:57.704Z"
   },
   {
    "duration": 1640,
    "start_time": "2023-05-13T18:01:59.469Z"
   },
   {
    "duration": 509,
    "start_time": "2023-05-15T11:45:41.525Z"
   },
   {
    "duration": 1614,
    "start_time": "2023-05-15T11:45:49.954Z"
   },
   {
    "duration": 15,
    "start_time": "2023-05-15T11:45:54.724Z"
   },
   {
    "duration": 10,
    "start_time": "2023-05-15T11:47:50.058Z"
   },
   {
    "duration": 101,
    "start_time": "2023-05-15T11:49:09.257Z"
   }
  ],
  "kernelspec": {
   "display_name": "Python 3 (ipykernel)",
   "language": "python",
   "name": "python3"
  },
  "language_info": {
   "codemirror_mode": {
    "name": "ipython",
    "version": 3
   },
   "file_extension": ".py",
   "mimetype": "text/x-python",
   "name": "python",
   "nbconvert_exporter": "python",
   "pygments_lexer": "ipython3",
   "version": "3.9.13"
  },
  "toc": {
   "base_numbering": 1,
   "nav_menu": {},
   "number_sections": true,
   "sideBar": true,
   "skip_h1_title": true,
   "title_cell": "Содержание",
   "title_sidebar": "Contents",
   "toc_cell": true,
   "toc_position": {
    "height": "calc(100% - 180px)",
    "left": "10px",
    "top": "150px",
    "width": "302.391px"
   },
   "toc_section_display": true,
   "toc_window_display": true
  }
 },
 "nbformat": 4,
 "nbformat_minor": 4
}
