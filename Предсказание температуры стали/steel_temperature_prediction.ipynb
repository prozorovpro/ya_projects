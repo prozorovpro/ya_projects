{
 "cells": [
  {
   "cell_type": "markdown",
   "id": "91468212-4791-4db5-8f77-e1b1ed3603ca",
   "metadata": {
    "tags": [],
    "toc-hr-collapsed": true
   },
   "source": [
    "## Задача"
   ]
  },
  {
   "cell_type": "markdown",
   "id": "5c47f002-e9d1-41e1-bccc-2654c0a9a329",
   "metadata": {},
   "source": [
    "Чтобы оптимизировать производственные расходы, металлургический комбинат ООО «Так закаляем сталь» решил уменьшить потребление электроэнергии на этапе обработки стали.\n",
    "\n",
    "Нужно постоить модель, которая предскажет температуру стали."
   ]
  },
  {
   "cell_type": "markdown",
   "id": "85354ad2-e5ea-4021-8b63-14934eca31bc",
   "metadata": {
    "tags": []
   },
   "source": [
    "## Описание данных "
   ]
  },
  {
   "cell_type": "markdown",
   "id": "b890e941-d01d-4f55-afc2-17b2bb1cdeae",
   "metadata": {},
   "source": [
    "Описание данных\n",
    "Данные состоят из файлов, полученных из разных источников:\n",
    "- data_arc_new.csv — данные об электродах;\n",
    "- data_bulk_new.csv — данные о подаче сыпучих материалов (объём);\n",
    "- data_bulk_time_new.csv — данные о подаче сыпучих материалов (время);\n",
    "- data_gas_new.csv — данные о продувке сплава газом;\n",
    "- data_temp_new.csv — результаты измерения температуры;\n",
    "- data_wire_new.csv — данные о проволочных материалах (объём);\n",
    "- data_wire_time_new.csv — данные о проволочных материалах (время).\n",
    "\n",
    "Во всех файлах столбец key содержит номер партии. В файлах может быть несколько строк с одинаковым значением key: они соответствуют разным итерациям обработки."
   ]
  },
  {
   "cell_type": "code",
   "execution_count": 1,
   "id": "0c95046e-4923-43aa-b852-a519ecaaa511",
   "metadata": {},
   "outputs": [
    {
     "name": "stdout",
     "output_type": "stream",
     "text": [
      "Defaulting to user installation because normal site-packages is not writeable\n",
      "Requirement already satisfied: missingno in c:\\users\\кирилл\\appdata\\roaming\\python\\python39\\site-packages (0.5.2)\n",
      "Requirement already satisfied: matplotlib in c:\\anaconda3\\lib\\site-packages (from missingno) (3.5.2)\n",
      "Requirement already satisfied: scipy in c:\\anaconda3\\lib\\site-packages (from missingno) (1.9.1)\n",
      "Requirement already satisfied: seaborn in c:\\anaconda3\\lib\\site-packages (from missingno) (0.11.2)\n",
      "Requirement already satisfied: numpy in c:\\anaconda3\\lib\\site-packages (from missingno) (1.21.5)\n",
      "Requirement already satisfied: packaging>=20.0 in c:\\anaconda3\\lib\\site-packages (from matplotlib->missingno) (21.3)\n",
      "Requirement already satisfied: kiwisolver>=1.0.1 in c:\\anaconda3\\lib\\site-packages (from matplotlib->missingno) (1.4.2)\n",
      "Requirement already satisfied: python-dateutil>=2.7 in c:\\anaconda3\\lib\\site-packages (from matplotlib->missingno) (2.8.2)\n",
      "Requirement already satisfied: fonttools>=4.22.0 in c:\\anaconda3\\lib\\site-packages (from matplotlib->missingno) (4.25.0)\n",
      "Requirement already satisfied: pyparsing>=2.2.1 in c:\\anaconda3\\lib\\site-packages (from matplotlib->missingno) (3.0.9)\n",
      "Requirement already satisfied: pillow>=6.2.0 in c:\\anaconda3\\lib\\site-packages (from matplotlib->missingno) (9.2.0)\n",
      "Requirement already satisfied: cycler>=0.10 in c:\\anaconda3\\lib\\site-packages (from matplotlib->missingno) (0.11.0)\n",
      "Requirement already satisfied: pandas>=0.23 in c:\\anaconda3\\lib\\site-packages (from seaborn->missingno) (1.4.4)\n",
      "Requirement already satisfied: pytz>=2020.1 in c:\\anaconda3\\lib\\site-packages (from pandas>=0.23->seaborn->missingno) (2022.1)\n",
      "Requirement already satisfied: six>=1.5 in c:\\anaconda3\\lib\\site-packages (from python-dateutil>=2.7->matplotlib->missingno) (1.16.0)\n",
      "Defaulting to user installation because normal site-packages is not writeable\n",
      "Requirement already satisfied: xgboost in c:\\users\\кирилл\\appdata\\roaming\\python\\python39\\site-packages (1.7.6)\n",
      "Requirement already satisfied: scipy in c:\\anaconda3\\lib\\site-packages (from xgboost) (1.9.1)\n",
      "Requirement already satisfied: numpy in c:\\anaconda3\\lib\\site-packages (from xgboost) (1.21.5)\n"
     ]
    }
   ],
   "source": [
    "!pip install missingno\n",
    "!pip install xgboost"
   ]
  },
  {
   "cell_type": "code",
   "execution_count": 2,
   "id": "e43fe8de-d213-4f8f-8a30-a7fcf7c3cb8b",
   "metadata": {},
   "outputs": [],
   "source": [
    "import pandas as pd\n",
    "import numpy as np\n",
    "import matplotlib.pyplot as plt\n",
    "import os\n",
    "import missingno as msno\n",
    "import seaborn as sns\n",
    "\n",
    "from sklearn.preprocessing import StandardScaler\n",
    "from sklearn.model_selection import train_test_split, cross_val_score, RandomizedSearchCV\n",
    "from sklearn.metrics import mean_absolute_error\n",
    "from sklearn.pipeline import Pipeline\n",
    "from sklearn.linear_model import LinearRegression\n",
    "from xgboost import XGBRegressor\n",
    "from catboost import CatBoostRegressor\n",
    "from lightgbm import LGBMRegressor\n",
    "\n",
    "RS = 30723\n",
    "import warnings\n",
    "warnings.filterwarnings('ignore')"
   ]
  },
  {
   "cell_type": "code",
   "execution_count": 3,
   "id": "92658835-a94e-47cc-8623-f0d4ca4a3a01",
   "metadata": {},
   "outputs": [],
   "source": [
    "path = 'C:/data/progect_metal/' if os.path.exists('C:/data/progect_metal/') else '/datasets/'\n",
    "\n",
    "arc = pd.read_csv(path + 'data_arc_new.csv')\n",
    "bulk = pd.read_csv(path + 'data_bulk_new.csv')\n",
    "bulk_time = pd.read_csv(path + 'data_bulk_time_new.csv')\n",
    "gas = pd.read_csv(path + 'data_gas_new.csv')\n",
    "temp = pd.read_csv(path + 'data_temp_new.csv')\n",
    "wire = pd.read_csv(path + 'data_wire_new.csv')\n",
    "wire_time = pd.read_csv(path + 'data_wire_time_new.csv')"
   ]
  },
  {
   "cell_type": "markdown",
   "id": "388f8481-2009-4146-9a58-43a83ef22afb",
   "metadata": {
    "tags": [],
    "toc-hr-collapsed": true
   },
   "source": [
    "### Анализ данных"
   ]
  },
  {
   "cell_type": "markdown",
   "id": "7d4c4d18-6076-4023-ab7f-f2e1b8c35a96",
   "metadata": {
    "tags": []
   },
   "source": [
    "#### Посмотрим на данные об электродах "
   ]
  },
  {
   "cell_type": "code",
   "execution_count": 4,
   "id": "fb00c743-44aa-4053-96dd-36741c189b70",
   "metadata": {},
   "outputs": [
    {
     "name": "stdout",
     "output_type": "stream",
     "text": [
      "<class 'pandas.core.frame.DataFrame'>\n",
      "RangeIndex: 14876 entries, 0 to 14875\n",
      "Data columns (total 5 columns):\n",
      " #   Column                Non-Null Count  Dtype  \n",
      "---  ------                --------------  -----  \n",
      " 0   key                   14876 non-null  int64  \n",
      " 1   Начало нагрева дугой  14876 non-null  object \n",
      " 2   Конец нагрева дугой   14876 non-null  object \n",
      " 3   Активная мощность     14876 non-null  float64\n",
      " 4   Реактивная мощность   14876 non-null  float64\n",
      "dtypes: float64(2), int64(1), object(2)\n",
      "memory usage: 581.2+ KB\n"
     ]
    }
   ],
   "source": [
    "arc.info()"
   ]
  },
  {
   "cell_type": "markdown",
   "id": "d9824de2-980e-46f9-80e6-6d10cc46dc7c",
   "metadata": {},
   "source": [
    "Пропусков нет"
   ]
  },
  {
   "cell_type": "code",
   "execution_count": 5,
   "id": "8239bb93-0d79-471c-af3a-3147103022d6",
   "metadata": {},
   "outputs": [
    {
     "data": {
      "text/plain": [
       "3214"
      ]
     },
     "execution_count": 5,
     "metadata": {},
     "output_type": "execute_result"
    }
   ],
   "source": [
    "arc['key'].nunique()"
   ]
  },
  {
   "cell_type": "markdown",
   "id": "4b031756-47f7-42b0-b99c-48bc4fdfb9fb",
   "metadata": {},
   "source": [
    "Всего 3214 партии"
   ]
  },
  {
   "cell_type": "code",
   "execution_count": 6,
   "id": "4bd699bd-e664-44f2-afc7-f422ae9cfb98",
   "metadata": {},
   "outputs": [
    {
     "data": {
      "text/html": [
       "<div>\n",
       "<style scoped>\n",
       "    .dataframe tbody tr th:only-of-type {\n",
       "        vertical-align: middle;\n",
       "    }\n",
       "\n",
       "    .dataframe tbody tr th {\n",
       "        vertical-align: top;\n",
       "    }\n",
       "\n",
       "    .dataframe thead th {\n",
       "        text-align: right;\n",
       "    }\n",
       "</style>\n",
       "<table border=\"1\" class=\"dataframe\">\n",
       "  <thead>\n",
       "    <tr style=\"text-align: right;\">\n",
       "      <th></th>\n",
       "      <th>key</th>\n",
       "      <th>Активная мощность</th>\n",
       "      <th>Реактивная мощность</th>\n",
       "    </tr>\n",
       "  </thead>\n",
       "  <tbody>\n",
       "    <tr>\n",
       "      <th>count</th>\n",
       "      <td>14876.000000</td>\n",
       "      <td>14876.000000</td>\n",
       "      <td>14876.000000</td>\n",
       "    </tr>\n",
       "    <tr>\n",
       "      <th>mean</th>\n",
       "      <td>1615.220422</td>\n",
       "      <td>0.662752</td>\n",
       "      <td>0.438986</td>\n",
       "    </tr>\n",
       "    <tr>\n",
       "      <th>std</th>\n",
       "      <td>934.571502</td>\n",
       "      <td>0.258885</td>\n",
       "      <td>5.873485</td>\n",
       "    </tr>\n",
       "    <tr>\n",
       "      <th>min</th>\n",
       "      <td>1.000000</td>\n",
       "      <td>0.223120</td>\n",
       "      <td>-715.479924</td>\n",
       "    </tr>\n",
       "    <tr>\n",
       "      <th>25%</th>\n",
       "      <td>806.000000</td>\n",
       "      <td>0.467115</td>\n",
       "      <td>0.337175</td>\n",
       "    </tr>\n",
       "    <tr>\n",
       "      <th>50%</th>\n",
       "      <td>1617.000000</td>\n",
       "      <td>0.599587</td>\n",
       "      <td>0.441639</td>\n",
       "    </tr>\n",
       "    <tr>\n",
       "      <th>75%</th>\n",
       "      <td>2429.000000</td>\n",
       "      <td>0.830070</td>\n",
       "      <td>0.608201</td>\n",
       "    </tr>\n",
       "    <tr>\n",
       "      <th>max</th>\n",
       "      <td>3241.000000</td>\n",
       "      <td>1.463773</td>\n",
       "      <td>1.270284</td>\n",
       "    </tr>\n",
       "  </tbody>\n",
       "</table>\n",
       "</div>"
      ],
      "text/plain": [
       "                key  Активная мощность  Реактивная мощность\n",
       "count  14876.000000       14876.000000         14876.000000\n",
       "mean    1615.220422           0.662752             0.438986\n",
       "std      934.571502           0.258885             5.873485\n",
       "min        1.000000           0.223120          -715.479924\n",
       "25%      806.000000           0.467115             0.337175\n",
       "50%     1617.000000           0.599587             0.441639\n",
       "75%     2429.000000           0.830070             0.608201\n",
       "max     3241.000000           1.463773             1.270284"
      ]
     },
     "execution_count": 6,
     "metadata": {},
     "output_type": "execute_result"
    }
   ],
   "source": [
    "arc.describe()"
   ]
  },
  {
   "cell_type": "code",
   "execution_count": 7,
   "id": "98f6bb13-7d51-4b3c-ae61-a4f88cc1dc21",
   "metadata": {},
   "outputs": [
    {
     "data": {
      "text/html": [
       "<div>\n",
       "<style scoped>\n",
       "    .dataframe tbody tr th:only-of-type {\n",
       "        vertical-align: middle;\n",
       "    }\n",
       "\n",
       "    .dataframe tbody tr th {\n",
       "        vertical-align: top;\n",
       "    }\n",
       "\n",
       "    .dataframe thead th {\n",
       "        text-align: right;\n",
       "    }\n",
       "</style>\n",
       "<table border=\"1\" class=\"dataframe\">\n",
       "  <thead>\n",
       "    <tr style=\"text-align: right;\">\n",
       "      <th></th>\n",
       "      <th>key</th>\n",
       "      <th>Начало нагрева дугой</th>\n",
       "      <th>Конец нагрева дугой</th>\n",
       "      <th>Активная мощность</th>\n",
       "      <th>Реактивная мощность</th>\n",
       "    </tr>\n",
       "  </thead>\n",
       "  <tbody>\n",
       "    <tr>\n",
       "      <th>9780</th>\n",
       "      <td>2116</td>\n",
       "      <td>2019-07-28 02:22:08</td>\n",
       "      <td>2019-07-28 02:23:57</td>\n",
       "      <td>0.705344</td>\n",
       "      <td>-715.479924</td>\n",
       "    </tr>\n",
       "    <tr>\n",
       "      <th>709</th>\n",
       "      <td>152</td>\n",
       "      <td>2019-05-09 11:26:58</td>\n",
       "      <td>2019-05-09 11:29:41</td>\n",
       "      <td>0.228852</td>\n",
       "      <td>0.153777</td>\n",
       "    </tr>\n",
       "    <tr>\n",
       "      <th>3290</th>\n",
       "      <td>711</td>\n",
       "      <td>2019-05-31 07:16:01</td>\n",
       "      <td>2019-05-31 07:20:05</td>\n",
       "      <td>0.242989</td>\n",
       "      <td>0.153921</td>\n",
       "    </tr>\n",
       "    <tr>\n",
       "      <th>11794</th>\n",
       "      <td>2567</td>\n",
       "      <td>2019-08-13 05:51:16</td>\n",
       "      <td>2019-08-13 05:52:22</td>\n",
       "      <td>0.288314</td>\n",
       "      <td>0.155221</td>\n",
       "    </tr>\n",
       "    <tr>\n",
       "      <th>6130</th>\n",
       "      <td>1336</td>\n",
       "      <td>2019-06-22 15:46:26</td>\n",
       "      <td>2019-06-22 15:47:50</td>\n",
       "      <td>0.244191</td>\n",
       "      <td>0.156525</td>\n",
       "    </tr>\n",
       "    <tr>\n",
       "      <th>...</th>\n",
       "      <td>...</td>\n",
       "      <td>...</td>\n",
       "      <td>...</td>\n",
       "      <td>...</td>\n",
       "      <td>...</td>\n",
       "    </tr>\n",
       "    <tr>\n",
       "      <th>8963</th>\n",
       "      <td>1944</td>\n",
       "      <td>2019-07-20 14:55:25</td>\n",
       "      <td>2019-07-20 14:59:27</td>\n",
       "      <td>1.399275</td>\n",
       "      <td>1.214912</td>\n",
       "    </tr>\n",
       "    <tr>\n",
       "      <th>14115</th>\n",
       "      <td>3069</td>\n",
       "      <td>2019-08-31 20:02:33</td>\n",
       "      <td>2019-08-31 20:04:24</td>\n",
       "      <td>1.339945</td>\n",
       "      <td>1.222632</td>\n",
       "    </tr>\n",
       "    <tr>\n",
       "      <th>8116</th>\n",
       "      <td>1759</td>\n",
       "      <td>2019-07-07 22:52:07</td>\n",
       "      <td>2019-07-07 22:56:35</td>\n",
       "      <td>1.381885</td>\n",
       "      <td>1.223063</td>\n",
       "    </tr>\n",
       "    <tr>\n",
       "      <th>3452</th>\n",
       "      <td>748</td>\n",
       "      <td>2019-06-01 16:24:02</td>\n",
       "      <td>2019-06-01 16:26:16</td>\n",
       "      <td>1.374768</td>\n",
       "      <td>1.258628</td>\n",
       "    </tr>\n",
       "    <tr>\n",
       "      <th>2591</th>\n",
       "      <td>564</td>\n",
       "      <td>2019-05-24 23:02:49</td>\n",
       "      <td>2019-05-24 23:05:31</td>\n",
       "      <td>1.410455</td>\n",
       "      <td>1.270284</td>\n",
       "    </tr>\n",
       "  </tbody>\n",
       "</table>\n",
       "<p>14876 rows × 5 columns</p>\n",
       "</div>"
      ],
      "text/plain": [
       "        key Начало нагрева дугой  Конец нагрева дугой  Активная мощность  \\\n",
       "9780   2116  2019-07-28 02:22:08  2019-07-28 02:23:57           0.705344   \n",
       "709     152  2019-05-09 11:26:58  2019-05-09 11:29:41           0.228852   \n",
       "3290    711  2019-05-31 07:16:01  2019-05-31 07:20:05           0.242989   \n",
       "11794  2567  2019-08-13 05:51:16  2019-08-13 05:52:22           0.288314   \n",
       "6130   1336  2019-06-22 15:46:26  2019-06-22 15:47:50           0.244191   \n",
       "...     ...                  ...                  ...                ...   \n",
       "8963   1944  2019-07-20 14:55:25  2019-07-20 14:59:27           1.399275   \n",
       "14115  3069  2019-08-31 20:02:33  2019-08-31 20:04:24           1.339945   \n",
       "8116   1759  2019-07-07 22:52:07  2019-07-07 22:56:35           1.381885   \n",
       "3452    748  2019-06-01 16:24:02  2019-06-01 16:26:16           1.374768   \n",
       "2591    564  2019-05-24 23:02:49  2019-05-24 23:05:31           1.410455   \n",
       "\n",
       "       Реактивная мощность  \n",
       "9780           -715.479924  \n",
       "709               0.153777  \n",
       "3290              0.153921  \n",
       "11794             0.155221  \n",
       "6130              0.156525  \n",
       "...                    ...  \n",
       "8963              1.214912  \n",
       "14115             1.222632  \n",
       "8116              1.223063  \n",
       "3452              1.258628  \n",
       "2591              1.270284  \n",
       "\n",
       "[14876 rows x 5 columns]"
      ]
     },
     "execution_count": 7,
     "metadata": {},
     "output_type": "execute_result"
    }
   ],
   "source": [
    "arc.sort_values('Реактивная мощность')"
   ]
  },
  {
   "cell_type": "markdown",
   "id": "516357a7-f52c-41c0-a9c8-4b6fdf881872",
   "metadata": {},
   "source": [
    "Одно отрицательное значение в колонке `Реактивная мощность`"
   ]
  },
  {
   "cell_type": "code",
   "execution_count": 8,
   "id": "ab86ab51-b65a-4797-8707-64ad336ce0d6",
   "metadata": {},
   "outputs": [
    {
     "data": {
      "image/png": "[encoded data removed]",
      "text/plain": [
       "<Figure size 640x480 with 1 Axes>"
      ]
     },
     "metadata": {},
     "output_type": "display_data"
    }
   ],
   "source": [
    "arc[arc['Реактивная мощность'] > 0]['Реактивная мощность'].hist(bins=100, color='blue', alpha=0.5, label='Реактивная мощность');\n",
    "arc[arc['Реактивная мощность'] > 0]['Активная мощность'].hist(bins=100, color='green', alpha=0.5, label='Активная мощность');\n",
    "\n",
    "plt.xlabel('Значения')\n",
    "plt.ylabel('Частота')\n",
    "plt.title('Гистограмма Реактивной и Активной мощности')\n",
    "plt.legend()\n",
    "\n",
    "plt.show()"
   ]
  },
  {
   "cell_type": "markdown",
   "id": "1a7c8240-9f48-499b-bd2a-5fb983912c7c",
   "metadata": {},
   "source": [
    "Выбросов помимо одного отрицательного значения нет"
   ]
  },
  {
   "cell_type": "markdown",
   "id": "492083ad-d421-426b-abea-0a9c63859f02",
   "metadata": {
    "tags": []
   },
   "source": [
    "#### Рассмотрим данные о подаче сыпучих материалов (объём и время)"
   ]
  },
  {
   "cell_type": "code",
   "execution_count": 9,
   "id": "098a1e85-d3f2-4f41-b1ca-4b55b8fdfc47",
   "metadata": {},
   "outputs": [
    {
     "name": "stdout",
     "output_type": "stream",
     "text": [
      "<class 'pandas.core.frame.DataFrame'>\n",
      "RangeIndex: 3129 entries, 0 to 3128\n",
      "Data columns (total 16 columns):\n",
      " #   Column   Non-Null Count  Dtype  \n",
      "---  ------   --------------  -----  \n",
      " 0   key      3129 non-null   int64  \n",
      " 1   Bulk 1   252 non-null    float64\n",
      " 2   Bulk 2   22 non-null     float64\n",
      " 3   Bulk 3   1298 non-null   float64\n",
      " 4   Bulk 4   1014 non-null   float64\n",
      " 5   Bulk 5   77 non-null     float64\n",
      " 6   Bulk 6   576 non-null    float64\n",
      " 7   Bulk 7   25 non-null     float64\n",
      " 8   Bulk 8   1 non-null      float64\n",
      " 9   Bulk 9   19 non-null     float64\n",
      " 10  Bulk 10  176 non-null    float64\n",
      " 11  Bulk 11  177 non-null    float64\n",
      " 12  Bulk 12  2450 non-null   float64\n",
      " 13  Bulk 13  18 non-null     float64\n",
      " 14  Bulk 14  2806 non-null   float64\n",
      " 15  Bulk 15  2248 non-null   float64\n",
      "dtypes: float64(15), int64(1)\n",
      "memory usage: 391.2 KB\n"
     ]
    }
   ],
   "source": [
    "bulk.info()"
   ]
  },
  {
   "cell_type": "code",
   "execution_count": 10,
   "id": "b7740049-40a0-4e09-9a42-35f141c5356c",
   "metadata": {},
   "outputs": [
    {
     "name": "stdout",
     "output_type": "stream",
     "text": [
      "<class 'pandas.core.frame.DataFrame'>\n",
      "RangeIndex: 3129 entries, 0 to 3128\n",
      "Data columns (total 16 columns):\n",
      " #   Column   Non-Null Count  Dtype \n",
      "---  ------   --------------  ----- \n",
      " 0   key      3129 non-null   int64 \n",
      " 1   Bulk 1   252 non-null    object\n",
      " 2   Bulk 2   22 non-null     object\n",
      " 3   Bulk 3   1298 non-null   object\n",
      " 4   Bulk 4   1014 non-null   object\n",
      " 5   Bulk 5   77 non-null     object\n",
      " 6   Bulk 6   576 non-null    object\n",
      " 7   Bulk 7   25 non-null     object\n",
      " 8   Bulk 8   1 non-null      object\n",
      " 9   Bulk 9   19 non-null     object\n",
      " 10  Bulk 10  176 non-null    object\n",
      " 11  Bulk 11  177 non-null    object\n",
      " 12  Bulk 12  2450 non-null   object\n",
      " 13  Bulk 13  18 non-null     object\n",
      " 14  Bulk 14  2806 non-null   object\n",
      " 15  Bulk 15  2248 non-null   object\n",
      "dtypes: int64(1), object(15)\n",
      "memory usage: 391.2+ KB\n"
     ]
    }
   ],
   "source": [
    "bulk_time.info()"
   ]
  },
  {
   "cell_type": "markdown",
   "id": "26ab97b3-a03d-46b4-a27c-adde8f0cafbd",
   "metadata": {},
   "source": [
    "Много пропусков, в некоторых столбцах пропущены почти все значения"
   ]
  },
  {
   "cell_type": "code",
   "execution_count": 11,
   "id": "a11e7810-1e29-441e-bd0f-d10c204d4da4",
   "metadata": {},
   "outputs": [
    {
     "data": {
      "text/plain": [
       "3129"
      ]
     },
     "execution_count": 11,
     "metadata": {},
     "output_type": "execute_result"
    }
   ],
   "source": [
    "bulk['key'].nunique()"
   ]
  },
  {
   "cell_type": "markdown",
   "id": "2dba19c4-6eab-4d9e-b01a-a333a5260aa2",
   "metadata": {},
   "source": [
    "В этой таблице партий меньше чем в таблице `arc`\n",
    "каждой партии соответствует одна строчка "
   ]
  },
  {
   "cell_type": "code",
   "execution_count": 12,
   "id": "aecf4365-cdc5-4e00-80b2-675ad96b375b",
   "metadata": {},
   "outputs": [
    {
     "data": {
      "text/html": [
       "<div>\n",
       "<style scoped>\n",
       "    .dataframe tbody tr th:only-of-type {\n",
       "        vertical-align: middle;\n",
       "    }\n",
       "\n",
       "    .dataframe tbody tr th {\n",
       "        vertical-align: top;\n",
       "    }\n",
       "\n",
       "    .dataframe thead th {\n",
       "        text-align: right;\n",
       "    }\n",
       "</style>\n",
       "<table border=\"1\" class=\"dataframe\">\n",
       "  <thead>\n",
       "    <tr style=\"text-align: right;\">\n",
       "      <th></th>\n",
       "      <th>key</th>\n",
       "      <th>Bulk 1</th>\n",
       "      <th>Bulk 2</th>\n",
       "      <th>Bulk 3</th>\n",
       "      <th>Bulk 4</th>\n",
       "      <th>Bulk 5</th>\n",
       "      <th>Bulk 6</th>\n",
       "      <th>Bulk 7</th>\n",
       "      <th>Bulk 8</th>\n",
       "      <th>Bulk 9</th>\n",
       "      <th>Bulk 10</th>\n",
       "      <th>Bulk 11</th>\n",
       "      <th>Bulk 12</th>\n",
       "      <th>Bulk 13</th>\n",
       "      <th>Bulk 14</th>\n",
       "      <th>Bulk 15</th>\n",
       "    </tr>\n",
       "  </thead>\n",
       "  <tbody>\n",
       "    <tr>\n",
       "      <th>count</th>\n",
       "      <td>3129.000000</td>\n",
       "      <td>252.000000</td>\n",
       "      <td>22.000000</td>\n",
       "      <td>1298.000000</td>\n",
       "      <td>1014.000000</td>\n",
       "      <td>77.000000</td>\n",
       "      <td>576.000000</td>\n",
       "      <td>25.000000</td>\n",
       "      <td>1.0</td>\n",
       "      <td>19.000000</td>\n",
       "      <td>176.000000</td>\n",
       "      <td>177.000000</td>\n",
       "      <td>2450.000000</td>\n",
       "      <td>18.000000</td>\n",
       "      <td>2806.000000</td>\n",
       "      <td>2248.000000</td>\n",
       "    </tr>\n",
       "    <tr>\n",
       "      <th>mean</th>\n",
       "      <td>1624.383509</td>\n",
       "      <td>39.242063</td>\n",
       "      <td>253.045455</td>\n",
       "      <td>113.879045</td>\n",
       "      <td>104.394477</td>\n",
       "      <td>107.025974</td>\n",
       "      <td>118.925347</td>\n",
       "      <td>305.600000</td>\n",
       "      <td>49.0</td>\n",
       "      <td>76.315789</td>\n",
       "      <td>83.284091</td>\n",
       "      <td>76.819209</td>\n",
       "      <td>260.471020</td>\n",
       "      <td>181.111111</td>\n",
       "      <td>170.284747</td>\n",
       "      <td>160.513345</td>\n",
       "    </tr>\n",
       "    <tr>\n",
       "      <th>std</th>\n",
       "      <td>933.337642</td>\n",
       "      <td>18.277654</td>\n",
       "      <td>21.180578</td>\n",
       "      <td>75.483494</td>\n",
       "      <td>48.184126</td>\n",
       "      <td>81.790646</td>\n",
       "      <td>72.057776</td>\n",
       "      <td>191.022904</td>\n",
       "      <td>NaN</td>\n",
       "      <td>21.720581</td>\n",
       "      <td>26.060347</td>\n",
       "      <td>59.655365</td>\n",
       "      <td>120.649269</td>\n",
       "      <td>46.088009</td>\n",
       "      <td>65.868652</td>\n",
       "      <td>51.765319</td>\n",
       "    </tr>\n",
       "    <tr>\n",
       "      <th>min</th>\n",
       "      <td>1.000000</td>\n",
       "      <td>10.000000</td>\n",
       "      <td>228.000000</td>\n",
       "      <td>6.000000</td>\n",
       "      <td>12.000000</td>\n",
       "      <td>11.000000</td>\n",
       "      <td>17.000000</td>\n",
       "      <td>47.000000</td>\n",
       "      <td>49.0</td>\n",
       "      <td>63.000000</td>\n",
       "      <td>24.000000</td>\n",
       "      <td>8.000000</td>\n",
       "      <td>53.000000</td>\n",
       "      <td>151.000000</td>\n",
       "      <td>16.000000</td>\n",
       "      <td>1.000000</td>\n",
       "    </tr>\n",
       "    <tr>\n",
       "      <th>25%</th>\n",
       "      <td>816.000000</td>\n",
       "      <td>27.000000</td>\n",
       "      <td>242.000000</td>\n",
       "      <td>58.000000</td>\n",
       "      <td>72.000000</td>\n",
       "      <td>70.000000</td>\n",
       "      <td>69.750000</td>\n",
       "      <td>155.000000</td>\n",
       "      <td>49.0</td>\n",
       "      <td>66.000000</td>\n",
       "      <td>64.000000</td>\n",
       "      <td>25.000000</td>\n",
       "      <td>204.000000</td>\n",
       "      <td>153.250000</td>\n",
       "      <td>119.000000</td>\n",
       "      <td>105.000000</td>\n",
       "    </tr>\n",
       "    <tr>\n",
       "      <th>50%</th>\n",
       "      <td>1622.000000</td>\n",
       "      <td>31.000000</td>\n",
       "      <td>251.500000</td>\n",
       "      <td>97.500000</td>\n",
       "      <td>102.000000</td>\n",
       "      <td>86.000000</td>\n",
       "      <td>100.000000</td>\n",
       "      <td>298.000000</td>\n",
       "      <td>49.0</td>\n",
       "      <td>68.000000</td>\n",
       "      <td>86.500000</td>\n",
       "      <td>64.000000</td>\n",
       "      <td>208.000000</td>\n",
       "      <td>155.500000</td>\n",
       "      <td>151.000000</td>\n",
       "      <td>160.000000</td>\n",
       "    </tr>\n",
       "    <tr>\n",
       "      <th>75%</th>\n",
       "      <td>2431.000000</td>\n",
       "      <td>46.000000</td>\n",
       "      <td>257.750000</td>\n",
       "      <td>152.000000</td>\n",
       "      <td>133.000000</td>\n",
       "      <td>132.000000</td>\n",
       "      <td>157.000000</td>\n",
       "      <td>406.000000</td>\n",
       "      <td>49.0</td>\n",
       "      <td>70.500000</td>\n",
       "      <td>102.000000</td>\n",
       "      <td>106.000000</td>\n",
       "      <td>316.000000</td>\n",
       "      <td>203.500000</td>\n",
       "      <td>205.750000</td>\n",
       "      <td>205.000000</td>\n",
       "    </tr>\n",
       "    <tr>\n",
       "      <th>max</th>\n",
       "      <td>3241.000000</td>\n",
       "      <td>185.000000</td>\n",
       "      <td>325.000000</td>\n",
       "      <td>454.000000</td>\n",
       "      <td>281.000000</td>\n",
       "      <td>603.000000</td>\n",
       "      <td>503.000000</td>\n",
       "      <td>772.000000</td>\n",
       "      <td>49.0</td>\n",
       "      <td>147.000000</td>\n",
       "      <td>159.000000</td>\n",
       "      <td>313.000000</td>\n",
       "      <td>1849.000000</td>\n",
       "      <td>305.000000</td>\n",
       "      <td>636.000000</td>\n",
       "      <td>405.000000</td>\n",
       "    </tr>\n",
       "  </tbody>\n",
       "</table>\n",
       "</div>"
      ],
      "text/plain": [
       "               key      Bulk 1      Bulk 2       Bulk 3       Bulk 4  \\\n",
       "count  3129.000000  252.000000   22.000000  1298.000000  1014.000000   \n",
       "mean   1624.383509   39.242063  253.045455   113.879045   104.394477   \n",
       "std     933.337642   18.277654   21.180578    75.483494    48.184126   \n",
       "min       1.000000   10.000000  228.000000     6.000000    12.000000   \n",
       "25%     816.000000   27.000000  242.000000    58.000000    72.000000   \n",
       "50%    1622.000000   31.000000  251.500000    97.500000   102.000000   \n",
       "75%    2431.000000   46.000000  257.750000   152.000000   133.000000   \n",
       "max    3241.000000  185.000000  325.000000   454.000000   281.000000   \n",
       "\n",
       "           Bulk 5      Bulk 6      Bulk 7  Bulk 8      Bulk 9     Bulk 10  \\\n",
       "count   77.000000  576.000000   25.000000     1.0   19.000000  176.000000   \n",
       "mean   107.025974  118.925347  305.600000    49.0   76.315789   83.284091   \n",
       "std     81.790646   72.057776  191.022904     NaN   21.720581   26.060347   \n",
       "min     11.000000   17.000000   47.000000    49.0   63.000000   24.000000   \n",
       "25%     70.000000   69.750000  155.000000    49.0   66.000000   64.000000   \n",
       "50%     86.000000  100.000000  298.000000    49.0   68.000000   86.500000   \n",
       "75%    132.000000  157.000000  406.000000    49.0   70.500000  102.000000   \n",
       "max    603.000000  503.000000  772.000000    49.0  147.000000  159.000000   \n",
       "\n",
       "          Bulk 11      Bulk 12     Bulk 13      Bulk 14      Bulk 15  \n",
       "count  177.000000  2450.000000   18.000000  2806.000000  2248.000000  \n",
       "mean    76.819209   260.471020  181.111111   170.284747   160.513345  \n",
       "std     59.655365   120.649269   46.088009    65.868652    51.765319  \n",
       "min      8.000000    53.000000  151.000000    16.000000     1.000000  \n",
       "25%     25.000000   204.000000  153.250000   119.000000   105.000000  \n",
       "50%     64.000000   208.000000  155.500000   151.000000   160.000000  \n",
       "75%    106.000000   316.000000  203.500000   205.750000   205.000000  \n",
       "max    313.000000  1849.000000  305.000000   636.000000   405.000000  "
      ]
     },
     "execution_count": 12,
     "metadata": {},
     "output_type": "execute_result"
    }
   ],
   "source": [
    "bulk.describe()"
   ]
  },
  {
   "cell_type": "markdown",
   "id": "9c38bf69-c410-43e5-9f87-74d0d1ee2c83",
   "metadata": {},
   "source": [
    "Предположу что не во все партии добавлялись те или иные сыпучие материалы, значит пропуски можно заменить на 0"
   ]
  },
  {
   "cell_type": "markdown",
   "id": "65190025-ba6a-41bc-8975-e08cc4dbf469",
   "metadata": {},
   "source": [
    "Большенство присадок добавляли не во все партии"
   ]
  },
  {
   "cell_type": "markdown",
   "id": "2b73258f-4ab1-49cf-9d95-d6b7b756f095",
   "metadata": {},
   "source": [
    "Рассмотрим присадки которые добавили хотя бы в половину партий "
   ]
  },
  {
   "cell_type": "code",
   "execution_count": 13,
   "id": "ceb28055-2e64-4ee4-b476-1defa5f44e82",
   "metadata": {},
   "outputs": [
    {
     "data": {
      "image/png": "[encoded data removed]",
      "text/plain": [
       "<Figure size 640x480 with 1 Axes>"
      ]
     },
     "metadata": {},
     "output_type": "display_data"
    }
   ],
   "source": [
    "bulk['Bulk 12'].hist(bins=20);"
   ]
  },
  {
   "cell_type": "markdown",
   "id": "d6731f55-3535-4a8e-a92a-be0093cccb14",
   "metadata": {},
   "source": [
    "Есть выброс в большую сторону"
   ]
  },
  {
   "cell_type": "code",
   "execution_count": 14,
   "id": "88a2a1a9-1fde-4abe-a2b7-63a6caba7146",
   "metadata": {},
   "outputs": [
    {
     "data": {
      "image/png": "[encoded data removed]",
      "text/plain": [
       "<Figure size 640x480 with 1 Axes>"
      ]
     },
     "metadata": {},
     "output_type": "display_data"
    }
   ],
   "source": [
    "bulk['Bulk 14'].hist(bins=20);"
   ]
  },
  {
   "cell_type": "markdown",
   "id": "d418f7aa-7e8b-4fbc-b3f6-c91b772e47be",
   "metadata": {},
   "source": [
    "сильных выбросов нет, в некоторые партии добавляли больше этой добавки"
   ]
  },
  {
   "cell_type": "code",
   "execution_count": 15,
   "id": "b7ff8581-6a04-413b-9f97-f56bd6a892bb",
   "metadata": {},
   "outputs": [
    {
     "data": {
      "image/png": "[encoded data removed]",
      "text/plain": [
       "<Figure size 640x480 with 1 Axes>"
      ]
     },
     "metadata": {},
     "output_type": "display_data"
    }
   ],
   "source": [
    "bulk['Bulk 15'].hist(bins=30);"
   ]
  },
  {
   "cell_type": "markdown",
   "id": "33aad5c4-9361-4fb9-805d-ae323737eddf",
   "metadata": {},
   "source": [
    "Два явных пика, в большенство партий, из тез в которые добавляют эту присадку, объемами около 100, 150 или 210, возможно для разных типов стали требуется разный обем этой присадки"
   ]
  },
  {
   "cell_type": "markdown",
   "id": "77b8ce55-cec1-4901-ab09-0174bb395e53",
   "metadata": {
    "tags": []
   },
   "source": [
    "#### Рассмотрим таблицы с данными о проволочных материалах, объем и время"
   ]
  },
  {
   "cell_type": "code",
   "execution_count": 16,
   "id": "bd34f275-2f4c-4a95-b89a-cb161afd70e8",
   "metadata": {},
   "outputs": [
    {
     "name": "stdout",
     "output_type": "stream",
     "text": [
      "<class 'pandas.core.frame.DataFrame'>\n",
      "RangeIndex: 3081 entries, 0 to 3080\n",
      "Data columns (total 10 columns):\n",
      " #   Column  Non-Null Count  Dtype  \n",
      "---  ------  --------------  -----  \n",
      " 0   key     3081 non-null   int64  \n",
      " 1   Wire 1  3055 non-null   float64\n",
      " 2   Wire 2  1079 non-null   float64\n",
      " 3   Wire 3  63 non-null     float64\n",
      " 4   Wire 4  14 non-null     float64\n",
      " 5   Wire 5  1 non-null      float64\n",
      " 6   Wire 6  73 non-null     float64\n",
      " 7   Wire 7  11 non-null     float64\n",
      " 8   Wire 8  19 non-null     float64\n",
      " 9   Wire 9  29 non-null     float64\n",
      "dtypes: float64(9), int64(1)\n",
      "memory usage: 240.8 KB\n"
     ]
    }
   ],
   "source": [
    "wire.info()"
   ]
  },
  {
   "cell_type": "code",
   "execution_count": 17,
   "id": "b57a94b8-ea41-47ed-9fb8-d23d1a1ad6ca",
   "metadata": {},
   "outputs": [
    {
     "name": "stdout",
     "output_type": "stream",
     "text": [
      "<class 'pandas.core.frame.DataFrame'>\n",
      "RangeIndex: 3081 entries, 0 to 3080\n",
      "Data columns (total 10 columns):\n",
      " #   Column  Non-Null Count  Dtype \n",
      "---  ------  --------------  ----- \n",
      " 0   key     3081 non-null   int64 \n",
      " 1   Wire 1  3055 non-null   object\n",
      " 2   Wire 2  1079 non-null   object\n",
      " 3   Wire 3  63 non-null     object\n",
      " 4   Wire 4  14 non-null     object\n",
      " 5   Wire 5  1 non-null      object\n",
      " 6   Wire 6  73 non-null     object\n",
      " 7   Wire 7  11 non-null     object\n",
      " 8   Wire 8  19 non-null     object\n",
      " 9   Wire 9  29 non-null     object\n",
      "dtypes: int64(1), object(9)\n",
      "memory usage: 240.8+ KB\n"
     ]
    }
   ],
   "source": [
    "wire_time.info()"
   ]
  },
  {
   "cell_type": "code",
   "execution_count": 18,
   "id": "80c5ac72-6631-4377-90d7-94bbebe4cf47",
   "metadata": {},
   "outputs": [
    {
     "data": {
      "text/plain": [
       "3081"
      ]
     },
     "execution_count": 18,
     "metadata": {},
     "output_type": "execute_result"
    }
   ],
   "source": [
    "wire['key'].nunique()"
   ]
  },
  {
   "cell_type": "markdown",
   "id": "96a18384-c9d3-4b7f-be99-9cccda47008b",
   "metadata": {},
   "source": [
    "Данные схожи с данными о сыпучих материалах, много пропусков, каждая строчка соответствует одной партии"
   ]
  },
  {
   "cell_type": "code",
   "execution_count": 19,
   "id": "ea4eb32e-c7aa-446b-8182-36fcaad039ba",
   "metadata": {},
   "outputs": [
    {
     "data": {
      "text/html": [
       "<div>\n",
       "<style scoped>\n",
       "    .dataframe tbody tr th:only-of-type {\n",
       "        vertical-align: middle;\n",
       "    }\n",
       "\n",
       "    .dataframe tbody tr th {\n",
       "        vertical-align: top;\n",
       "    }\n",
       "\n",
       "    .dataframe thead th {\n",
       "        text-align: right;\n",
       "    }\n",
       "</style>\n",
       "<table border=\"1\" class=\"dataframe\">\n",
       "  <thead>\n",
       "    <tr style=\"text-align: right;\">\n",
       "      <th></th>\n",
       "      <th>key</th>\n",
       "      <th>Wire 1</th>\n",
       "      <th>Wire 2</th>\n",
       "      <th>Wire 3</th>\n",
       "      <th>Wire 4</th>\n",
       "      <th>Wire 5</th>\n",
       "      <th>Wire 6</th>\n",
       "      <th>Wire 7</th>\n",
       "      <th>Wire 8</th>\n",
       "      <th>Wire 9</th>\n",
       "    </tr>\n",
       "  </thead>\n",
       "  <tbody>\n",
       "    <tr>\n",
       "      <th>count</th>\n",
       "      <td>3081.000000</td>\n",
       "      <td>3055.000000</td>\n",
       "      <td>1079.000000</td>\n",
       "      <td>63.000000</td>\n",
       "      <td>14.000000</td>\n",
       "      <td>1.000</td>\n",
       "      <td>73.000000</td>\n",
       "      <td>11.000000</td>\n",
       "      <td>19.000000</td>\n",
       "      <td>29.000000</td>\n",
       "    </tr>\n",
       "    <tr>\n",
       "      <th>mean</th>\n",
       "      <td>1623.426485</td>\n",
       "      <td>100.895853</td>\n",
       "      <td>50.577323</td>\n",
       "      <td>189.482681</td>\n",
       "      <td>57.442842</td>\n",
       "      <td>15.132</td>\n",
       "      <td>48.016974</td>\n",
       "      <td>10.039007</td>\n",
       "      <td>53.625193</td>\n",
       "      <td>34.155752</td>\n",
       "    </tr>\n",
       "    <tr>\n",
       "      <th>std</th>\n",
       "      <td>932.996726</td>\n",
       "      <td>42.012518</td>\n",
       "      <td>39.320216</td>\n",
       "      <td>99.513444</td>\n",
       "      <td>28.824667</td>\n",
       "      <td>NaN</td>\n",
       "      <td>33.919845</td>\n",
       "      <td>8.610584</td>\n",
       "      <td>16.881728</td>\n",
       "      <td>19.931616</td>\n",
       "    </tr>\n",
       "    <tr>\n",
       "      <th>min</th>\n",
       "      <td>1.000000</td>\n",
       "      <td>1.918800</td>\n",
       "      <td>0.030160</td>\n",
       "      <td>0.144144</td>\n",
       "      <td>24.148801</td>\n",
       "      <td>15.132</td>\n",
       "      <td>0.034320</td>\n",
       "      <td>0.234208</td>\n",
       "      <td>45.076721</td>\n",
       "      <td>4.622800</td>\n",
       "    </tr>\n",
       "    <tr>\n",
       "      <th>25%</th>\n",
       "      <td>823.000000</td>\n",
       "      <td>72.115684</td>\n",
       "      <td>20.193680</td>\n",
       "      <td>95.135044</td>\n",
       "      <td>40.807002</td>\n",
       "      <td>15.132</td>\n",
       "      <td>25.053600</td>\n",
       "      <td>6.762756</td>\n",
       "      <td>46.094879</td>\n",
       "      <td>22.058401</td>\n",
       "    </tr>\n",
       "    <tr>\n",
       "      <th>50%</th>\n",
       "      <td>1619.000000</td>\n",
       "      <td>100.158234</td>\n",
       "      <td>40.142956</td>\n",
       "      <td>235.194977</td>\n",
       "      <td>45.234282</td>\n",
       "      <td>15.132</td>\n",
       "      <td>42.076324</td>\n",
       "      <td>9.017009</td>\n",
       "      <td>46.279999</td>\n",
       "      <td>30.066399</td>\n",
       "    </tr>\n",
       "    <tr>\n",
       "      <th>75%</th>\n",
       "      <td>2434.000000</td>\n",
       "      <td>126.060483</td>\n",
       "      <td>70.227558</td>\n",
       "      <td>276.252014</td>\n",
       "      <td>76.124619</td>\n",
       "      <td>15.132</td>\n",
       "      <td>64.212723</td>\n",
       "      <td>11.886057</td>\n",
       "      <td>48.089603</td>\n",
       "      <td>43.862003</td>\n",
       "    </tr>\n",
       "    <tr>\n",
       "      <th>max</th>\n",
       "      <td>3241.000000</td>\n",
       "      <td>330.314424</td>\n",
       "      <td>282.780152</td>\n",
       "      <td>385.008668</td>\n",
       "      <td>113.231044</td>\n",
       "      <td>15.132</td>\n",
       "      <td>180.454575</td>\n",
       "      <td>32.847674</td>\n",
       "      <td>102.762401</td>\n",
       "      <td>90.053604</td>\n",
       "    </tr>\n",
       "  </tbody>\n",
       "</table>\n",
       "</div>"
      ],
      "text/plain": [
       "               key       Wire 1       Wire 2      Wire 3      Wire 4  Wire 5  \\\n",
       "count  3081.000000  3055.000000  1079.000000   63.000000   14.000000   1.000   \n",
       "mean   1623.426485   100.895853    50.577323  189.482681   57.442842  15.132   \n",
       "std     932.996726    42.012518    39.320216   99.513444   28.824667     NaN   \n",
       "min       1.000000     1.918800     0.030160    0.144144   24.148801  15.132   \n",
       "25%     823.000000    72.115684    20.193680   95.135044   40.807002  15.132   \n",
       "50%    1619.000000   100.158234    40.142956  235.194977   45.234282  15.132   \n",
       "75%    2434.000000   126.060483    70.227558  276.252014   76.124619  15.132   \n",
       "max    3241.000000   330.314424   282.780152  385.008668  113.231044  15.132   \n",
       "\n",
       "           Wire 6     Wire 7      Wire 8     Wire 9  \n",
       "count   73.000000  11.000000   19.000000  29.000000  \n",
       "mean    48.016974  10.039007   53.625193  34.155752  \n",
       "std     33.919845   8.610584   16.881728  19.931616  \n",
       "min      0.034320   0.234208   45.076721   4.622800  \n",
       "25%     25.053600   6.762756   46.094879  22.058401  \n",
       "50%     42.076324   9.017009   46.279999  30.066399  \n",
       "75%     64.212723  11.886057   48.089603  43.862003  \n",
       "max    180.454575  32.847674  102.762401  90.053604  "
      ]
     },
     "execution_count": 19,
     "metadata": {},
     "output_type": "execute_result"
    }
   ],
   "source": [
    "wire.describe()"
   ]
  },
  {
   "cell_type": "markdown",
   "id": "2d1f7fb0-29ed-4797-aa08-6185090e6bf6",
   "metadata": {},
   "source": [
    "Так же как и с сыпучеми материалами, пропуски можно заменить на 0"
   ]
  },
  {
   "cell_type": "markdown",
   "id": "ba479488-ae49-4b32-b10b-cd15176c8488",
   "metadata": {},
   "source": [
    "`Wire 1` добаляют почти во все партии `Wire 2` только в треть, остальные добавляли в небольшое количество партий\\\n",
    "посмотрим на распределения `Wire 1` и `Wire 2`"
   ]
  },
  {
   "cell_type": "code",
   "execution_count": 20,
   "id": "50188563-8761-4825-a456-3ea80f6bf839",
   "metadata": {},
   "outputs": [
    {
     "data": {
      "image/png": "[encoded data removed]",
      "text/plain": [
       "<Figure size 640x480 with 1 Axes>"
      ]
     },
     "metadata": {},
     "output_type": "display_data"
    }
   ],
   "source": [
    "wire['Wire 1'].hist(bins=50);"
   ]
  },
  {
   "cell_type": "markdown",
   "id": "005ec5c1-98d6-499b-9071-036ca40b2624",
   "metadata": {},
   "source": [
    "в большенство партий добавляют около 100 единиц этой присадки"
   ]
  },
  {
   "cell_type": "code",
   "execution_count": 21,
   "id": "10fb4ef6-57a0-4765-9555-1fc2f9fe9e20",
   "metadata": {},
   "outputs": [
    {
     "data": {
      "image/png": "[encoded data removed]",
      "text/plain": [
       "<Figure size 640x480 with 1 Axes>"
      ]
     },
     "metadata": {},
     "output_type": "display_data"
    }
   ],
   "source": [
    "wire['Wire 2'].hist(bins=50);"
   ]
  },
  {
   "cell_type": "markdown",
   "id": "9c356616-b45c-4ee3-97b5-dc213fc38c2d",
   "metadata": {},
   "source": [
    "В большенство партий, из тех в которые добавляется эта присадка, добавляется не больше 50 единиц"
   ]
  },
  {
   "cell_type": "markdown",
   "id": "28b9015d-eddb-4905-9121-bd585fa0a821",
   "metadata": {
    "tags": []
   },
   "source": [
    "#### Данные о продувке сплава газом"
   ]
  },
  {
   "cell_type": "code",
   "execution_count": 22,
   "id": "bd0b8c38-0f56-44ac-875f-1d5b0f966174",
   "metadata": {},
   "outputs": [
    {
     "name": "stdout",
     "output_type": "stream",
     "text": [
      "<class 'pandas.core.frame.DataFrame'>\n",
      "RangeIndex: 3239 entries, 0 to 3238\n",
      "Data columns (total 2 columns):\n",
      " #   Column  Non-Null Count  Dtype  \n",
      "---  ------  --------------  -----  \n",
      " 0   key     3239 non-null   int64  \n",
      " 1   Газ 1   3239 non-null   float64\n",
      "dtypes: float64(1), int64(1)\n",
      "memory usage: 50.7 KB\n"
     ]
    }
   ],
   "source": [
    "gas.info()"
   ]
  },
  {
   "cell_type": "markdown",
   "id": "d76646f0-ce10-4a7a-a20c-6006e6c71698",
   "metadata": {},
   "source": [
    "Пропусков нет"
   ]
  },
  {
   "cell_type": "code",
   "execution_count": 23,
   "id": "e928d69f-2cc9-48be-bd37-e45fa84a4c3d",
   "metadata": {},
   "outputs": [
    {
     "data": {
      "text/plain": [
       "3239"
      ]
     },
     "execution_count": 23,
     "metadata": {},
     "output_type": "execute_result"
    }
   ],
   "source": [
    "gas['key'].nunique()"
   ]
  },
  {
   "cell_type": "markdown",
   "id": "f22f97d6-ccf6-4e37-8746-63886c854239",
   "metadata": {},
   "source": [
    "Каждая сточка соответствует одной партии"
   ]
  },
  {
   "cell_type": "code",
   "execution_count": 24,
   "id": "5ecf395b-3e26-4985-9501-3bb2d9a88037",
   "metadata": {},
   "outputs": [
    {
     "data": {
      "text/html": [
       "<div>\n",
       "<style scoped>\n",
       "    .dataframe tbody tr th:only-of-type {\n",
       "        vertical-align: middle;\n",
       "    }\n",
       "\n",
       "    .dataframe tbody tr th {\n",
       "        vertical-align: top;\n",
       "    }\n",
       "\n",
       "    .dataframe thead th {\n",
       "        text-align: right;\n",
       "    }\n",
       "</style>\n",
       "<table border=\"1\" class=\"dataframe\">\n",
       "  <thead>\n",
       "    <tr style=\"text-align: right;\">\n",
       "      <th></th>\n",
       "      <th>key</th>\n",
       "      <th>Газ 1</th>\n",
       "    </tr>\n",
       "  </thead>\n",
       "  <tbody>\n",
       "    <tr>\n",
       "      <th>count</th>\n",
       "      <td>3239.000000</td>\n",
       "      <td>3239.000000</td>\n",
       "    </tr>\n",
       "    <tr>\n",
       "      <th>mean</th>\n",
       "      <td>1621.861377</td>\n",
       "      <td>11.002062</td>\n",
       "    </tr>\n",
       "    <tr>\n",
       "      <th>std</th>\n",
       "      <td>935.386334</td>\n",
       "      <td>6.220327</td>\n",
       "    </tr>\n",
       "    <tr>\n",
       "      <th>min</th>\n",
       "      <td>1.000000</td>\n",
       "      <td>0.008399</td>\n",
       "    </tr>\n",
       "    <tr>\n",
       "      <th>25%</th>\n",
       "      <td>812.500000</td>\n",
       "      <td>7.043089</td>\n",
       "    </tr>\n",
       "    <tr>\n",
       "      <th>50%</th>\n",
       "      <td>1622.000000</td>\n",
       "      <td>9.836267</td>\n",
       "    </tr>\n",
       "    <tr>\n",
       "      <th>75%</th>\n",
       "      <td>2431.500000</td>\n",
       "      <td>13.769915</td>\n",
       "    </tr>\n",
       "    <tr>\n",
       "      <th>max</th>\n",
       "      <td>3241.000000</td>\n",
       "      <td>77.995040</td>\n",
       "    </tr>\n",
       "  </tbody>\n",
       "</table>\n",
       "</div>"
      ],
      "text/plain": [
       "               key        Газ 1\n",
       "count  3239.000000  3239.000000\n",
       "mean   1621.861377    11.002062\n",
       "std     935.386334     6.220327\n",
       "min       1.000000     0.008399\n",
       "25%     812.500000     7.043089\n",
       "50%    1622.000000     9.836267\n",
       "75%    2431.500000    13.769915\n",
       "max    3241.000000    77.995040"
      ]
     },
     "execution_count": 24,
     "metadata": {},
     "output_type": "execute_result"
    }
   ],
   "source": [
    "gas.describe()"
   ]
  },
  {
   "cell_type": "code",
   "execution_count": 25,
   "id": "071b0c32-8f3f-421a-98da-4bba08e5f250",
   "metadata": {},
   "outputs": [
    {
     "data": {
      "image/png": "[encoded data removed]",
      "text/plain": [
       "<Figure size 1500x500 with 1 Axes>"
      ]
     },
     "metadata": {},
     "output_type": "display_data"
    }
   ],
   "source": [
    "plt.figure(figsize=(15, 5))\n",
    "gas['Газ 1'].hist(bins=100);\n",
    "\n",
    "plt.xlabel('Значения')\n",
    "plt.ylabel('Частота')\n",
    "plt.title('Гистограмма продувке сплава газом')\n",
    "\n",
    "plt.show()"
   ]
  },
  {
   "cell_type": "markdown",
   "id": "f733846d-d032-4301-8e12-cf7afe28836f",
   "metadata": {},
   "source": [
    "Присутствует небольшое количество выбросов"
   ]
  },
  {
   "cell_type": "markdown",
   "id": "f827af77-f814-4fbc-9812-0d348fb98a2e",
   "metadata": {
    "tags": []
   },
   "source": [
    "#### Данные о результатах измерения температуры"
   ]
  },
  {
   "cell_type": "code",
   "execution_count": 26,
   "id": "1da7c02c-074d-4609-8168-0ebd2350d8f0",
   "metadata": {},
   "outputs": [
    {
     "name": "stdout",
     "output_type": "stream",
     "text": [
      "<class 'pandas.core.frame.DataFrame'>\n",
      "RangeIndex: 18092 entries, 0 to 18091\n",
      "Data columns (total 3 columns):\n",
      " #   Column        Non-Null Count  Dtype  \n",
      "---  ------        --------------  -----  \n",
      " 0   key           18092 non-null  int64  \n",
      " 1   Время замера  18092 non-null  object \n",
      " 2   Температура   14665 non-null  float64\n",
      "dtypes: float64(1), int64(1), object(1)\n",
      "memory usage: 424.2+ KB\n"
     ]
    }
   ],
   "source": [
    "temp.info()"
   ]
  },
  {
   "cell_type": "code",
   "execution_count": 27,
   "id": "868d4fbe-337e-4c5a-aa20-184a3783ea2c",
   "metadata": {},
   "outputs": [
    {
     "data": {
      "text/plain": [
       "3216"
      ]
     },
     "execution_count": 27,
     "metadata": {},
     "output_type": "execute_result"
    }
   ],
   "source": [
    "temp['key'].nunique()"
   ]
  },
  {
   "cell_type": "markdown",
   "id": "d7308392-fac6-4f30-bc85-25ad08eb3dea",
   "metadata": {},
   "source": [
    "В данных температуры присутствуют пропуски"
   ]
  },
  {
   "cell_type": "code",
   "execution_count": 28,
   "id": "9da23599-12e4-42d6-9d97-2923437fd35e",
   "metadata": {},
   "outputs": [
    {
     "data": {
      "text/html": [
       "<div>\n",
       "<style scoped>\n",
       "    .dataframe tbody tr th:only-of-type {\n",
       "        vertical-align: middle;\n",
       "    }\n",
       "\n",
       "    .dataframe tbody tr th {\n",
       "        vertical-align: top;\n",
       "    }\n",
       "\n",
       "    .dataframe thead th {\n",
       "        text-align: right;\n",
       "    }\n",
       "</style>\n",
       "<table border=\"1\" class=\"dataframe\">\n",
       "  <thead>\n",
       "    <tr style=\"text-align: right;\">\n",
       "      <th></th>\n",
       "      <th>key</th>\n",
       "      <th>Температура</th>\n",
       "    </tr>\n",
       "  </thead>\n",
       "  <tbody>\n",
       "    <tr>\n",
       "      <th>count</th>\n",
       "      <td>18092.000000</td>\n",
       "      <td>14665.000000</td>\n",
       "    </tr>\n",
       "    <tr>\n",
       "      <th>mean</th>\n",
       "      <td>1616.460977</td>\n",
       "      <td>1590.722741</td>\n",
       "    </tr>\n",
       "    <tr>\n",
       "      <th>std</th>\n",
       "      <td>934.641385</td>\n",
       "      <td>20.394381</td>\n",
       "    </tr>\n",
       "    <tr>\n",
       "      <th>min</th>\n",
       "      <td>1.000000</td>\n",
       "      <td>1191.000000</td>\n",
       "    </tr>\n",
       "    <tr>\n",
       "      <th>25%</th>\n",
       "      <td>807.750000</td>\n",
       "      <td>1580.000000</td>\n",
       "    </tr>\n",
       "    <tr>\n",
       "      <th>50%</th>\n",
       "      <td>1618.000000</td>\n",
       "      <td>1590.000000</td>\n",
       "    </tr>\n",
       "    <tr>\n",
       "      <th>75%</th>\n",
       "      <td>2429.000000</td>\n",
       "      <td>1599.000000</td>\n",
       "    </tr>\n",
       "    <tr>\n",
       "      <th>max</th>\n",
       "      <td>3241.000000</td>\n",
       "      <td>1705.000000</td>\n",
       "    </tr>\n",
       "  </tbody>\n",
       "</table>\n",
       "</div>"
      ],
      "text/plain": [
       "                key   Температура\n",
       "count  18092.000000  14665.000000\n",
       "mean    1616.460977   1590.722741\n",
       "std      934.641385     20.394381\n",
       "min        1.000000   1191.000000\n",
       "25%      807.750000   1580.000000\n",
       "50%     1618.000000   1590.000000\n",
       "75%     2429.000000   1599.000000\n",
       "max     3241.000000   1705.000000"
      ]
     },
     "execution_count": 28,
     "metadata": {},
     "output_type": "execute_result"
    }
   ],
   "source": [
    "temp.describe()"
   ]
  },
  {
   "cell_type": "code",
   "execution_count": 29,
   "id": "d593dbb2-ffae-430a-b070-cd8dc3accba6",
   "metadata": {},
   "outputs": [
    {
     "data": {
      "image/png": "[encoded data removed]",
      "text/plain": [
       "<Figure size 1500x500 with 1 Axes>"
      ]
     },
     "metadata": {},
     "output_type": "display_data"
    }
   ],
   "source": [
    "plt.figure(figsize=(15, 5))\n",
    "temp['Температура'].hist(bins=100);\n",
    "\n",
    "plt.xlabel('Значения')\n",
    "plt.ylabel('Частота')\n",
    "plt.title('Гистограмма температуры')\n",
    "\n",
    "plt.show()"
   ]
  },
  {
   "cell_type": "markdown",
   "id": "7ab2f873-22f7-4e5d-85ba-13d69541074b",
   "metadata": {},
   "source": [
    "Распределение близкое к нормальному, есть немного выбросов"
   ]
  },
  {
   "cell_type": "code",
   "execution_count": 30,
   "id": "8a0340f9-0532-497e-ac54-02f707538f15",
   "metadata": {},
   "outputs": [
    {
     "data": {
      "image/png": "[encoded data removed]",
      "text/plain": [
       "<Figure size 2500x1000 with 2 Axes>"
      ]
     },
     "metadata": {},
     "output_type": "display_data"
    }
   ],
   "source": [
    "msno.matrix(temp);"
   ]
  },
  {
   "cell_type": "markdown",
   "id": "e7d62ae9-f7d2-48cf-91d7-2634f823ef1f",
   "metadata": {},
   "source": [
    "Все пропуски в конце датасета"
   ]
  },
  {
   "cell_type": "code",
   "execution_count": 31,
   "id": "7fd5d9f8-d73c-448d-9bde-f0e311ef2700",
   "metadata": {},
   "outputs": [
    {
     "data": {
      "text/html": [
       "<div>\n",
       "<style scoped>\n",
       "    .dataframe tbody tr th:only-of-type {\n",
       "        vertical-align: middle;\n",
       "    }\n",
       "\n",
       "    .dataframe tbody tr th {\n",
       "        vertical-align: top;\n",
       "    }\n",
       "\n",
       "    .dataframe thead th {\n",
       "        text-align: right;\n",
       "    }\n",
       "</style>\n",
       "<table border=\"1\" class=\"dataframe\">\n",
       "  <thead>\n",
       "    <tr style=\"text-align: right;\">\n",
       "      <th></th>\n",
       "      <th>key</th>\n",
       "      <th>Время замера</th>\n",
       "      <th>Температура</th>\n",
       "    </tr>\n",
       "  </thead>\n",
       "  <tbody>\n",
       "    <tr>\n",
       "      <th>13920</th>\n",
       "      <td>2498</td>\n",
       "      <td>2019-08-10 13:23:31</td>\n",
       "      <td>1594.0</td>\n",
       "    </tr>\n",
       "    <tr>\n",
       "      <th>13921</th>\n",
       "      <td>2499</td>\n",
       "      <td>2019-08-10 13:33:21</td>\n",
       "      <td>1569.0</td>\n",
       "    </tr>\n",
       "    <tr>\n",
       "      <th>13922</th>\n",
       "      <td>2499</td>\n",
       "      <td>2019-08-10 13:41:34</td>\n",
       "      <td>1604.0</td>\n",
       "    </tr>\n",
       "    <tr>\n",
       "      <th>13923</th>\n",
       "      <td>2499</td>\n",
       "      <td>2019-08-10 13:46:28</td>\n",
       "      <td>1593.0</td>\n",
       "    </tr>\n",
       "    <tr>\n",
       "      <th>13924</th>\n",
       "      <td>2499</td>\n",
       "      <td>2019-08-10 13:54:56</td>\n",
       "      <td>1588.0</td>\n",
       "    </tr>\n",
       "    <tr>\n",
       "      <th>13925</th>\n",
       "      <td>2499</td>\n",
       "      <td>2019-08-10 13:58:58</td>\n",
       "      <td>1603.0</td>\n",
       "    </tr>\n",
       "    <tr>\n",
       "      <th>13926</th>\n",
       "      <td>2500</td>\n",
       "      <td>2019-08-10 14:04:39</td>\n",
       "      <td>1539.0</td>\n",
       "    </tr>\n",
       "    <tr>\n",
       "      <th>13927</th>\n",
       "      <td>2500</td>\n",
       "      <td>2019-08-10 14:13:11</td>\n",
       "      <td>NaN</td>\n",
       "    </tr>\n",
       "    <tr>\n",
       "      <th>13928</th>\n",
       "      <td>2500</td>\n",
       "      <td>2019-08-10 14:18:12</td>\n",
       "      <td>NaN</td>\n",
       "    </tr>\n",
       "    <tr>\n",
       "      <th>13929</th>\n",
       "      <td>2500</td>\n",
       "      <td>2019-08-10 14:25:53</td>\n",
       "      <td>NaN</td>\n",
       "    </tr>\n",
       "    <tr>\n",
       "      <th>13930</th>\n",
       "      <td>2500</td>\n",
       "      <td>2019-08-10 14:29:39</td>\n",
       "      <td>NaN</td>\n",
       "    </tr>\n",
       "    <tr>\n",
       "      <th>13931</th>\n",
       "      <td>2501</td>\n",
       "      <td>2019-08-10 14:41:14</td>\n",
       "      <td>1587.0</td>\n",
       "    </tr>\n",
       "    <tr>\n",
       "      <th>13932</th>\n",
       "      <td>2501</td>\n",
       "      <td>2019-08-10 14:49:15</td>\n",
       "      <td>NaN</td>\n",
       "    </tr>\n",
       "    <tr>\n",
       "      <th>13933</th>\n",
       "      <td>2501</td>\n",
       "      <td>2019-08-10 15:02:56</td>\n",
       "      <td>NaN</td>\n",
       "    </tr>\n",
       "    <tr>\n",
       "      <th>13934</th>\n",
       "      <td>2501</td>\n",
       "      <td>2019-08-10 15:07:47</td>\n",
       "      <td>NaN</td>\n",
       "    </tr>\n",
       "    <tr>\n",
       "      <th>13935</th>\n",
       "      <td>2501</td>\n",
       "      <td>2019-08-10 15:16:53</td>\n",
       "      <td>NaN</td>\n",
       "    </tr>\n",
       "    <tr>\n",
       "      <th>13936</th>\n",
       "      <td>2501</td>\n",
       "      <td>2019-08-10 15:22:50</td>\n",
       "      <td>NaN</td>\n",
       "    </tr>\n",
       "    <tr>\n",
       "      <th>13937</th>\n",
       "      <td>2501</td>\n",
       "      <td>2019-08-10 15:29:00</td>\n",
       "      <td>NaN</td>\n",
       "    </tr>\n",
       "    <tr>\n",
       "      <th>13938</th>\n",
       "      <td>2502</td>\n",
       "      <td>2019-08-10 15:39:39</td>\n",
       "      <td>1583.0</td>\n",
       "    </tr>\n",
       "    <tr>\n",
       "      <th>13939</th>\n",
       "      <td>2502</td>\n",
       "      <td>2019-08-10 15:47:31</td>\n",
       "      <td>NaN</td>\n",
       "    </tr>\n",
       "  </tbody>\n",
       "</table>\n",
       "</div>"
      ],
      "text/plain": [
       "        key         Время замера  Температура\n",
       "13920  2498  2019-08-10 13:23:31       1594.0\n",
       "13921  2499  2019-08-10 13:33:21       1569.0\n",
       "13922  2499  2019-08-10 13:41:34       1604.0\n",
       "13923  2499  2019-08-10 13:46:28       1593.0\n",
       "13924  2499  2019-08-10 13:54:56       1588.0\n",
       "13925  2499  2019-08-10 13:58:58       1603.0\n",
       "13926  2500  2019-08-10 14:04:39       1539.0\n",
       "13927  2500  2019-08-10 14:13:11          NaN\n",
       "13928  2500  2019-08-10 14:18:12          NaN\n",
       "13929  2500  2019-08-10 14:25:53          NaN\n",
       "13930  2500  2019-08-10 14:29:39          NaN\n",
       "13931  2501  2019-08-10 14:41:14       1587.0\n",
       "13932  2501  2019-08-10 14:49:15          NaN\n",
       "13933  2501  2019-08-10 15:02:56          NaN\n",
       "13934  2501  2019-08-10 15:07:47          NaN\n",
       "13935  2501  2019-08-10 15:16:53          NaN\n",
       "13936  2501  2019-08-10 15:22:50          NaN\n",
       "13937  2501  2019-08-10 15:29:00          NaN\n",
       "13938  2502  2019-08-10 15:39:39       1583.0\n",
       "13939  2502  2019-08-10 15:47:31          NaN"
      ]
     },
     "execution_count": 31,
     "metadata": {},
     "output_type": "execute_result"
    }
   ],
   "source": [
    "temp.iloc[13920:13940]"
   ]
  },
  {
   "cell_type": "code",
   "execution_count": 32,
   "id": "a82bf3e6-5e23-40b3-ac67-ee248609c188",
   "metadata": {},
   "outputs": [
    {
     "data": {
      "image/png": "[encoded data removed]",
      "text/plain": [
       "<Figure size 2500x1000 with 2 Axes>"
      ]
     },
     "metadata": {},
     "output_type": "display_data"
    }
   ],
   "source": [
    "msno.matrix(temp.groupby('key').mean());"
   ]
  },
  {
   "cell_type": "markdown",
   "id": "a5d2b839-50c0-4736-945b-b275f12a32a6",
   "metadata": {},
   "source": [
    "Начиная с 2500 партии температура замерялась по 1 разу для каждой партии"
   ]
  },
  {
   "cell_type": "code",
   "execution_count": 33,
   "id": "6f56b46e-574a-4c31-8b72-de6a6130d3d2",
   "metadata": {},
   "outputs": [
    {
     "name": "stdout",
     "output_type": "stream",
     "text": [
      "3214 партий на этапе нагрева электродами\n",
      "3129 партий на этапе добавления сыпучих материалов\n",
      "3081 партий на этапе добавления проволочных материалов\n",
      "3239 партий на этапе продувки газом\n",
      "3216 партий с замереной температурой\n"
     ]
    }
   ],
   "source": [
    "print(arc['key'].nunique(), 'партий на этапе нагрева электродами')\n",
    "print(bulk['key'].nunique(), 'партий на этапе добавления сыпучих материалов')\n",
    "print(wire['key'].nunique(), 'партий на этапе добавления проволочных материалов')\n",
    "print(gas['key'].nunique(), 'партий на этапе продувки газом')\n",
    "print(temp['key'].nunique(), 'партий с замереной температурой')"
   ]
  },
  {
   "cell_type": "markdown",
   "id": "4c2a13f6-d4be-4c27-8090-875e3d8af923",
   "metadata": {
    "tags": []
   },
   "source": [
    "### Вывод"
   ]
  },
  {
   "cell_type": "markdown",
   "id": "a7797b7c-636b-4273-a188-e2bfdd00465a",
   "metadata": {},
   "source": [
    "- В данных об электродах присутствует одно аномальное значение \n",
    "- В данных о добавлении сыпучих и проволочных материалов много пропусков\n",
    "- Распределение значений о продувке газом близкое к нормальному, имеется небольшое колличество выбросов\n",
    "- Распределение значений о темпиратуре близкое к нормальному, начиная с 2500 партии теппиратура замерялась по 1 разу для каждой партии\n",
    "- На разных этапах разное количество партий"
   ]
  },
  {
   "cell_type": "markdown",
   "id": "2a7e65db-dbd6-47dd-84cc-dd75680107cc",
   "metadata": {
    "tags": []
   },
   "source": [
    "### План действий"
   ]
  },
  {
   "cell_type": "markdown",
   "id": "25d5f2ac-b841-4166-a3ab-e2f02f43f94a",
   "metadata": {},
   "source": [
    "- Заполнить пропуски там где это возможно\n",
    "- объединить данные в один датасет\n",
    "- разбить на выборки и обучить несколько моделей"
   ]
  },
  {
   "cell_type": "markdown",
   "id": "b2fd1697-00fa-4462-843b-34d6bc1e34d1",
   "metadata": {
    "tags": []
   },
   "source": [
    "## Предобработка данных"
   ]
  },
  {
   "cell_type": "markdown",
   "id": "72f2f6b6-de64-4c13-9af4-419349241c1b",
   "metadata": {},
   "source": [
    "### Таблица temp"
   ]
  },
  {
   "cell_type": "markdown",
   "id": "fa55118f-2110-4dbd-a81c-695047b81390",
   "metadata": {},
   "source": [
    "Целевой признак это последняя измеренная температура в партии.\n",
    "Начиная с 2500 партии есть только первая измереная температура, оставим все партии до 2500."
   ]
  },
  {
   "cell_type": "code",
   "execution_count": 34,
   "id": "57fd393b-93dc-4201-938f-951d1eeca838",
   "metadata": {},
   "outputs": [],
   "source": [
    "df = temp[temp['key'] < 2500].copy()"
   ]
  },
  {
   "cell_type": "code",
   "execution_count": 35,
   "id": "01b40249-462e-4c34-9024-dc329a1e3633",
   "metadata": {},
   "outputs": [],
   "source": [
    "df['target'] = df.groupby('key')['Температура'].transform('last')"
   ]
  },
  {
   "cell_type": "code",
   "execution_count": 36,
   "id": "6288639d-14f4-4ca0-8ba5-92875b1fb387",
   "metadata": {},
   "outputs": [
    {
     "data": {
      "text/html": [
       "<div>\n",
       "<style scoped>\n",
       "    .dataframe tbody tr th:only-of-type {\n",
       "        vertical-align: middle;\n",
       "    }\n",
       "\n",
       "    .dataframe tbody tr th {\n",
       "        vertical-align: top;\n",
       "    }\n",
       "\n",
       "    .dataframe thead th {\n",
       "        text-align: right;\n",
       "    }\n",
       "</style>\n",
       "<table border=\"1\" class=\"dataframe\">\n",
       "  <thead>\n",
       "    <tr style=\"text-align: right;\">\n",
       "      <th></th>\n",
       "      <th>key</th>\n",
       "      <th>Время замера</th>\n",
       "      <th>Температура</th>\n",
       "      <th>target</th>\n",
       "    </tr>\n",
       "  </thead>\n",
       "  <tbody>\n",
       "    <tr>\n",
       "      <th>0</th>\n",
       "      <td>1</td>\n",
       "      <td>2019-05-03 11:02:04</td>\n",
       "      <td>1571.0</td>\n",
       "      <td>1613.0</td>\n",
       "    </tr>\n",
       "    <tr>\n",
       "      <th>1</th>\n",
       "      <td>1</td>\n",
       "      <td>2019-05-03 11:07:18</td>\n",
       "      <td>1604.0</td>\n",
       "      <td>1613.0</td>\n",
       "    </tr>\n",
       "    <tr>\n",
       "      <th>2</th>\n",
       "      <td>1</td>\n",
       "      <td>2019-05-03 11:11:34</td>\n",
       "      <td>1618.0</td>\n",
       "      <td>1613.0</td>\n",
       "    </tr>\n",
       "    <tr>\n",
       "      <th>3</th>\n",
       "      <td>1</td>\n",
       "      <td>2019-05-03 11:18:04</td>\n",
       "      <td>1601.0</td>\n",
       "      <td>1613.0</td>\n",
       "    </tr>\n",
       "    <tr>\n",
       "      <th>4</th>\n",
       "      <td>1</td>\n",
       "      <td>2019-05-03 11:25:59</td>\n",
       "      <td>1606.0</td>\n",
       "      <td>1613.0</td>\n",
       "    </tr>\n",
       "    <tr>\n",
       "      <th>...</th>\n",
       "      <td>...</td>\n",
       "      <td>...</td>\n",
       "      <td>...</td>\n",
       "      <td>...</td>\n",
       "    </tr>\n",
       "    <tr>\n",
       "      <th>13921</th>\n",
       "      <td>2499</td>\n",
       "      <td>2019-08-10 13:33:21</td>\n",
       "      <td>1569.0</td>\n",
       "      <td>1603.0</td>\n",
       "    </tr>\n",
       "    <tr>\n",
       "      <th>13922</th>\n",
       "      <td>2499</td>\n",
       "      <td>2019-08-10 13:41:34</td>\n",
       "      <td>1604.0</td>\n",
       "      <td>1603.0</td>\n",
       "    </tr>\n",
       "    <tr>\n",
       "      <th>13923</th>\n",
       "      <td>2499</td>\n",
       "      <td>2019-08-10 13:46:28</td>\n",
       "      <td>1593.0</td>\n",
       "      <td>1603.0</td>\n",
       "    </tr>\n",
       "    <tr>\n",
       "      <th>13924</th>\n",
       "      <td>2499</td>\n",
       "      <td>2019-08-10 13:54:56</td>\n",
       "      <td>1588.0</td>\n",
       "      <td>1603.0</td>\n",
       "    </tr>\n",
       "    <tr>\n",
       "      <th>13925</th>\n",
       "      <td>2499</td>\n",
       "      <td>2019-08-10 13:58:58</td>\n",
       "      <td>1603.0</td>\n",
       "      <td>1603.0</td>\n",
       "    </tr>\n",
       "  </tbody>\n",
       "</table>\n",
       "<p>13926 rows × 4 columns</p>\n",
       "</div>"
      ],
      "text/plain": [
       "        key         Время замера  Температура  target\n",
       "0         1  2019-05-03 11:02:04       1571.0  1613.0\n",
       "1         1  2019-05-03 11:07:18       1604.0  1613.0\n",
       "2         1  2019-05-03 11:11:34       1618.0  1613.0\n",
       "3         1  2019-05-03 11:18:04       1601.0  1613.0\n",
       "4         1  2019-05-03 11:25:59       1606.0  1613.0\n",
       "...     ...                  ...          ...     ...\n",
       "13921  2499  2019-08-10 13:33:21       1569.0  1603.0\n",
       "13922  2499  2019-08-10 13:41:34       1604.0  1603.0\n",
       "13923  2499  2019-08-10 13:46:28       1593.0  1603.0\n",
       "13924  2499  2019-08-10 13:54:56       1588.0  1603.0\n",
       "13925  2499  2019-08-10 13:58:58       1603.0  1603.0\n",
       "\n",
       "[13926 rows x 4 columns]"
      ]
     },
     "execution_count": 36,
     "metadata": {},
     "output_type": "execute_result"
    }
   ],
   "source": [
    "df"
   ]
  },
  {
   "cell_type": "markdown",
   "id": "8957a6fc-8418-43e0-b481-62f7d56dfaaf",
   "metadata": {},
   "source": [
    "Удалим строки с температурой равной целевой"
   ]
  },
  {
   "cell_type": "code",
   "execution_count": 37,
   "id": "33ccd8dc-c29d-4f00-b9fb-f1bf6524f9a8",
   "metadata": {},
   "outputs": [
    {
     "data": {
      "text/html": [
       "<div>\n",
       "<style scoped>\n",
       "    .dataframe tbody tr th:only-of-type {\n",
       "        vertical-align: middle;\n",
       "    }\n",
       "\n",
       "    .dataframe tbody tr th {\n",
       "        vertical-align: top;\n",
       "    }\n",
       "\n",
       "    .dataframe thead th {\n",
       "        text-align: right;\n",
       "    }\n",
       "</style>\n",
       "<table border=\"1\" class=\"dataframe\">\n",
       "  <thead>\n",
       "    <tr style=\"text-align: right;\">\n",
       "      <th></th>\n",
       "      <th>key</th>\n",
       "      <th>Время замера</th>\n",
       "      <th>Температура</th>\n",
       "      <th>target</th>\n",
       "    </tr>\n",
       "  </thead>\n",
       "  <tbody>\n",
       "    <tr>\n",
       "      <th>1105</th>\n",
       "      <td>195</td>\n",
       "      <td>2019-05-11 00:01:36</td>\n",
       "      <td>1583.0</td>\n",
       "      <td>1583.0</td>\n",
       "    </tr>\n",
       "    <tr>\n",
       "      <th>1549</th>\n",
       "      <td>279</td>\n",
       "      <td>2019-05-14 10:13:01</td>\n",
       "      <td>1603.0</td>\n",
       "      <td>1603.0</td>\n",
       "    </tr>\n",
       "  </tbody>\n",
       "</table>\n",
       "</div>"
      ],
      "text/plain": [
       "      key         Время замера  Температура  target\n",
       "1105  195  2019-05-11 00:01:36       1583.0  1583.0\n",
       "1549  279  2019-05-14 10:13:01       1603.0  1603.0"
      ]
     },
     "execution_count": 37,
     "metadata": {},
     "output_type": "execute_result"
    }
   ],
   "source": [
    "#df = df[df['Температура'] != df['target']]\n",
    "df[df.groupby('key')['key'].transform('count') == 1]"
   ]
  },
  {
   "cell_type": "code",
   "execution_count": 38,
   "id": "f9fa33e7-112a-4ee2-8388-e2869ff1766d",
   "metadata": {},
   "outputs": [],
   "source": [
    "df = df[df.groupby('key')['key'].transform('count') != 1]"
   ]
  },
  {
   "cell_type": "code",
   "execution_count": 39,
   "id": "d7a022d7",
   "metadata": {},
   "outputs": [
    {
     "data": {
      "text/html": [
       "<div>\n",
       "<style scoped>\n",
       "    .dataframe tbody tr th:only-of-type {\n",
       "        vertical-align: middle;\n",
       "    }\n",
       "\n",
       "    .dataframe tbody tr th {\n",
       "        vertical-align: top;\n",
       "    }\n",
       "\n",
       "    .dataframe thead th {\n",
       "        text-align: right;\n",
       "    }\n",
       "</style>\n",
       "<table border=\"1\" class=\"dataframe\">\n",
       "  <thead>\n",
       "    <tr style=\"text-align: right;\">\n",
       "      <th></th>\n",
       "      <th>key</th>\n",
       "      <th>Время замера</th>\n",
       "      <th>Температура</th>\n",
       "      <th>target</th>\n",
       "    </tr>\n",
       "  </thead>\n",
       "  <tbody>\n",
       "    <tr>\n",
       "      <th>0</th>\n",
       "      <td>1</td>\n",
       "      <td>2019-05-03 11:02:04</td>\n",
       "      <td>1571.0</td>\n",
       "      <td>1613.0</td>\n",
       "    </tr>\n",
       "    <tr>\n",
       "      <th>1</th>\n",
       "      <td>1</td>\n",
       "      <td>2019-05-03 11:07:18</td>\n",
       "      <td>1604.0</td>\n",
       "      <td>1613.0</td>\n",
       "    </tr>\n",
       "    <tr>\n",
       "      <th>2</th>\n",
       "      <td>1</td>\n",
       "      <td>2019-05-03 11:11:34</td>\n",
       "      <td>1618.0</td>\n",
       "      <td>1613.0</td>\n",
       "    </tr>\n",
       "    <tr>\n",
       "      <th>3</th>\n",
       "      <td>1</td>\n",
       "      <td>2019-05-03 11:18:04</td>\n",
       "      <td>1601.0</td>\n",
       "      <td>1613.0</td>\n",
       "    </tr>\n",
       "    <tr>\n",
       "      <th>4</th>\n",
       "      <td>1</td>\n",
       "      <td>2019-05-03 11:25:59</td>\n",
       "      <td>1606.0</td>\n",
       "      <td>1613.0</td>\n",
       "    </tr>\n",
       "    <tr>\n",
       "      <th>...</th>\n",
       "      <td>...</td>\n",
       "      <td>...</td>\n",
       "      <td>...</td>\n",
       "      <td>...</td>\n",
       "    </tr>\n",
       "    <tr>\n",
       "      <th>13921</th>\n",
       "      <td>2499</td>\n",
       "      <td>2019-08-10 13:33:21</td>\n",
       "      <td>1569.0</td>\n",
       "      <td>1603.0</td>\n",
       "    </tr>\n",
       "    <tr>\n",
       "      <th>13922</th>\n",
       "      <td>2499</td>\n",
       "      <td>2019-08-10 13:41:34</td>\n",
       "      <td>1604.0</td>\n",
       "      <td>1603.0</td>\n",
       "    </tr>\n",
       "    <tr>\n",
       "      <th>13923</th>\n",
       "      <td>2499</td>\n",
       "      <td>2019-08-10 13:46:28</td>\n",
       "      <td>1593.0</td>\n",
       "      <td>1603.0</td>\n",
       "    </tr>\n",
       "    <tr>\n",
       "      <th>13924</th>\n",
       "      <td>2499</td>\n",
       "      <td>2019-08-10 13:54:56</td>\n",
       "      <td>1588.0</td>\n",
       "      <td>1603.0</td>\n",
       "    </tr>\n",
       "    <tr>\n",
       "      <th>13925</th>\n",
       "      <td>2499</td>\n",
       "      <td>2019-08-10 13:58:58</td>\n",
       "      <td>1603.0</td>\n",
       "      <td>1603.0</td>\n",
       "    </tr>\n",
       "  </tbody>\n",
       "</table>\n",
       "<p>13924 rows × 4 columns</p>\n",
       "</div>"
      ],
      "text/plain": [
       "        key         Время замера  Температура  target\n",
       "0         1  2019-05-03 11:02:04       1571.0  1613.0\n",
       "1         1  2019-05-03 11:07:18       1604.0  1613.0\n",
       "2         1  2019-05-03 11:11:34       1618.0  1613.0\n",
       "3         1  2019-05-03 11:18:04       1601.0  1613.0\n",
       "4         1  2019-05-03 11:25:59       1606.0  1613.0\n",
       "...     ...                  ...          ...     ...\n",
       "13921  2499  2019-08-10 13:33:21       1569.0  1603.0\n",
       "13922  2499  2019-08-10 13:41:34       1604.0  1603.0\n",
       "13923  2499  2019-08-10 13:46:28       1593.0  1603.0\n",
       "13924  2499  2019-08-10 13:54:56       1588.0  1603.0\n",
       "13925  2499  2019-08-10 13:58:58       1603.0  1603.0\n",
       "\n",
       "[13924 rows x 4 columns]"
      ]
     },
     "execution_count": 39,
     "metadata": {},
     "output_type": "execute_result"
    }
   ],
   "source": [
    "df"
   ]
  },
  {
   "cell_type": "markdown",
   "id": "dc3cd53f-d7af-413b-a5ad-2957b78aa9f2",
   "metadata": {},
   "source": [
    "Групируем итоговою таблицу "
   ]
  },
  {
   "cell_type": "code",
   "execution_count": 40,
   "id": "a4dd252f-a126-4ef7-b569-18c3afeb6e5c",
   "metadata": {},
   "outputs": [],
   "source": [
    "df = df.groupby('key').first().reset_index()"
   ]
  },
  {
   "cell_type": "markdown",
   "id": "8eec0c23-156a-4a3d-836b-ed8214a5bf85",
   "metadata": {
    "tags": []
   },
   "source": [
    "### Таблица arc"
   ]
  },
  {
   "cell_type": "markdown",
   "id": "f3bc4767-0c3c-4cf5-a4b5-c4a57e35c49a",
   "metadata": {},
   "source": [
    "Подготовим таблицу `arc` к присоединению к общей\\\n",
    "посчитаем общую мощьность и общее время нагрева партии"
   ]
  },
  {
   "cell_type": "markdown",
   "id": "c30f7680-aa43-400d-b892-ac2f17933d7b",
   "metadata": {},
   "source": [
    "Оставим только записи, где Реактивная мощность > 0\\\n",
    "Изменим тип данных даты и времени"
   ]
  },
  {
   "cell_type": "code",
   "execution_count": 42,
   "id": "2eb7029b-4e44-4df9-8bcc-28239364d447",
   "metadata": {},
   "outputs": [],
   "source": [
    "arc = arc[arc['Реактивная мощность'] > 0]"
   ]
  },
  {
   "cell_type": "code",
   "execution_count": 43,
   "id": "41054f75-cab2-44ce-adee-2648ae6ed860",
   "metadata": {},
   "outputs": [],
   "source": [
    "# Приводим данные к нужному формату\n",
    "arc['Начало нагрева дугой'] = pd.to_datetime(arc['Начало нагрева дугой'])\n",
    "arc['Конец нагрева дугой'] = pd.to_datetime(arc['Конец нагрева дугой'])\n",
    "\n",
    "# создаем столбец с временем нагрева, c количеством циклов нагрева и суммарным временем нагрева\n",
    "arc['time'] = (arc['Конец нагрева дугой'] - arc['Начало нагрева дугой']).dt.total_seconds()\n",
    "arc['count_time'] = arc.groupby('key')['time'].transform('count')\n",
    "arc['sum_time'] = arc.groupby('key')['time'].transform('sum')\n",
    "\n",
    "# Полная мощьность\n",
    "arc['power'] = (arc['Активная мощность']**2 + arc['Реактивная мощность']**2)**0.5\n",
    "\n",
    "# Группируем таблицу \n",
    "arc = arc.groupby('key').first().reset_index()"
   ]
  },
  {
   "cell_type": "markdown",
   "id": "4e243559-eec2-4835-bba0-b0e16ea8fabc",
   "metadata": {},
   "source": [
    "### Таблицы с присадками"
   ]
  },
  {
   "cell_type": "markdown",
   "id": "a1cb790d-1bee-40c2-803e-8829b94f1ad1",
   "metadata": {},
   "source": [
    "подготовим таблицы с присадками\\\n",
    "добавим столбец с общим количеством присадок добавленых в партию"
   ]
  },
  {
   "cell_type": "code",
   "execution_count": 44,
   "id": "773b4d33-6307-4298-90ed-e34e79996d05",
   "metadata": {},
   "outputs": [],
   "source": [
    "# Создаем столбцы с суммой всех добавленых приадок\n",
    "bulk['sum_bulk'] = bulk.iloc[:, 1:].sum(axis=1)\n",
    "wire['sum_wire'] = wire.iloc[:, 1:].sum(axis=1)\n",
    "\n",
    "# Столбцы с количеством добавленых присадок\n",
    "bulk['count_bulk'] = bulk.count(axis=1) - 1\n",
    "wire['count_wire'] = wire.count(axis=1) - 1"
   ]
  },
  {
   "cell_type": "markdown",
   "id": "7da25550-e0a0-46b2-8bc1-754175e3cd44",
   "metadata": {},
   "source": [
    "Заполним пропуски и разделим `bulk_15` на группы "
   ]
  },
  {
   "cell_type": "code",
   "execution_count": 45,
   "id": "ba85c192-992d-42ba-9c05-ccbce1005308",
   "metadata": {},
   "outputs": [],
   "source": [
    "bulk = bulk.fillna(0)\n",
    "wire = wire.fillna(0)"
   ]
  },
  {
   "cell_type": "code",
   "execution_count": 46,
   "id": "402255ca-96db-4521-a322-65d720cfa69e",
   "metadata": {},
   "outputs": [
    {
     "data": {
      "image/png": "[encoded data removed]",
      "text/plain": [
       "<Figure size 640x480 with 1 Axes>"
      ]
     },
     "metadata": {},
     "output_type": "display_data"
    }
   ],
   "source": [
    "bulk['Bulk 15'].hist(bins=100)\n",
    "plt.title('Bulk 15')\n",
    "plt.show()"
   ]
  },
  {
   "cell_type": "code",
   "execution_count": 47,
   "id": "b2bd6707-91d8-42d6-ab89-fe4a47bfceab",
   "metadata": {},
   "outputs": [],
   "source": [
    "# разделение на группы\n",
    "bulk['bulk_15_group'] = pd.cut(bulk['Bulk 15'],\n",
    "                               bins=[-1, 25, 75, 125, 175, 250, 500],\n",
    "                              labels=[0, 1, 2, 3, 4, 5])"
   ]
  },
  {
   "cell_type": "markdown",
   "id": "1faa39b7-be21-4290-9fe6-5429f3d821be",
   "metadata": {
    "tags": []
   },
   "source": [
    "### Соединим все таблицы"
   ]
  },
  {
   "cell_type": "code",
   "execution_count": 48,
   "id": "046666d9-72ec-4821-a977-9bba3c430739",
   "metadata": {},
   "outputs": [],
   "source": [
    "df = df.merge(arc, on='key')\n",
    "df = df.merge(bulk, on='key')\n",
    "df = df.merge(wire, on='key')\n",
    "df = df.merge(gas, on='key')"
   ]
  },
  {
   "cell_type": "code",
   "execution_count": 49,
   "id": "6ec57e65",
   "metadata": {},
   "outputs": [
    {
     "data": {
      "text/html": [
       "<div>\n",
       "<style scoped>\n",
       "    .dataframe tbody tr th:only-of-type {\n",
       "        vertical-align: middle;\n",
       "    }\n",
       "\n",
       "    .dataframe tbody tr th {\n",
       "        vertical-align: top;\n",
       "    }\n",
       "\n",
       "    .dataframe thead th {\n",
       "        text-align: right;\n",
       "    }\n",
       "</style>\n",
       "<table border=\"1\" class=\"dataframe\">\n",
       "  <thead>\n",
       "    <tr style=\"text-align: right;\">\n",
       "      <th></th>\n",
       "      <th>key</th>\n",
       "      <th>Время замера</th>\n",
       "      <th>Температура</th>\n",
       "      <th>target</th>\n",
       "      <th>Начало нагрева дугой</th>\n",
       "      <th>Конец нагрева дугой</th>\n",
       "      <th>Активная мощность</th>\n",
       "      <th>Реактивная мощность</th>\n",
       "      <th>time</th>\n",
       "      <th>count_time</th>\n",
       "      <th>...</th>\n",
       "      <th>Wire 3</th>\n",
       "      <th>Wire 4</th>\n",
       "      <th>Wire 5</th>\n",
       "      <th>Wire 6</th>\n",
       "      <th>Wire 7</th>\n",
       "      <th>Wire 8</th>\n",
       "      <th>Wire 9</th>\n",
       "      <th>sum_wire</th>\n",
       "      <th>count_wire</th>\n",
       "      <th>Газ 1</th>\n",
       "    </tr>\n",
       "  </thead>\n",
       "  <tbody>\n",
       "    <tr>\n",
       "      <th>0</th>\n",
       "      <td>1</td>\n",
       "      <td>2019-05-03 11:02:04</td>\n",
       "      <td>1571.0</td>\n",
       "      <td>1613.0</td>\n",
       "      <td>2019-05-03 11:02:14</td>\n",
       "      <td>2019-05-03 11:06:02</td>\n",
       "      <td>0.305130</td>\n",
       "      <td>0.211253</td>\n",
       "      <td>228.0</td>\n",
       "      <td>5</td>\n",
       "      <td>...</td>\n",
       "      <td>0.0</td>\n",
       "      <td>0.0</td>\n",
       "      <td>0.0</td>\n",
       "      <td>0.0</td>\n",
       "      <td>0.0</td>\n",
       "      <td>0.0</td>\n",
       "      <td>0.0</td>\n",
       "      <td>60.059998</td>\n",
       "      <td>2</td>\n",
       "      <td>29.749986</td>\n",
       "    </tr>\n",
       "    <tr>\n",
       "      <th>1</th>\n",
       "      <td>2</td>\n",
       "      <td>2019-05-03 11:34:04</td>\n",
       "      <td>1581.0</td>\n",
       "      <td>1602.0</td>\n",
       "      <td>2019-05-03 11:34:14</td>\n",
       "      <td>2019-05-03 11:36:31</td>\n",
       "      <td>0.381124</td>\n",
       "      <td>0.220351</td>\n",
       "      <td>137.0</td>\n",
       "      <td>4</td>\n",
       "      <td>...</td>\n",
       "      <td>0.0</td>\n",
       "      <td>0.0</td>\n",
       "      <td>0.0</td>\n",
       "      <td>0.0</td>\n",
       "      <td>0.0</td>\n",
       "      <td>0.0</td>\n",
       "      <td>0.0</td>\n",
       "      <td>96.052315</td>\n",
       "      <td>2</td>\n",
       "      <td>12.555561</td>\n",
       "    </tr>\n",
       "    <tr>\n",
       "      <th>2</th>\n",
       "      <td>3</td>\n",
       "      <td>2019-05-03 12:06:44</td>\n",
       "      <td>1596.0</td>\n",
       "      <td>1599.0</td>\n",
       "      <td>2019-05-03 12:06:54</td>\n",
       "      <td>2019-05-03 12:11:34</td>\n",
       "      <td>1.101678</td>\n",
       "      <td>0.820856</td>\n",
       "      <td>280.0</td>\n",
       "      <td>5</td>\n",
       "      <td>...</td>\n",
       "      <td>0.0</td>\n",
       "      <td>0.0</td>\n",
       "      <td>0.0</td>\n",
       "      <td>0.0</td>\n",
       "      <td>0.0</td>\n",
       "      <td>0.0</td>\n",
       "      <td>0.0</td>\n",
       "      <td>91.160157</td>\n",
       "      <td>2</td>\n",
       "      <td>28.554793</td>\n",
       "    </tr>\n",
       "    <tr>\n",
       "      <th>3</th>\n",
       "      <td>4</td>\n",
       "      <td>2019-05-03 12:39:27</td>\n",
       "      <td>1601.0</td>\n",
       "      <td>1625.0</td>\n",
       "      <td>2019-05-03 12:39:37</td>\n",
       "      <td>2019-05-03 12:43:04</td>\n",
       "      <td>0.642946</td>\n",
       "      <td>0.516071</td>\n",
       "      <td>207.0</td>\n",
       "      <td>4</td>\n",
       "      <td>...</td>\n",
       "      <td>0.0</td>\n",
       "      <td>0.0</td>\n",
       "      <td>0.0</td>\n",
       "      <td>0.0</td>\n",
       "      <td>0.0</td>\n",
       "      <td>0.0</td>\n",
       "      <td>0.0</td>\n",
       "      <td>89.063515</td>\n",
       "      <td>2</td>\n",
       "      <td>18.841219</td>\n",
       "    </tr>\n",
       "    <tr>\n",
       "      <th>4</th>\n",
       "      <td>5</td>\n",
       "      <td>2019-05-03 13:11:03</td>\n",
       "      <td>1576.0</td>\n",
       "      <td>1602.0</td>\n",
       "      <td>2019-05-03 13:11:13</td>\n",
       "      <td>2019-05-03 13:15:24</td>\n",
       "      <td>0.324563</td>\n",
       "      <td>0.279102</td>\n",
       "      <td>251.0</td>\n",
       "      <td>4</td>\n",
       "      <td>...</td>\n",
       "      <td>0.0</td>\n",
       "      <td>0.0</td>\n",
       "      <td>0.0</td>\n",
       "      <td>0.0</td>\n",
       "      <td>0.0</td>\n",
       "      <td>0.0</td>\n",
       "      <td>0.0</td>\n",
       "      <td>98.352796</td>\n",
       "      <td>3</td>\n",
       "      <td>5.413692</td>\n",
       "    </tr>\n",
       "    <tr>\n",
       "      <th>...</th>\n",
       "      <td>...</td>\n",
       "      <td>...</td>\n",
       "      <td>...</td>\n",
       "      <td>...</td>\n",
       "      <td>...</td>\n",
       "      <td>...</td>\n",
       "      <td>...</td>\n",
       "      <td>...</td>\n",
       "      <td>...</td>\n",
       "      <td>...</td>\n",
       "      <td>...</td>\n",
       "      <td>...</td>\n",
       "      <td>...</td>\n",
       "      <td>...</td>\n",
       "      <td>...</td>\n",
       "      <td>...</td>\n",
       "      <td>...</td>\n",
       "      <td>...</td>\n",
       "      <td>...</td>\n",
       "      <td>...</td>\n",
       "      <td>...</td>\n",
       "    </tr>\n",
       "    <tr>\n",
       "      <th>2324</th>\n",
       "      <td>2495</td>\n",
       "      <td>2019-08-10 11:27:47</td>\n",
       "      <td>1570.0</td>\n",
       "      <td>1591.0</td>\n",
       "      <td>2019-08-10 11:27:57</td>\n",
       "      <td>2019-08-10 11:31:24</td>\n",
       "      <td>0.430979</td>\n",
       "      <td>0.359487</td>\n",
       "      <td>207.0</td>\n",
       "      <td>4</td>\n",
       "      <td>...</td>\n",
       "      <td>0.0</td>\n",
       "      <td>0.0</td>\n",
       "      <td>0.0</td>\n",
       "      <td>0.0</td>\n",
       "      <td>0.0</td>\n",
       "      <td>0.0</td>\n",
       "      <td>0.0</td>\n",
       "      <td>89.150879</td>\n",
       "      <td>2</td>\n",
       "      <td>7.125735</td>\n",
       "    </tr>\n",
       "    <tr>\n",
       "      <th>2325</th>\n",
       "      <td>2496</td>\n",
       "      <td>2019-08-10 11:56:48</td>\n",
       "      <td>1554.0</td>\n",
       "      <td>1591.0</td>\n",
       "      <td>2019-08-10 11:56:58</td>\n",
       "      <td>2019-08-10 11:58:55</td>\n",
       "      <td>0.333029</td>\n",
       "      <td>0.228362</td>\n",
       "      <td>117.0</td>\n",
       "      <td>6</td>\n",
       "      <td>...</td>\n",
       "      <td>0.0</td>\n",
       "      <td>0.0</td>\n",
       "      <td>0.0</td>\n",
       "      <td>0.0</td>\n",
       "      <td>0.0</td>\n",
       "      <td>0.0</td>\n",
       "      <td>0.0</td>\n",
       "      <td>114.179527</td>\n",
       "      <td>2</td>\n",
       "      <td>9.412616</td>\n",
       "    </tr>\n",
       "    <tr>\n",
       "      <th>2326</th>\n",
       "      <td>2497</td>\n",
       "      <td>2019-08-10 12:37:26</td>\n",
       "      <td>1571.0</td>\n",
       "      <td>1589.0</td>\n",
       "      <td>2019-08-10 12:37:36</td>\n",
       "      <td>2019-08-10 12:40:12</td>\n",
       "      <td>1.268378</td>\n",
       "      <td>0.859087</td>\n",
       "      <td>156.0</td>\n",
       "      <td>3</td>\n",
       "      <td>...</td>\n",
       "      <td>0.0</td>\n",
       "      <td>0.0</td>\n",
       "      <td>0.0</td>\n",
       "      <td>0.0</td>\n",
       "      <td>0.0</td>\n",
       "      <td>0.0</td>\n",
       "      <td>0.0</td>\n",
       "      <td>103.134723</td>\n",
       "      <td>3</td>\n",
       "      <td>6.271699</td>\n",
       "    </tr>\n",
       "    <tr>\n",
       "      <th>2327</th>\n",
       "      <td>2498</td>\n",
       "      <td>2019-08-10 12:58:11</td>\n",
       "      <td>1591.0</td>\n",
       "      <td>1594.0</td>\n",
       "      <td>2019-08-10 12:58:21</td>\n",
       "      <td>2019-08-10 13:02:37</td>\n",
       "      <td>0.419017</td>\n",
       "      <td>0.295789</td>\n",
       "      <td>256.0</td>\n",
       "      <td>5</td>\n",
       "      <td>...</td>\n",
       "      <td>0.0</td>\n",
       "      <td>0.0</td>\n",
       "      <td>0.0</td>\n",
       "      <td>0.0</td>\n",
       "      <td>0.0</td>\n",
       "      <td>0.0</td>\n",
       "      <td>0.0</td>\n",
       "      <td>118.110717</td>\n",
       "      <td>2</td>\n",
       "      <td>14.953657</td>\n",
       "    </tr>\n",
       "    <tr>\n",
       "      <th>2328</th>\n",
       "      <td>2499</td>\n",
       "      <td>2019-08-10 13:33:21</td>\n",
       "      <td>1569.0</td>\n",
       "      <td>1603.0</td>\n",
       "      <td>2019-08-10 13:33:31</td>\n",
       "      <td>2019-08-10 13:38:43</td>\n",
       "      <td>0.700677</td>\n",
       "      <td>0.534767</td>\n",
       "      <td>312.0</td>\n",
       "      <td>4</td>\n",
       "      <td>...</td>\n",
       "      <td>0.0</td>\n",
       "      <td>0.0</td>\n",
       "      <td>0.0</td>\n",
       "      <td>0.0</td>\n",
       "      <td>0.0</td>\n",
       "      <td>0.0</td>\n",
       "      <td>0.0</td>\n",
       "      <td>160.166238</td>\n",
       "      <td>3</td>\n",
       "      <td>11.336151</td>\n",
       "    </tr>\n",
       "  </tbody>\n",
       "</table>\n",
       "<p>2329 rows × 42 columns</p>\n",
       "</div>"
      ],
      "text/plain": [
       "       key         Время замера  Температура  target Начало нагрева дугой  \\\n",
       "0        1  2019-05-03 11:02:04       1571.0  1613.0  2019-05-03 11:02:14   \n",
       "1        2  2019-05-03 11:34:04       1581.0  1602.0  2019-05-03 11:34:14   \n",
       "2        3  2019-05-03 12:06:44       1596.0  1599.0  2019-05-03 12:06:54   \n",
       "3        4  2019-05-03 12:39:27       1601.0  1625.0  2019-05-03 12:39:37   \n",
       "4        5  2019-05-03 13:11:03       1576.0  1602.0  2019-05-03 13:11:13   \n",
       "...    ...                  ...          ...     ...                  ...   \n",
       "2324  2495  2019-08-10 11:27:47       1570.0  1591.0  2019-08-10 11:27:57   \n",
       "2325  2496  2019-08-10 11:56:48       1554.0  1591.0  2019-08-10 11:56:58   \n",
       "2326  2497  2019-08-10 12:37:26       1571.0  1589.0  2019-08-10 12:37:36   \n",
       "2327  2498  2019-08-10 12:58:11       1591.0  1594.0  2019-08-10 12:58:21   \n",
       "2328  2499  2019-08-10 13:33:21       1569.0  1603.0  2019-08-10 13:33:31   \n",
       "\n",
       "     Конец нагрева дугой  Активная мощность  Реактивная мощность   time  \\\n",
       "0    2019-05-03 11:06:02           0.305130             0.211253  228.0   \n",
       "1    2019-05-03 11:36:31           0.381124             0.220351  137.0   \n",
       "2    2019-05-03 12:11:34           1.101678             0.820856  280.0   \n",
       "3    2019-05-03 12:43:04           0.642946             0.516071  207.0   \n",
       "4    2019-05-03 13:15:24           0.324563             0.279102  251.0   \n",
       "...                  ...                ...                  ...    ...   \n",
       "2324 2019-08-10 11:31:24           0.430979             0.359487  207.0   \n",
       "2325 2019-08-10 11:58:55           0.333029             0.228362  117.0   \n",
       "2326 2019-08-10 12:40:12           1.268378             0.859087  156.0   \n",
       "2327 2019-08-10 13:02:37           0.419017             0.295789  256.0   \n",
       "2328 2019-08-10 13:38:43           0.700677             0.534767  312.0   \n",
       "\n",
       "      count_time  ...  Wire 3  Wire 4  Wire 5  Wire 6  Wire 7  Wire 8  Wire 9  \\\n",
       "0              5  ...     0.0     0.0     0.0     0.0     0.0     0.0     0.0   \n",
       "1              4  ...     0.0     0.0     0.0     0.0     0.0     0.0     0.0   \n",
       "2              5  ...     0.0     0.0     0.0     0.0     0.0     0.0     0.0   \n",
       "3              4  ...     0.0     0.0     0.0     0.0     0.0     0.0     0.0   \n",
       "4              4  ...     0.0     0.0     0.0     0.0     0.0     0.0     0.0   \n",
       "...          ...  ...     ...     ...     ...     ...     ...     ...     ...   \n",
       "2324           4  ...     0.0     0.0     0.0     0.0     0.0     0.0     0.0   \n",
       "2325           6  ...     0.0     0.0     0.0     0.0     0.0     0.0     0.0   \n",
       "2326           3  ...     0.0     0.0     0.0     0.0     0.0     0.0     0.0   \n",
       "2327           5  ...     0.0     0.0     0.0     0.0     0.0     0.0     0.0   \n",
       "2328           4  ...     0.0     0.0     0.0     0.0     0.0     0.0     0.0   \n",
       "\n",
       "        sum_wire  count_wire      Газ 1  \n",
       "0      60.059998           2  29.749986  \n",
       "1      96.052315           2  12.555561  \n",
       "2      91.160157           2  28.554793  \n",
       "3      89.063515           2  18.841219  \n",
       "4      98.352796           3   5.413692  \n",
       "...          ...         ...        ...  \n",
       "2324   89.150879           2   7.125735  \n",
       "2325  114.179527           2   9.412616  \n",
       "2326  103.134723           3   6.271699  \n",
       "2327  118.110717           2  14.953657  \n",
       "2328  160.166238           3  11.336151  \n",
       "\n",
       "[2329 rows x 42 columns]"
      ]
     },
     "execution_count": 49,
     "metadata": {},
     "output_type": "execute_result"
    }
   ],
   "source": [
    "df"
   ]
  },
  {
   "cell_type": "markdown",
   "id": "3539302e-27d5-46d4-b1dd-7e5439691a52",
   "metadata": {
    "tags": []
   },
   "source": [
    "### Вывод по предобработке"
   ]
  },
  {
   "cell_type": "markdown",
   "id": "afb0549c-d315-47b7-921d-a82bd23ad6f6",
   "metadata": {},
   "source": [
    "В результате предобработки мы выделили целевой признак (последняя измереная температура) \\\n",
    "на основе имеющихся данных сделали новые признаки\\\n",
    "собрали все данные в одну таблицу "
   ]
  },
  {
   "cell_type": "markdown",
   "id": "3665d083-62c2-4ba6-ade0-4feb07d0b8cc",
   "metadata": {
    "tags": []
   },
   "source": [
    "## Исследование итоговой таблицы с данными"
   ]
  },
  {
   "cell_type": "markdown",
   "id": "95f8fa7b-667c-4901-90eb-6a80ef08feae",
   "metadata": {},
   "source": [
    "Удалим колонки с данными о времени, с показаниями активной и реактивной мощности, а также удалим те присадки, которые добавлялись в небольшое количество партий."
   ]
  },
  {
   "cell_type": "code",
   "execution_count": 50,
   "id": "dd309111-bbc2-4ac6-9b0b-5ea567648f5f",
   "metadata": {},
   "outputs": [],
   "source": [
    "df = df.drop(columns=['Время замера',\n",
    "                      'Активная мощность', 'Реактивная мощность',\n",
    "                      'Начало нагрева дугой',\n",
    "                      'Конец нагрева дугой',\n",
    "                      'Wire 5', 'Wire 3', 'Wire 4', 'Wire 5','Wire 6', 'Wire 7', 'Wire 8', 'Wire 9',\n",
    "                      'Bulk 2','Bulk 5','Bulk 7','Bulk 8','Bulk 9','Bulk 2','Bulk 13',          \n",
    "                      ])"
   ]
  },
  {
   "cell_type": "code",
   "execution_count": 51,
   "id": "ec34166b-c787-4833-b31b-c57b8e6ef059",
   "metadata": {},
   "outputs": [],
   "source": [
    "pd.set_option('display.max_columns', None)"
   ]
  },
  {
   "cell_type": "code",
   "execution_count": 52,
   "id": "16c89f67-1104-431c-8c8f-17394c57f742",
   "metadata": {},
   "outputs": [
    {
     "data": {
      "text/html": [
       "<div>\n",
       "<style scoped>\n",
       "    .dataframe tbody tr th:only-of-type {\n",
       "        vertical-align: middle;\n",
       "    }\n",
       "\n",
       "    .dataframe tbody tr th {\n",
       "        vertical-align: top;\n",
       "    }\n",
       "\n",
       "    .dataframe thead th {\n",
       "        text-align: right;\n",
       "    }\n",
       "</style>\n",
       "<table border=\"1\" class=\"dataframe\">\n",
       "  <thead>\n",
       "    <tr style=\"text-align: right;\">\n",
       "      <th></th>\n",
       "      <th>key</th>\n",
       "      <th>Температура</th>\n",
       "      <th>target</th>\n",
       "      <th>time</th>\n",
       "      <th>count_time</th>\n",
       "      <th>sum_time</th>\n",
       "      <th>power</th>\n",
       "      <th>Bulk 1</th>\n",
       "      <th>Bulk 3</th>\n",
       "      <th>Bulk 4</th>\n",
       "      <th>Bulk 6</th>\n",
       "      <th>Bulk 10</th>\n",
       "      <th>Bulk 11</th>\n",
       "      <th>Bulk 12</th>\n",
       "      <th>Bulk 14</th>\n",
       "      <th>Bulk 15</th>\n",
       "      <th>sum_bulk</th>\n",
       "      <th>count_bulk</th>\n",
       "      <th>Wire 1</th>\n",
       "      <th>Wire 2</th>\n",
       "      <th>sum_wire</th>\n",
       "      <th>count_wire</th>\n",
       "      <th>Газ 1</th>\n",
       "    </tr>\n",
       "  </thead>\n",
       "  <tbody>\n",
       "    <tr>\n",
       "      <th>count</th>\n",
       "      <td>2329.000000</td>\n",
       "      <td>2329.000000</td>\n",
       "      <td>2329.000000</td>\n",
       "      <td>2329.000000</td>\n",
       "      <td>2329.000000</td>\n",
       "      <td>2329.000000</td>\n",
       "      <td>2329.000000</td>\n",
       "      <td>2329.000000</td>\n",
       "      <td>2329.000000</td>\n",
       "      <td>2329.000000</td>\n",
       "      <td>2329.000000</td>\n",
       "      <td>2329.000000</td>\n",
       "      <td>2329.000000</td>\n",
       "      <td>2329.000000</td>\n",
       "      <td>2329.000000</td>\n",
       "      <td>2329.000000</td>\n",
       "      <td>2329.000000</td>\n",
       "      <td>2329.000000</td>\n",
       "      <td>2329.000000</td>\n",
       "      <td>2329.000000</td>\n",
       "      <td>2329.000000</td>\n",
       "      <td>2329.000000</td>\n",
       "      <td>2329.000000</td>\n",
       "    </tr>\n",
       "    <tr>\n",
       "      <th>mean</th>\n",
       "      <td>1251.832546</td>\n",
       "      <td>1586.718763</td>\n",
       "      <td>1593.365393</td>\n",
       "      <td>157.084156</td>\n",
       "      <td>4.695148</td>\n",
       "      <td>807.600687</td>\n",
       "      <td>0.823898</td>\n",
       "      <td>3.427651</td>\n",
       "      <td>47.348218</td>\n",
       "      <td>37.303564</td>\n",
       "      <td>22.430228</td>\n",
       "      <td>5.052812</td>\n",
       "      <td>4.245170</td>\n",
       "      <td>208.415629</td>\n",
       "      <td>153.853585</td>\n",
       "      <td>119.952769</td>\n",
       "      <td>609.630313</td>\n",
       "      <td>4.592958</td>\n",
       "      <td>102.443601</td>\n",
       "      <td>17.609859</td>\n",
       "      <td>125.208530</td>\n",
       "      <td>2.397166</td>\n",
       "      <td>11.375600</td>\n",
       "    </tr>\n",
       "    <tr>\n",
       "      <th>std</th>\n",
       "      <td>714.762400</td>\n",
       "      <td>28.290792</td>\n",
       "      <td>11.200915</td>\n",
       "      <td>67.269862</td>\n",
       "      <td>1.606948</td>\n",
       "      <td>340.897332</td>\n",
       "      <td>0.326493</td>\n",
       "      <td>12.412132</td>\n",
       "      <td>75.310430</td>\n",
       "      <td>58.643238</td>\n",
       "      <td>55.790873</td>\n",
       "      <td>20.917800</td>\n",
       "      <td>22.515487</td>\n",
       "      <td>157.062272</td>\n",
       "      <td>81.404354</td>\n",
       "      <td>84.640443</td>\n",
       "      <td>287.599678</td>\n",
       "      <td>1.224416</td>\n",
       "      <td>43.539993</td>\n",
       "      <td>33.624771</td>\n",
       "      <td>63.683386</td>\n",
       "      <td>0.564416</td>\n",
       "      <td>6.392041</td>\n",
       "    </tr>\n",
       "    <tr>\n",
       "      <th>min</th>\n",
       "      <td>1.000000</td>\n",
       "      <td>1191.000000</td>\n",
       "      <td>1541.000000</td>\n",
       "      <td>23.000000</td>\n",
       "      <td>1.000000</td>\n",
       "      <td>57.000000</td>\n",
       "      <td>0.293682</td>\n",
       "      <td>0.000000</td>\n",
       "      <td>0.000000</td>\n",
       "      <td>0.000000</td>\n",
       "      <td>0.000000</td>\n",
       "      <td>0.000000</td>\n",
       "      <td>0.000000</td>\n",
       "      <td>0.000000</td>\n",
       "      <td>0.000000</td>\n",
       "      <td>0.000000</td>\n",
       "      <td>19.000000</td>\n",
       "      <td>2.000000</td>\n",
       "      <td>0.000000</td>\n",
       "      <td>0.000000</td>\n",
       "      <td>1.918800</td>\n",
       "      <td>2.000000</td>\n",
       "      <td>0.008399</td>\n",
       "    </tr>\n",
       "    <tr>\n",
       "      <th>25%</th>\n",
       "      <td>630.000000</td>\n",
       "      <td>1571.000000</td>\n",
       "      <td>1587.000000</td>\n",
       "      <td>122.000000</td>\n",
       "      <td>4.000000</td>\n",
       "      <td>581.000000</td>\n",
       "      <td>0.579284</td>\n",
       "      <td>0.000000</td>\n",
       "      <td>0.000000</td>\n",
       "      <td>0.000000</td>\n",
       "      <td>0.000000</td>\n",
       "      <td>0.000000</td>\n",
       "      <td>0.000000</td>\n",
       "      <td>105.000000</td>\n",
       "      <td>105.000000</td>\n",
       "      <td>0.000000</td>\n",
       "      <td>440.000000</td>\n",
       "      <td>4.000000</td>\n",
       "      <td>73.207679</td>\n",
       "      <td>0.000000</td>\n",
       "      <td>89.013596</td>\n",
       "      <td>2.000000</td>\n",
       "      <td>7.282948</td>\n",
       "    </tr>\n",
       "    <tr>\n",
       "      <th>50%</th>\n",
       "      <td>1255.000000</td>\n",
       "      <td>1587.000000</td>\n",
       "      <td>1593.000000</td>\n",
       "      <td>136.000000</td>\n",
       "      <td>5.000000</td>\n",
       "      <td>778.000000</td>\n",
       "      <td>0.741836</td>\n",
       "      <td>0.000000</td>\n",
       "      <td>0.000000</td>\n",
       "      <td>0.000000</td>\n",
       "      <td>0.000000</td>\n",
       "      <td>0.000000</td>\n",
       "      <td>0.000000</td>\n",
       "      <td>206.000000</td>\n",
       "      <td>149.000000</td>\n",
       "      <td>107.000000</td>\n",
       "      <td>609.000000</td>\n",
       "      <td>5.000000</td>\n",
       "      <td>101.119201</td>\n",
       "      <td>0.000000</td>\n",
       "      <td>116.101440</td>\n",
       "      <td>2.000000</td>\n",
       "      <td>10.100950</td>\n",
       "    </tr>\n",
       "    <tr>\n",
       "      <th>75%</th>\n",
       "      <td>1868.000000</td>\n",
       "      <td>1603.000000</td>\n",
       "      <td>1598.000000</td>\n",
       "      <td>173.000000</td>\n",
       "      <td>6.000000</td>\n",
       "      <td>993.000000</td>\n",
       "      <td>1.025754</td>\n",
       "      <td>0.000000</td>\n",
       "      <td>80.000000</td>\n",
       "      <td>77.000000</td>\n",
       "      <td>0.000000</td>\n",
       "      <td>0.000000</td>\n",
       "      <td>0.000000</td>\n",
       "      <td>282.000000</td>\n",
       "      <td>204.000000</td>\n",
       "      <td>204.000000</td>\n",
       "      <td>795.000000</td>\n",
       "      <td>5.000000</td>\n",
       "      <td>128.091599</td>\n",
       "      <td>23.102560</td>\n",
       "      <td>151.568558</td>\n",
       "      <td>3.000000</td>\n",
       "      <td>14.216688</td>\n",
       "    </tr>\n",
       "    <tr>\n",
       "      <th>max</th>\n",
       "      <td>2499.000000</td>\n",
       "      <td>1660.000000</td>\n",
       "      <td>1653.000000</td>\n",
       "      <td>724.000000</td>\n",
       "      <td>16.000000</td>\n",
       "      <td>4189.000000</td>\n",
       "      <td>1.898158</td>\n",
       "      <td>185.000000</td>\n",
       "      <td>454.000000</td>\n",
       "      <td>281.000000</td>\n",
       "      <td>503.000000</td>\n",
       "      <td>159.000000</td>\n",
       "      <td>313.000000</td>\n",
       "      <td>1849.000000</td>\n",
       "      <td>636.000000</td>\n",
       "      <td>405.000000</td>\n",
       "      <td>3235.000000</td>\n",
       "      <td>8.000000</td>\n",
       "      <td>330.314424</td>\n",
       "      <td>282.780152</td>\n",
       "      <td>568.777664</td>\n",
       "      <td>6.000000</td>\n",
       "      <td>77.995040</td>\n",
       "    </tr>\n",
       "  </tbody>\n",
       "</table>\n",
       "</div>"
      ],
      "text/plain": [
       "               key  Температура       target         time   count_time  \\\n",
       "count  2329.000000  2329.000000  2329.000000  2329.000000  2329.000000   \n",
       "mean   1251.832546  1586.718763  1593.365393   157.084156     4.695148   \n",
       "std     714.762400    28.290792    11.200915    67.269862     1.606948   \n",
       "min       1.000000  1191.000000  1541.000000    23.000000     1.000000   \n",
       "25%     630.000000  1571.000000  1587.000000   122.000000     4.000000   \n",
       "50%    1255.000000  1587.000000  1593.000000   136.000000     5.000000   \n",
       "75%    1868.000000  1603.000000  1598.000000   173.000000     6.000000   \n",
       "max    2499.000000  1660.000000  1653.000000   724.000000    16.000000   \n",
       "\n",
       "          sum_time        power       Bulk 1       Bulk 3       Bulk 4  \\\n",
       "count  2329.000000  2329.000000  2329.000000  2329.000000  2329.000000   \n",
       "mean    807.600687     0.823898     3.427651    47.348218    37.303564   \n",
       "std     340.897332     0.326493    12.412132    75.310430    58.643238   \n",
       "min      57.000000     0.293682     0.000000     0.000000     0.000000   \n",
       "25%     581.000000     0.579284     0.000000     0.000000     0.000000   \n",
       "50%     778.000000     0.741836     0.000000     0.000000     0.000000   \n",
       "75%     993.000000     1.025754     0.000000    80.000000    77.000000   \n",
       "max    4189.000000     1.898158   185.000000   454.000000   281.000000   \n",
       "\n",
       "            Bulk 6      Bulk 10      Bulk 11      Bulk 12      Bulk 14  \\\n",
       "count  2329.000000  2329.000000  2329.000000  2329.000000  2329.000000   \n",
       "mean     22.430228     5.052812     4.245170   208.415629   153.853585   \n",
       "std      55.790873    20.917800    22.515487   157.062272    81.404354   \n",
       "min       0.000000     0.000000     0.000000     0.000000     0.000000   \n",
       "25%       0.000000     0.000000     0.000000   105.000000   105.000000   \n",
       "50%       0.000000     0.000000     0.000000   206.000000   149.000000   \n",
       "75%       0.000000     0.000000     0.000000   282.000000   204.000000   \n",
       "max     503.000000   159.000000   313.000000  1849.000000   636.000000   \n",
       "\n",
       "           Bulk 15     sum_bulk   count_bulk       Wire 1       Wire 2  \\\n",
       "count  2329.000000  2329.000000  2329.000000  2329.000000  2329.000000   \n",
       "mean    119.952769   609.630313     4.592958   102.443601    17.609859   \n",
       "std      84.640443   287.599678     1.224416    43.539993    33.624771   \n",
       "min       0.000000    19.000000     2.000000     0.000000     0.000000   \n",
       "25%       0.000000   440.000000     4.000000    73.207679     0.000000   \n",
       "50%     107.000000   609.000000     5.000000   101.119201     0.000000   \n",
       "75%     204.000000   795.000000     5.000000   128.091599    23.102560   \n",
       "max     405.000000  3235.000000     8.000000   330.314424   282.780152   \n",
       "\n",
       "          sum_wire   count_wire        Газ 1  \n",
       "count  2329.000000  2329.000000  2329.000000  \n",
       "mean    125.208530     2.397166    11.375600  \n",
       "std      63.683386     0.564416     6.392041  \n",
       "min       1.918800     2.000000     0.008399  \n",
       "25%      89.013596     2.000000     7.282948  \n",
       "50%     116.101440     2.000000    10.100950  \n",
       "75%     151.568558     3.000000    14.216688  \n",
       "max     568.777664     6.000000    77.995040  "
      ]
     },
     "execution_count": 52,
     "metadata": {},
     "output_type": "execute_result"
    }
   ],
   "source": [
    "df.describe()"
   ]
  },
  {
   "cell_type": "code",
   "execution_count": 53,
   "id": "a8182d2c",
   "metadata": {},
   "outputs": [
    {
     "data": {
      "text/html": [
       "<div>\n",
       "<style scoped>\n",
       "    .dataframe tbody tr th:only-of-type {\n",
       "        vertical-align: middle;\n",
       "    }\n",
       "\n",
       "    .dataframe tbody tr th {\n",
       "        vertical-align: top;\n",
       "    }\n",
       "\n",
       "    .dataframe thead th {\n",
       "        text-align: right;\n",
       "    }\n",
       "</style>\n",
       "<table border=\"1\" class=\"dataframe\">\n",
       "  <thead>\n",
       "    <tr style=\"text-align: right;\">\n",
       "      <th></th>\n",
       "      <th>key</th>\n",
       "      <th>Температура</th>\n",
       "      <th>target</th>\n",
       "      <th>time</th>\n",
       "      <th>count_time</th>\n",
       "      <th>sum_time</th>\n",
       "      <th>power</th>\n",
       "      <th>Bulk 1</th>\n",
       "      <th>Bulk 3</th>\n",
       "      <th>Bulk 4</th>\n",
       "      <th>Bulk 6</th>\n",
       "      <th>Bulk 10</th>\n",
       "      <th>Bulk 11</th>\n",
       "      <th>Bulk 12</th>\n",
       "      <th>Bulk 14</th>\n",
       "      <th>Bulk 15</th>\n",
       "      <th>sum_bulk</th>\n",
       "      <th>count_bulk</th>\n",
       "      <th>bulk_15_group</th>\n",
       "      <th>Wire 1</th>\n",
       "      <th>Wire 2</th>\n",
       "      <th>sum_wire</th>\n",
       "      <th>count_wire</th>\n",
       "      <th>Газ 1</th>\n",
       "    </tr>\n",
       "  </thead>\n",
       "  <tbody>\n",
       "    <tr>\n",
       "      <th>0</th>\n",
       "      <td>1</td>\n",
       "      <td>1571.0</td>\n",
       "      <td>1613.0</td>\n",
       "      <td>228.0</td>\n",
       "      <td>5</td>\n",
       "      <td>1098.0</td>\n",
       "      <td>0.371123</td>\n",
       "      <td>0.0</td>\n",
       "      <td>0.0</td>\n",
       "      <td>43.0</td>\n",
       "      <td>0.0</td>\n",
       "      <td>0.0</td>\n",
       "      <td>0.0</td>\n",
       "      <td>206.0</td>\n",
       "      <td>150.0</td>\n",
       "      <td>154.0</td>\n",
       "      <td>553.0</td>\n",
       "      <td>5</td>\n",
       "      <td>3</td>\n",
       "      <td>60.059998</td>\n",
       "      <td>0.00000</td>\n",
       "      <td>60.059998</td>\n",
       "      <td>2</td>\n",
       "      <td>29.749986</td>\n",
       "    </tr>\n",
       "    <tr>\n",
       "      <th>1</th>\n",
       "      <td>2</td>\n",
       "      <td>1581.0</td>\n",
       "      <td>1602.0</td>\n",
       "      <td>137.0</td>\n",
       "      <td>4</td>\n",
       "      <td>811.0</td>\n",
       "      <td>0.440239</td>\n",
       "      <td>0.0</td>\n",
       "      <td>0.0</td>\n",
       "      <td>73.0</td>\n",
       "      <td>0.0</td>\n",
       "      <td>0.0</td>\n",
       "      <td>0.0</td>\n",
       "      <td>206.0</td>\n",
       "      <td>149.0</td>\n",
       "      <td>154.0</td>\n",
       "      <td>582.0</td>\n",
       "      <td>5</td>\n",
       "      <td>3</td>\n",
       "      <td>96.052315</td>\n",
       "      <td>0.00000</td>\n",
       "      <td>96.052315</td>\n",
       "      <td>2</td>\n",
       "      <td>12.555561</td>\n",
       "    </tr>\n",
       "    <tr>\n",
       "      <th>2</th>\n",
       "      <td>3</td>\n",
       "      <td>1596.0</td>\n",
       "      <td>1599.0</td>\n",
       "      <td>280.0</td>\n",
       "      <td>5</td>\n",
       "      <td>655.0</td>\n",
       "      <td>1.373863</td>\n",
       "      <td>0.0</td>\n",
       "      <td>0.0</td>\n",
       "      <td>34.0</td>\n",
       "      <td>0.0</td>\n",
       "      <td>0.0</td>\n",
       "      <td>0.0</td>\n",
       "      <td>205.0</td>\n",
       "      <td>152.0</td>\n",
       "      <td>153.0</td>\n",
       "      <td>544.0</td>\n",
       "      <td>5</td>\n",
       "      <td>3</td>\n",
       "      <td>91.160157</td>\n",
       "      <td>0.00000</td>\n",
       "      <td>91.160157</td>\n",
       "      <td>2</td>\n",
       "      <td>28.554793</td>\n",
       "    </tr>\n",
       "    <tr>\n",
       "      <th>3</th>\n",
       "      <td>4</td>\n",
       "      <td>1601.0</td>\n",
       "      <td>1625.0</td>\n",
       "      <td>207.0</td>\n",
       "      <td>4</td>\n",
       "      <td>741.0</td>\n",
       "      <td>0.824445</td>\n",
       "      <td>0.0</td>\n",
       "      <td>0.0</td>\n",
       "      <td>81.0</td>\n",
       "      <td>0.0</td>\n",
       "      <td>0.0</td>\n",
       "      <td>0.0</td>\n",
       "      <td>207.0</td>\n",
       "      <td>153.0</td>\n",
       "      <td>154.0</td>\n",
       "      <td>595.0</td>\n",
       "      <td>5</td>\n",
       "      <td>3</td>\n",
       "      <td>89.063515</td>\n",
       "      <td>0.00000</td>\n",
       "      <td>89.063515</td>\n",
       "      <td>2</td>\n",
       "      <td>18.841219</td>\n",
       "    </tr>\n",
       "    <tr>\n",
       "      <th>4</th>\n",
       "      <td>5</td>\n",
       "      <td>1576.0</td>\n",
       "      <td>1602.0</td>\n",
       "      <td>251.0</td>\n",
       "      <td>4</td>\n",
       "      <td>869.0</td>\n",
       "      <td>0.428064</td>\n",
       "      <td>0.0</td>\n",
       "      <td>0.0</td>\n",
       "      <td>78.0</td>\n",
       "      <td>0.0</td>\n",
       "      <td>0.0</td>\n",
       "      <td>0.0</td>\n",
       "      <td>203.0</td>\n",
       "      <td>151.0</td>\n",
       "      <td>152.0</td>\n",
       "      <td>584.0</td>\n",
       "      <td>5</td>\n",
       "      <td>3</td>\n",
       "      <td>89.238236</td>\n",
       "      <td>9.11456</td>\n",
       "      <td>98.352796</td>\n",
       "      <td>3</td>\n",
       "      <td>5.413692</td>\n",
       "    </tr>\n",
       "    <tr>\n",
       "      <th>...</th>\n",
       "      <td>...</td>\n",
       "      <td>...</td>\n",
       "      <td>...</td>\n",
       "      <td>...</td>\n",
       "      <td>...</td>\n",
       "      <td>...</td>\n",
       "      <td>...</td>\n",
       "      <td>...</td>\n",
       "      <td>...</td>\n",
       "      <td>...</td>\n",
       "      <td>...</td>\n",
       "      <td>...</td>\n",
       "      <td>...</td>\n",
       "      <td>...</td>\n",
       "      <td>...</td>\n",
       "      <td>...</td>\n",
       "      <td>...</td>\n",
       "      <td>...</td>\n",
       "      <td>...</td>\n",
       "      <td>...</td>\n",
       "      <td>...</td>\n",
       "      <td>...</td>\n",
       "      <td>...</td>\n",
       "      <td>...</td>\n",
       "    </tr>\n",
       "    <tr>\n",
       "      <th>2324</th>\n",
       "      <td>2495</td>\n",
       "      <td>1570.0</td>\n",
       "      <td>1591.0</td>\n",
       "      <td>207.0</td>\n",
       "      <td>4</td>\n",
       "      <td>723.0</td>\n",
       "      <td>0.561225</td>\n",
       "      <td>0.0</td>\n",
       "      <td>21.0</td>\n",
       "      <td>0.0</td>\n",
       "      <td>0.0</td>\n",
       "      <td>90.0</td>\n",
       "      <td>0.0</td>\n",
       "      <td>256.0</td>\n",
       "      <td>129.0</td>\n",
       "      <td>223.0</td>\n",
       "      <td>719.0</td>\n",
       "      <td>6</td>\n",
       "      <td>4</td>\n",
       "      <td>89.150879</td>\n",
       "      <td>0.00000</td>\n",
       "      <td>89.150879</td>\n",
       "      <td>2</td>\n",
       "      <td>7.125735</td>\n",
       "    </tr>\n",
       "    <tr>\n",
       "      <th>2325</th>\n",
       "      <td>2496</td>\n",
       "      <td>1554.0</td>\n",
       "      <td>1591.0</td>\n",
       "      <td>117.0</td>\n",
       "      <td>6</td>\n",
       "      <td>940.0</td>\n",
       "      <td>0.403804</td>\n",
       "      <td>0.0</td>\n",
       "      <td>0.0</td>\n",
       "      <td>63.0</td>\n",
       "      <td>0.0</td>\n",
       "      <td>122.0</td>\n",
       "      <td>0.0</td>\n",
       "      <td>256.0</td>\n",
       "      <td>129.0</td>\n",
       "      <td>226.0</td>\n",
       "      <td>796.0</td>\n",
       "      <td>6</td>\n",
       "      <td>4</td>\n",
       "      <td>114.179527</td>\n",
       "      <td>0.00000</td>\n",
       "      <td>114.179527</td>\n",
       "      <td>2</td>\n",
       "      <td>9.412616</td>\n",
       "    </tr>\n",
       "    <tr>\n",
       "      <th>2326</th>\n",
       "      <td>2497</td>\n",
       "      <td>1571.0</td>\n",
       "      <td>1589.0</td>\n",
       "      <td>156.0</td>\n",
       "      <td>3</td>\n",
       "      <td>569.0</td>\n",
       "      <td>1.531931</td>\n",
       "      <td>0.0</td>\n",
       "      <td>0.0</td>\n",
       "      <td>85.0</td>\n",
       "      <td>0.0</td>\n",
       "      <td>0.0</td>\n",
       "      <td>0.0</td>\n",
       "      <td>230.0</td>\n",
       "      <td>124.0</td>\n",
       "      <td>226.0</td>\n",
       "      <td>665.0</td>\n",
       "      <td>5</td>\n",
       "      <td>4</td>\n",
       "      <td>94.086723</td>\n",
       "      <td>9.04800</td>\n",
       "      <td>103.134723</td>\n",
       "      <td>3</td>\n",
       "      <td>6.271699</td>\n",
       "    </tr>\n",
       "    <tr>\n",
       "      <th>2327</th>\n",
       "      <td>2498</td>\n",
       "      <td>1591.0</td>\n",
       "      <td>1594.0</td>\n",
       "      <td>256.0</td>\n",
       "      <td>5</td>\n",
       "      <td>750.0</td>\n",
       "      <td>0.512900</td>\n",
       "      <td>0.0</td>\n",
       "      <td>90.0</td>\n",
       "      <td>0.0</td>\n",
       "      <td>0.0</td>\n",
       "      <td>101.0</td>\n",
       "      <td>0.0</td>\n",
       "      <td>206.0</td>\n",
       "      <td>129.0</td>\n",
       "      <td>207.0</td>\n",
       "      <td>733.0</td>\n",
       "      <td>6</td>\n",
       "      <td>4</td>\n",
       "      <td>118.110717</td>\n",
       "      <td>0.00000</td>\n",
       "      <td>118.110717</td>\n",
       "      <td>2</td>\n",
       "      <td>14.953657</td>\n",
       "    </tr>\n",
       "    <tr>\n",
       "      <th>2328</th>\n",
       "      <td>2499</td>\n",
       "      <td>1569.0</td>\n",
       "      <td>1603.0</td>\n",
       "      <td>312.0</td>\n",
       "      <td>4</td>\n",
       "      <td>883.0</td>\n",
       "      <td>0.881433</td>\n",
       "      <td>0.0</td>\n",
       "      <td>47.0</td>\n",
       "      <td>0.0</td>\n",
       "      <td>0.0</td>\n",
       "      <td>0.0</td>\n",
       "      <td>0.0</td>\n",
       "      <td>233.0</td>\n",
       "      <td>126.0</td>\n",
       "      <td>227.0</td>\n",
       "      <td>633.0</td>\n",
       "      <td>5</td>\n",
       "      <td>4</td>\n",
       "      <td>110.160958</td>\n",
       "      <td>50.00528</td>\n",
       "      <td>160.166238</td>\n",
       "      <td>3</td>\n",
       "      <td>11.336151</td>\n",
       "    </tr>\n",
       "  </tbody>\n",
       "</table>\n",
       "<p>2329 rows × 24 columns</p>\n",
       "</div>"
      ],
      "text/plain": [
       "       key  Температура  target   time  count_time  sum_time     power  \\\n",
       "0        1       1571.0  1613.0  228.0           5    1098.0  0.371123   \n",
       "1        2       1581.0  1602.0  137.0           4     811.0  0.440239   \n",
       "2        3       1596.0  1599.0  280.0           5     655.0  1.373863   \n",
       "3        4       1601.0  1625.0  207.0           4     741.0  0.824445   \n",
       "4        5       1576.0  1602.0  251.0           4     869.0  0.428064   \n",
       "...    ...          ...     ...    ...         ...       ...       ...   \n",
       "2324  2495       1570.0  1591.0  207.0           4     723.0  0.561225   \n",
       "2325  2496       1554.0  1591.0  117.0           6     940.0  0.403804   \n",
       "2326  2497       1571.0  1589.0  156.0           3     569.0  1.531931   \n",
       "2327  2498       1591.0  1594.0  256.0           5     750.0  0.512900   \n",
       "2328  2499       1569.0  1603.0  312.0           4     883.0  0.881433   \n",
       "\n",
       "      Bulk 1  Bulk 3  Bulk 4  Bulk 6  Bulk 10  Bulk 11  Bulk 12  Bulk 14  \\\n",
       "0        0.0     0.0    43.0     0.0      0.0      0.0    206.0    150.0   \n",
       "1        0.0     0.0    73.0     0.0      0.0      0.0    206.0    149.0   \n",
       "2        0.0     0.0    34.0     0.0      0.0      0.0    205.0    152.0   \n",
       "3        0.0     0.0    81.0     0.0      0.0      0.0    207.0    153.0   \n",
       "4        0.0     0.0    78.0     0.0      0.0      0.0    203.0    151.0   \n",
       "...      ...     ...     ...     ...      ...      ...      ...      ...   \n",
       "2324     0.0    21.0     0.0     0.0     90.0      0.0    256.0    129.0   \n",
       "2325     0.0     0.0    63.0     0.0    122.0      0.0    256.0    129.0   \n",
       "2326     0.0     0.0    85.0     0.0      0.0      0.0    230.0    124.0   \n",
       "2327     0.0    90.0     0.0     0.0    101.0      0.0    206.0    129.0   \n",
       "2328     0.0    47.0     0.0     0.0      0.0      0.0    233.0    126.0   \n",
       "\n",
       "      Bulk 15  sum_bulk  count_bulk bulk_15_group      Wire 1    Wire 2  \\\n",
       "0       154.0     553.0           5             3   60.059998   0.00000   \n",
       "1       154.0     582.0           5             3   96.052315   0.00000   \n",
       "2       153.0     544.0           5             3   91.160157   0.00000   \n",
       "3       154.0     595.0           5             3   89.063515   0.00000   \n",
       "4       152.0     584.0           5             3   89.238236   9.11456   \n",
       "...       ...       ...         ...           ...         ...       ...   \n",
       "2324    223.0     719.0           6             4   89.150879   0.00000   \n",
       "2325    226.0     796.0           6             4  114.179527   0.00000   \n",
       "2326    226.0     665.0           5             4   94.086723   9.04800   \n",
       "2327    207.0     733.0           6             4  118.110717   0.00000   \n",
       "2328    227.0     633.0           5             4  110.160958  50.00528   \n",
       "\n",
       "        sum_wire  count_wire      Газ 1  \n",
       "0      60.059998           2  29.749986  \n",
       "1      96.052315           2  12.555561  \n",
       "2      91.160157           2  28.554793  \n",
       "3      89.063515           2  18.841219  \n",
       "4      98.352796           3   5.413692  \n",
       "...          ...         ...        ...  \n",
       "2324   89.150879           2   7.125735  \n",
       "2325  114.179527           2   9.412616  \n",
       "2326  103.134723           3   6.271699  \n",
       "2327  118.110717           2  14.953657  \n",
       "2328  160.166238           3  11.336151  \n",
       "\n",
       "[2329 rows x 24 columns]"
      ]
     },
     "execution_count": 53,
     "metadata": {},
     "output_type": "execute_result"
    }
   ],
   "source": [
    "df"
   ]
  },
  {
   "cell_type": "code",
   "execution_count": 54,
   "id": "e20bad12-e3e1-49ce-ac43-4da4ed956874",
   "metadata": {},
   "outputs": [
    {
     "data": {
      "image/png": "[encoded data removed]",
      "text/plain": [
       "<Figure size 640x480 with 1 Axes>"
      ]
     },
     "metadata": {},
     "output_type": "display_data"
    }
   ],
   "source": [
    "df['Температура'].hist(bins=100)\n",
    "plt.title('Температура')\n",
    "plt.show()"
   ]
  },
  {
   "cell_type": "code",
   "execution_count": 55,
   "id": "fecaae58-5661-47c5-9867-b7cb28c2ca9d",
   "metadata": {},
   "outputs": [],
   "source": [
    "df = df[df['Температура'] > 1400]"
   ]
  },
  {
   "cell_type": "markdown",
   "id": "664cd4e7-2059-4332-a5a5-4e474afad174",
   "metadata": {},
   "source": [
    "Построим матрицу кореляции признаков "
   ]
  },
  {
   "cell_type": "code",
   "execution_count": 56,
   "id": "d38ce61b-3bc7-422b-901f-899b18da4cff",
   "metadata": {},
   "outputs": [
    {
     "data": {
      "image/png": "[encoded data removed]",
      "text/plain": [
       "<Figure size 2000x2000 with 2 Axes>"
      ]
     },
     "metadata": {},
     "output_type": "display_data"
    }
   ],
   "source": [
    "fig, ax = plt.subplots(figsize=(20, 20))\n",
    "sns.heatmap(df.corr(), annot=True, ax=ax, cmap='RdBu_r', vmin=0.5)\n",
    "plt.title('Матрица корреляции')\n",
    "plt.show()"
   ]
  },
  {
   "cell_type": "markdown",
   "id": "7b59effd-da6d-4988-9413-bb55ede862d7",
   "metadata": {},
   "source": [
    "Удалим `count_time`, `Bulk 12`"
   ]
  },
  {
   "cell_type": "code",
   "execution_count": 57,
   "id": "0fe728c6-8e9d-4d0b-a6a1-add920db4ae8",
   "metadata": {},
   "outputs": [],
   "source": [
    "df = df.drop(columns=['count_time', 'Bulk 12',\n",
    "                      ])"
   ]
  },
  {
   "cell_type": "markdown",
   "id": "45f45a0e-a2eb-4dcc-8809-8e06ab654109",
   "metadata": {},
   "source": [
    "Вывод по итоговой таблице\\\n",
    "В итоговой таблице присутствует корреляция между созданными признаками и признаками, на основе которых они были созданы. В данном случае, поскольку созданные признаки содержат информацию об удаленных признаках, оставим их в итоговой таблице."
   ]
  },
  {
   "cell_type": "markdown",
   "id": "df70fff2-4671-4998-8de8-ee57397c43db",
   "metadata": {
    "tags": [],
    "toc-hr-collapsed": true
   },
   "source": [
    "## Построение моделей"
   ]
  },
  {
   "cell_type": "markdown",
   "id": "d69482a2-f9fd-4f6a-a525-5a588da6b535",
   "metadata": {},
   "source": [
    "Раздедим данные на выборки"
   ]
  },
  {
   "cell_type": "code",
   "execution_count": 58,
   "id": "27e2a724-e819-4feb-a8f4-c733b768d6ff",
   "metadata": {},
   "outputs": [],
   "source": [
    "X = df.drop(columns=['target', 'key'])\n",
    "y = df['target']\n",
    "\n",
    "X_train, X_test, y_train, y_test = train_test_split(X,y, test_size=0.25, random_state=RS)"
   ]
  },
  {
   "cell_type": "markdown",
   "id": "4fbd91ab-e8f9-4da2-a650-f263933da67b",
   "metadata": {
    "tags": []
   },
   "source": [
    "### LinearRegression"
   ]
  },
  {
   "cell_type": "code",
   "execution_count": 59,
   "id": "e5980cd5-9415-4158-ae79-49d22fb0bad8",
   "metadata": {},
   "outputs": [
    {
     "name": "stdout",
     "output_type": "stream",
     "text": [
      "MAE:  6.4713125729293495\n"
     ]
    }
   ],
   "source": [
    "model = LinearRegression(normalize=True)\n",
    "best_lr = model.fit(X_train, y_train)\n",
    "scores = cross_val_score(model, X_train, y_train, scoring='neg_mean_absolute_error', cv=5)\n",
    "lr_score = -scores.mean()\n",
    "print(\"MAE: \", -scores.mean())"
   ]
  },
  {
   "cell_type": "markdown",
   "id": "ae407d66-0683-4d82-8d75-02d8fa7d64e2",
   "metadata": {},
   "source": [
    "### CatBoost"
   ]
  },
  {
   "cell_type": "code",
   "execution_count": 60,
   "id": "15e83eb5-2ca7-48e2-b7e0-1e96c37bb526",
   "metadata": {},
   "outputs": [
    {
     "name": "stdout",
     "output_type": "stream",
     "text": [
      "MAE:  6.399405730893035\n",
      "Wall time: 28min 41s\n"
     ]
    }
   ],
   "source": [
    "%%time\n",
    "param_grid = {\n",
    "    'iterations': range(1000, 1501, 100),\n",
    "    'learning_rate': [0.1, 0.3, 0.5],\n",
    "    'depth': range(7, 10, 1),\n",
    "    #'l2_leaf_reg': [0.1, 0.5, 1.0],\n",
    "}\n",
    "\n",
    "cat_features = ['bulk_15_group',\n",
    "                'count_bulk',\n",
    "                'count_wire'\n",
    "               ]\n",
    "\n",
    "cat = CatBoostRegressor(cat_features=cat_features, \n",
    "                        verbose=False,\n",
    "                        loss_function='MAE',\n",
    "                        random_seed=RS)\n",
    "\n",
    "\n",
    "\n",
    "model = RandomizedSearchCV(\n",
    "    estimator=cat,\n",
    "    param_distributions=param_grid,\n",
    "    scoring='neg_mean_absolute_error',\n",
    "    cv=5,\n",
    "    n_iter=5,\n",
    "    random_state=RS\n",
    ")\n",
    "\n",
    "fit_params = {\n",
    "    'early_stopping_rounds': 100,\n",
    "    #'plot':True\n",
    "}\n",
    "\n",
    "model.fit(X_train, y_train, **fit_params)\n",
    "best_cat = model.best_estimator_\n",
    "\n",
    "\n",
    "cat_score = -model.best_score_\n",
    "\n",
    "\n",
    "\n",
    "print(\"MAE: \", -model.best_score_)"
   ]
  },
  {
   "cell_type": "markdown",
   "id": "0d8599ac-80f0-4eda-9315-71b3ca0745e7",
   "metadata": {},
   "source": [
    "### lgbm"
   ]
  },
  {
   "cell_type": "code",
   "execution_count": 61,
   "id": "ae377359-6eb1-45b5-88c8-fa1f73cbbbbe",
   "metadata": {},
   "outputs": [
    {
     "name": "stdout",
     "output_type": "stream",
     "text": [
      "MAE:  6.222644141349384\n",
      "Wall time: 3min 16s\n"
     ]
    }
   ],
   "source": [
    "%%time\n",
    "param_grid = {\n",
    "    'n_estimators': range(1000, 3001, 100),\n",
    "    'learning_rate': [0.01, 0.03, 0.05],\n",
    "    'max_depth': range(5, 11, 1),\n",
    "    'reg_lambda': [0.1, 0.5, 1.0],\n",
    "}\n",
    "\n",
    "\n",
    "\n",
    "lgbm = LGBMRegressor(boosting_type='goss',\n",
    "                     categorical_feature=[13,14,18],\n",
    "                     objective='mae',\n",
    "                     random_state=RS)\n",
    "\n",
    "model = RandomizedSearchCV(\n",
    "    estimator=lgbm,\n",
    "    param_distributions=param_grid,\n",
    "    scoring='neg_mean_absolute_error',\n",
    "    cv=5,\n",
    "    n_iter=10,\n",
    "    random_state=RS\n",
    ")\n",
    "\n",
    "model.fit(X_train, y_train,)\n",
    "best_lgbm = model.best_estimator_\n",
    "lgbm_score = -model.best_score_\n",
    "\n",
    "print(\"MAE: \", -model.best_score_)"
   ]
  },
  {
   "cell_type": "code",
   "execution_count": 71,
   "id": "c1ed1c88-38af-4f89-b2c2-67634b7722a8",
   "metadata": {},
   "outputs": [
    {
     "data": {
      "text/html": [
       "<div>\n",
       "<style scoped>\n",
       "    .dataframe tbody tr th:only-of-type {\n",
       "        vertical-align: middle;\n",
       "    }\n",
       "\n",
       "    .dataframe tbody tr th {\n",
       "        vertical-align: top;\n",
       "    }\n",
       "\n",
       "    .dataframe thead th {\n",
       "        text-align: right;\n",
       "    }\n",
       "</style>\n",
       "<table border=\"1\" class=\"dataframe\">\n",
       "  <thead>\n",
       "    <tr style=\"text-align: right;\">\n",
       "      <th></th>\n",
       "      <th>Модель</th>\n",
       "      <th>Оценка</th>\n",
       "    </tr>\n",
       "  </thead>\n",
       "  <tbody>\n",
       "    <tr>\n",
       "      <th>0</th>\n",
       "      <td>LGBM</td>\n",
       "      <td>6.222644</td>\n",
       "    </tr>\n",
       "    <tr>\n",
       "      <th>1</th>\n",
       "      <td>CatBoost</td>\n",
       "      <td>6.399406</td>\n",
       "    </tr>\n",
       "    <tr>\n",
       "      <th>2</th>\n",
       "      <td>LinearRegression</td>\n",
       "      <td>6.471313</td>\n",
       "    </tr>\n",
       "  </tbody>\n",
       "</table>\n",
       "</div>"
      ],
      "text/plain": [
       "             Модель    Оценка\n",
       "0              LGBM  6.222644\n",
       "1          CatBoost  6.399406\n",
       "2  LinearRegression  6.471313"
      ]
     },
     "execution_count": 71,
     "metadata": {},
     "output_type": "execute_result"
    }
   ],
   "source": [
    "pd.DataFrame({'Модель': ['LGBM', 'CatBoost', 'LinearRegression'], 'Оценка': [lgbm_score, cat_score, lr_score]})"
   ]
  },
  {
   "cell_type": "markdown",
   "id": "c12368c4-739b-4878-91e0-0625fa25e467",
   "metadata": {},
   "source": [
    "Метрики всех моделей удовлетваряют условиям задачи, лучше всего себя показала молель градиентного бустинга LightGBM"
   ]
  },
  {
   "cell_type": "markdown",
   "id": "28691803-3a9b-4d9c-bdb9-e83e0b484698",
   "metadata": {},
   "source": [
    "### Тестирование лучшей модели"
   ]
  },
  {
   "cell_type": "markdown",
   "id": "2ad49a35-fdee-4945-93b1-87c01abdefb4",
   "metadata": {},
   "source": [
    "Лучшая всего себя показала модель lgbm, проверим её на тестовых данных"
   ]
  },
  {
   "cell_type": "code",
   "execution_count": 64,
   "id": "4685a3d4-4651-478a-bf54-177ddc545f9f",
   "metadata": {},
   "outputs": [
    {
     "name": "stdout",
     "output_type": "stream",
     "text": [
      "Модель lgbm\n",
      "MAE: 5.907127054258906\n"
     ]
    }
   ],
   "source": [
    "prediction = best_lgbm.predict(X_test)\n",
    "MAE = mean_absolute_error(y_test, prediction)\n",
    "print('Модель lgbm')\n",
    "print(f'MAE: {MAE}')"
   ]
  },
  {
   "cell_type": "markdown",
   "id": "b2b76003-2aa0-47e4-9de1-9bc21fedcb1a",
   "metadata": {},
   "source": [
    "Постром график фажных признаков"
   ]
  },
  {
   "cell_type": "code",
   "execution_count": 65,
   "id": "0c18cbc5-518b-4fc1-b92b-b92ab3e664c0",
   "metadata": {
    "tags": []
   },
   "outputs": [
    {
     "data": {
      "image/png": "[encoded data removed]",
      "text/plain": [
       "<Figure size 640x480 with 1 Axes>"
      ]
     },
     "metadata": {},
     "output_type": "display_data"
    }
   ],
   "source": [
    "feature_importances = pd.DataFrame(index = X_train.columns, data = best_lgbm.feature_importances_)\n",
    "top_feature = feature_importances.sort_values(by = [0], ascending=False).head(20)\n",
    "\n",
    "plt.bar(top_feature.index , top_feature[0]);\n",
    "plt.title('Самые важные признаки')\n",
    "plt.xticks(rotation=90)\n",
    "\n",
    "plt.show()"
   ]
  },
  {
   "cell_type": "markdown",
   "id": "9997f587-d335-4c9d-ad49-3e351d3bff07",
   "metadata": {
    "tags": []
   },
   "source": [
    "# Отчёт \n",
    "\n",
    "В процессе выполнения проекта были выполнены следующие пункты:\n",
    "Изучены данные проекта.\n",
    "Были выделены основные признаки из данных.\n",
    "Построены модели на основе этих признаков.\n",
    "  \n",
    "Возникшие трудности и их преодоление:\n",
    "Одной из трудностей было наличие небольшой выборки данных. Для преодоления этой проблемы было принято решение создать новые признаки на основе имеющихся данных.\n",
    "\n",
    "Основные шаги выполнения задачи\n",
    "- Проведение разведочного анализа данных.\n",
    "- Сбор данных в единую таблицу.\n",
    "- Генерацию дополнительных признаков на основе доступных данных.\n",
    "- Построение модели на основе обработанных признаков.\n",
    "\n",
    "Итог\n",
    "\n",
    "Итоговая модель LGBM. Качество модели оценивалось с помощью метрики `MAE` (среднее абсолютное отклонение) и составило `5.9`.\n",
    "Самыми значимыми признаками, использованными для обучения лучшей модели, оказались температура ковша, суммарное время нагрева и объем газа.\n",
    "\n",
    "Гиперпараметры лучшей модели:\n",
    "- learning_rate: 0.01\n",
    "- max_depth: 9\n",
    "- n_estimators: 1000\n",
    "- random_state: 30723\n",
    "- reg_alpha': 0.0\n",
    "- Так же в качестве категориальных признаков были указана количество присадок (отдельно проволочных и отдельно сыпучих) а так же,  приадка `bulk 15` разбитя на 5 групп исходя из обема.\n",
    "\n",
    "Рекомендации для улучшения модели и принятия решений:\\\n",
    "Для улучшения модели рекомендуется учитывать больше параметров, таких как состав сплава и содержание различных веществ в сплаве. Это может дать более полную информацию и улучшить предсказательные способности модели."
   ]
  }
 ],
 "metadata": {
  "ExecuteTimeLog": [
   {
    "duration": 6981,
    "start_time": "2023-07-04T10:29:44.150Z"
   },
   {
    "duration": 1219,
    "start_time": "2023-07-04T10:29:51.133Z"
   },
   {
    "duration": 249,
    "start_time": "2023-07-04T10:29:52.354Z"
   },
   {
    "duration": 18,
    "start_time": "2023-07-04T10:30:27.702Z"
   },
   {
    "duration": 26,
    "start_time": "2023-07-04T10:30:35.108Z"
   },
   {
    "duration": 19,
    "start_time": "2023-07-04T10:30:35.755Z"
   },
   {
    "duration": 473,
    "start_time": "2023-07-04T10:30:38.622Z"
   },
   {
    "duration": 12,
    "start_time": "2023-07-04T10:31:00.803Z"
   },
   {
    "duration": 18,
    "start_time": "2023-07-04T10:31:01.356Z"
   },
   {
    "duration": 10,
    "start_time": "2023-07-04T10:31:02.768Z"
   },
   {
    "duration": 50,
    "start_time": "2023-07-04T10:31:03.704Z"
   },
   {
    "duration": 12,
    "start_time": "2023-07-04T10:31:30.405Z"
   },
   {
    "duration": 13,
    "start_time": "2023-07-04T10:31:30.934Z"
   },
   {
    "duration": 15,
    "start_time": "2023-07-04T10:31:31.488Z"
   },
   {
    "duration": 43,
    "start_time": "2023-07-04T10:31:33.576Z"
   },
   {
    "duration": 11,
    "start_time": "2023-07-04T10:31:34.695Z"
   },
   {
    "duration": 4,
    "start_time": "2023-07-04T10:31:35.344Z"
   },
   {
    "duration": 20,
    "start_time": "2023-07-04T10:31:36.315Z"
   },
   {
    "duration": 319,
    "start_time": "2023-07-04T10:31:36.798Z"
   },
   {
    "duration": 10,
    "start_time": "2023-07-04T10:31:38.157Z"
   },
   {
    "duration": 4,
    "start_time": "2023-07-04T10:31:38.347Z"
   },
   {
    "duration": 14,
    "start_time": "2023-07-04T10:31:38.931Z"
   },
   {
    "duration": 296,
    "start_time": "2023-07-04T10:31:39.263Z"
   },
   {
    "duration": 536,
    "start_time": "2023-07-04T10:31:40.732Z"
   },
   {
    "duration": 10,
    "start_time": "2023-07-04T10:31:49.196Z"
   },
   {
    "duration": 53,
    "start_time": "2023-07-09T20:34:14.788Z"
   },
   {
    "duration": 4192,
    "start_time": "2023-07-09T20:34:22.117Z"
   },
   {
    "duration": 3960,
    "start_time": "2023-07-09T20:34:26.311Z"
   },
   {
    "duration": 207,
    "start_time": "2023-07-09T20:34:30.273Z"
   },
   {
    "duration": 14,
    "start_time": "2023-07-09T20:35:01.813Z"
   },
   {
    "duration": 7,
    "start_time": "2023-07-09T20:35:02.936Z"
   },
   {
    "duration": 26,
    "start_time": "2023-07-09T20:35:03.421Z"
   },
   {
    "duration": 14,
    "start_time": "2023-07-09T20:35:03.786Z"
   },
   {
    "duration": 655,
    "start_time": "2023-07-09T20:35:04.465Z"
   },
   {
    "duration": 10,
    "start_time": "2023-07-09T20:35:06.189Z"
   },
   {
    "duration": 11,
    "start_time": "2023-07-09T20:35:06.333Z"
   },
   {
    "duration": 5,
    "start_time": "2023-07-09T20:35:06.615Z"
   },
   {
    "duration": 48,
    "start_time": "2023-07-09T20:35:06.965Z"
   },
   {
    "duration": 241,
    "start_time": "2023-07-09T20:35:07.727Z"
   },
   {
    "duration": 219,
    "start_time": "2023-07-09T20:35:08.045Z"
   },
   {
    "duration": 206,
    "start_time": "2023-07-09T20:35:08.383Z"
   },
   {
    "duration": 10,
    "start_time": "2023-07-09T20:35:08.868Z"
   },
   {
    "duration": 13,
    "start_time": "2023-07-09T20:35:09.087Z"
   },
   {
    "duration": 5,
    "start_time": "2023-07-09T20:35:09.287Z"
   },
   {
    "duration": 34,
    "start_time": "2023-07-09T20:35:09.561Z"
   },
   {
    "duration": 280,
    "start_time": "2023-07-09T20:35:10.085Z"
   },
   {
    "duration": 226,
    "start_time": "2023-07-09T20:35:10.455Z"
   },
   {
    "duration": 11,
    "start_time": "2023-07-09T20:35:10.921Z"
   },
   {
    "duration": 5,
    "start_time": "2023-07-09T20:35:11.310Z"
   },
   {
    "duration": 13,
    "start_time": "2023-07-09T20:35:11.623Z"
   },
   {
    "duration": 344,
    "start_time": "2023-07-09T20:35:11.809Z"
   },
   {
    "duration": 12,
    "start_time": "2023-07-09T20:35:12.314Z"
   },
   {
    "duration": 4,
    "start_time": "2023-07-09T20:35:12.488Z"
   },
   {
    "duration": 15,
    "start_time": "2023-07-09T20:35:12.898Z"
   },
   {
    "duration": 334,
    "start_time": "2023-07-09T20:35:13.208Z"
   },
   {
    "duration": 536,
    "start_time": "2023-07-09T20:35:13.671Z"
   },
   {
    "duration": 9,
    "start_time": "2023-07-09T20:35:14.208Z"
   },
   {
    "duration": 463,
    "start_time": "2023-07-09T20:35:14.231Z"
   },
   {
    "duration": 10,
    "start_time": "2023-07-09T20:35:14.696Z"
   },
   {
    "duration": 5,
    "start_time": "2023-07-09T20:35:19.360Z"
   },
   {
    "duration": 5,
    "start_time": "2023-07-09T20:35:19.928Z"
   },
   {
    "duration": 13,
    "start_time": "2023-07-09T20:35:20.932Z"
   },
   {
    "duration": 5,
    "start_time": "2023-07-09T20:35:22.856Z"
   },
   {
    "duration": 12,
    "start_time": "2023-07-09T20:35:30.525Z"
   },
   {
    "duration": 8,
    "start_time": "2023-07-09T20:37:40.357Z"
   },
   {
    "duration": 12,
    "start_time": "2023-07-09T20:37:44.795Z"
   },
   {
    "duration": 6,
    "start_time": "2023-07-09T20:38:21.225Z"
   },
   {
    "duration": 24,
    "start_time": "2023-07-09T20:38:21.821Z"
   },
   {
    "duration": 10,
    "start_time": "2023-07-09T20:38:46.282Z"
   },
   {
    "duration": 4,
    "start_time": "2023-07-09T20:38:47.553Z"
   },
   {
    "duration": 360,
    "start_time": "2023-07-09T20:38:47.973Z"
   },
   {
    "duration": 7,
    "start_time": "2023-07-09T20:38:48.865Z"
   },
   {
    "duration": 20,
    "start_time": "2023-07-09T20:38:52.078Z"
   },
   {
    "duration": 38,
    "start_time": "2023-07-09T20:39:01.086Z"
   },
   {
    "duration": 6,
    "start_time": "2023-07-09T20:39:52.030Z"
   },
   {
    "duration": 3,
    "start_time": "2023-07-09T20:39:52.810Z"
   },
   {
    "duration": 62,
    "start_time": "2023-07-09T20:39:53.591Z"
   },
   {
    "duration": 36,
    "start_time": "2023-07-09T20:40:09.696Z"
   },
   {
    "duration": 5277,
    "start_time": "2023-07-10T02:13:51.590Z"
   },
   {
    "duration": 1714,
    "start_time": "2023-07-10T02:13:56.869Z"
   },
   {
    "duration": 550,
    "start_time": "2023-07-10T02:13:58.585Z"
   },
   {
    "duration": 19,
    "start_time": "2023-07-10T02:13:59.138Z"
   },
   {
    "duration": 7,
    "start_time": "2023-07-10T02:13:59.158Z"
   },
   {
    "duration": 31,
    "start_time": "2023-07-10T02:13:59.166Z"
   },
   {
    "duration": 14,
    "start_time": "2023-07-10T02:13:59.200Z"
   },
   {
    "duration": 556,
    "start_time": "2023-07-10T02:13:59.215Z"
   },
   {
    "duration": 11,
    "start_time": "2023-07-10T02:13:59.775Z"
   },
   {
    "duration": 12,
    "start_time": "2023-07-10T02:14:00.057Z"
   },
   {
    "duration": 4,
    "start_time": "2023-07-10T02:14:00.486Z"
   },
   {
    "duration": 54,
    "start_time": "2023-07-10T02:14:01.064Z"
   },
   {
    "duration": 159,
    "start_time": "2023-07-10T02:14:02.287Z"
   },
   {
    "duration": 152,
    "start_time": "2023-07-10T02:14:03.585Z"
   },
   {
    "duration": 172,
    "start_time": "2023-07-10T02:14:04.054Z"
   },
   {
    "duration": 11,
    "start_time": "2023-07-10T02:14:05.331Z"
   },
   {
    "duration": 10,
    "start_time": "2023-07-10T02:14:05.568Z"
   },
   {
    "duration": 4,
    "start_time": "2023-07-10T02:14:05.853Z"
   },
   {
    "duration": 44,
    "start_time": "2023-07-10T02:14:07.500Z"
   },
   {
    "duration": 158,
    "start_time": "2023-07-10T02:14:09.098Z"
   },
   {
    "duration": 168,
    "start_time": "2023-07-10T02:14:10.318Z"
   },
   {
    "duration": 10,
    "start_time": "2023-07-10T02:14:12.095Z"
   },
   {
    "duration": 5,
    "start_time": "2023-07-10T02:14:13.456Z"
   },
   {
    "duration": 16,
    "start_time": "2023-07-10T02:14:14.055Z"
   },
   {
    "duration": 261,
    "start_time": "2023-07-10T02:14:15.083Z"
   },
   {
    "duration": 11,
    "start_time": "2023-07-10T02:14:26.406Z"
   },
   {
    "duration": 7,
    "start_time": "2023-07-10T02:14:26.642Z"
   },
   {
    "duration": 14,
    "start_time": "2023-07-10T02:14:27.097Z"
   },
   {
    "duration": 249,
    "start_time": "2023-07-10T02:14:27.340Z"
   },
   {
    "duration": 657,
    "start_time": "2023-07-10T02:14:27.766Z"
   },
   {
    "duration": 20,
    "start_time": "2023-07-10T02:14:28.425Z"
   },
   {
    "duration": 442,
    "start_time": "2023-07-10T02:14:28.465Z"
   },
   {
    "duration": 7,
    "start_time": "2023-07-10T02:14:28.923Z"
   },
   {
    "duration": 5,
    "start_time": "2023-07-10T02:14:46.800Z"
   },
   {
    "duration": 12,
    "start_time": "2023-07-10T02:14:47.129Z"
   },
   {
    "duration": 14,
    "start_time": "2023-07-10T02:14:47.423Z"
   },
   {
    "duration": 6,
    "start_time": "2023-07-10T02:15:31.744Z"
   },
   {
    "duration": 17,
    "start_time": "2023-07-10T02:15:32.032Z"
   },
   {
    "duration": 7,
    "start_time": "2023-07-10T02:16:05.647Z"
   },
   {
    "duration": 7,
    "start_time": "2023-07-10T02:16:26.186Z"
   },
   {
    "duration": 11,
    "start_time": "2023-07-10T02:16:48.504Z"
   }
  ],
  "kernelspec": {
   "display_name": "Python 3 (ipykernel)",
   "language": "python",
   "name": "python3"
  },
  "language_info": {
   "codemirror_mode": {
    "name": "ipython",
    "version": 3
   },
   "file_extension": ".py",
   "mimetype": "text/x-python",
   "name": "python",
   "nbconvert_exporter": "python",
   "pygments_lexer": "ipython3",
   "version": "3.9.13"
  },
  "toc": {
   "base_numbering": 1,
   "nav_menu": {},
   "number_sections": true,
   "sideBar": true,
   "skip_h1_title": true,
   "title_cell": "Table of Contents",
   "title_sidebar": "Contents",
   "toc_cell": false,
   "toc_position": {},
   "toc_section_display": true,
   "toc_window_display": true
  }
 },
 "nbformat": 4,
 "nbformat_minor": 5
}
